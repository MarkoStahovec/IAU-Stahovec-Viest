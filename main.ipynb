{
 "cells": [
  {
   "cell_type": "markdown",
   "source": [
    "# IAU-PROJEKT, STAHOVEC a VIEST\n",
    "\n",
    "------------------------------------------------\n",
    "Projekt začína základnými importmi pre knižnice, ktoré budeme v projekte používať."
   ],
   "metadata": {
    "collapsed": false
   }
  },
  {
   "cell_type": "code",
   "execution_count": null,
   "outputs": [],
   "source": [
    "import pandas as pd\n",
    "import numpy as np\n",
    "import seaborn as sns\n",
    "import matplotlib.pyplot as plt\n",
    "from scipy import stats\n",
    "from scipy.stats import mannwhitneyu\n",
    "import statsmodels.api as sm\n",
    "from sklearn.preprocessing import PowerTransformer\n",
    "from sklearn.preprocessing import MinMaxScaler\n",
    "from sklearn.pipeline import Pipeline\n",
    "\n",
    "pd.options.mode.chained_assignment = None"
   ],
   "metadata": {
    "collapsed": false,
    "pycharm": {
     "name": "#%%\n"
    }
   }
  },
  {
   "cell_type": "code",
   "execution_count": null,
   "outputs": [],
   "source": [
    "sns.set_theme(style=\"whitegrid\", palette=\"viridis\")\n",
    "sns.set_palette(\"viridis\")"
   ],
   "metadata": {
    "collapsed": false,
    "pycharm": {
     "name": "#%%\n"
    }
   }
  },
  {
   "cell_type": "markdown",
   "source": [
    "Hneď na začiatok si **načítame dáta** zo súboru funkciou **read_csv()**\n",
    "Následne vykonáme prvú \"čistiacu\" operáciu, v ktorej vymažeme prvý stĺpec, v ktorom\n",
    "je očíslovanie stĺpcov, ktoré je pre našu analýzu zbytočné."
   ],
   "metadata": {
    "collapsed": false
   }
  },
  {
   "cell_type": "code",
   "execution_count": null,
   "outputs": [],
   "source": [
    "data_labor = pd.read_csv(\"dataset/labor.csv\", sep=\"\\t\")\n",
    "# del data[\"Unnamed: 0\"]\n",
    "data_labor = data_labor.iloc[:, 1:]\n",
    "data_labor"
   ],
   "metadata": {
    "collapsed": false,
    "pycharm": {
     "name": "#%%\n"
    }
   }
  },
  {
   "cell_type": "markdown",
   "source": [
    "V nasledujúcich bunkách sme **nahradili chýbajúce hodnoty** priemerom v danom stĺpci.\n",
    "Túto operáciu sme mohli vykonať z dôvodu, že všetky **chýbajúce hodnoty** boli iba v tých\n",
    "stĺpcoch, ktoré obsahujú **numerické hodnoty** (float64).\n",
    "\n",
    "Ešte predtým sme overili, či data_labor skutočne obsahuje nejaké chýbajúce hodnoty."
   ],
   "metadata": {
    "collapsed": false
   }
  },
  {
   "cell_type": "code",
   "execution_count": null,
   "outputs": [],
   "source": [
    "data_labor.isna().sum()"
   ],
   "metadata": {
    "collapsed": false,
    "pycharm": {
     "name": "#%%\n"
    }
   }
  },
  {
   "cell_type": "code",
   "execution_count": null,
   "outputs": [],
   "source": [
    "data_labor = data_labor.fillna(data_labor.mean())\n",
    "data_labor"
   ],
   "metadata": {
    "collapsed": false,
    "pycharm": {
     "name": "#%%\n"
    }
   }
  },
  {
   "cell_type": "code",
   "execution_count": null,
   "outputs": [],
   "source": [
    "data_labor.describe()"
   ],
   "metadata": {
    "collapsed": false,
    "pycharm": {
     "name": "#%%\n"
    }
   }
  },
  {
   "cell_type": "markdown",
   "source": [
    "# 1. fáza - Prieskumná analýza\n",
    "\n",
    "#### Percentuálny podiel práce: Stahovec = 50%, Viest = 50%\n",
    "\n",
    "## a) Základný opis dát spolu s ich charakteristikami\n",
    "-------------------------------------------------------\n",
    "Základné informácie o datasete:"
   ],
   "metadata": {
    "collapsed": false
   }
  },
  {
   "cell_type": "code",
   "execution_count": null,
   "outputs": [],
   "source": [
    "print(f\"Počet záznamov v našom datasete: {len(data_labor.index)}\")\n",
    "print(f\"Počet atribútov v našom datasete: {len(data_labor.columns)}\")\n",
    "# print(f\"Dátové typy v našom datasete:\\n {data_labor.dtypes}\")\n",
    "print(f\"Dátové typy v našom datasete: {list(set(data_labor.dtypes))}\")"
   ],
   "metadata": {
    "collapsed": false,
    "pycharm": {
     "name": "#%%\n"
    }
   }
  },
  {
   "cell_type": "markdown",
   "source": [
    "V tejto časti uvedieme pre zvolené **významné atribúty ich distribúcie a základné\n",
    "deskriptívne štatistiky.**\n",
    "Medzi tieto významné atribúty patria **erytrocyty, leukocyty, trombocyty, váha a\n",
    "hemoglobín**.\n",
    "Pre ich deskriptívne štatistiky uvádzame **medián, modus, priemer, rozptyl a smerodajnú odchylku.**\n",
    "<br>\n",
    "\n",
    "Hodnota modusu je väčšinou **rovná priemeru**, keďže nahradzujeme chýbajúce hodnoty priemerom. Je\n",
    "potrebné brať tieto hodnoty s rezervou, keďže dáta ešte neboli očistené a mnoho záznamov spadá\n",
    "do surreálnych hodnôt (napr. záporné záznamy pre atribút váhy).\n",
    "</br>"
   ],
   "metadata": {
    "collapsed": false
   }
  },
  {
   "cell_type": "markdown",
   "source": [
    "###  Erytrocyty\n",
    "\n",
    "Pri erytrocytoch vidíme, že na začiatku krivky je mierna odchýlka, ktorá spôsobuje to,\n",
    "že táto distribúcia\n",
    "nie je Gaussova aj keď, približne od hodnoty 5 na x-ovej osi by sa dalo povedať,\n",
    "že distribúcia je normálová."
   ],
   "metadata": {
    "collapsed": false
   }
  },
  {
   "cell_type": "code",
   "execution_count": null,
   "outputs": [],
   "source": [
    "sns.displot(data_labor[\"erytrocyty\"], kde=True, bins=32)\n",
    "# sns.histplot(data=data_labor, x=\"erytrocyty\", bins=24, kde=True)\n",
    "print(f\"[erytrocyty] Medián:  \", data_labor[\"erytrocyty\"].median())\n",
    "print(f\"[erytrocyty] Modus:   \", data_labor.mode()[\"erytrocyty\"][0])\n",
    "print(f\"[erytrocyty] Priemer: \", data_labor[\"erytrocyty\"].mean())\n",
    "print(f\"[erytrocyty] Rozptyl: \", np.var(data_labor[\"erytrocyty\"]))\n",
    "print(f\"[erytrocyty] Smerodajná odchylka: \", np.std(data_labor[\"erytrocyty\"]))"
   ],
   "metadata": {
    "collapsed": false,
    "pycharm": {
     "name": "#%%\n"
    }
   }
  },
  {
   "cell_type": "markdown",
   "source": [
    "### Leukocyty\n",
    "\n",
    "Pri leukocytoch vidíme menší spike presne v strede distribúcie, čo môže byť náhoda\n",
    "znásobená faktom, že sme nahradzovali chýbajúce hodnoty údajom, ktorý sa nachádza\n",
    "práve na tom mieste."
   ],
   "metadata": {
    "collapsed": false
   }
  },
  {
   "cell_type": "code",
   "execution_count": null,
   "outputs": [],
   "source": [
    "sns.displot(data_labor[\"leukocyty\"], kde=True, bins=32)\n",
    "# sns.histplot(data=data_labor, x=\"leukocyty\", bins=24, kde=True)\n",
    "print(f\"[leukocyty] Medián:  \", data_labor[\"leukocyty\"].median())\n",
    "print(f\"[leukocyty] Modus:   \", data_labor.mode()[\"leukocyty\"][0])\n",
    "print(f\"[leukocyty] Priemer: \", data_labor[\"leukocyty\"].mean())\n",
    "print(f\"[leukocyty] Rozptyl: \", np.var(data_labor[\"leukocyty\"]))\n",
    "print(f\"[leukocyty] Smerodajná odchylka: \", np.std(data_labor[\"leukocyty\"]))\n"
   ],
   "metadata": {
    "collapsed": false,
    "pycharm": {
     "name": "#%%\n"
    }
   }
  },
  {
   "cell_type": "markdown",
   "source": [
    "### Trombocyty\n",
    "\n",
    "Pri trombocytoch vidíme pomerne veľkú odchýlku v strede distribúcie. Inak je distribúcia Gaussova,\n",
    "čo znamená, že hodnoty sú rovnomerne rozložené naprieč grafom."
   ],
   "metadata": {
    "collapsed": false
   }
  },
  {
   "cell_type": "code",
   "execution_count": null,
   "outputs": [],
   "source": [
    "sns.displot(data_labor[\"trombocyty\"], kde=True, bins=32)\n",
    "# sns.histplot(data=data_labor, x=\"trombocyty\", bins=24, kde=True)\n",
    "print(f\"[trombocyty] Medián:  \", data_labor[\"trombocyty\"].median())\n",
    "print(f\"[trombocyty] Modus:   \", data_labor.mode()[\"trombocyty\"][0])\n",
    "print(f\"[trombocyty] Priemer: \", data_labor[\"trombocyty\"].mean())\n",
    "print(f\"[trombocyty] Rozptyl: \", np.var(data_labor[\"trombocyty\"]))\n",
    "print(f\"[trombocyty] Smerodajná odchylka: \", np.std(data_labor[\"trombocyty\"]))"
   ],
   "metadata": {
    "collapsed": false,
    "pycharm": {
     "name": "#%%\n"
    }
   }
  },
  {
   "cell_type": "markdown",
   "source": [
    "### Váha\n",
    "\n",
    "Ako sme vyčítali z metódy describe() na začiatku, tak na grafe sa nám potvrdilo,\n",
    "že niektoré hodnoty váh siahajú do záporného regiónu. O to sa postaráme neskôr\n",
    "v tomto notebooku."
   ],
   "metadata": {
    "collapsed": false
   }
  },
  {
   "cell_type": "code",
   "execution_count": null,
   "outputs": [],
   "source": [
    "sns.displot(data_labor[\"weight\"], kde=True, bins=32)\n",
    "# sns.histplot(data=data_labor, x=\"weight\", bins=24, kde=True)\n",
    "print(f\"[weight] Medián:  \", data_labor[\"weight\"].median())\n",
    "print(f\"[weight] Modus:   \", data_labor.mode()[\"weight\"][0])\n",
    "print(f\"[weight] Priemer: \", data_labor[\"weight\"].mean())\n",
    "print(f\"[weight] Rozptyl: \", np.var(data_labor[\"weight\"]))\n",
    "print(f\"[weight] Smerodajná odchylka: \", np.std(data_labor[\"weight\"]))"
   ],
   "metadata": {
    "collapsed": false,
    "pycharm": {
     "name": "#%%\n"
    }
   }
  },
  {
   "cell_type": "markdown",
   "source": [
    "### Hemoglobin\n",
    "\n",
    "Pri hemoglobíne vidíme, že distribúcia nie je Gaussova, pretože má veľký sklon a v maximálnych hodnotách\n",
    "je krivka široká, to znamená, že veľká časť dát má hodnotu blízku k maximálnej."
   ],
   "metadata": {
    "collapsed": false
   }
  },
  {
   "cell_type": "code",
   "execution_count": null,
   "outputs": [],
   "source": [
    "sns.displot(data_labor[\"hemoglobin\"], kde=True, bins=32)\n",
    "# sns.histplot(data=data_labor, x=\"trombocyty\", bins=24, kde=True)\n",
    "print(f\"[hemoglobin] Medián:  \", data_labor[\"hemoglobin\"].median())\n",
    "print(f\"[hemoglobin] Modus:   \", data_labor.mode()[\"hemoglobin\"][0])\n",
    "print(f\"[hemoglobin] Priemer: \", data_labor[\"hemoglobin\"].mean())\n",
    "print(f\"[hemoglobin] Rozptyl: \", np.var(data_labor[\"hemoglobin\"]))\n",
    "print(f\"[hemoglobin] Smerodajná odchylka: \", np.std(data_labor[\"hemoglobin\"]))"
   ],
   "metadata": {
    "collapsed": false,
    "pycharm": {
     "name": "#%%\n"
    }
   }
  },
  {
   "cell_type": "markdown",
   "source": [
    "## b) Párová analýza dát\n",
    "-------------------------------------------------------\n",
    "### **Skúmanie vzťahov medzi dvojicami atribútov**\n",
    "\n",
    "<br>\n",
    "\n",
    "V tejto časti zisťujeme **závislosti** medzi rôznymi atribútmi po dvojiciach. Keďže naše dáta\n",
    "ešte stále nie sú očistené, výsledné závislosti **nemôžu byť stopercentne korektné**.\n",
    "</br>\n",
    "<br>\n",
    "Na začiatok sme vykreslili **heatmapu**, z ktorej môžeme vyčítať **závislosti medzi všetkými dvojicami\n",
    "atribútov**. Vďaka tomu máme všeobecný prehľad o koreláciách v našom datasete.\n",
    "</br>"
   ],
   "metadata": {
    "collapsed": false
   }
  },
  {
   "cell_type": "code",
   "execution_count": null,
   "outputs": [],
   "source": [
    "fig, ax = plt.subplots(figsize=(15, 10))\n",
    "heatmap = sns.heatmap(data_labor.corr(), linewidths=.5, square=True,\n",
    "                      annot=True, linewidth=0.5, cmap=\"magma\", fmt=\".2f\")\n",
    "heatmap.set_title('Correlation Heatmap', pad=12);"
   ],
   "metadata": {
    "collapsed": false,
    "pycharm": {
     "name": "#%%\n"
    }
   }
  },
  {
   "cell_type": "markdown",
   "source": [
    "Heatmapa z prechádzajúcej bunky nám napovedá, ktoré atribúty môžeme skúmať z hľadiska závislostí.\n",
    "Na začiatok si vyberieme dvojice, ktoré majú vyšší koeficient korelácie, a teda tie\n",
    "dvojice atribútov od seba závisia.\n",
    "<br>\n",
    "\n",
    "Korelácie medzi dvojicami, ktoré sme si vybrali na párovú analýzu:\n",
    "- erytrocyty - alt\n",
    "- hemoglobín - alp\n",
    "- hemoglobín - etytr\n",
    "- erytrocyty - leukocyty\n",
    "\n",
    "Dvojice so závislou premennou:\n",
    "- indikátor - erytrocyty\n",
    "- indikátor - hematokrit\n",
    "- indikátor - trombocyty\n",
    "- indikátor - etytr\n",
    "\n",
    "\n",
    "### Erytrocyty a alt\n",
    "Na tomto grafe môžeme pozerať **silnú závislosť**, keďže rozptyl dát je exponenciálna krivka.\n",
    "Pri atribútoch, ktoré nekorelujú, budeme vidieť rôzne atypické \"machule\".\n",
    "</br>"
   ],
   "metadata": {
    "collapsed": false
   }
  },
  {
   "cell_type": "code",
   "execution_count": null,
   "outputs": [],
   "source": [
    "sns.scatterplot(data=data_labor, x=\"erytrocyty\", y=\"alt\")"
   ],
   "metadata": {
    "collapsed": false,
    "pycharm": {
     "name": "#%%\n"
    }
   }
  },
  {
   "cell_type": "markdown",
   "source": [
    "### Hemoglobín a alp\n",
    "Na danom grafe pozorujeme **sínusovú závislosť**, keďže osciluje v pravidelnom intervale.\n",
    "V približnom odhade môžeme tvrdiť, že hodnoty atribútu alp dosahujú maximum vtedy,\n",
    "ak sa hodnota hemoglobínu blíži k 6% a periodicky osciluje po približne šiestich\n",
    "percentách."
   ],
   "metadata": {
    "collapsed": false
   }
  },
  {
   "cell_type": "code",
   "execution_count": null,
   "outputs": [],
   "source": [
    "sns.scatterplot(data=data_labor, x=\"hemoglobin\", y=\"alp\")"
   ],
   "metadata": {
    "collapsed": false,
    "pycharm": {
     "name": "#%%\n"
    }
   }
  },
  {
   "cell_type": "markdown",
   "source": [
    "### Hemoglobin a etytr\n",
    "V danom porovnaní môžeme pozorovať miernu pozitívnu koreláciu medzi zvolenými atribútmi,\n",
    "keďže distribúcia v grafe je, laicky povedané, jemne naklonená doprava hore."
   ],
   "metadata": {
    "collapsed": false
   }
  },
  {
   "cell_type": "code",
   "execution_count": null,
   "outputs": [],
   "source": [
    "plt.subplots(figsize=(6, 6))\n",
    "sns.scatterplot(data=data_labor, x=\"hemoglobin\", y=\"etytr\", s=5, color=\"#5e3c99\")\n",
    "sns.histplot(data=data_labor, x=\"hemoglobin\", y=\"etytr\", bins=50, pthresh=.1, cmap=\"viridis\", shrink=.4)\n",
    "sns.kdeplot(data=data_labor, x=\"hemoglobin\", y=\"etytr\", levels=8, color=\"#3b6cce\")"
   ],
   "metadata": {
    "collapsed": false,
    "pycharm": {
     "name": "#%%\n"
    }
   }
  },
  {
   "cell_type": "markdown",
   "source": [
    "Po relatívne závislých atribútoch sme prešli k prípadom, kedy sa korelácie pohybujú v záporných\n",
    "hodnotách.\n",
    "\n",
    "### Erytrocyty a Leukocyty\n",
    "Ako prvú máme vykreslenú závislosť medzi atribútmi erytrocyty a leukocyty, ktorých hodnota korelácie\n",
    "sa blíži v rádoch stotín k nule.\n",
    "\n",
    "Nulová korelácia je pozorovateľná na grafe, keďže výskyt závislosti je roztrúsený v kruhovom tvare\n",
    "uprostred grafu."
   ],
   "metadata": {
    "collapsed": false
   }
  },
  {
   "cell_type": "code",
   "execution_count": null,
   "outputs": [],
   "source": [
    "# sns.scatterplot(data=data_labor, x=\"erytrocyty\", y=\"leukocyty\")\n",
    "\n",
    "plt.subplots(figsize=(6, 6))\n",
    "sns.scatterplot(data=data_labor, x=\"erytrocyty\", y=\"leukocyty\", s=5, color=\"#5e3c99\")\n",
    "sns.histplot(data=data_labor, x=\"erytrocyty\", y=\"leukocyty\", bins=50, pthresh=.1, cmap=\"viridis\", shrink=.4)\n",
    "sns.kdeplot(data=data_labor, x=\"erytrocyty\", y=\"leukocyty\", levels=8, color=\"#3b6cce\")"
   ],
   "metadata": {
    "collapsed": false,
    "pycharm": {
     "name": "#%%\n"
    }
   }
  },
  {
   "cell_type": "markdown",
   "source": [
    "### Erytrocyty a etytr\n",
    "Pri porovnaní atribútov **erytrocyty** a **etytr** pozorujeme stredne veľkú negatívnu koreláciu,\n",
    "keďže rozptyl dát je \"negatívne naklonený\", čo znamená, že pri rastúcej hodnote erytrocytov\n",
    "klesá hodnota atribútu etytr."
   ],
   "metadata": {
    "collapsed": false
   }
  },
  {
   "cell_type": "code",
   "execution_count": null,
   "outputs": [],
   "source": [
    "plt.subplots(figsize=(6, 6))\n",
    "sns.scatterplot(data=data_labor, x=\"erytrocyty\", y=\"etytr\", s=5, color=\"#5e3c99\")\n",
    "sns.histplot(data=data_labor, x=\"erytrocyty\", y=\"etytr\", bins=50, pthresh=.1, cmap=\"viridis\", shrink=.4)\n",
    "sns.kdeplot(data=data_labor, x=\"erytrocyty\", y=\"etytr\", levels=8, color=\"#3b6cce\")"
   ],
   "metadata": {
    "collapsed": false,
    "pycharm": {
     "name": "#%%\n"
    }
   }
  },
  {
   "cell_type": "markdown",
   "source": [
    "### **Skúmanie závislostí medzi predikovanou premennou a ďalšími atribútmi**\n",
    "V tejto časti sa povenujeme **závislostiam medzi predikovanou premennou** a ostatnými premennými.\n",
    "Predikovaná premenná je v našom prípade **indicator**.\n",
    "\n",
    "### Indikátor a erytrocyty (0.36)\n",
    "\n",
    "Z heatmapy vieme vyčítať, že dvojica atribútov indikátor a erytrocyty je **mierne pozitívne závislá**.\n",
    "Tieto rozdiely sú badateľné na grafe nižšie, keďže zhluky dát sú zľahka rozdielne deformované a\n",
    "vertikálne posunuté."
   ],
   "metadata": {
    "collapsed": false
   }
  },
  {
   "cell_type": "code",
   "execution_count": null,
   "outputs": [],
   "source": [
    "with sns.axes_style('white'):\n",
    "    graph = sns.jointplot(x=\"indicator\", y=\"erytrocyty\", data=data_labor, kind='hex')\n",
    "    graph.plot_joint(sns.kdeplot, color=\"#5e5ce9\")\n",
    "    graph.plot_marginals(sns.rugplot, color=\"blue\", height=-.12, clip_on=False)"
   ],
   "metadata": {
    "collapsed": false,
    "pycharm": {
     "name": "#%%\n"
    }
   }
  },
  {
   "cell_type": "code",
   "execution_count": null,
   "outputs": [],
   "source": [
    "sns.violinplot(data=data_labor, x='indicator', y = 'erytrocyty')"
   ],
   "metadata": {
    "collapsed": false,
    "pycharm": {
     "name": "#%%\n"
    }
   }
  },
  {
   "cell_type": "markdown",
   "source": [
    "### Indikátor a hematokrit (0.69)\n",
    "\n",
    "Na tejto dvojici atribútov pozorujeme veľmi **silnú pozitívnu závislosť**, ktorá je viditeľná na oboch\n",
    "typoch grafov (violin plote aj joint plote). S nárastom hodnoty indikátoru z 0 na 1 výrazne rastie\n",
    "aj hodnota hematokritu."
   ],
   "metadata": {
    "collapsed": false
   }
  },
  {
   "cell_type": "code",
   "execution_count": null,
   "outputs": [],
   "source": [
    "with sns.axes_style('white'):\n",
    "    graph = sns.jointplot(x=\"indicator\", y=\"hematokrit\", data=data_labor, kind='hex')\n",
    "    graph.plot_joint(sns.kdeplot, color=\"#5e5ce9\")\n",
    "    graph.plot_marginals(sns.rugplot, color=\"blue\", height=-.12, clip_on=False)"
   ],
   "metadata": {
    "collapsed": false,
    "pycharm": {
     "name": "#%%\n"
    }
   }
  },
  {
   "cell_type": "code",
   "execution_count": null,
   "outputs": [],
   "source": [
    "sns.violinplot(data=data_labor, x='indicator', y = 'hematokrit')\n"
   ],
   "metadata": {
    "collapsed": false,
    "pycharm": {
     "name": "#%%\n"
    }
   }
  },
  {
   "cell_type": "markdown",
   "source": [
    "### Indikátor a trombocyty (0.027)\n",
    "\n",
    "**Takmer nulová závislosť** - hodnoty hematokritu sú takmer zhodné pre rôzne hodnoty indikátoru."
   ],
   "metadata": {
    "collapsed": false
   }
  },
  {
   "cell_type": "code",
   "execution_count": null,
   "outputs": [],
   "source": [
    "with sns.axes_style('white'):\n",
    "    graph = sns.jointplot(x=\"indicator\", y=\"trombocyty\", data=data_labor, kind='hex')\n",
    "    graph.plot_joint(sns.kdeplot, color=\"#5e5ce9\")\n",
    "    graph.plot_marginals(sns.rugplot, color=\"blue\", height=-.12, clip_on=False)"
   ],
   "metadata": {
    "collapsed": false,
    "pycharm": {
     "name": "#%%\n"
    }
   }
  },
  {
   "cell_type": "code",
   "execution_count": null,
   "outputs": [],
   "source": [
    "sns.violinplot(data=data_labor, x='indicator', y = 'trombocyty')"
   ],
   "metadata": {
    "collapsed": false,
    "pycharm": {
     "name": "#%%\n"
    }
   }
  },
  {
   "cell_type": "markdown",
   "source": [
    "### Indikátor a etytr (-0.38)\n",
    "\n",
    "**Mierne negatívna závislosť** je viditeľná tak, že pri náraste hodnoty indikátoru klesá\n",
    "hodnota atribútu etytr. Distribúcia pri rôznom indikátore je taktiež **odlišná**."
   ],
   "metadata": {
    "collapsed": false
   }
  },
  {
   "cell_type": "code",
   "execution_count": null,
   "outputs": [],
   "source": [
    "with sns.axes_style('white'):\n",
    "    graph = sns.jointplot(x=\"indicator\", y=\"etytr\", data=data_labor, kind='hex')\n",
    "    graph.plot_joint(sns.kdeplot, color=\"#5e5ce9\")\n",
    "    graph.plot_marginals(sns.rugplot, color=\"blue\", height=-.12, clip_on=False)"
   ],
   "metadata": {
    "collapsed": false,
    "pycharm": {
     "name": "#%%\n"
    }
   }
  },
  {
   "cell_type": "code",
   "execution_count": null,
   "outputs": [],
   "source": [
    "sns.violinplot(data=data_labor, x='indicator', y = 'etytr')"
   ],
   "metadata": {
    "collapsed": false,
    "pycharm": {
     "name": "#%%\n"
    }
   }
  },
  {
   "cell_type": "markdown",
   "source": [
    "## c) Formulácia a štatistické overenie hypotéz o dátach\n",
    "-------------------------------------------------------\n",
    "### Formulácia hypotéz\n",
    "\n",
    "#### 1. Hypotéza:\n",
    "##### (**H0**): Pacienti v lepšom stave majú rovnaké hodnoty erytrocytov v krvi ako pacienti\n",
    "##### v horšom stave.\n",
    "##### (**H1**): Pacienti v lepšom stave majú iné hodnoty erytrocytov v krvi ako pacienti\n",
    "##### v horšom stave.\n",
    "\n",
    "#### 2. Hypotéza:\n",
    "##### (**H0**): Pacienti v horšom stave majú hodnoty objemu krviniek (hematokrit) rovnaké\n",
    "##### ako pacienti v lepšom stave.\n",
    "##### (**H1**): Pacienti v horšom stave majú hodnoty objemu krviniek (hematokrit) rôzne\n",
    "##### ako pacienti v lepšom stave\n",
    "-------------------------------------------------------\n",
    "\n",
    "Tieto hypotézy sme si zvolili z toho dôvodu, že predchádzajúca časť nám naznačila tieto poznatky,\n",
    "z ktorých vychádzajú dané hypotézy. Pred samotným začiatkom štatistického overenia hypotéz\n",
    "vykreslíme zopár grafov, z ktorých zistíme, či sú dané **dáta vhodné** na použitie štatistických\n",
    "testov.\n",
    "\n",
    "#### 1. Hypotéza:\n",
    "\n",
    "V prvom boxenplote môžeme vidieť iný typ porovnania závislostí indikátora od erytrocytov, ako\n",
    "sme použili v predchádzajúcej časti, no výsledok je v podstate rovnaký.\n",
    "Pozorujeme miernu koreláciu medzi zvolenou dvojicou atribútov."
   ],
   "metadata": {
    "collapsed": false
   }
  },
  {
   "cell_type": "code",
   "execution_count": null,
   "outputs": [],
   "source": [
    "g = sns.boxenplot(data=data_labor, x='indicator', y = 'erytrocyty')"
   ],
   "metadata": {
    "collapsed": false,
    "pycharm": {
     "name": "#%%\n"
    }
   }
  },
  {
   "cell_type": "markdown",
   "source": [
    "Následne skontrolujeme atribúty indikátor a erytrocyty a ich hodnoty, napr. či sú ich distribúcie\n",
    "normálne alebo či ich dáta nezasahujú do záporných hodnôt, čo je z logického hľadiska nezmysel."
   ],
   "metadata": {
    "collapsed": false
   }
  },
  {
   "cell_type": "code",
   "execution_count": null,
   "outputs": [],
   "source": [
    "data_labor[['erytrocyty', 'indicator']].describe()"
   ],
   "metadata": {
    "collapsed": false,
    "pycharm": {
     "name": "#%%\n"
    }
   }
  },
  {
   "cell_type": "code",
   "execution_count": null,
   "outputs": [],
   "source": [
    "sns.displot(data_labor[\"erytrocyty\"], kde=True, bins=32)\n",
    "# sns.histplot(data=data_labor, x=\"erytrocyty\", bins=24, kde=True)\n",
    "print(f\"[erytrocyty] Medián:  \", data_labor[\"erytrocyty\"].median())\n",
    "print(f\"[erytrocyty] Modus:   \", data_labor.mode()[\"erytrocyty\"][0])\n",
    "print(f\"[erytrocyty] Priemer: \", data_labor[\"erytrocyty\"].mean())\n",
    "print(f\"[erytrocyty] Rozptyl: \", np.var(data_labor[\"erytrocyty\"]))\n",
    "print(f\"[erytrocyty] Smerodajná odchylka: \", np.std(data_labor[\"erytrocyty\"]))"
   ],
   "metadata": {
    "collapsed": false,
    "pycharm": {
     "name": "#%%\n"
    }
   }
  },
  {
   "cell_type": "code",
   "execution_count": null,
   "outputs": [],
   "source": [
    "sns.displot(data_labor[\"indicator\"], kde=True, bins=32)\n",
    "# sns.histplot(data=data_labor, x=\"erytrocyty\", bins=24, kde=True)\n",
    "print(f\"[indicator] Medián:  \", data_labor[\"indicator\"].median())\n",
    "print(f\"[indicator] Modus:   \", data_labor.mode()[\"indicator\"][0])\n",
    "print(f\"[indicator] Priemer: \", data_labor[\"indicator\"].mean())\n",
    "print(f\"[indicator] Rozptyl: \", np.var(data_labor[\"indicator\"]))\n",
    "print(f\"[indicator] Smerodajná odchylka: \", np.std(data_labor[\"indicator\"]))"
   ],
   "metadata": {
    "collapsed": false,
    "pycharm": {
     "name": "#%%\n"
    }
   }
  },
  {
   "cell_type": "markdown",
   "source": [
    "Z danej krátkej analýzy dvoch atribútov sme zistili, že hodnoty indikátora sú\n",
    "v očakávanej norme a hodnoty erytrocytov sú pre danú analýzu taktiež\n",
    "akceptovateľné.\n",
    "\n",
    "Následne sme rozdelili dataset do **dvoch podsetov podľa hodnoty indikátora**,\n",
    "aby sme mohli pracovať s našimi hypotézami.\n",
    "\n",
    "#### Delenie atribútov do dvoch setov podľa indikátora:"
   ],
   "metadata": {
    "collapsed": false
   }
  },
  {
   "cell_type": "code",
   "execution_count": null,
   "outputs": [],
   "source": [
    "data_0_erytrocyty = data_labor.loc[data_labor[\"indicator\"] == 0, \"erytrocyty\"]\n",
    "data_0_erytrocyty"
   ],
   "metadata": {
    "collapsed": false,
    "pycharm": {
     "name": "#%%\n"
    }
   }
  },
  {
   "cell_type": "code",
   "execution_count": null,
   "outputs": [],
   "source": [
    "sns.displot(data_0_erytrocyty, kde=True, bins=32, label=\"Indicator 0\")\n",
    "plt.legend()"
   ],
   "metadata": {
    "collapsed": false,
    "pycharm": {
     "name": "#%%\n"
    }
   }
  },
  {
   "cell_type": "code",
   "execution_count": null,
   "outputs": [],
   "source": [
    "sm.qqplot(data_0_erytrocyty, fit=True, line=\"45\")\n",
    "plt.show()"
   ],
   "metadata": {
    "collapsed": false,
    "pycharm": {
     "name": "#%%\n"
    }
   }
  },
  {
   "cell_type": "code",
   "execution_count": null,
   "outputs": [],
   "source": [
    "data_1_erytrocyty = data_labor.loc[data_labor[\"indicator\"] == 1, \"erytrocyty\"]\n",
    "data_1_erytrocyty"
   ],
   "metadata": {
    "collapsed": false,
    "pycharm": {
     "name": "#%%\n"
    }
   }
  },
  {
   "cell_type": "code",
   "execution_count": null,
   "outputs": [],
   "source": [
    "sns.displot(data_1_erytrocyty, kde=True, bins=32, label=\"Indicator 1\")\n",
    "plt.legend()"
   ],
   "metadata": {
    "collapsed": false,
    "pycharm": {
     "name": "#%%\n"
    }
   }
  },
  {
   "cell_type": "code",
   "execution_count": null,
   "outputs": [],
   "source": [
    "sm.qqplot(data_1_erytrocyty, fit=True, line=\"45\")\n",
    "plt.show()\n"
   ],
   "metadata": {
    "collapsed": false,
    "pycharm": {
     "name": "#%%\n"
    }
   }
  },
  {
   "cell_type": "markdown",
   "source": [
    "Aby sme dodržali korektnosť pri vykonávaní nasledujúcich testov, rozhodli sme sa\n",
    "z našich datasetov vybrať rovnako veľkú vzorku pre oba hodnoty indikátoru. Tým zaručíme\n",
    "aj použiteľnosť Shapiro-Wilkovho testu, ktorý je vhodný pre dáta do 5000 záznamov."
   ],
   "metadata": {
    "collapsed": false
   }
  },
  {
   "cell_type": "code",
   "execution_count": null,
   "outputs": [],
   "source": [
    "print(data_0_erytrocyty.count())\n",
    "print(data_1_erytrocyty.count())"
   ],
   "metadata": {
    "collapsed": false,
    "pycharm": {
     "name": "#%%\n"
    }
   }
  },
  {
   "cell_type": "markdown",
   "source": [
    "Kedže počet záznamov v dataframe data_0_erytrocyty **(3558)** je menší ako počet záznamov v\n",
    "dataframe data_1_erytrocyty **(6413)**, z data_1_erytrocyty vyberieme **toľko záznamov, koľko je v\n",
    "data_0_erytrocyty**"
   ],
   "metadata": {
    "collapsed": false
   }
  },
  {
   "cell_type": "code",
   "execution_count": null,
   "outputs": [],
   "source": [
    "data_1_erytrocyty = data_1_erytrocyty.sample(data_0_erytrocyty.count())\n",
    "print(data_0_erytrocyty.count())\n",
    "print(data_1_erytrocyty.count())"
   ],
   "metadata": {
    "collapsed": false,
    "pycharm": {
     "name": "#%%\n"
    }
   }
  },
  {
   "cell_type": "markdown",
   "source": [
    "Z predchádzajúcich grafov je nám naznačené, že **nepôjde o normálnu distribúciu**.\n",
    "Následne sme si vypočítali Cohenovo déčko, aby sme vedeli určiť silu nášho testu,\n",
    "resp. silu presvedčenia o výsledku, ktorý dostaneme v ďalších testoch.\n",
    "\n",
    "Výsledok je väčší ako učebnicová hodnota 0.75, čo znamená, že výsledok nášho testu\n",
    "bude dostatočne presvedčivý."
   ],
   "metadata": {
    "collapsed": false
   }
  },
  {
   "cell_type": "code",
   "execution_count": null,
   "outputs": [],
   "source": [
    "def cohen_d(x1, x2):\n",
    "    nx1 = len(x1)\n",
    "    nx2 = len(x2)\n",
    "    s = np.sqrt(((nx1-1) * np.std(x1, ddof=1)**2 + (nx2-1) * np.std(x2, ddof=1)**2) / (nx1 + nx2 - 2))\n",
    "    return (np.abs(np.mean(x1) - np.mean(x2))) / s\n",
    "\n",
    "c_d_erytrocyty = cohen_d(data_0_erytrocyty, data_1_erytrocyty)\n",
    "c_d_erytrocyty"
   ],
   "metadata": {
    "collapsed": false,
    "pycharm": {
     "name": "#%%\n"
    }
   }
  },
  {
   "cell_type": "markdown",
   "source": [
    "\n",
    "Keďže sme si dáta rozdelili do dvoch setov podľa hypotézy, prešli sme na\n",
    "**overenie nulovej hypotézy**, aby sme sa uistili,\n",
    "že dáta pochádzajú z normálnej distribúcie.\n",
    "Predpokladali sme, že dáta budú pochádzať skôr z rôznych distribúcií ako normálnych.\n",
    "\n",
    "Na to nám slúži **Shapiro-Wilkov test**."
   ],
   "metadata": {
    "collapsed": false
   }
  },
  {
   "cell_type": "code",
   "execution_count": null,
   "outputs": [],
   "source": [
    "sns.histplot(data=data_0_erytrocyty)\n",
    "alpha = 0.05\n",
    "shapiro_test = stats.shapiro(data_0_erytrocyty)\n",
    "print(shapiro_test.pvalue)\n",
    "\n",
    "if shapiro_test.pvalue > alpha:\n",
    "    print('Normálna distribúcia (fail to reject H0)')\n",
    "else:\n",
    "    print('Iná distribúcia (reject H0)')"
   ],
   "metadata": {
    "collapsed": false,
    "pycharm": {
     "name": "#%%\n"
    }
   }
  },
  {
   "cell_type": "code",
   "execution_count": null,
   "outputs": [],
   "source": [
    "sns.histplot(data=data_1_erytrocyty)\n",
    "alpha = 0.05\n",
    "shapiro_test = stats.shapiro(data_1_erytrocyty)\n",
    "print(shapiro_test.pvalue)\n",
    "\n",
    "if shapiro_test.pvalue > alpha:\n",
    "    print('Normálna distribúcia (fail to reject H0)')\n",
    "else:\n",
    "    print('Iná distribúcia (reject H0)')"
   ],
   "metadata": {
    "collapsed": false,
    "pycharm": {
     "name": "#%%\n"
    }
   }
  },
  {
   "cell_type": "markdown",
   "source": [
    "Keďže podľa Shapiro-Wilkovho testu distribúcia oboch vzoriek **nepatrí\n",
    "do skupiny normálnych** a naše dáta sú nepárové, pokračujeme testom, ktorý sa\n",
    "nazýva **Mann-Whitneyho test**. Mann-Whitneyho test použijeme ako potvrdenie\n",
    "výsledku SW testu."
   ],
   "metadata": {
    "collapsed": false
   }
  },
  {
   "cell_type": "code",
   "execution_count": null,
   "outputs": [],
   "source": [
    "alpha = 0.05\n",
    "stat, p = mannwhitneyu(data_0_erytrocyty, data_1_erytrocyty)\n",
    "print(p)\n",
    "\n",
    "if p > alpha:\n",
    "    print('Same distribution (fail to reject H0)')\n",
    "else:\n",
    "    print('Different distribution (reject H0)')"
   ],
   "metadata": {
    "collapsed": false,
    "pycharm": {
     "name": "#%%\n"
    }
   }
  },
  {
   "cell_type": "markdown",
   "source": [
    "#### Záver 1. hypotézy\n",
    "\n",
    "Mann-Whitneyho test potvrdil, že hypotézu **H0 môžeme zamietnuť**\n",
    "s dostatočnou mierou presvedčenia (aj kvôli Cohen's d), vďaka čomu\n",
    "môžeme tvrdiť, že pacienti v lepšom stave majú **nie rovnaké hodnoty erytrocytov**\n",
    "v krvi. Minimálne výsledné hodnoty oboch testov naznačujú fakt, že hypotéza\n",
    "H0 nie je konzistentná.\n"
   ],
   "metadata": {
    "collapsed": false
   }
  },
  {
   "cell_type": "markdown",
   "source": [
    "#### 2. Hypotéza:\n",
    "\n",
    "##### (**H0**): Pacienti v horšom stave majú hodnoty objemu krviniek (hematokrit) rovnaké\n",
    "##### ako pacienti v lepšom stave.\n",
    "##### (**H1**): Pacienti v horšom stave majú hodnoty objemu krviniek (hematokrit) rôzne\n",
    "##### ako pacienti v lepšom stave.\n",
    "-------------------------------------------------------\n",
    "\n",
    "Opäť sme začali iným typom zobrazenia závislostí medzi zvolenými atribútmi (tentokrát\n",
    "šlo o indikátor a hematokrit)."
   ],
   "metadata": {
    "collapsed": false
   }
  },
  {
   "cell_type": "code",
   "execution_count": null,
   "outputs": [],
   "source": [
    "g = sns.boxenplot(data=data_labor, x='indicator', y = 'hematokrit')"
   ],
   "metadata": {
    "collapsed": false,
    "pycharm": {
     "name": "#%%\n"
    }
   }
  },
  {
   "cell_type": "markdown",
   "source": [
    "Následne skontrolujeme atribúty indikátor a hematokrit a ich hodnoty, napr. či sú ich distribúcie\n",
    "normálne alebo či ich dáta nezasahujú do záporných hodnôt, čo je z logického hľadiska nezmysel."
   ],
   "metadata": {
    "collapsed": false
   }
  },
  {
   "cell_type": "code",
   "execution_count": null,
   "outputs": [],
   "source": [
    "data_labor[['hematokrit', 'indicator']].describe()"
   ],
   "metadata": {
    "collapsed": false,
    "pycharm": {
     "name": "#%%\n"
    }
   }
  },
  {
   "cell_type": "code",
   "execution_count": null,
   "outputs": [],
   "source": [
    "sns.displot(data_labor[\"hematokrit\"], kde=True, bins=32)\n",
    "# sns.histplot(data=data_labor, x=\"erytrocyty\", bins=24, kde=True)\n",
    "print(f\"[hematokrit] Medián:  \", data_labor[\"hematokrit\"].median())\n",
    "print(f\"[hematokrit] Modus:   \", data_labor.mode()[\"hematokrit\"][0])\n",
    "print(f\"[hematokrit] Priemer: \", data_labor[\"hematokrit\"].mean())\n",
    "print(f\"[hematokrit] Rozptyl: \", np.var(data_labor[\"hematokrit\"]))\n",
    "print(f\"[hematokrit] Smerodajná odchylka: \", np.std(data_labor[\"hematokrit\"]))"
   ],
   "metadata": {
    "collapsed": false,
    "pycharm": {
     "name": "#%%\n"
    }
   }
  },
  {
   "cell_type": "code",
   "execution_count": null,
   "outputs": [],
   "source": [
    "sns.displot(data_labor[\"indicator\"], kde=True, bins=32)\n",
    "# sns.histplot(data=data_labor, x=\"erytrocyty\", bins=24, kde=True)\n",
    "print(f\"[indicator] Medián:  \", data_labor[\"indicator\"].median())\n",
    "print(f\"[indicator] Modus:   \", data_labor.mode()[\"indicator\"][0])\n",
    "print(f\"[indicator] Priemer: \", data_labor[\"indicator\"].mean())\n",
    "print(f\"[indicator] Rozptyl: \", np.var(data_labor[\"indicator\"]))\n",
    "print(f\"[indicator] Smerodajná odchylka: \", np.std(data_labor[\"indicator\"]))"
   ],
   "metadata": {
    "collapsed": false,
    "pycharm": {
     "name": "#%%\n"
    }
   }
  },
  {
   "cell_type": "markdown",
   "source": [
    "Z tejto krátkej štatistickej analýzy sme zistili, že hodnoty oboch atribútov\n",
    "sa pohybujú v očakávaných intervaloch, no distribúcia hematokritu nám naznačila\n",
    "možný výsledok Shapiro-Wilkovho testu.\n",
    "\n",
    "Následne sme si rozdelili dataset do **dvoch podsetov podľa hodnoty indikátora**."
   ],
   "metadata": {
    "collapsed": false
   }
  },
  {
   "cell_type": "code",
   "execution_count": null,
   "outputs": [],
   "source": [
    "data_0_hematokrit = data_labor.loc[data_labor[\"indicator\"] == 0, \"hematokrit\"]\n",
    "data_0_hematokrit"
   ],
   "metadata": {
    "collapsed": false,
    "pycharm": {
     "name": "#%%\n"
    }
   }
  },
  {
   "cell_type": "code",
   "execution_count": null,
   "outputs": [],
   "source": [
    "sns.displot(data_0_hematokrit, kde=True, bins=32, label=\"Indicator 0\")\n",
    "plt.legend()"
   ],
   "metadata": {
    "collapsed": false,
    "pycharm": {
     "name": "#%%\n"
    }
   }
  },
  {
   "cell_type": "code",
   "execution_count": null,
   "outputs": [],
   "source": [
    "sm.qqplot(data_0_hematokrit, fit=True, line=\"45\")\n",
    "plt.show()"
   ],
   "metadata": {
    "collapsed": false,
    "pycharm": {
     "name": "#%%\n"
    }
   }
  },
  {
   "cell_type": "code",
   "execution_count": null,
   "outputs": [],
   "source": [
    "data_1_hematokrit = data_labor.loc[data_labor[\"indicator\"] == 1, \"hematokrit\"]\n",
    "data_1_hematokrit"
   ],
   "metadata": {
    "collapsed": false,
    "pycharm": {
     "name": "#%%\n"
    }
   }
  },
  {
   "cell_type": "code",
   "execution_count": null,
   "outputs": [],
   "source": [
    "sns.displot(data_1_hematokrit, kde=True, bins=32, label=\"Indicator 1\")\n",
    "plt.legend()"
   ],
   "metadata": {
    "collapsed": false,
    "pycharm": {
     "name": "#%%\n"
    }
   }
  },
  {
   "cell_type": "code",
   "execution_count": null,
   "outputs": [],
   "source": [
    "sm.qqplot(data_1_hematokrit, fit=True, line=\"45\")\n",
    "plt.show()"
   ],
   "metadata": {
    "collapsed": false,
    "pycharm": {
     "name": "#%%\n"
    }
   }
  },
  {
   "cell_type": "markdown",
   "source": [
    "Z daných dát je očividná **rozdielnosť** týchto dvoch vzoriek ako aj ich **distribúcia**,\n",
    "ktorá má od normálnosti pomerne ďaleko.\n",
    "\n",
    "Prešli sme k časti vybratia rovnako veľkej vzorky pre rôzne hodnoty predikovanej premennej.\n",
    "Dôvodom bolo opäť, zaručenie rovnakých podmienok\n",
    "pre nasledovné štatistické testy."
   ],
   "metadata": {
    "collapsed": false
   }
  },
  {
   "cell_type": "code",
   "execution_count": null,
   "outputs": [],
   "source": [
    "print(data_0_hematokrit.count())\n",
    "print(data_1_hematokrit.count())"
   ],
   "metadata": {
    "collapsed": false,
    "pycharm": {
     "name": "#%%\n"
    }
   }
  },
  {
   "cell_type": "markdown",
   "source": [
    "V tomto prípade rovnako ako v prípade erytrocytov je počet záznamov pre data_0_hematokrit **(3558)**\n",
    "nižší ako počet záznamov pre data_1_hematokrit **(6413)**, takže sme tiež vybrali z data_1_hematokrit\n",
    "rovanký počet záznamov ako pre data_0_hematokrit."
   ],
   "metadata": {
    "collapsed": false
   }
  },
  {
   "cell_type": "code",
   "execution_count": null,
   "outputs": [],
   "source": [
    "data_1_hematokrit = data_1_hematokrit.sample(data_0_hematokrit.count())\n",
    "data_1_hematokrit"
   ],
   "metadata": {
    "collapsed": false,
    "pycharm": {
     "name": "#%%\n"
    }
   }
  },
  {
   "cell_type": "code",
   "execution_count": null,
   "outputs": [],
   "source": [
    "print(data_0_hematokrit.count())\n",
    "print(data_1_hematokrit.count())"
   ],
   "metadata": {
    "collapsed": false,
    "pycharm": {
     "name": "#%%\n"
    }
   }
  },
  {
   "cell_type": "markdown",
   "source": [
    "Z predchádzajúcich grafov je jasné, že **nepôjde o normálnu distribúciu**.\n",
    "Následne sme prešli na výpočet **Cohen's d**."
   ],
   "metadata": {
    "collapsed": false
   }
  },
  {
   "cell_type": "code",
   "execution_count": null,
   "outputs": [],
   "source": [
    "c_d_hematokrit = cohen_d(data_0_hematokrit, data_1_hematokrit)\n",
    "c_d_hematokrit"
   ],
   "metadata": {
    "collapsed": false,
    "pycharm": {
     "name": "#%%\n"
    }
   }
  },
  {
   "cell_type": "markdown",
   "source": [
    "Výsledok je väčší ako učebnicová hodnota 1 a pohybuje sa okolo 2,\n",
    "čo znamená, že **rozdiel medzi priemermi našich dvoch datasetov je rádovo\n",
    "väčší ako 2 štandardné odchýlky**.\n",
    "\n",
    "Vďaka tejto informácií môžeme tvrdiť, že výsledok nasledujúcich testov je\n",
    "**veľmi dôveryhodný**."
   ],
   "metadata": {
    "collapsed": false
   }
  },
  {
   "cell_type": "markdown",
   "source": [
    "Shapiro-Wilkov test overíme aj napriek qq-plotom,\n",
    "aby sme si mohli byť istí, že nejde o normálnu distribúciu."
   ],
   "metadata": {
    "collapsed": false
   }
  },
  {
   "cell_type": "code",
   "execution_count": null,
   "outputs": [],
   "source": [
    "sns.histplot(data=data_0_hematokrit)\n",
    "alpha = 0.05\n",
    "shapiro_test = stats.shapiro(data_0_hematokrit)\n",
    "print(shapiro_test.pvalue)\n",
    "\n",
    "if shapiro_test.pvalue > alpha:\n",
    "    print('Normálna distribúcia (fail to reject H0)')\n",
    "else:\n",
    "    print('Iná distribúcia (reject H0)')"
   ],
   "metadata": {
    "collapsed": false,
    "pycharm": {
     "name": "#%%\n"
    }
   }
  },
  {
   "cell_type": "code",
   "execution_count": null,
   "outputs": [],
   "source": [
    "sns.histplot(data=data_1_hematokrit)\n",
    "alpha = 0.05\n",
    "shapiro_test = stats.shapiro(data_1_hematokrit)\n",
    "print(shapiro_test.pvalue)\n",
    "\n",
    "if shapiro_test.pvalue > alpha:\n",
    "    print('Normálna distribúcia (fail to reject H0)')\n",
    "else:\n",
    "    print('Iná distribúcia (reject H0)')"
   ],
   "metadata": {
    "collapsed": false,
    "pycharm": {
     "name": "#%%\n"
    }
   }
  },
  {
   "cell_type": "markdown",
   "source": [
    "Shapiro-Wilkov test nám vrátil **extrémne nízke p-hodnoty**, čo naznačuje vyvrátenie\n",
    "nulovej hypotézy. Daný predpoklad sme si ešte potvrdili **Mann-Whitneyho testom**\n",
    "v nasledujúcej bunke."
   ],
   "metadata": {
    "collapsed": false
   }
  },
  {
   "cell_type": "code",
   "execution_count": null,
   "outputs": [],
   "source": [
    "alpha = 0.05\n",
    "stat, p = mannwhitneyu(data_0_hematokrit, data_1_hematokrit)\n",
    "print(p)\n",
    "\n",
    "if p > alpha:\n",
    "    print('Same distribution (fail to reject H0)')\n",
    "else:\n",
    "    print('Different distribution (reject H0)')"
   ],
   "metadata": {
    "collapsed": false,
    "pycharm": {
     "name": "#%%\n"
    }
   }
  },
  {
   "cell_type": "markdown",
   "source": [
    "#### Záver 2. hypotézy\n",
    "\n",
    "Mann-Whitneyho test potvrdil, že hypotézu **H0 môžeme zamietnuť** v prospech H1.\n",
    "To znamená, že môžeme s dostatočným presvedčením predpokladať znenie alternatívnej\n",
    "hypotézy."
   ],
   "metadata": {
    "collapsed": false
   }
  },
  {
   "cell_type": "markdown",
   "source": [
    "## d) Identifikácia problémov v dátach s navrhnutým riešením\n",
    "-------------------------------------------------------\n",
    "### Identifikácia problémov"
   ],
   "metadata": {
    "collapsed": false
   }
  },
  {
   "cell_type": "markdown",
   "source": [
    "Táto sekcia prvej fázy je venovaná **čisteniu dát**, respektíve **hľadaniu problémov**\n",
    "v datasete s návrhom riešení pre dané problémy. Všetky navrhnuté zmeny sme zakomentovali,\n",
    "aby sme mali funkčný k dispozícii už do druhej fázy.\n",
    "\n",
    "Postupovali sme problém po probléme v oboch .csv súboroch naraz.\n",
    "\n",
    "### Nevhodná štruktúra dát\n",
    "\n",
    "Na úvod sme otvorili druhý .csv súbor s názvom profiles.csv a vykonali sme základné\n",
    "úpravy ako aj pri labor.csv na začiatku notebooku (vyhodenie prvého stĺpca, kde sú len\n",
    "čísla)."
   ],
   "metadata": {
    "collapsed": false
   }
  },
  {
   "cell_type": "code",
   "execution_count": null,
   "outputs": [],
   "source": [
    "data_profiles = pd.read_csv(\"dataset/profiles.csv\", sep=\"\\t\")\n",
    "data_profiles = data_profiles.iloc[:, 1:]\n",
    "data_profiles"
   ],
   "metadata": {
    "collapsed": false,
    "pycharm": {
     "name": "#%%\n"
    }
   }
  },
  {
   "cell_type": "markdown",
   "source": [
    "Pred samotnou úpravou nevhodných štruktúr dát sme si vypísali prvých 20 záznamov,\n",
    "na ktorých sme sa pokúsili detekovať abnormality v ich štruktúre zápisu.\n",
    "Dataset data_labor bol z tohto ohľadu v poriadku."
   ],
   "metadata": {
    "collapsed": false
   }
  },
  {
   "cell_type": "code",
   "execution_count": null,
   "outputs": [],
   "source": [
    "data_labor.head(20)"
   ],
   "metadata": {
    "collapsed": false,
    "pycharm": {
     "name": "#%%\n"
    }
   }
  },
  {
   "cell_type": "code",
   "execution_count": null,
   "outputs": [],
   "source": [
    "data_profiles.head(20)"
   ],
   "metadata": {
    "collapsed": false,
    "pycharm": {
     "name": "#%%\n"
    }
   }
  },
  {
   "cell_type": "markdown",
   "source": [
    "V data_profiles sme si všimli hneď niekoľko problémov v našich záznamoch. Prvý z nich\n",
    "bol hneď v atribúte birthdate, kde bol dátum narodenia zapísaný niekoľkými rôznymi\n",
    "spôsobmi.\n",
    "\n",
    "Ďalšia nezrovnalosť bola v atribútoch address a residence, kde sa v záznamoch nachádzali\n",
    "znaky pre nový riadok a ďalšie formátovacie znaky typu \\r apod.\n",
    "\n",
    "Poslednou chybou v rámci pozorovania prirodzeného jazyka boli záznamy pre current_location,\n",
    "ktoré mali nevhodný formát.\n",
    "\n",
    "Naše navrhnuté riešenia sú zakomentované nižšie.\n",
    "\n",
    "* Pre atribút birthdate navrhujeme použitie predefinovaného pandas formátu, ktorý\n",
    "by v takomto prípade nahradil všetky rozličné formáty jednotným.\n",
    "* Pre atribúty currect_location, address a residence možno použiť nahradzovanie\n",
    "regulárnym výrazom a vstavanou metódou replace(), ktorou by sa nahradili všetky\n",
    "nechcené znaky, ktoré sa v záznamoch nachádzajú."
   ],
   "metadata": {
    "collapsed": false
   }
  },
  {
   "cell_type": "code",
   "execution_count": null,
   "outputs": [],
   "source": [
    "# data_profiles[[\"birthdate\"]] = data_profiles[[\"birthdate\"]].apply(pd.to_datetime)"
   ],
   "metadata": {
    "collapsed": false,
    "pycharm": {
     "name": "#%%\n"
    }
   }
  },
  {
   "cell_type": "code",
   "execution_count": null,
   "outputs": [],
   "source": [
    "# data_profiles[\"current_location\"] = data_profiles[\"current_location\"].str.replace(r\"[A-Za-z]\", \"\", regex=True)\n",
    "# data_profiles[\"current_location\"] = data_profiles[\"current_location\"].str.replace(r\"[()']\", \"\", regex=True)\n",
    "# data_profiles"
   ],
   "metadata": {
    "collapsed": false,
    "pycharm": {
     "name": "#%%\n"
    }
   }
  },
  {
   "cell_type": "code",
   "execution_count": null,
   "outputs": [],
   "source": [
    "# data_profiles[\"address\"] = data_profiles[\"address\"].str.replace(r\"[\\r\\n]\", \" \", regex = True)\n",
    "# data_profiles"
   ],
   "metadata": {
    "collapsed": false,
    "pycharm": {
     "name": "#%%\n"
    }
   }
  },
  {
   "cell_type": "code",
   "execution_count": null,
   "outputs": [],
   "source": [
    "# data_profiles[\"residence\"] = data_profiles[\"residence\"].str.replace(r\"[\\r\\n]\", \" \", regex = True)\n",
    "# data_profiles"
   ],
   "metadata": {
    "collapsed": false,
    "pycharm": {
     "name": "#%%\n"
    }
   }
  },
  {
   "cell_type": "markdown",
   "source": [
    "### Duplicitné záznamy\n",
    "\n",
    "Ďalším problémom v datasete, s ktorým sa je potrebné popasovať, je riešenie **duplikátnych riadkov**.\n",
    "To je z hľadiska trénovanie umelej inteligencie podstatné, keďže **duplikátny riadok nepridáva\n",
    "nijakú hodnotu** pre náš algoritmus, skôr môže narušiť jeho úsudok v prospech týchto rovnakých\n",
    "riadkov.\n",
    "\n",
    "V tejto bunke sme spočítali riadky, ktoré majú **duplikát** v celom datasete."
   ],
   "metadata": {
    "collapsed": false
   }
  },
  {
   "cell_type": "code",
   "execution_count": null,
   "outputs": [],
   "source": [
    "data_labor.duplicated(keep=False).sum()"
   ],
   "metadata": {
    "collapsed": false,
    "pycharm": {
     "name": "#%%\n"
    }
   }
  },
  {
   "cell_type": "markdown",
   "source": [
    "Pre tento problém by sme zvolili riešenie, v ktorom by sme odstránili všetky duplikátne\n",
    "riadky s tým, že by bol ponechaný len jeden z nich. V kóde, ktorý je zakomentovaný nižšie,\n",
    "je aj kontrola, či sa daný úkon vykonal správne. Po takejto úprave je potrebné preindexovať\n",
    "záznamy nanovo."
   ],
   "metadata": {
    "collapsed": false
   }
  },
  {
   "cell_type": "code",
   "execution_count": null,
   "outputs": [],
   "source": [
    "# data_labor.drop_duplicates(inplace=True)\n",
    "# data_labor.duplicated(keep=False).sum()\n",
    "# data_labor.index = range(len(data_labor))\n",
    "# data_labor"
   ],
   "metadata": {
    "collapsed": false,
    "pycharm": {
     "name": "#%%\n"
    }
   }
  },
  {
   "cell_type": "markdown",
   "source": [
    "Naša datábaza profilov neobsahuje duplikátne riadky, čo je overené v nasledujúcej bunke.\n",
    "Preto nie je potrebné v tomto sete riešiť nijakú duplicitu."
   ],
   "metadata": {
    "collapsed": false
   }
  },
  {
   "cell_type": "code",
   "execution_count": null,
   "outputs": [],
   "source": [
    "data_profiles.duplicated(keep=False).sum()"
   ],
   "metadata": {
    "collapsed": false,
    "pycharm": {
     "name": "#%%\n"
    }
   }
  },
  {
   "cell_type": "markdown",
   "source": [
    "### Nejednotné formáty"
   ],
   "metadata": {
    "collapsed": false
   }
  },
  {
   "cell_type": "markdown",
   "source": [
    "Do okruhu nejednotných formátov spadajú prípady ako napr. rôzna veľkosť písmen,\n",
    "preklepy, rôzne podoby zápisov alebo aj ich kombinácia.\n",
    "\n",
    "Preto sme si na úvod vypísali všetky unikátne v hodnoty v atribútoch, pre\n",
    "ktoré dáva zmysel riešiť nejednotný formát\n",
    "(napr. pri atribúte rasy to dáva zmysel, keďže rás je len zopár unikátnych,\n",
    "kdežto adresy takto kontrolovať nemôžeme).\n",
    "\n",
    "Atribúty v data_labor, pri ktorých možno kontrolovať jednotný formát:\n",
    "* smoker\n",
    "* relationship\n",
    "\n",
    "Atribúty v data_profiles, pri ktorých možno kontrolovať jednotný formát:\n",
    "* race\n",
    "* blood_group\n",
    "* sex\n",
    "\n",
    "### Nejednotný formát: data_labor"
   ],
   "metadata": {
    "collapsed": false
   }
  },
  {
   "cell_type": "code",
   "execution_count": null,
   "outputs": [],
   "source": [
    "data_labor[\"smoker\"].unique()"
   ],
   "metadata": {
    "collapsed": false,
    "pycharm": {
     "name": "#%%\n"
    }
   }
  },
  {
   "cell_type": "markdown",
   "source": [
    "V datasete data_labor pre atribút smoker sme identifikovali nejednotný formát,\n",
    "v 4 rôznych verziách. Na tento problém by sme vykonali prekonvertovanie hodnôt\n",
    "na numerické hodnoty 0 a 1, keďže to sú jediné možnosti, ako môže byť daný\n",
    "atribút vyjadrený."
   ],
   "metadata": {
    "collapsed": false
   }
  },
  {
   "cell_type": "code",
   "execution_count": null,
   "outputs": [],
   "source": [
    "\"\"\"\n",
    "data_labor[\"smoker\"] = data_labor[\"smoker\"].str.replace(\"yes\", \"1\")\n",
    "data_labor[\"smoker\"] = data_labor[\"smoker\"].str.replace(\"no\", \"0\")\n",
    "data_labor[\"smoker\"] = data_labor[\"smoker\"].str.replace(\"Y\", \"1\")\n",
    "data_labor[\"smoker\"] = data_labor[\"smoker\"].str.replace(\"N\", \"0\")\n",
    "data_labor[\"smoker\"] = data_labor[\"smoker\"].astype(float)\n",
    "\"\"\""
   ],
   "metadata": {
    "collapsed": false,
    "pycharm": {
     "name": "#%%\n"
    }
   }
  },
  {
   "cell_type": "code",
   "execution_count": null,
   "outputs": [],
   "source": [
    "data_labor[\"relationship\"].unique()"
   ],
   "metadata": {
    "collapsed": false,
    "pycharm": {
     "name": "#%%\n"
    }
   }
  },
  {
   "cell_type": "markdown",
   "source": [
    "Atribút relationship bol naformátovaný relatívne korektne, no upravili by sme\n",
    "hrúbku pre slovo \"divoced\" na \"divorced\" pre lepšiu zrozumiteľnosť záznamov."
   ],
   "metadata": {
    "collapsed": false
   }
  },
  {
   "cell_type": "code",
   "execution_count": null,
   "outputs": [],
   "source": [
    "# data_labor[\"relationship\"] = data_labor[\"relationship\"].str.replace(\"divoced\", \"divorced\")"
   ],
   "metadata": {
    "collapsed": false,
    "pycharm": {
     "name": "#%%\n"
    }
   }
  },
  {
   "cell_type": "markdown",
   "source": [
    "### Nejednotný formát: data_profiles"
   ],
   "metadata": {
    "collapsed": false
   }
  },
  {
   "cell_type": "code",
   "execution_count": null,
   "outputs": [],
   "source": [
    "data_profiles[\"race\"].unique()"
   ],
   "metadata": {
    "collapsed": false,
    "pycharm": {
     "name": "#%%\n"
    }
   }
  },
  {
   "cell_type": "markdown",
   "source": [
    "Pre rasy sme identifikovali preklep v prípade rasy **black**, kde bolo **blsck**.\n",
    "Tento preklep by sme upravili funkciou replace().\n",
    "Taktiež sme si všimli, že sa jednotlivé rasy začínajú na malé aj veľké písmená.\n",
    "Túto skutočnosť by sme upravili pomocou funkcie lower(), ktorá zmení všetky veľké\n",
    "písmená na malé."
   ],
   "metadata": {
    "collapsed": false
   }
  },
  {
   "cell_type": "code",
   "execution_count": null,
   "outputs": [],
   "source": [
    "# data_profiles[\"race\"] = data_profiles[\"race\"].str.replace(\"blsck\", \"black\")\n",
    "# data_profiles[\"race\"] = data_profiles[\"race\"].str.lower()"
   ],
   "metadata": {
    "collapsed": false,
    "pycharm": {
     "name": "#%%\n"
    }
   }
  },
  {
   "cell_type": "code",
   "execution_count": null,
   "outputs": [],
   "source": [
    "data_profiles[\"blood_group\"].unique()"
   ],
   "metadata": {
    "collapsed": false,
    "pycharm": {
     "name": "#%%\n"
    }
   }
  },
  {
   "cell_type": "markdown",
   "source": [
    "Pre atribút blood_group boli formáty jednotné typu: veľké písmeno a +/-.\n",
    "V budúcnosti možno pristúpime ku kroku nahradzovania týchto string hodnôt\n",
    "na numerickú podobu."
   ],
   "metadata": {
    "collapsed": false
   }
  },
  {
   "cell_type": "code",
   "execution_count": null,
   "outputs": [],
   "source": [
    "data_profiles[\"sex\"].unique()"
   ],
   "metadata": {
    "collapsed": false,
    "pycharm": {
     "name": "#%%\n"
    }
   }
  },
  {
   "cell_type": "markdown",
   "source": [
    "Tak ako pri atribúte smoker v predchádzajúcej časti, tak aj pri atribúte\n",
    "pohlavia by sme vykonali zmenu formátu na numerické hodnoty 0 a 1."
   ],
   "metadata": {
    "collapsed": false
   }
  },
  {
   "cell_type": "code",
   "execution_count": null,
   "outputs": [],
   "source": [
    "\"\"\"\n",
    "data_profiles[\"sex\"] = data_profiles[\"sex\"].str.replace(\"M\", \"1\")\n",
    "data_profiles[\"sex\"] = data_profiles[\"sex\"].str.replace(\"F\", \"0\")\n",
    "data_profiles[\"sex\"] = data_profiles[\"sex\"].astype(float)\n",
    "\"\"\""
   ],
   "metadata": {
    "collapsed": false,
    "pycharm": {
     "name": "#%%\n"
    }
   }
  },
  {
   "cell_type": "markdown",
   "source": [
    "Príkaz spustený v bunke nižšie kontroluje, či sú všetky hodnoty vo všetých stĺpcoch\n",
    "**numerické**, vďaka čomu by sme mohli prehlásiť,\n",
    "že dané atribúty obsahujú výlučne numerické hodnoty.\n",
    "\n",
    "V kombinácii spolu s funkciou info() vieme potvrdiť, že ide o dátový typ float_64 a\n",
    "že ostatné dátové typy sú typu object, čo je Python reprezentácia stringu."
   ],
   "metadata": {
    "collapsed": false
   }
  },
  {
   "cell_type": "code",
   "execution_count": null,
   "outputs": [],
   "source": [
    "data_labor.apply(lambda y: pd.to_numeric(y, errors='coerce').notnull().all())"
   ],
   "metadata": {
    "collapsed": false,
    "pycharm": {
     "name": "#%%\n"
    }
   }
  },
  {
   "cell_type": "code",
   "execution_count": null,
   "outputs": [],
   "source": [
    "data_labor.info()"
   ],
   "metadata": {
    "collapsed": false,
    "pycharm": {
     "name": "#%%\n"
    }
   }
  },
  {
   "cell_type": "code",
   "execution_count": null,
   "outputs": [],
   "source": [
    "data_profiles.apply(lambda y: pd.to_numeric(y, errors='coerce').notnull().all())"
   ],
   "metadata": {
    "collapsed": false,
    "pycharm": {
     "name": "#%%\n"
    }
   }
  },
  {
   "cell_type": "code",
   "execution_count": null,
   "outputs": [],
   "source": [
    "data_profiles.info()"
   ],
   "metadata": {
    "collapsed": false,
    "pycharm": {
     "name": "#%%\n"
    }
   }
  },
  {
   "cell_type": "markdown",
   "source": [
    "### Chýbajúce hodnoty\n",
    "\n",
    "Chýbajúce hodnoty sme na našom datasete sčasti už upravili.\n",
    "\n",
    "Pre data_labor sme ešte pred začiatkom prvej fázy vykonali nahradenie priemerom.\n",
    "Túto skutočnosť, že náš dataset už naozaj nemá nijaké chýbajúce hodnoty, možno\n",
    "overiť bunkou nižšie, ktorá zráta počet chýbajúcich hodnôt pre každý atribút\n",
    "zvlášť."
   ],
   "metadata": {
    "collapsed": false
   }
  },
  {
   "cell_type": "code",
   "execution_count": null,
   "outputs": [],
   "source": [
    "data_labor.isna().sum()"
   ],
   "metadata": {
    "collapsed": false,
    "pycharm": {
     "name": "#%%\n"
    }
   }
  },
  {
   "cell_type": "markdown",
   "source": [
    "Pre data_profiles navrhujeme rovnakú taktiku, ktorá v prvom rade spočíva v zistení,\n",
    "či sa v datasete nachádzajú nejaké chýbajúce hodnoty. Ako možno vidieť v bunke nižšie,\n",
    "tak chýbajúce dáta nemáme, a preto nijaké ďalšie kroky nie sú potrebné."
   ],
   "metadata": {
    "collapsed": false
   }
  },
  {
   "cell_type": "code",
   "execution_count": null,
   "outputs": [],
   "source": [
    "data_profiles.isna().sum()"
   ],
   "metadata": {
    "collapsed": false,
    "pycharm": {
     "name": "#%%\n"
    }
   }
  },
  {
   "cell_type": "markdown",
   "source": [
    "### Vychýlené hodnoty\n",
    "\n",
    "V tejto sekcii sú navrhnutú postupy riešenia problémov s vychýlenými hodnotami.\n",
    "\n",
    "Na začiatok je vhodné poznamenať, že problém vychýlených hodnôt sa týka len\n",
    "číselných záznamov, a preto atribúty typu string nie je potrebné ošetrovať.\n",
    "Začali sme výpisom datatypov v jednotlivých setoch."
   ],
   "metadata": {
    "collapsed": false
   }
  },
  {
   "cell_type": "code",
   "execution_count": null,
   "outputs": [],
   "source": [
    "data_labor.info()"
   ],
   "metadata": {
    "collapsed": false,
    "pycharm": {
     "name": "#%%\n"
    }
   }
  },
  {
   "cell_type": "code",
   "execution_count": null,
   "outputs": [],
   "source": [
    "data_profiles.info()"
   ],
   "metadata": {
    "collapsed": false,
    "pycharm": {
     "name": "#%%\n"
    }
   }
  },
  {
   "cell_type": "markdown",
   "source": [
    "Zistili sme, že data_profiles obsahuje výlučne stringy, z tohto dôvodu nie je\n",
    "potrebná korekcia pre vychýlené hodnoty.\n",
    "\n",
    "Zoznam číselných atribútov, pre ktoré je možné upravovať tzv. outlierov:\n",
    "* hbver\n",
    "* erytrocyty\n",
    "* alt\n",
    "* leukocyty\n",
    "* etytr\n",
    "* hemoglobin\n",
    "* trombocyty\n",
    "* alp\n",
    "* er-cv\n",
    "* weight\n",
    "* ast\n",
    "* hematokrit\n",
    "\n",
    "Na začiatok sme sa rozhodli pre výpis základných štatistkých údajov metódou\n",
    "describe()."
   ],
   "metadata": {
    "collapsed": false
   }
  },
  {
   "cell_type": "code",
   "execution_count": null,
   "outputs": [],
   "source": [
    "data_labor.describe()"
   ],
   "metadata": {
    "collapsed": false,
    "pycharm": {
     "name": "#%%\n"
    }
   }
  },
  {
   "cell_type": "markdown",
   "source": [
    "Z predchádzajúcej bunky sme zistili, že niektoré atribúty majú hodnoty viac\n",
    "roztrúsené ako iné. Jedným z extrémov bola váha, ktorej hodnoty siahali až\n",
    "do záporných hodnôt.\n",
    "\n",
    "Skrz tieto zistenia sme sa rozhodli, že váhu budeme upravovať samostatne a všetky\n",
    "zvyšné numerické atribúty ošetríme spoločne.\n",
    "\n",
    "Pre atribút váhy by sme navrhli riešenie pripočítania priemeru k hodnotám, ktoré\n",
    "spadajú pod istú hranicu s ohľadom na pohlavie.\n",
    "\n",
    "Na úpravu outlierov pre ostatné atribúty navrhujeme využiť metódu detekcie extrémov,\n",
    "ktoré ležia\n",
    "za dolnou alebo hornou hranicou, ktoré možno vypočítať z tzv. IQR (Interquartile range)."
   ],
   "metadata": {
    "collapsed": false
   }
  },
  {
   "cell_type": "markdown",
   "source": [
    "### VÁHA\n",
    "\n",
    "Náš návrh spočíva v zistení priemerných hodnôt u oboch pohlaví, čo by mohlo byť\n",
    "zohľadnené pri nahradzovaní záporných hodnôt.\n",
    "\n",
    "V bunkách nižšie je príklad kódu, ktorým by sme zistili rôzne hodnoty váh\n",
    "u mužov a žien."
   ],
   "metadata": {
    "collapsed": false
   }
  },
  {
   "cell_type": "code",
   "execution_count": null,
   "outputs": [],
   "source": [
    "# merged_data = pd.merge(data_labor, data_profiles, on=\"ssn\")\n",
    "# merged_data.head(15)"
   ],
   "metadata": {
    "collapsed": false,
    "pycharm": {
     "name": "#%%\n"
    }
   }
  },
  {
   "cell_type": "code",
   "execution_count": null,
   "outputs": [],
   "source": [
    "# data_f_weight = merged_data.loc[merged_data[\"sex\"] == \"F\", \"weight\"]\n",
    "# data_f_weight.describe()"
   ],
   "metadata": {
    "collapsed": false,
    "pycharm": {
     "name": "#%%\n"
    }
   }
  },
  {
   "cell_type": "code",
   "execution_count": null,
   "outputs": [],
   "source": [
    "# data_m_weight = merged_data.loc[merged_data[\"sex\"] == \"M\", \"weight\"]\n",
    "# data_m_weight.describe()"
   ],
   "metadata": {
    "collapsed": false,
    "pycharm": {
     "name": "#%%\n"
    }
   }
  },
  {
   "cell_type": "markdown",
   "source": [
    "Nižšie sa nachádza vzorový kód, ktorý by mohol byť použiteľný v prípade, ak by\n",
    "hodnoty priemerných váh u oboch pohlaví boli identické alebo aspoň podobné."
   ],
   "metadata": {
    "collapsed": false
   }
  },
  {
   "cell_type": "code",
   "execution_count": null,
   "outputs": [],
   "source": [
    "\"\"\"\n",
    "for x in data_labor.index:\n",
    "    if data_labor.loc[x, \"weight\"] < 5:\n",
    "        data_labor[\"weight\"][x] = data_labor[\"weight\"][x] + data_labor[\"weight\"].mean()\n",
    "\"\"\"\n"
   ],
   "metadata": {
    "collapsed": false,
    "pycharm": {
     "name": "#%%\n"
    }
   }
  },
  {
   "cell_type": "markdown",
   "source": [
    "Všetky ostatné atribúty by sme riešili pomocou metódy quantile_calc().\n",
    "V tejto metóde počítame IQR pomocou daného vzorca s tým, že hodnotu IQR\n",
    "použijeme na určenie lower a upper whisker. Tieto hodnoty sú hraničné, pričom\n",
    "ak sa im hodnoty atribútov vymykajú, ide o tzv. outliers,\n",
    "ktorých hodnoty budú následne upravené.\n",
    "\n",
    "Na záver funkcia vykreslí aj boxplot na vizuálne zobrazenie kvartilov a whiskerov\n",
    "a vráti tieto hraničné hodnoty."
   ],
   "metadata": {
    "collapsed": false
   }
  },
  {
   "cell_type": "code",
   "execution_count": null,
   "outputs": [],
   "source": [
    "def quantile_calc(column, boxplot=True):\n",
    "    Q1 = data_labor[column].quantile(0.25)\n",
    "    Q3 = data_labor[column].quantile(0.75)\n",
    "    IQR = Q3 - Q1\n",
    "    print(Q1)\n",
    "    print(Q3)\n",
    "    print(IQR)\n",
    "    Lower_Whisker = Q1-1.5*IQR if Q1-1.5*IQR > 0 else 0\n",
    "    Upper_Whisker = Q3+1.5*IQR\n",
    "    print(Lower_Whisker, Upper_Whisker)\n",
    "\n",
    "    if boxplot:\n",
    "        sns.boxplot(x=data_labor[column])\n",
    "\n",
    "    return Lower_Whisker, Upper_Whisker"
   ],
   "metadata": {
    "collapsed": false,
    "pycharm": {
     "name": "#%%\n"
    }
   }
  },
  {
   "cell_type": "markdown",
   "source": [
    "Pomocou tejto funkcie a konkrétnych hraničných hodnôt pre jednotlivé atribúty\n",
    "by sme upravili ich distribúcie individuálne.\n",
    "Ak by daný atribút potreboval individuálny prístup v zmysle, že jeho vychýlené\n",
    "hodnoty sú roztrúsené omnoho viac ako pri normálnejších distribúciách,\n",
    "použili by sme ručne napísaný kód.\n",
    "V iných prípadoch by sme použili funkciu move_outliers(), ktorej kód je nižšie."
   ],
   "metadata": {
    "collapsed": false
   }
  },
  {
   "cell_type": "code",
   "execution_count": null,
   "outputs": [],
   "source": [
    "def move_outliers(lower, upper, attr):\n",
    "    for i in data_labor.index:\n",
    "        if data_labor.loc[i, attr] < lower:\n",
    "            data_labor[attr][i] = data_labor[attr][i] + lower\n",
    "        elif data_labor.loc[i, attr] > upper:\n",
    "            data_labor[attr][i] = data_labor[attr][i] - lower\n",
    "\n",
    "    sns.boxplot(x=data_labor[attr])"
   ],
   "metadata": {
    "collapsed": false,
    "pycharm": {
     "name": "#%%\n"
    }
   }
  },
  {
   "cell_type": "markdown",
   "source": [
    "Príklady, ako by sme tieto úpravy vykonali, sú zobrazené nižšie aj s dostupným\n",
    "kódom. Pri atribúte alt je ukážka, kedy bol potrebný individuálny prístup, keďže\n",
    "sme chceli ponechať outlierov outliermi, ale v rozumnejšej miere, aby sa nenarušila\n",
    "podstata vychýlených hodnôt, ktoré taktiež ukazujú dôležitú výpovednú hodnotu.\n",
    "\n",
    "## ALT"
   ],
   "metadata": {
    "collapsed": false
   }
  },
  {
   "cell_type": "code",
   "execution_count": null,
   "outputs": [],
   "source": [
    "lower, upper = quantile_calc(\"alt\")"
   ],
   "metadata": {
    "collapsed": false,
    "pycharm": {
     "name": "#%%\n"
    }
   }
  },
  {
   "cell_type": "markdown",
   "source": [
    "Zistili sme, že máme priveľa **vychýlených hodnôt** a nemôžeme všetky vyhodiť z nášho datasetu.\n",
    "Preto sme sa rozhodli pre metódu úpravy hodnôt pomocou **kvantilov** s individuálnym prístupom."
   ],
   "metadata": {
    "collapsed": false
   }
  },
  {
   "cell_type": "code",
   "execution_count": null,
   "outputs": [],
   "source": [
    "# 2.5 -> 2.05\n",
    "# 5 -> 2.10\n",
    "# 20 -> 2.40\n",
    "# 100 -> 4.00\n",
    "\n",
    "for x in data_labor.index:\n",
    "    if data_labor.loc[x, \"alt\"] > upper:\n",
    "        data_labor[\"alt\"][x] = (data_labor[\"alt\"][x]/(upper*25)) + upper\n",
    "\n",
    "sns.boxplot(x=data_labor[\"alt\"])"
   ],
   "metadata": {
    "collapsed": false,
    "pycharm": {
     "name": "#%%\n"
    }
   }
  },
  {
   "cell_type": "markdown",
   "source": [
    "## HEMOGLOBÍN\n",
    "\n",
    "Ako úpravu sme opäť zvolili pripočítanie istej hodnoty k \"outlierom\", aby sme ich\n",
    "\"shiftli\" do normálneho intervalu."
   ],
   "metadata": {
    "collapsed": false
   }
  },
  {
   "cell_type": "code",
   "execution_count": null,
   "outputs": [],
   "source": [
    "lower, upper = quantile_calc(\"hemoglobin\")"
   ],
   "metadata": {
    "collapsed": false,
    "pycharm": {
     "name": "#%%\n"
    }
   }
  },
  {
   "cell_type": "code",
   "execution_count": null,
   "outputs": [],
   "source": [
    "move_outliers(lower, upper, \"hemoglobin\")"
   ],
   "metadata": {
    "collapsed": false,
    "pycharm": {
     "name": "#%%\n"
    }
   }
  },
  {
   "cell_type": "markdown",
   "source": [
    "## ALP\n",
    "\n",
    "Hodnoty alpu sme nemuseli upravovať, keďže boxplot z našej funkcie nevykreslil nijakých\n",
    "outlierov. Preto sme sa rozhodli daný atribút neupravovať."
   ],
   "metadata": {
    "collapsed": false
   }
  },
  {
   "cell_type": "code",
   "execution_count": null,
   "outputs": [],
   "source": [
    "quantile_calc(\"alp\")"
   ],
   "metadata": {
    "collapsed": false,
    "pycharm": {
     "name": "#%%\n"
    }
   }
  },
  {
   "cell_type": "markdown",
   "source": [
    "## ER-CV\n",
    "\n",
    "Opäť raz sme použili našu funkciu **quantile_calc()**, ktorá nám okrem\n",
    "hraničných hodnôt vykreslila boxplot, v ktorom môžeme graficky odpozorovať\n",
    "vymykajúce sa hodnoty er-cv atribútu."
   ],
   "metadata": {
    "collapsed": false
   }
  },
  {
   "cell_type": "code",
   "execution_count": null,
   "outputs": [],
   "source": [
    "lower, upper = quantile_calc(\"er-cv\")"
   ],
   "metadata": {
    "collapsed": false,
    "pycharm": {
     "name": "#%%\n"
    }
   }
  },
  {
   "cell_type": "code",
   "execution_count": null,
   "outputs": [],
   "source": [
    "move_outliers(lower, upper, \"er-cv\")"
   ],
   "metadata": {
    "collapsed": false,
    "pycharm": {
     "name": "#%%\n"
    }
   }
  },
  {
   "cell_type": "markdown",
   "source": [
    "## AST\n",
    "\n",
    "Pri atribúte AST sme zvolili identickú taktiku ako pri atribúte er-cv.\n",
    "* výpočet hraníc a vykreslenie boxplotu\n",
    "* úprava outlierov pripočítaním/odpočítaním spodnej hranice"
   ],
   "metadata": {
    "collapsed": false
   }
  },
  {
   "cell_type": "code",
   "execution_count": null,
   "outputs": [],
   "source": [
    "lower, upper = quantile_calc(\"ast\")"
   ],
   "metadata": {
    "collapsed": false,
    "pycharm": {
     "name": "#%%\n"
    }
   }
  },
  {
   "cell_type": "code",
   "execution_count": null,
   "outputs": [],
   "source": [
    "move_outliers(lower, upper, \"ast\")"
   ],
   "metadata": {
    "collapsed": false,
    "pycharm": {
     "name": "#%%\n"
    }
   }
  },
  {
   "cell_type": "code",
   "execution_count": null,
   "outputs": [],
   "source": [
    "data_labor.describe()"
   ],
   "metadata": {
    "collapsed": false,
    "pycharm": {
     "name": "#%%\n"
    }
   }
  }
 ],
 "metadata": {
  "kernelspec": {
   "display_name": "Python 3 (ipykernel)",
   "language": "python",
   "name": "python3"
  },
  "language_info": {
   "codemirror_mode": {
    "name": "ipython",
    "version": 3
   },
   "file_extension": ".py",
   "mimetype": "text/x-python",
   "name": "python",
   "nbconvert_exporter": "python",
   "pygments_lexer": "ipython3",
   "version": "3.8.10"
  }
 },
 "nbformat": 4,
 "nbformat_minor": 1
}