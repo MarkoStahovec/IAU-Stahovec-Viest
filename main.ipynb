{
 "cells": [
  {
   "cell_type": "code",
   "execution_count": 3,
   "metadata": {
    "collapsed": true
   },
   "outputs": [],
   "source": [
    "import pandas as pd\n",
    "import numpy as np"
   ]
  },
  {
   "cell_type": "code",
   "execution_count": 12,
   "outputs": [
    {
     "data": {
      "text/plain": "     smoker    hbver  erytrocyty      alt  leukocyty    etytr  hemoglobin  \\\n0       yes  4.98718     8.89463  2.40520    5.75830  6.93712     4.54976   \n1       yes  6.67732     4.21847  0.66072    6.29064  5.19990     4.10863   \n2        no  6.51444     7.94461  1.28337    5.83567  6.88758     6.45793   \n3        no  6.05025     7.67537  0.83197    6.33300  4.45912     6.96013   \n4       yes  6.20737     7.84993  0.93395    5.66904  4.88628     6.41332   \n...     ...      ...         ...      ...        ...      ...         ...   \n9966      Y  5.17020     5.61728  0.60775    5.35296  4.59956     5.52802   \n9967     no  5.70666     8.82840  2.35342    5.20966  3.73586     6.25482   \n9968      Y  6.45549     6.83179  0.62415    7.84688  4.52864     5.57765   \n9969      Y  4.81311     7.26178  0.84372    6.76794  7.54696     7.07142   \n9970     no  5.96628     8.70299  2.09693    5.96586  3.76665     7.04030   \n\n              ssn             name  trombocyty       alp relationship  \\\n0     021-87-4523    Jeremy Tanner     6.23782  45.93625      divoced   \n1     513-39-9691    Jocelyn Kelly     6.27100  20.30249      divoced   \n2     881-46-4810   Crystal Kelley     6.02783  82.09305      divoced   \n3     826-16-7757     Doris Duncan     6.83876  69.43441      divoced   \n4     167-37-6059       John Parks     5.75903  90.09567      divoced   \n...           ...              ...         ...       ...          ...   \n9966  425-94-7489      Ryan Pineda     3.86179  75.76127       single   \n9967  375-27-0860     Travis Brown     5.03429  85.17538      widowed   \n9968  300-91-9095  Michelle Watson     6.38035  79.13200      married   \n9969  691-20-7896        Ryan Hahn     5.27933  79.64629      married   \n9970  603-47-5832      Tammy Jones     4.80599  77.32350       single   \n\n      indicator     er-cv     weight       ast  hematokrit  \n0           0.0  55.43592   -2.73558  51.62366     3.34206  \n1           0.0  45.34617   81.56533  61.59374     5.78180  \n2           0.0  29.29190  151.24191  47.96329     4.55230  \n3           1.0  60.47398   83.89451  57.47174     7.17271  \n4           1.0  41.10299  107.22958  34.25820     6.93681  \n...         ...       ...        ...       ...         ...  \n9966        0.0  38.06206   60.90926  41.67857     4.57350  \n9967        1.0  48.35999  106.88451  23.49894     7.00122  \n9968        1.0  28.09339   75.74349  23.52645     6.94466  \n9969        0.0  56.63966   52.15898  31.12380     4.98399  \n9970        1.0  44.86900   73.49362  72.81753     7.27724  \n\n[9971 rows x 17 columns]",
      "text/html": "<div>\n<style scoped>\n    .dataframe tbody tr th:only-of-type {\n        vertical-align: middle;\n    }\n\n    .dataframe tbody tr th {\n        vertical-align: top;\n    }\n\n    .dataframe thead th {\n        text-align: right;\n    }\n</style>\n<table border=\"1\" class=\"dataframe\">\n  <thead>\n    <tr style=\"text-align: right;\">\n      <th></th>\n      <th>smoker</th>\n      <th>hbver</th>\n      <th>erytrocyty</th>\n      <th>alt</th>\n      <th>leukocyty</th>\n      <th>etytr</th>\n      <th>hemoglobin</th>\n      <th>ssn</th>\n      <th>name</th>\n      <th>trombocyty</th>\n      <th>alp</th>\n      <th>relationship</th>\n      <th>indicator</th>\n      <th>er-cv</th>\n      <th>weight</th>\n      <th>ast</th>\n      <th>hematokrit</th>\n    </tr>\n  </thead>\n  <tbody>\n    <tr>\n      <th>0</th>\n      <td>yes</td>\n      <td>4.98718</td>\n      <td>8.89463</td>\n      <td>2.40520</td>\n      <td>5.75830</td>\n      <td>6.93712</td>\n      <td>4.54976</td>\n      <td>021-87-4523</td>\n      <td>Jeremy Tanner</td>\n      <td>6.23782</td>\n      <td>45.93625</td>\n      <td>divoced</td>\n      <td>0.0</td>\n      <td>55.43592</td>\n      <td>-2.73558</td>\n      <td>51.62366</td>\n      <td>3.34206</td>\n    </tr>\n    <tr>\n      <th>1</th>\n      <td>yes</td>\n      <td>6.67732</td>\n      <td>4.21847</td>\n      <td>0.66072</td>\n      <td>6.29064</td>\n      <td>5.19990</td>\n      <td>4.10863</td>\n      <td>513-39-9691</td>\n      <td>Jocelyn Kelly</td>\n      <td>6.27100</td>\n      <td>20.30249</td>\n      <td>divoced</td>\n      <td>0.0</td>\n      <td>45.34617</td>\n      <td>81.56533</td>\n      <td>61.59374</td>\n      <td>5.78180</td>\n    </tr>\n    <tr>\n      <th>2</th>\n      <td>no</td>\n      <td>6.51444</td>\n      <td>7.94461</td>\n      <td>1.28337</td>\n      <td>5.83567</td>\n      <td>6.88758</td>\n      <td>6.45793</td>\n      <td>881-46-4810</td>\n      <td>Crystal Kelley</td>\n      <td>6.02783</td>\n      <td>82.09305</td>\n      <td>divoced</td>\n      <td>0.0</td>\n      <td>29.29190</td>\n      <td>151.24191</td>\n      <td>47.96329</td>\n      <td>4.55230</td>\n    </tr>\n    <tr>\n      <th>3</th>\n      <td>no</td>\n      <td>6.05025</td>\n      <td>7.67537</td>\n      <td>0.83197</td>\n      <td>6.33300</td>\n      <td>4.45912</td>\n      <td>6.96013</td>\n      <td>826-16-7757</td>\n      <td>Doris Duncan</td>\n      <td>6.83876</td>\n      <td>69.43441</td>\n      <td>divoced</td>\n      <td>1.0</td>\n      <td>60.47398</td>\n      <td>83.89451</td>\n      <td>57.47174</td>\n      <td>7.17271</td>\n    </tr>\n    <tr>\n      <th>4</th>\n      <td>yes</td>\n      <td>6.20737</td>\n      <td>7.84993</td>\n      <td>0.93395</td>\n      <td>5.66904</td>\n      <td>4.88628</td>\n      <td>6.41332</td>\n      <td>167-37-6059</td>\n      <td>John Parks</td>\n      <td>5.75903</td>\n      <td>90.09567</td>\n      <td>divoced</td>\n      <td>1.0</td>\n      <td>41.10299</td>\n      <td>107.22958</td>\n      <td>34.25820</td>\n      <td>6.93681</td>\n    </tr>\n    <tr>\n      <th>...</th>\n      <td>...</td>\n      <td>...</td>\n      <td>...</td>\n      <td>...</td>\n      <td>...</td>\n      <td>...</td>\n      <td>...</td>\n      <td>...</td>\n      <td>...</td>\n      <td>...</td>\n      <td>...</td>\n      <td>...</td>\n      <td>...</td>\n      <td>...</td>\n      <td>...</td>\n      <td>...</td>\n      <td>...</td>\n    </tr>\n    <tr>\n      <th>9966</th>\n      <td>Y</td>\n      <td>5.17020</td>\n      <td>5.61728</td>\n      <td>0.60775</td>\n      <td>5.35296</td>\n      <td>4.59956</td>\n      <td>5.52802</td>\n      <td>425-94-7489</td>\n      <td>Ryan Pineda</td>\n      <td>3.86179</td>\n      <td>75.76127</td>\n      <td>single</td>\n      <td>0.0</td>\n      <td>38.06206</td>\n      <td>60.90926</td>\n      <td>41.67857</td>\n      <td>4.57350</td>\n    </tr>\n    <tr>\n      <th>9967</th>\n      <td>no</td>\n      <td>5.70666</td>\n      <td>8.82840</td>\n      <td>2.35342</td>\n      <td>5.20966</td>\n      <td>3.73586</td>\n      <td>6.25482</td>\n      <td>375-27-0860</td>\n      <td>Travis Brown</td>\n      <td>5.03429</td>\n      <td>85.17538</td>\n      <td>widowed</td>\n      <td>1.0</td>\n      <td>48.35999</td>\n      <td>106.88451</td>\n      <td>23.49894</td>\n      <td>7.00122</td>\n    </tr>\n    <tr>\n      <th>9968</th>\n      <td>Y</td>\n      <td>6.45549</td>\n      <td>6.83179</td>\n      <td>0.62415</td>\n      <td>7.84688</td>\n      <td>4.52864</td>\n      <td>5.57765</td>\n      <td>300-91-9095</td>\n      <td>Michelle Watson</td>\n      <td>6.38035</td>\n      <td>79.13200</td>\n      <td>married</td>\n      <td>1.0</td>\n      <td>28.09339</td>\n      <td>75.74349</td>\n      <td>23.52645</td>\n      <td>6.94466</td>\n    </tr>\n    <tr>\n      <th>9969</th>\n      <td>Y</td>\n      <td>4.81311</td>\n      <td>7.26178</td>\n      <td>0.84372</td>\n      <td>6.76794</td>\n      <td>7.54696</td>\n      <td>7.07142</td>\n      <td>691-20-7896</td>\n      <td>Ryan Hahn</td>\n      <td>5.27933</td>\n      <td>79.64629</td>\n      <td>married</td>\n      <td>0.0</td>\n      <td>56.63966</td>\n      <td>52.15898</td>\n      <td>31.12380</td>\n      <td>4.98399</td>\n    </tr>\n    <tr>\n      <th>9970</th>\n      <td>no</td>\n      <td>5.96628</td>\n      <td>8.70299</td>\n      <td>2.09693</td>\n      <td>5.96586</td>\n      <td>3.76665</td>\n      <td>7.04030</td>\n      <td>603-47-5832</td>\n      <td>Tammy Jones</td>\n      <td>4.80599</td>\n      <td>77.32350</td>\n      <td>single</td>\n      <td>1.0</td>\n      <td>44.86900</td>\n      <td>73.49362</td>\n      <td>72.81753</td>\n      <td>7.27724</td>\n    </tr>\n  </tbody>\n</table>\n<p>9971 rows × 17 columns</p>\n</div>"
     },
     "execution_count": 12,
     "metadata": {},
     "output_type": "execute_result"
    }
   ],
   "source": [
    "data = pd.read_csv(\"dataset/labor.csv\", sep=\"\\t\")\n",
    "# del data[\"Unnamed: 0\"]\n",
    "data = data.iloc[:, 1:]\n",
    "data"
   ],
   "metadata": {
    "collapsed": false,
    "pycharm": {
     "name": "#%%\n"
    }
   }
  }
 ],
 "metadata": {
  "kernelspec": {
   "display_name": "Python 3",
   "language": "python",
   "name": "python3"
  },
  "language_info": {
   "codemirror_mode": {
    "name": "ipython",
    "version": 2
   },
   "file_extension": ".py",
   "mimetype": "text/x-python",
   "name": "python",
   "nbconvert_exporter": "python",
   "pygments_lexer": "ipython2",
   "version": "2.7.6"
  }
 },
 "nbformat": 4,
 "nbformat_minor": 0
}