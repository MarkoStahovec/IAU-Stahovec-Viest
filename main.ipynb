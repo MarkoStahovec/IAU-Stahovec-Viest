{
 "cells": [
  {
   "cell_type": "markdown",
   "metadata": {
    "collapsed": true,
    "pycharm": {
     "name": "#%% md\n"
    }
   },
   "source": [
    "# IAU-PROJEKT, STAHOVEC a VIEST\n",
    "------------------------------------------------\n",
    "Projekt začína základnými importmi pre knižnice, ktoré budeme v projekte používať."
   ]
  },
  {
   "cell_type": "code",
   "execution_count": 94,
   "outputs": [],
   "source": [
    "import pandas as pd\n",
    "import numpy as np\n",
    "import seaborn as sns\n",
    "import matplotlib.pyplot as plt\n",
    "from scipy import stats\n",
    "from scipy.stats import mannwhitneyu\n",
    "import statsmodels.api as sm\n",
    "import statsmodels.stats as sm_stats"
   ],
   "metadata": {
    "collapsed": false,
    "pycharm": {
     "name": "#%%\n"
    }
   }
  },
  {
   "cell_type": "code",
   "execution_count": 95,
   "outputs": [],
   "source": [
    "sns.set_theme(style=\"whitegrid\", palette=\"viridis\")\n",
    "sns.set_palette(\"viridis\")"
   ],
   "metadata": {
    "collapsed": false,
    "pycharm": {
     "name": "#%%\n"
    }
   }
  },
  {
   "cell_type": "markdown",
   "source": [
    "Hneď na začiatok si **načítame dáta** zo súboru funkciou **read_csv()**\n",
    "Následne vykonáme prvú \"čistiacu\" operáciu, v ktorej vymažeme prvý stĺpec, v ktorom\n",
    "je očíslovanie stĺpcov, ktoré je pre našu analýzu zbytočné."
   ],
   "metadata": {
    "collapsed": false,
    "pycharm": {
     "name": "#%% md\n"
    }
   }
  },
  {
   "cell_type": "code",
   "execution_count": 136,
   "outputs": [
    {
     "data": {
      "text/plain": "     smoker    hbver  erytrocyty      alt  leukocyty    etytr  hemoglobin  \\\n0       yes  4.98718     8.89463  2.40520    5.75830  6.93712     4.54976   \n1       yes  6.67732     4.21847  0.66072    6.29064  5.19990     4.10863   \n2        no  6.51444     7.94461  1.28337    5.83567  6.88758     6.45793   \n3        no  6.05025     7.67537  0.83197    6.33300  4.45912     6.96013   \n4       yes  6.20737     7.84993  0.93395    5.66904  4.88628     6.41332   \n...     ...      ...         ...      ...        ...      ...         ...   \n9966      Y  5.17020     5.61728  0.60775    5.35296  4.59956     5.52802   \n9967     no  5.70666     8.82840  2.35342    5.20966  3.73586     6.25482   \n9968      Y  6.45549     6.83179  0.62415    7.84688  4.52864     5.57765   \n9969      Y  4.81311     7.26178  0.84372    6.76794  7.54696     7.07142   \n9970     no  5.96628     8.70299  2.09693    5.96586  3.76665     7.04030   \n\n              ssn             name  trombocyty       alp relationship  \\\n0     021-87-4523    Jeremy Tanner     6.23782  45.93625      divoced   \n1     513-39-9691    Jocelyn Kelly     6.27100  20.30249      divoced   \n2     881-46-4810   Crystal Kelley     6.02783  82.09305      divoced   \n3     826-16-7757     Doris Duncan     6.83876  69.43441      divoced   \n4     167-37-6059       John Parks     5.75903  90.09567      divoced   \n...           ...              ...         ...       ...          ...   \n9966  425-94-7489      Ryan Pineda     3.86179  75.76127       single   \n9967  375-27-0860     Travis Brown     5.03429  85.17538      widowed   \n9968  300-91-9095  Michelle Watson     6.38035  79.13200      married   \n9969  691-20-7896        Ryan Hahn     5.27933  79.64629      married   \n9970  603-47-5832      Tammy Jones     4.80599  77.32350       single   \n\n      indicator     er-cv     weight       ast  hematokrit  \n0           0.0  55.43592   -2.73558  51.62366     3.34206  \n1           0.0  45.34617   81.56533  61.59374     5.78180  \n2           0.0  29.29190  151.24191  47.96329     4.55230  \n3           1.0  60.47398   83.89451  57.47174     7.17271  \n4           1.0  41.10299  107.22958  34.25820     6.93681  \n...         ...       ...        ...       ...         ...  \n9966        0.0  38.06206   60.90926  41.67857     4.57350  \n9967        1.0  48.35999  106.88451  23.49894     7.00122  \n9968        1.0  28.09339   75.74349  23.52645     6.94466  \n9969        0.0  56.63966   52.15898  31.12380     4.98399  \n9970        1.0  44.86900   73.49362  72.81753     7.27724  \n\n[9971 rows x 17 columns]",
      "text/html": "<div>\n<style scoped>\n    .dataframe tbody tr th:only-of-type {\n        vertical-align: middle;\n    }\n\n    .dataframe tbody tr th {\n        vertical-align: top;\n    }\n\n    .dataframe thead th {\n        text-align: right;\n    }\n</style>\n<table border=\"1\" class=\"dataframe\">\n  <thead>\n    <tr style=\"text-align: right;\">\n      <th></th>\n      <th>smoker</th>\n      <th>hbver</th>\n      <th>erytrocyty</th>\n      <th>alt</th>\n      <th>leukocyty</th>\n      <th>etytr</th>\n      <th>hemoglobin</th>\n      <th>ssn</th>\n      <th>name</th>\n      <th>trombocyty</th>\n      <th>alp</th>\n      <th>relationship</th>\n      <th>indicator</th>\n      <th>er-cv</th>\n      <th>weight</th>\n      <th>ast</th>\n      <th>hematokrit</th>\n    </tr>\n  </thead>\n  <tbody>\n    <tr>\n      <th>0</th>\n      <td>yes</td>\n      <td>4.98718</td>\n      <td>8.89463</td>\n      <td>2.40520</td>\n      <td>5.75830</td>\n      <td>6.93712</td>\n      <td>4.54976</td>\n      <td>021-87-4523</td>\n      <td>Jeremy Tanner</td>\n      <td>6.23782</td>\n      <td>45.93625</td>\n      <td>divoced</td>\n      <td>0.0</td>\n      <td>55.43592</td>\n      <td>-2.73558</td>\n      <td>51.62366</td>\n      <td>3.34206</td>\n    </tr>\n    <tr>\n      <th>1</th>\n      <td>yes</td>\n      <td>6.67732</td>\n      <td>4.21847</td>\n      <td>0.66072</td>\n      <td>6.29064</td>\n      <td>5.19990</td>\n      <td>4.10863</td>\n      <td>513-39-9691</td>\n      <td>Jocelyn Kelly</td>\n      <td>6.27100</td>\n      <td>20.30249</td>\n      <td>divoced</td>\n      <td>0.0</td>\n      <td>45.34617</td>\n      <td>81.56533</td>\n      <td>61.59374</td>\n      <td>5.78180</td>\n    </tr>\n    <tr>\n      <th>2</th>\n      <td>no</td>\n      <td>6.51444</td>\n      <td>7.94461</td>\n      <td>1.28337</td>\n      <td>5.83567</td>\n      <td>6.88758</td>\n      <td>6.45793</td>\n      <td>881-46-4810</td>\n      <td>Crystal Kelley</td>\n      <td>6.02783</td>\n      <td>82.09305</td>\n      <td>divoced</td>\n      <td>0.0</td>\n      <td>29.29190</td>\n      <td>151.24191</td>\n      <td>47.96329</td>\n      <td>4.55230</td>\n    </tr>\n    <tr>\n      <th>3</th>\n      <td>no</td>\n      <td>6.05025</td>\n      <td>7.67537</td>\n      <td>0.83197</td>\n      <td>6.33300</td>\n      <td>4.45912</td>\n      <td>6.96013</td>\n      <td>826-16-7757</td>\n      <td>Doris Duncan</td>\n      <td>6.83876</td>\n      <td>69.43441</td>\n      <td>divoced</td>\n      <td>1.0</td>\n      <td>60.47398</td>\n      <td>83.89451</td>\n      <td>57.47174</td>\n      <td>7.17271</td>\n    </tr>\n    <tr>\n      <th>4</th>\n      <td>yes</td>\n      <td>6.20737</td>\n      <td>7.84993</td>\n      <td>0.93395</td>\n      <td>5.66904</td>\n      <td>4.88628</td>\n      <td>6.41332</td>\n      <td>167-37-6059</td>\n      <td>John Parks</td>\n      <td>5.75903</td>\n      <td>90.09567</td>\n      <td>divoced</td>\n      <td>1.0</td>\n      <td>41.10299</td>\n      <td>107.22958</td>\n      <td>34.25820</td>\n      <td>6.93681</td>\n    </tr>\n    <tr>\n      <th>...</th>\n      <td>...</td>\n      <td>...</td>\n      <td>...</td>\n      <td>...</td>\n      <td>...</td>\n      <td>...</td>\n      <td>...</td>\n      <td>...</td>\n      <td>...</td>\n      <td>...</td>\n      <td>...</td>\n      <td>...</td>\n      <td>...</td>\n      <td>...</td>\n      <td>...</td>\n      <td>...</td>\n      <td>...</td>\n    </tr>\n    <tr>\n      <th>9966</th>\n      <td>Y</td>\n      <td>5.17020</td>\n      <td>5.61728</td>\n      <td>0.60775</td>\n      <td>5.35296</td>\n      <td>4.59956</td>\n      <td>5.52802</td>\n      <td>425-94-7489</td>\n      <td>Ryan Pineda</td>\n      <td>3.86179</td>\n      <td>75.76127</td>\n      <td>single</td>\n      <td>0.0</td>\n      <td>38.06206</td>\n      <td>60.90926</td>\n      <td>41.67857</td>\n      <td>4.57350</td>\n    </tr>\n    <tr>\n      <th>9967</th>\n      <td>no</td>\n      <td>5.70666</td>\n      <td>8.82840</td>\n      <td>2.35342</td>\n      <td>5.20966</td>\n      <td>3.73586</td>\n      <td>6.25482</td>\n      <td>375-27-0860</td>\n      <td>Travis Brown</td>\n      <td>5.03429</td>\n      <td>85.17538</td>\n      <td>widowed</td>\n      <td>1.0</td>\n      <td>48.35999</td>\n      <td>106.88451</td>\n      <td>23.49894</td>\n      <td>7.00122</td>\n    </tr>\n    <tr>\n      <th>9968</th>\n      <td>Y</td>\n      <td>6.45549</td>\n      <td>6.83179</td>\n      <td>0.62415</td>\n      <td>7.84688</td>\n      <td>4.52864</td>\n      <td>5.57765</td>\n      <td>300-91-9095</td>\n      <td>Michelle Watson</td>\n      <td>6.38035</td>\n      <td>79.13200</td>\n      <td>married</td>\n      <td>1.0</td>\n      <td>28.09339</td>\n      <td>75.74349</td>\n      <td>23.52645</td>\n      <td>6.94466</td>\n    </tr>\n    <tr>\n      <th>9969</th>\n      <td>Y</td>\n      <td>4.81311</td>\n      <td>7.26178</td>\n      <td>0.84372</td>\n      <td>6.76794</td>\n      <td>7.54696</td>\n      <td>7.07142</td>\n      <td>691-20-7896</td>\n      <td>Ryan Hahn</td>\n      <td>5.27933</td>\n      <td>79.64629</td>\n      <td>married</td>\n      <td>0.0</td>\n      <td>56.63966</td>\n      <td>52.15898</td>\n      <td>31.12380</td>\n      <td>4.98399</td>\n    </tr>\n    <tr>\n      <th>9970</th>\n      <td>no</td>\n      <td>5.96628</td>\n      <td>8.70299</td>\n      <td>2.09693</td>\n      <td>5.96586</td>\n      <td>3.76665</td>\n      <td>7.04030</td>\n      <td>603-47-5832</td>\n      <td>Tammy Jones</td>\n      <td>4.80599</td>\n      <td>77.32350</td>\n      <td>single</td>\n      <td>1.0</td>\n      <td>44.86900</td>\n      <td>73.49362</td>\n      <td>72.81753</td>\n      <td>7.27724</td>\n    </tr>\n  </tbody>\n</table>\n<p>9971 rows × 17 columns</p>\n</div>"
     },
     "execution_count": 136,
     "metadata": {},
     "output_type": "execute_result"
    }
   ],
   "source": [
    "data_labor = pd.read_csv(\"dataset/labor.csv\", sep=\"\\t\")\n",
    "# del data[\"Unnamed: 0\"]\n",
    "data_labor = data_labor.iloc[:, 1:]\n",
    "data_labor"
   ],
   "metadata": {
    "collapsed": false,
    "pycharm": {
     "name": "#%%\n"
    }
   }
  },
  {
   "cell_type": "markdown",
   "source": [
    "V nasledujúcej bunke sme **nahradili chýbajúce hodnoty** priemerom v danom stĺpci.\n",
    "Túto operáciu sme mohli vykonať z dôvodu, že všetky **chýbajúce hodnoty** boli iba v tých\n",
    "stĺpcoch, ktoré obsahujú **numerické hodnoty** (float64)."
   ],
   "metadata": {
    "collapsed": false,
    "pycharm": {
     "name": "#%% md\n"
    }
   }
  },
  {
   "cell_type": "code",
   "execution_count": 137,
   "outputs": [
    {
     "data": {
      "text/plain": "smoker           0\nhbver           31\nerytrocyty      32\nalt             30\nleukocyty       30\netytr           31\nhemoglobin      31\nssn              0\nname             0\ntrombocyty      30\nalp             30\nrelationship     0\nindicator        0\ner-cv           30\nweight           0\nast             30\nhematokrit      30\ndtype: int64"
     },
     "execution_count": 137,
     "metadata": {},
     "output_type": "execute_result"
    }
   ],
   "source": [
    "data_labor.isna().sum()"
   ],
   "metadata": {
    "collapsed": false,
    "pycharm": {
     "name": "#%%\n"
    }
   }
  },
  {
   "cell_type": "code",
   "execution_count": 138,
   "outputs": [
    {
     "name": "stderr",
     "output_type": "stream",
     "text": [
      "/tmp/ipykernel_18176/3025875362.py:1: FutureWarning: Dropping of nuisance columns in DataFrame reductions (with 'numeric_only=None') is deprecated; in a future version this will raise TypeError.  Select only valid columns before calling the reduction.\n",
      "  data_labor = data_labor.fillna(data_labor.mean())\n"
     ]
    },
    {
     "data": {
      "text/plain": "     smoker    hbver  erytrocyty      alt  leukocyty    etytr  hemoglobin  \\\n0       yes  4.98718     8.89463  2.40520    5.75830  6.93712     4.54976   \n1       yes  6.67732     4.21847  0.66072    6.29064  5.19990     4.10863   \n2        no  6.51444     7.94461  1.28337    5.83567  6.88758     6.45793   \n3        no  6.05025     7.67537  0.83197    6.33300  4.45912     6.96013   \n4       yes  6.20737     7.84993  0.93395    5.66904  4.88628     6.41332   \n...     ...      ...         ...      ...        ...      ...         ...   \n9966      Y  5.17020     5.61728  0.60775    5.35296  4.59956     5.52802   \n9967     no  5.70666     8.82840  2.35342    5.20966  3.73586     6.25482   \n9968      Y  6.45549     6.83179  0.62415    7.84688  4.52864     5.57765   \n9969      Y  4.81311     7.26178  0.84372    6.76794  7.54696     7.07142   \n9970     no  5.96628     8.70299  2.09693    5.96586  3.76665     7.04030   \n\n              ssn             name  trombocyty       alp relationship  \\\n0     021-87-4523    Jeremy Tanner     6.23782  45.93625      divoced   \n1     513-39-9691    Jocelyn Kelly     6.27100  20.30249      divoced   \n2     881-46-4810   Crystal Kelley     6.02783  82.09305      divoced   \n3     826-16-7757     Doris Duncan     6.83876  69.43441      divoced   \n4     167-37-6059       John Parks     5.75903  90.09567      divoced   \n...           ...              ...         ...       ...          ...   \n9966  425-94-7489      Ryan Pineda     3.86179  75.76127       single   \n9967  375-27-0860     Travis Brown     5.03429  85.17538      widowed   \n9968  300-91-9095  Michelle Watson     6.38035  79.13200      married   \n9969  691-20-7896        Ryan Hahn     5.27933  79.64629      married   \n9970  603-47-5832      Tammy Jones     4.80599  77.32350       single   \n\n      indicator     er-cv     weight       ast  hematokrit  \n0           0.0  55.43592   -2.73558  51.62366     3.34206  \n1           0.0  45.34617   81.56533  61.59374     5.78180  \n2           0.0  29.29190  151.24191  47.96329     4.55230  \n3           1.0  60.47398   83.89451  57.47174     7.17271  \n4           1.0  41.10299  107.22958  34.25820     6.93681  \n...         ...       ...        ...       ...         ...  \n9966        0.0  38.06206   60.90926  41.67857     4.57350  \n9967        1.0  48.35999  106.88451  23.49894     7.00122  \n9968        1.0  28.09339   75.74349  23.52645     6.94466  \n9969        0.0  56.63966   52.15898  31.12380     4.98399  \n9970        1.0  44.86900   73.49362  72.81753     7.27724  \n\n[9971 rows x 17 columns]",
      "text/html": "<div>\n<style scoped>\n    .dataframe tbody tr th:only-of-type {\n        vertical-align: middle;\n    }\n\n    .dataframe tbody tr th {\n        vertical-align: top;\n    }\n\n    .dataframe thead th {\n        text-align: right;\n    }\n</style>\n<table border=\"1\" class=\"dataframe\">\n  <thead>\n    <tr style=\"text-align: right;\">\n      <th></th>\n      <th>smoker</th>\n      <th>hbver</th>\n      <th>erytrocyty</th>\n      <th>alt</th>\n      <th>leukocyty</th>\n      <th>etytr</th>\n      <th>hemoglobin</th>\n      <th>ssn</th>\n      <th>name</th>\n      <th>trombocyty</th>\n      <th>alp</th>\n      <th>relationship</th>\n      <th>indicator</th>\n      <th>er-cv</th>\n      <th>weight</th>\n      <th>ast</th>\n      <th>hematokrit</th>\n    </tr>\n  </thead>\n  <tbody>\n    <tr>\n      <th>0</th>\n      <td>yes</td>\n      <td>4.98718</td>\n      <td>8.89463</td>\n      <td>2.40520</td>\n      <td>5.75830</td>\n      <td>6.93712</td>\n      <td>4.54976</td>\n      <td>021-87-4523</td>\n      <td>Jeremy Tanner</td>\n      <td>6.23782</td>\n      <td>45.93625</td>\n      <td>divoced</td>\n      <td>0.0</td>\n      <td>55.43592</td>\n      <td>-2.73558</td>\n      <td>51.62366</td>\n      <td>3.34206</td>\n    </tr>\n    <tr>\n      <th>1</th>\n      <td>yes</td>\n      <td>6.67732</td>\n      <td>4.21847</td>\n      <td>0.66072</td>\n      <td>6.29064</td>\n      <td>5.19990</td>\n      <td>4.10863</td>\n      <td>513-39-9691</td>\n      <td>Jocelyn Kelly</td>\n      <td>6.27100</td>\n      <td>20.30249</td>\n      <td>divoced</td>\n      <td>0.0</td>\n      <td>45.34617</td>\n      <td>81.56533</td>\n      <td>61.59374</td>\n      <td>5.78180</td>\n    </tr>\n    <tr>\n      <th>2</th>\n      <td>no</td>\n      <td>6.51444</td>\n      <td>7.94461</td>\n      <td>1.28337</td>\n      <td>5.83567</td>\n      <td>6.88758</td>\n      <td>6.45793</td>\n      <td>881-46-4810</td>\n      <td>Crystal Kelley</td>\n      <td>6.02783</td>\n      <td>82.09305</td>\n      <td>divoced</td>\n      <td>0.0</td>\n      <td>29.29190</td>\n      <td>151.24191</td>\n      <td>47.96329</td>\n      <td>4.55230</td>\n    </tr>\n    <tr>\n      <th>3</th>\n      <td>no</td>\n      <td>6.05025</td>\n      <td>7.67537</td>\n      <td>0.83197</td>\n      <td>6.33300</td>\n      <td>4.45912</td>\n      <td>6.96013</td>\n      <td>826-16-7757</td>\n      <td>Doris Duncan</td>\n      <td>6.83876</td>\n      <td>69.43441</td>\n      <td>divoced</td>\n      <td>1.0</td>\n      <td>60.47398</td>\n      <td>83.89451</td>\n      <td>57.47174</td>\n      <td>7.17271</td>\n    </tr>\n    <tr>\n      <th>4</th>\n      <td>yes</td>\n      <td>6.20737</td>\n      <td>7.84993</td>\n      <td>0.93395</td>\n      <td>5.66904</td>\n      <td>4.88628</td>\n      <td>6.41332</td>\n      <td>167-37-6059</td>\n      <td>John Parks</td>\n      <td>5.75903</td>\n      <td>90.09567</td>\n      <td>divoced</td>\n      <td>1.0</td>\n      <td>41.10299</td>\n      <td>107.22958</td>\n      <td>34.25820</td>\n      <td>6.93681</td>\n    </tr>\n    <tr>\n      <th>...</th>\n      <td>...</td>\n      <td>...</td>\n      <td>...</td>\n      <td>...</td>\n      <td>...</td>\n      <td>...</td>\n      <td>...</td>\n      <td>...</td>\n      <td>...</td>\n      <td>...</td>\n      <td>...</td>\n      <td>...</td>\n      <td>...</td>\n      <td>...</td>\n      <td>...</td>\n      <td>...</td>\n      <td>...</td>\n    </tr>\n    <tr>\n      <th>9966</th>\n      <td>Y</td>\n      <td>5.17020</td>\n      <td>5.61728</td>\n      <td>0.60775</td>\n      <td>5.35296</td>\n      <td>4.59956</td>\n      <td>5.52802</td>\n      <td>425-94-7489</td>\n      <td>Ryan Pineda</td>\n      <td>3.86179</td>\n      <td>75.76127</td>\n      <td>single</td>\n      <td>0.0</td>\n      <td>38.06206</td>\n      <td>60.90926</td>\n      <td>41.67857</td>\n      <td>4.57350</td>\n    </tr>\n    <tr>\n      <th>9967</th>\n      <td>no</td>\n      <td>5.70666</td>\n      <td>8.82840</td>\n      <td>2.35342</td>\n      <td>5.20966</td>\n      <td>3.73586</td>\n      <td>6.25482</td>\n      <td>375-27-0860</td>\n      <td>Travis Brown</td>\n      <td>5.03429</td>\n      <td>85.17538</td>\n      <td>widowed</td>\n      <td>1.0</td>\n      <td>48.35999</td>\n      <td>106.88451</td>\n      <td>23.49894</td>\n      <td>7.00122</td>\n    </tr>\n    <tr>\n      <th>9968</th>\n      <td>Y</td>\n      <td>6.45549</td>\n      <td>6.83179</td>\n      <td>0.62415</td>\n      <td>7.84688</td>\n      <td>4.52864</td>\n      <td>5.57765</td>\n      <td>300-91-9095</td>\n      <td>Michelle Watson</td>\n      <td>6.38035</td>\n      <td>79.13200</td>\n      <td>married</td>\n      <td>1.0</td>\n      <td>28.09339</td>\n      <td>75.74349</td>\n      <td>23.52645</td>\n      <td>6.94466</td>\n    </tr>\n    <tr>\n      <th>9969</th>\n      <td>Y</td>\n      <td>4.81311</td>\n      <td>7.26178</td>\n      <td>0.84372</td>\n      <td>6.76794</td>\n      <td>7.54696</td>\n      <td>7.07142</td>\n      <td>691-20-7896</td>\n      <td>Ryan Hahn</td>\n      <td>5.27933</td>\n      <td>79.64629</td>\n      <td>married</td>\n      <td>0.0</td>\n      <td>56.63966</td>\n      <td>52.15898</td>\n      <td>31.12380</td>\n      <td>4.98399</td>\n    </tr>\n    <tr>\n      <th>9970</th>\n      <td>no</td>\n      <td>5.96628</td>\n      <td>8.70299</td>\n      <td>2.09693</td>\n      <td>5.96586</td>\n      <td>3.76665</td>\n      <td>7.04030</td>\n      <td>603-47-5832</td>\n      <td>Tammy Jones</td>\n      <td>4.80599</td>\n      <td>77.32350</td>\n      <td>single</td>\n      <td>1.0</td>\n      <td>44.86900</td>\n      <td>73.49362</td>\n      <td>72.81753</td>\n      <td>7.27724</td>\n    </tr>\n  </tbody>\n</table>\n<p>9971 rows × 17 columns</p>\n</div>"
     },
     "execution_count": 138,
     "metadata": {},
     "output_type": "execute_result"
    }
   ],
   "source": [
    "data_labor = data_labor.fillna(data_labor.mean())\n",
    "data_labor"
   ],
   "metadata": {
    "collapsed": false,
    "pycharm": {
     "name": "#%%\n"
    }
   }
  },
  {
   "cell_type": "code",
   "execution_count": 133,
   "outputs": [
    {
     "data": {
      "text/plain": "             hbver   erytrocyty          alt    leukocyty        etytr  \\\ncount  9971.000000  9971.000000  9971.000000  9971.000000  9971.000000   \nmean      6.071692     6.842049     1.120983     6.064355     5.318564   \nstd       1.000834     1.460087     2.019724     1.009118     1.393256   \nmin       2.148000     1.103640     0.000000     2.239400     0.548790   \n25%       5.401305     6.037930     0.563945     5.393100     4.444160   \n50%       6.071692     7.004430     0.780950     6.071080     5.120390   \n75%       6.742105     7.807580     1.166560     6.730190     6.019805   \nmax      10.532500    12.769020   100.000000     9.767710    10.673750   \n\n        hemoglobin   trombocyty          alp    indicator        er-cv  \\\ncount  9971.000000  9971.000000  9971.000000  9971.000000  9971.000000   \nmean      6.062952     6.084395    54.622262     0.643165    51.121580   \nstd       1.741981     1.006202    26.103211     0.479090    12.856008   \nmin       0.000000     2.587100     0.000000     0.000000     0.000000   \n25%       4.780500     5.407585    31.460750     0.000000    42.546015   \n50%       6.115310     6.084395    58.533820     1.000000    50.954600   \n75%       7.378890     6.765420    78.880725     1.000000    59.861495   \nmax      11.720370     9.774760   100.000000     1.000000   100.000000   \n\n            weight          ast   hematokrit  \ncount  9971.000000  9971.000000  9971.000000  \nmean     70.305658    50.459989     6.461410  \nstd      34.976941    12.771838     1.617865  \nmin     -54.061950     0.000000     1.991860  \n25%      46.128010    41.770680     5.127505  \n50%      70.793900    50.618370     6.753050  \n75%      94.071090    59.039665     7.490275  \nmax     194.734070   100.000000    13.021170  ",
      "text/html": "<div>\n<style scoped>\n    .dataframe tbody tr th:only-of-type {\n        vertical-align: middle;\n    }\n\n    .dataframe tbody tr th {\n        vertical-align: top;\n    }\n\n    .dataframe thead th {\n        text-align: right;\n    }\n</style>\n<table border=\"1\" class=\"dataframe\">\n  <thead>\n    <tr style=\"text-align: right;\">\n      <th></th>\n      <th>hbver</th>\n      <th>erytrocyty</th>\n      <th>alt</th>\n      <th>leukocyty</th>\n      <th>etytr</th>\n      <th>hemoglobin</th>\n      <th>trombocyty</th>\n      <th>alp</th>\n      <th>indicator</th>\n      <th>er-cv</th>\n      <th>weight</th>\n      <th>ast</th>\n      <th>hematokrit</th>\n    </tr>\n  </thead>\n  <tbody>\n    <tr>\n      <th>count</th>\n      <td>9971.000000</td>\n      <td>9971.000000</td>\n      <td>9971.000000</td>\n      <td>9971.000000</td>\n      <td>9971.000000</td>\n      <td>9971.000000</td>\n      <td>9971.000000</td>\n      <td>9971.000000</td>\n      <td>9971.000000</td>\n      <td>9971.000000</td>\n      <td>9971.000000</td>\n      <td>9971.000000</td>\n      <td>9971.000000</td>\n    </tr>\n    <tr>\n      <th>mean</th>\n      <td>6.071692</td>\n      <td>6.842049</td>\n      <td>1.120983</td>\n      <td>6.064355</td>\n      <td>5.318564</td>\n      <td>6.062952</td>\n      <td>6.084395</td>\n      <td>54.622262</td>\n      <td>0.643165</td>\n      <td>51.121580</td>\n      <td>70.305658</td>\n      <td>50.459989</td>\n      <td>6.461410</td>\n    </tr>\n    <tr>\n      <th>std</th>\n      <td>1.000834</td>\n      <td>1.460087</td>\n      <td>2.019724</td>\n      <td>1.009118</td>\n      <td>1.393256</td>\n      <td>1.741981</td>\n      <td>1.006202</td>\n      <td>26.103211</td>\n      <td>0.479090</td>\n      <td>12.856008</td>\n      <td>34.976941</td>\n      <td>12.771838</td>\n      <td>1.617865</td>\n    </tr>\n    <tr>\n      <th>min</th>\n      <td>2.148000</td>\n      <td>1.103640</td>\n      <td>0.000000</td>\n      <td>2.239400</td>\n      <td>0.548790</td>\n      <td>0.000000</td>\n      <td>2.587100</td>\n      <td>0.000000</td>\n      <td>0.000000</td>\n      <td>0.000000</td>\n      <td>-54.061950</td>\n      <td>0.000000</td>\n      <td>1.991860</td>\n    </tr>\n    <tr>\n      <th>25%</th>\n      <td>5.401305</td>\n      <td>6.037930</td>\n      <td>0.563945</td>\n      <td>5.393100</td>\n      <td>4.444160</td>\n      <td>4.780500</td>\n      <td>5.407585</td>\n      <td>31.460750</td>\n      <td>0.000000</td>\n      <td>42.546015</td>\n      <td>46.128010</td>\n      <td>41.770680</td>\n      <td>5.127505</td>\n    </tr>\n    <tr>\n      <th>50%</th>\n      <td>6.071692</td>\n      <td>7.004430</td>\n      <td>0.780950</td>\n      <td>6.071080</td>\n      <td>5.120390</td>\n      <td>6.115310</td>\n      <td>6.084395</td>\n      <td>58.533820</td>\n      <td>1.000000</td>\n      <td>50.954600</td>\n      <td>70.793900</td>\n      <td>50.618370</td>\n      <td>6.753050</td>\n    </tr>\n    <tr>\n      <th>75%</th>\n      <td>6.742105</td>\n      <td>7.807580</td>\n      <td>1.166560</td>\n      <td>6.730190</td>\n      <td>6.019805</td>\n      <td>7.378890</td>\n      <td>6.765420</td>\n      <td>78.880725</td>\n      <td>1.000000</td>\n      <td>59.861495</td>\n      <td>94.071090</td>\n      <td>59.039665</td>\n      <td>7.490275</td>\n    </tr>\n    <tr>\n      <th>max</th>\n      <td>10.532500</td>\n      <td>12.769020</td>\n      <td>100.000000</td>\n      <td>9.767710</td>\n      <td>10.673750</td>\n      <td>11.720370</td>\n      <td>9.774760</td>\n      <td>100.000000</td>\n      <td>1.000000</td>\n      <td>100.000000</td>\n      <td>194.734070</td>\n      <td>100.000000</td>\n      <td>13.021170</td>\n    </tr>\n  </tbody>\n</table>\n</div>"
     },
     "execution_count": 133,
     "metadata": {},
     "output_type": "execute_result"
    }
   ],
   "source": [
    "data_labor.describe()"
   ],
   "metadata": {
    "collapsed": false,
    "pycharm": {
     "name": "#%%\n"
    }
   }
  },
  {
   "cell_type": "markdown",
   "source": [
    "# 1. fáza - Prieskumná analýza\n",
    "\n",
    "## a) Základný opis dát spolu s ich charakteristikami\n",
    "-------------------------------------------------------\n",
    "Základné informácie o datasete:"
   ],
   "metadata": {
    "collapsed": false,
    "pycharm": {
     "name": "#%% md\n"
    }
   }
  },
  {
   "cell_type": "code",
   "execution_count": 99,
   "outputs": [
    {
     "name": "stdout",
     "output_type": "stream",
     "text": [
      "Počet záznamov v našom datasete: 9971\n",
      "Počet atribútov v našom datasete: 17\n",
      "Dátové typy v našom datasete: [dtype('float64'), dtype('O')]\n"
     ]
    }
   ],
   "source": [
    "print(f\"Počet záznamov v našom datasete: {len(data_labor.index)}\")\n",
    "print(f\"Počet atribútov v našom datasete: {len(data_labor.columns)}\")\n",
    "# print(f\"Dátové typy v našom datasete:\\n {data_labor.dtypes}\")\n",
    "print(f\"Dátové typy v našom datasete: {list(set(data_labor.dtypes))}\")"
   ],
   "metadata": {
    "collapsed": false,
    "pycharm": {
     "name": "#%%\n"
    }
   }
  },
  {
   "cell_type": "markdown",
   "source": [
    "V tejto časti uvedieme pre zvolené **významné atribúty ich distribúcie a základné\n",
    "deskriptívne štatistiky.**\n",
    "Medzi tieto významné atribúty patria **erytrocyty, leukocyty, trombocyty, váha a\n",
    "hemoglobín**.\n",
    "Pre ich deskriptívne štatistiky uvádzame **medián, modus, priemer, rozptyl a smerodajnú odchylku.**\n",
    "<br>\n",
    "\n",
    "Hodnota modusu je väčšinou **rovná priemeru**, keďže nahradzujeme chýbajúce hodnoty priemerom. Je\n",
    "potrebné brať tieto hodnoty s rezervou, keďže dáta ešte neboli očistené a mnoho záznamov spadá\n",
    "do surreálnych hodnôt (napr. záporné záznamy pre atribút váhy).\n",
    "</br>"
   ],
   "metadata": {
    "collapsed": false,
    "pycharm": {
     "name": "#%% md\n"
    }
   }
  },
  {
   "cell_type": "markdown",
   "source": [
    "###  Erytrocyty\n",
    "\n",
    "Pri erytrocytoch vidíme, že na začiatku krivky je mierna odchýlka, ktorá spôsobuje to,\n",
    "že táto distribúcia\n",
    "nie je Gaussova aj keď, približne od hodnoty 5 na x-ovej osi by sa dalo povedať,\n",
    "že distribúcia je normálová."
   ],
   "metadata": {
    "collapsed": false,
    "pycharm": {
     "name": "#%% md\n"
    }
   }
  },
  {
   "cell_type": "code",
   "execution_count": 100,
   "outputs": [
    {
     "name": "stderr",
     "output_type": "stream",
     "text": [
      "/home/marko/PycharmProjects/IAU-Stahovec-Viest/venv/lib/python3.8/site-packages/seaborn/distributions.py:2619: FutureWarning: `distplot` is a deprecated function and will be removed in a future version. Please adapt your code to use either `displot` (a figure-level function with similar flexibility) or `histplot` (an axes-level function for histograms).\n",
      "  warnings.warn(msg, FutureWarning)\n"
     ]
    },
    {
     "name": "stdout",
     "output_type": "stream",
     "text": [
      "[erytrocyty] Medián:   7.00443\n",
      "[erytrocyty] Modus:    6.842048781567562\n",
      "[erytrocyty] Priemer:  6.842048781567561\n",
      "[erytrocyty] Rozptyl:  2.1316401076201124\n",
      "[erytrocyty] Smerodajná odchylka:  1.4600137354217297\n"
     ]
    },
    {
     "data": {
      "text/plain": "<Figure size 432x288 with 1 Axes>",
      "image/png": "[encoded data removed]"
     },
     "metadata": {},
     "output_type": "display_data"
    }
   ],
   "source": [
    "sns.distplot(data_labor[\"erytrocyty\"], kde=True, kde_kws={\"lw\": 1}, bins=32)\n",
    "# sns.histplot(data=data_labor, x=\"erytrocyty\", bins=24, kde=True)\n",
    "print(f\"[erytrocyty] Medián:  \", data_labor[\"erytrocyty\"].median())\n",
    "print(f\"[erytrocyty] Modus:   \", data_labor.mode()[\"erytrocyty\"][0])\n",
    "print(f\"[erytrocyty] Priemer: \", data_labor[\"erytrocyty\"].mean())\n",
    "print(f\"[erytrocyty] Rozptyl: \", np.var(data_labor[\"erytrocyty\"]))\n",
    "print(f\"[erytrocyty] Smerodajná odchylka: \", np.std(data_labor[\"erytrocyty\"]))"
   ],
   "metadata": {
    "collapsed": false,
    "pycharm": {
     "name": "#%%\n"
    }
   }
  },
  {
   "cell_type": "markdown",
   "source": [
    "### Leukocyty\n",
    "\n",
    "Pri leukocytoch vidíme menší spike presne v strede distribúcie, čo môže byť náhoda\n",
    "znásobená faktom, že sme nahradzovali chýbajúce hodnoty údajom, ktorý sa nachádza\n",
    "práve na tom mieste."
   ],
   "metadata": {
    "collapsed": false,
    "pycharm": {
     "name": "#%% md\n"
    }
   }
  },
  {
   "cell_type": "code",
   "execution_count": 101,
   "outputs": [
    {
     "name": "stderr",
     "output_type": "stream",
     "text": [
      "/home/marko/PycharmProjects/IAU-Stahovec-Viest/venv/lib/python3.8/site-packages/seaborn/distributions.py:2619: FutureWarning: `distplot` is a deprecated function and will be removed in a future version. Please adapt your code to use either `displot` (a figure-level function with similar flexibility) or `histplot` (an axes-level function for histograms).\n",
      "  warnings.warn(msg, FutureWarning)\n"
     ]
    },
    {
     "name": "stdout",
     "output_type": "stream",
     "text": [
      "[leukocyty] Medián:   6.07108\n",
      "[leukocyty] Modus:    6.064355209737452\n",
      "[leukocyty] Priemer:  6.0643552097374505\n",
      "[leukocyty] Rozptyl:  1.0182179280312194\n",
      "[leukocyty] Smerodajná odchylka:  1.0090678510542388\n"
     ]
    },
    {
     "data": {
      "text/plain": "<Figure size 432x288 with 1 Axes>",
      "image/png": "[encoded data removed]"
     },
     "metadata": {},
     "output_type": "display_data"
    }
   ],
   "source": [
    "sns.distplot(data_labor[\"leukocyty\"], kde=True, kde_kws={\"lw\": 1}, bins=32)\n",
    "# sns.histplot(data=data_labor, x=\"leukocyty\", bins=24, kde=True)\n",
    "print(f\"[leukocyty] Medián:  \", data_labor[\"leukocyty\"].median())\n",
    "print(f\"[leukocyty] Modus:   \", data_labor.mode()[\"leukocyty\"][0])\n",
    "print(f\"[leukocyty] Priemer: \", data_labor[\"leukocyty\"].mean())\n",
    "print(f\"[leukocyty] Rozptyl: \", np.var(data_labor[\"leukocyty\"]))\n",
    "print(f\"[leukocyty] Smerodajná odchylka: \", np.std(data_labor[\"leukocyty\"]))\n"
   ],
   "metadata": {
    "collapsed": false,
    "pycharm": {
     "name": "#%%\n"
    }
   }
  },
  {
   "cell_type": "markdown",
   "source": [
    "### Trombocyty\n",
    "\n",
    "Pri trombocytoch vidíme pomerne veľkú odchýlku v strede distribúcie. Inak je distribúcia Gaussova,\n",
    "čo znamená, že hodnoty sú rovnomerne rozložené naprieč grafom."
   ],
   "metadata": {
    "collapsed": false
   }
  },
  {
   "cell_type": "code",
   "execution_count": 102,
   "outputs": [
    {
     "name": "stderr",
     "output_type": "stream",
     "text": [
      "/home/marko/PycharmProjects/IAU-Stahovec-Viest/venv/lib/python3.8/site-packages/seaborn/distributions.py:2619: FutureWarning: `distplot` is a deprecated function and will be removed in a future version. Please adapt your code to use either `displot` (a figure-level function with similar flexibility) or `histplot` (an axes-level function for histograms).\n",
      "  warnings.warn(msg, FutureWarning)\n"
     ]
    },
    {
     "name": "stdout",
     "output_type": "stream",
     "text": [
      "[trombocyty] Medián:   6.084394732924253\n",
      "[trombocyty] Modus:    6.084394732924253\n",
      "[trombocyty] Priemer:  6.084394732924253\n",
      "[trombocyty] Rozptyl:  1.0123415736654913\n",
      "[trombocyty] Smerodajná odchylka:  1.0061518641166904\n"
     ]
    },
    {
     "data": {
      "text/plain": "<Figure size 432x288 with 1 Axes>",
      "image/png": "[encoded data removed]"
     },
     "metadata": {},
     "output_type": "display_data"
    }
   ],
   "source": [
    "sns.distplot(data_labor[\"trombocyty\"], kde=True, kde_kws={\"lw\": 1}, bins=32)\n",
    "# sns.histplot(data=data_labor, x=\"trombocyty\", bins=24, kde=True)\n",
    "print(f\"[trombocyty] Medián:  \", data_labor[\"trombocyty\"].median())\n",
    "print(f\"[trombocyty] Modus:   \", data_labor.mode()[\"trombocyty\"][0])\n",
    "print(f\"[trombocyty] Priemer: \", data_labor[\"trombocyty\"].mean())\n",
    "print(f\"[trombocyty] Rozptyl: \", np.var(data_labor[\"trombocyty\"]))\n",
    "print(f\"[trombocyty] Smerodajná odchylka: \", np.std(data_labor[\"trombocyty\"]))"
   ],
   "metadata": {
    "collapsed": false,
    "pycharm": {
     "name": "#%%\n"
    }
   }
  },
  {
   "cell_type": "markdown",
   "source": [
    "### Váha\n",
    "\n",
    "Ako sme vyčítali z metódy describe() na začiatku, tak na grafe sa nám potvrdilo,\n",
    "že niektoré hodnoty váh siahajú do záporného regiónu. O to sa postaráme neskôr\n",
    "v tomto notebooku."
   ],
   "metadata": {
    "collapsed": false
   }
  },
  {
   "cell_type": "code",
   "execution_count": 103,
   "outputs": [
    {
     "name": "stderr",
     "output_type": "stream",
     "text": [
      "/home/marko/PycharmProjects/IAU-Stahovec-Viest/venv/lib/python3.8/site-packages/seaborn/distributions.py:2619: FutureWarning: `distplot` is a deprecated function and will be removed in a future version. Please adapt your code to use either `displot` (a figure-level function with similar flexibility) or `histplot` (an axes-level function for histograms).\n",
      "  warnings.warn(msg, FutureWarning)\n"
     ]
    },
    {
     "name": "stdout",
     "output_type": "stream",
     "text": [
      "[weight] Medián:   70.7939\n",
      "[weight] Modus:    -13.06891\n",
      "[weight] Priemer:  70.30565801624712\n",
      "[weight] Rozptyl:  1223.2637015794558\n",
      "[weight] Smerodajná odchylka:  34.9751869413082\n"
     ]
    },
    {
     "data": {
      "text/plain": "<Figure size 432x288 with 1 Axes>",
      "image/png": "[encoded data removed]"
     },
     "metadata": {},
     "output_type": "display_data"
    }
   ],
   "source": [
    "sns.distplot(data_labor[\"weight\"], kde=True, kde_kws={\"lw\": 1}, bins=32)\n",
    "# sns.histplot(data=data_labor, x=\"weight\", bins=24, kde=True)\n",
    "print(f\"[weight] Medián:  \", data_labor[\"weight\"].median())\n",
    "print(f\"[weight] Modus:   \", data_labor.mode()[\"weight\"][0])\n",
    "print(f\"[weight] Priemer: \", data_labor[\"weight\"].mean())\n",
    "print(f\"[weight] Rozptyl: \", np.var(data_labor[\"weight\"]))\n",
    "print(f\"[weight] Smerodajná odchylka: \", np.std(data_labor[\"weight\"]))"
   ],
   "metadata": {
    "collapsed": false,
    "pycharm": {
     "name": "#%%\n"
    }
   }
  },
  {
   "cell_type": "markdown",
   "source": [
    "### Hemoglobin\n",
    "\n",
    "Pri hemoglobíne vidíme, že distribúcia nie je Gaussova, pretože má veľký sklon a v maximálnych hodnotách\n",
    "je krivka široká, to znamená, že veľká časť dát má hodnotu blízku k maximálnej."
   ],
   "metadata": {
    "collapsed": false,
    "pycharm": {
     "name": "#%% md\n"
    }
   }
  },
  {
   "cell_type": "code",
   "execution_count": 104,
   "outputs": [
    {
     "name": "stderr",
     "output_type": "stream",
     "text": [
      "/home/marko/PycharmProjects/IAU-Stahovec-Viest/venv/lib/python3.8/site-packages/seaborn/distributions.py:2619: FutureWarning: `distplot` is a deprecated function and will be removed in a future version. Please adapt your code to use either `displot` (a figure-level function with similar flexibility) or `histplot` (an axes-level function for histograms).\n",
      "  warnings.warn(msg, FutureWarning)\n"
     ]
    },
    {
     "name": "stdout",
     "output_type": "stream",
     "text": [
      "[hemoglobin] Medián:   6.11531\n",
      "[hemoglobin] Modus:    6.0629517464788725\n",
      "[hemoglobin] Priemer:  6.062951746478873\n",
      "[hemoglobin] Rozptyl:  3.0341928901248703\n",
      "[hemoglobin] Smerodajná odchylka:  1.7418934784093056\n"
     ]
    },
    {
     "data": {
      "text/plain": "<Figure size 432x288 with 1 Axes>",
      "image/png": "[encoded data removed]"
     },
     "metadata": {},
     "output_type": "display_data"
    }
   ],
   "source": [
    "sns.distplot(data_labor[\"hemoglobin\"], kde=True, kde_kws={\"lw\": 1}, bins=32)\n",
    "# sns.histplot(data=data_labor, x=\"trombocyty\", bins=24, kde=True)\n",
    "print(f\"[hemoglobin] Medián:  \", data_labor[\"hemoglobin\"].median())\n",
    "print(f\"[hemoglobin] Modus:   \", data_labor.mode()[\"hemoglobin\"][0])\n",
    "print(f\"[hemoglobin] Priemer: \", data_labor[\"hemoglobin\"].mean())\n",
    "print(f\"[hemoglobin] Rozptyl: \", np.var(data_labor[\"hemoglobin\"]))\n",
    "print(f\"[hemoglobin] Smerodajná odchylka: \", np.std(data_labor[\"hemoglobin\"]))"
   ],
   "metadata": {
    "collapsed": false,
    "pycharm": {
     "name": "#%%\n"
    }
   }
  },
  {
   "cell_type": "markdown",
   "source": [
    "## b) Párová analýza dát\n",
    "-------------------------------------------------------\n",
    "### **Skúmanie vzťahov medzi dvojicami atribútov**\n",
    "\n",
    "<br>\n",
    "\n",
    "V tejto časti zisťujeme **závislosti** medzi rôznymi atribútmi po dvojiciach. Keďže naše dáta\n",
    "ešte stále nie sú očistené, výsledné závislosti **nemôžu byť stopercentne korektné**.\n",
    "</br>\n",
    "<br>\n",
    "Na začiatok sme vykreslili **heatmapu**, z ktorej môžeme vyčítať **závislosti medzi všetkými dvojicami\n",
    "atribútov**. Vďaka tomu máme všeobecný prehľad o koreláciách v našom datasete.\n",
    "</br>"
   ],
   "metadata": {
    "collapsed": false
   }
  },
  {
   "cell_type": "code",
   "execution_count": 105,
   "outputs": [
    {
     "data": {
      "text/plain": "<Figure size 1080x720 with 2 Axes>",
      "image/png": "[encoded data removed]"
     },
     "metadata": {},
     "output_type": "display_data"
    }
   ],
   "source": [
    "fig, ax = plt.subplots(figsize=(15, 10))\n",
    "heatmap = sns.heatmap(data_labor.corr(), linewidths=.5, square=True,\n",
    "                      annot=True, linewidth=0.5, cmap=\"magma\", fmt=\".2f\")\n",
    "heatmap.set_title('Correlation Heatmap', pad=12);"
   ],
   "metadata": {
    "collapsed": false,
    "pycharm": {
     "name": "#%%\n"
    }
   }
  },
  {
   "cell_type": "markdown",
   "source": [
    "Heatmapa z prechádzajúcej bunky nám napovedá, ktoré atribúty môžeme skúmať z hľadiska závislostí.\n",
    "Na začiatok si vyberieme dvojice, ktoré majú vyšší koeficient korelácie, a teda tie\n",
    "dvojice atribútov od seba závisia.\n",
    "<br>\n",
    "\n",
    "Korelácie medzi dvojicami, ktoré sme si vybrali na párovú analýzu:\n",
    "- erytrocyty - alt\n",
    "- hemoglobín - alp\n",
    "- hemoglobín - etytr\n",
    "- erytrocyty - leukocyty\n",
    "\n",
    "Dvojice so závislou premennou:\n",
    "- indikátor - erytrocyty\n",
    "- indikátor - hematokrit\n",
    "- indikátor - trombocyty\n",
    "- indikátor - etytr\n",
    "\n",
    "\n",
    "### Erytrocyty a alt\n",
    "Na tomto grafe môžeme pozerať **silnú závislosť**, keďže rozptyl dát je exponenciálna krivka.\n",
    "Pri atribútoch, ktoré nekorelujú, budeme vidieť rôzne atypické \"machule\".\n",
    "</br>"
   ],
   "metadata": {
    "collapsed": false,
    "pycharm": {
     "name": "#%% md\n"
    }
   }
  },
  {
   "cell_type": "code",
   "execution_count": 106,
   "outputs": [
    {
     "data": {
      "text/plain": "<AxesSubplot:xlabel='erytrocyty', ylabel='alt'>"
     },
     "execution_count": 106,
     "metadata": {},
     "output_type": "execute_result"
    },
    {
     "data": {
      "text/plain": "<Figure size 432x288 with 1 Axes>",
      "image/png": "[encoded data removed]"
     },
     "metadata": {},
     "output_type": "display_data"
    }
   ],
   "source": [
    "sns.scatterplot(data=data_labor, x=\"erytrocyty\", y=\"alt\")"
   ],
   "metadata": {
    "collapsed": false,
    "pycharm": {
     "name": "#%%\n"
    }
   }
  },
  {
   "cell_type": "markdown",
   "source": [
    "### Hemoglobín a alp\n",
    "Na danom grafe pozorujeme **sínusovú závislosť**, keďže osciluje v pravidelnom intervale.\n",
    "V približnom odhade môžeme tvrdiť, že hodnoty atribútu alp dosahujú maximum vtedy,\n",
    "ak sa hodnota hemoglobínu blíži k 6% a periodicky osciluje po približne šiestich\n",
    "percentách."
   ],
   "metadata": {
    "collapsed": false,
    "pycharm": {
     "name": "#%% md\n"
    }
   }
  },
  {
   "cell_type": "code",
   "execution_count": 107,
   "outputs": [
    {
     "data": {
      "text/plain": "<AxesSubplot:xlabel='hemoglobin', ylabel='alp'>"
     },
     "execution_count": 107,
     "metadata": {},
     "output_type": "execute_result"
    },
    {
     "data": {
      "text/plain": "<Figure size 432x288 with 1 Axes>",
      "image/png": "[encoded data removed]"
     },
     "metadata": {},
     "output_type": "display_data"
    }
   ],
   "source": [
    "sns.scatterplot(data=data_labor, x=\"hemoglobin\", y=\"alp\")"
   ],
   "metadata": {
    "collapsed": false,
    "pycharm": {
     "name": "#%%\n"
    }
   }
  },
  {
   "cell_type": "markdown",
   "source": [
    "### Hemoglobin a etytr\n",
    "V danom porovnaní môžeme pozorovať miernu pozitívnu koreláciu medzi zvolenými atribútmi,\n",
    "keďže distribúcia v grafe je, laicky povedané, jemne naklonená doprava hore."
   ],
   "metadata": {
    "collapsed": false
   }
  },
  {
   "cell_type": "code",
   "execution_count": 108,
   "outputs": [
    {
     "name": "stderr",
     "output_type": "stream",
     "text": [
      "/home/marko/PycharmProjects/IAU-Stahovec-Viest/venv/lib/python3.8/site-packages/seaborn/distributions.py:1210: UserWarning: The following kwargs were not used by contour: 'linewidth'\n",
      "  cset = contour_func(\n"
     ]
    },
    {
     "data": {
      "text/plain": "<AxesSubplot:xlabel='hemoglobin', ylabel='etytr'>"
     },
     "execution_count": 108,
     "metadata": {},
     "output_type": "execute_result"
    },
    {
     "data": {
      "text/plain": "<Figure size 432x432 with 1 Axes>",
      "image/png": "[encoded data removed]"
     },
     "metadata": {},
     "output_type": "display_data"
    }
   ],
   "source": [
    "plt.subplots(figsize=(6, 6))\n",
    "sns.scatterplot(data=data_labor, x=\"hemoglobin\", y=\"etytr\", s=5, color=\"#5e3c99\")\n",
    "sns.histplot(data=data_labor, x=\"hemoglobin\", y=\"etytr\", bins=50, pthresh=.1, cmap=\"viridis\", shrink=.4)\n",
    "sns.kdeplot(data=data_labor, x=\"hemoglobin\", y=\"etytr\", levels=8, color=\"#3b6cce\", linewidth=.75)"
   ],
   "metadata": {
    "collapsed": false,
    "pycharm": {
     "name": "#%%\n"
    }
   }
  },
  {
   "cell_type": "markdown",
   "source": [
    "Po relatívne závislých atribútoch sme prešli k prípadom, kedy sa korelácie pohybujú v záporných\n",
    "hodnotách.\n",
    "\n",
    "### Erytrocyty a Leukocyty\n",
    "Ako prvú máme vykreslenú závislosť medzi atribútmi erytrocyty a leukocyty, ktorých hodnota korelácie\n",
    "sa blíži v rádoch stotín k nule.\n",
    "\n",
    "Nulová korelácia je pozorovateľná na grafe, keďže výskyt závislosti je roztrúsený v kruhovom tvare\n",
    "uprostred grafu."
   ],
   "metadata": {
    "collapsed": false,
    "pycharm": {
     "name": "#%% md\n"
    }
   }
  },
  {
   "cell_type": "code",
   "execution_count": 109,
   "outputs": [
    {
     "name": "stderr",
     "output_type": "stream",
     "text": [
      "/home/marko/PycharmProjects/IAU-Stahovec-Viest/venv/lib/python3.8/site-packages/seaborn/distributions.py:1210: UserWarning: The following kwargs were not used by contour: 'linewidth'\n",
      "  cset = contour_func(\n"
     ]
    },
    {
     "data": {
      "text/plain": "<AxesSubplot:xlabel='erytrocyty', ylabel='leukocyty'>"
     },
     "execution_count": 109,
     "metadata": {},
     "output_type": "execute_result"
    },
    {
     "data": {
      "text/plain": "<Figure size 432x432 with 1 Axes>",
      "image/png": "[encoded data removed]"
     },
     "metadata": {},
     "output_type": "display_data"
    }
   ],
   "source": [
    "# sns.scatterplot(data=data_labor, x=\"erytrocyty\", y=\"leukocyty\")\n",
    "\n",
    "plt.subplots(figsize=(6, 6))\n",
    "sns.scatterplot(data=data_labor, x=\"erytrocyty\", y=\"leukocyty\", s=5, color=\"#5e3c99\")\n",
    "sns.histplot(data=data_labor, x=\"erytrocyty\", y=\"leukocyty\", bins=50, pthresh=.1, cmap=\"viridis\", shrink=.4)\n",
    "sns.kdeplot(data=data_labor, x=\"erytrocyty\", y=\"leukocyty\", levels=8, color=\"#3b6cce\", linewidth=.75)"
   ],
   "metadata": {
    "collapsed": false,
    "pycharm": {
     "name": "#%%\n"
    }
   }
  },
  {
   "cell_type": "markdown",
   "source": [
    "### Erytrocyty a etytr\n",
    "Pri porovnaní atribútov **erytrocyty** a **etytr** pozorujeme stredne veľkú negatívnu koreláciu,\n",
    "keďže rozptyl dát je \"negatívne naklonený\", čo znamená, že pri rastúcej hodnote erytrocytov\n",
    "klesá hodnota atribútu etytr."
   ],
   "metadata": {
    "collapsed": false
   }
  },
  {
   "cell_type": "code",
   "execution_count": 110,
   "outputs": [
    {
     "ename": "KeyboardInterrupt",
     "evalue": "",
     "output_type": "error",
     "traceback": [
      "\u001B[0;31m---------------------------------------------------------------------------\u001B[0m",
      "\u001B[0;31mKeyboardInterrupt\u001B[0m                         Traceback (most recent call last)",
      "\u001B[0;32m/tmp/ipykernel_18176/4138465339.py\u001B[0m in \u001B[0;36m<module>\u001B[0;34m\u001B[0m\n\u001B[1;32m      2\u001B[0m \u001B[0msns\u001B[0m\u001B[0;34m.\u001B[0m\u001B[0mscatterplot\u001B[0m\u001B[0;34m(\u001B[0m\u001B[0mdata\u001B[0m\u001B[0;34m=\u001B[0m\u001B[0mdata_labor\u001B[0m\u001B[0;34m,\u001B[0m \u001B[0mx\u001B[0m\u001B[0;34m=\u001B[0m\u001B[0;34m\"erytrocyty\"\u001B[0m\u001B[0;34m,\u001B[0m \u001B[0my\u001B[0m\u001B[0;34m=\u001B[0m\u001B[0;34m\"etytr\"\u001B[0m\u001B[0;34m,\u001B[0m \u001B[0ms\u001B[0m\u001B[0;34m=\u001B[0m\u001B[0;36m5\u001B[0m\u001B[0;34m,\u001B[0m \u001B[0mcolor\u001B[0m\u001B[0;34m=\u001B[0m\u001B[0;34m\"#5e3c99\"\u001B[0m\u001B[0;34m)\u001B[0m\u001B[0;34m\u001B[0m\u001B[0;34m\u001B[0m\u001B[0m\n\u001B[1;32m      3\u001B[0m \u001B[0msns\u001B[0m\u001B[0;34m.\u001B[0m\u001B[0mhistplot\u001B[0m\u001B[0;34m(\u001B[0m\u001B[0mdata\u001B[0m\u001B[0;34m=\u001B[0m\u001B[0mdata_labor\u001B[0m\u001B[0;34m,\u001B[0m \u001B[0mx\u001B[0m\u001B[0;34m=\u001B[0m\u001B[0;34m\"erytrocyty\"\u001B[0m\u001B[0;34m,\u001B[0m \u001B[0my\u001B[0m\u001B[0;34m=\u001B[0m\u001B[0;34m\"etytr\"\u001B[0m\u001B[0;34m,\u001B[0m \u001B[0mbins\u001B[0m\u001B[0;34m=\u001B[0m\u001B[0;36m50\u001B[0m\u001B[0;34m,\u001B[0m \u001B[0mpthresh\u001B[0m\u001B[0;34m=\u001B[0m\u001B[0;36m.1\u001B[0m\u001B[0;34m,\u001B[0m \u001B[0mcmap\u001B[0m\u001B[0;34m=\u001B[0m\u001B[0;34m\"viridis\"\u001B[0m\u001B[0;34m,\u001B[0m \u001B[0mshrink\u001B[0m\u001B[0;34m=\u001B[0m\u001B[0;36m.4\u001B[0m\u001B[0;34m)\u001B[0m\u001B[0;34m\u001B[0m\u001B[0;34m\u001B[0m\u001B[0m\n\u001B[0;32m----> 4\u001B[0;31m \u001B[0msns\u001B[0m\u001B[0;34m.\u001B[0m\u001B[0mkdeplot\u001B[0m\u001B[0;34m(\u001B[0m\u001B[0mdata\u001B[0m\u001B[0;34m=\u001B[0m\u001B[0mdata_labor\u001B[0m\u001B[0;34m,\u001B[0m \u001B[0mx\u001B[0m\u001B[0;34m=\u001B[0m\u001B[0;34m\"erytrocyty\"\u001B[0m\u001B[0;34m,\u001B[0m \u001B[0my\u001B[0m\u001B[0;34m=\u001B[0m\u001B[0;34m\"etytr\"\u001B[0m\u001B[0;34m,\u001B[0m \u001B[0mlevels\u001B[0m\u001B[0;34m=\u001B[0m\u001B[0;36m8\u001B[0m\u001B[0;34m,\u001B[0m \u001B[0mcolor\u001B[0m\u001B[0;34m=\u001B[0m\u001B[0;34m\"#3b6cce\"\u001B[0m\u001B[0;34m,\u001B[0m \u001B[0mlinewidth\u001B[0m\u001B[0;34m=\u001B[0m\u001B[0;36m.75\u001B[0m\u001B[0;34m)\u001B[0m\u001B[0;34m\u001B[0m\u001B[0;34m\u001B[0m\u001B[0m\n\u001B[0m\u001B[1;32m      5\u001B[0m \u001B[0;34m\u001B[0m\u001B[0m\n",
      "\u001B[0;32m~/PycharmProjects/IAU-Stahovec-Viest/venv/lib/python3.8/site-packages/seaborn/_decorators.py\u001B[0m in \u001B[0;36minner_f\u001B[0;34m(*args, **kwargs)\u001B[0m\n\u001B[1;32m     44\u001B[0m             )\n\u001B[1;32m     45\u001B[0m         \u001B[0mkwargs\u001B[0m\u001B[0;34m.\u001B[0m\u001B[0mupdate\u001B[0m\u001B[0;34m(\u001B[0m\u001B[0;34m{\u001B[0m\u001B[0mk\u001B[0m\u001B[0;34m:\u001B[0m \u001B[0marg\u001B[0m \u001B[0;32mfor\u001B[0m \u001B[0mk\u001B[0m\u001B[0;34m,\u001B[0m \u001B[0marg\u001B[0m \u001B[0;32min\u001B[0m \u001B[0mzip\u001B[0m\u001B[0;34m(\u001B[0m\u001B[0msig\u001B[0m\u001B[0;34m.\u001B[0m\u001B[0mparameters\u001B[0m\u001B[0;34m,\u001B[0m \u001B[0margs\u001B[0m\u001B[0;34m)\u001B[0m\u001B[0;34m}\u001B[0m\u001B[0;34m)\u001B[0m\u001B[0;34m\u001B[0m\u001B[0;34m\u001B[0m\u001B[0m\n\u001B[0;32m---> 46\u001B[0;31m         \u001B[0;32mreturn\u001B[0m \u001B[0mf\u001B[0m\u001B[0;34m(\u001B[0m\u001B[0;34m**\u001B[0m\u001B[0mkwargs\u001B[0m\u001B[0;34m)\u001B[0m\u001B[0;34m\u001B[0m\u001B[0;34m\u001B[0m\u001B[0m\n\u001B[0m\u001B[1;32m     47\u001B[0m     \u001B[0;32mreturn\u001B[0m \u001B[0minner_f\u001B[0m\u001B[0;34m\u001B[0m\u001B[0;34m\u001B[0m\u001B[0m\n\u001B[1;32m     48\u001B[0m \u001B[0;34m\u001B[0m\u001B[0m\n",
      "\u001B[0;32m~/PycharmProjects/IAU-Stahovec-Viest/venv/lib/python3.8/site-packages/seaborn/distributions.py\u001B[0m in \u001B[0;36mkdeplot\u001B[0;34m(x, y, shade, vertical, kernel, bw, gridsize, cut, clip, legend, cumulative, shade_lowest, cbar, cbar_ax, cbar_kws, ax, weights, hue, palette, hue_order, hue_norm, multiple, common_norm, common_grid, levels, thresh, bw_method, bw_adjust, log_scale, color, fill, data, data2, warn_singular, **kwargs)\u001B[0m\n\u001B[1;32m   1781\u001B[0m     \u001B[0;32melse\u001B[0m\u001B[0;34m:\u001B[0m\u001B[0;34m\u001B[0m\u001B[0;34m\u001B[0m\u001B[0m\n\u001B[1;32m   1782\u001B[0m \u001B[0;34m\u001B[0m\u001B[0m\n\u001B[0;32m-> 1783\u001B[0;31m         p.plot_bivariate_density(\n\u001B[0m\u001B[1;32m   1784\u001B[0m             \u001B[0mcommon_norm\u001B[0m\u001B[0;34m=\u001B[0m\u001B[0mcommon_norm\u001B[0m\u001B[0;34m,\u001B[0m\u001B[0;34m\u001B[0m\u001B[0;34m\u001B[0m\u001B[0m\n\u001B[1;32m   1785\u001B[0m             \u001B[0mfill\u001B[0m\u001B[0;34m=\u001B[0m\u001B[0mfill\u001B[0m\u001B[0;34m,\u001B[0m\u001B[0;34m\u001B[0m\u001B[0;34m\u001B[0m\u001B[0m\n",
      "\u001B[0;32m~/PycharmProjects/IAU-Stahovec-Viest/venv/lib/python3.8/site-packages/seaborn/distributions.py\u001B[0m in \u001B[0;36mplot_bivariate_density\u001B[0;34m(self, common_norm, fill, levels, thresh, color, legend, cbar, warn_singular, cbar_ax, cbar_kws, estimate_kws, **contour_kws)\u001B[0m\n\u001B[1;32m   1109\u001B[0m             \u001B[0;31m# Estimate the density of observations at this level\u001B[0m\u001B[0;34m\u001B[0m\u001B[0;34m\u001B[0m\u001B[0;34m\u001B[0m\u001B[0m\n\u001B[1;32m   1110\u001B[0m             \u001B[0mobservations\u001B[0m \u001B[0;34m=\u001B[0m \u001B[0mobservations\u001B[0m\u001B[0;34m[\u001B[0m\u001B[0;34m\"x\"\u001B[0m\u001B[0;34m]\u001B[0m\u001B[0;34m,\u001B[0m \u001B[0mobservations\u001B[0m\u001B[0;34m[\u001B[0m\u001B[0;34m\"y\"\u001B[0m\u001B[0;34m]\u001B[0m\u001B[0;34m\u001B[0m\u001B[0;34m\u001B[0m\u001B[0m\n\u001B[0;32m-> 1111\u001B[0;31m             \u001B[0mdensity\u001B[0m\u001B[0;34m,\u001B[0m \u001B[0msupport\u001B[0m \u001B[0;34m=\u001B[0m \u001B[0mestimator\u001B[0m\u001B[0;34m(\u001B[0m\u001B[0;34m*\u001B[0m\u001B[0mobservations\u001B[0m\u001B[0;34m,\u001B[0m \u001B[0mweights\u001B[0m\u001B[0;34m=\u001B[0m\u001B[0mweights\u001B[0m\u001B[0;34m)\u001B[0m\u001B[0;34m\u001B[0m\u001B[0;34m\u001B[0m\u001B[0m\n\u001B[0m\u001B[1;32m   1112\u001B[0m \u001B[0;34m\u001B[0m\u001B[0m\n\u001B[1;32m   1113\u001B[0m             \u001B[0;31m# Transform the support grid back to the original scale\u001B[0m\u001B[0;34m\u001B[0m\u001B[0;34m\u001B[0m\u001B[0;34m\u001B[0m\u001B[0m\n",
      "\u001B[0;32m~/PycharmProjects/IAU-Stahovec-Viest/venv/lib/python3.8/site-packages/seaborn/_statistics.py\u001B[0m in \u001B[0;36m__call__\u001B[0;34m(self, x1, x2, weights)\u001B[0m\n\u001B[1;32m    187\u001B[0m             \u001B[0;32mreturn\u001B[0m \u001B[0mself\u001B[0m\u001B[0;34m.\u001B[0m\u001B[0m_eval_univariate\u001B[0m\u001B[0;34m(\u001B[0m\u001B[0mx1\u001B[0m\u001B[0;34m,\u001B[0m \u001B[0mweights\u001B[0m\u001B[0;34m)\u001B[0m\u001B[0;34m\u001B[0m\u001B[0;34m\u001B[0m\u001B[0m\n\u001B[1;32m    188\u001B[0m         \u001B[0;32melse\u001B[0m\u001B[0;34m:\u001B[0m\u001B[0;34m\u001B[0m\u001B[0;34m\u001B[0m\u001B[0m\n\u001B[0;32m--> 189\u001B[0;31m             \u001B[0;32mreturn\u001B[0m \u001B[0mself\u001B[0m\u001B[0;34m.\u001B[0m\u001B[0m_eval_bivariate\u001B[0m\u001B[0;34m(\u001B[0m\u001B[0mx1\u001B[0m\u001B[0;34m,\u001B[0m \u001B[0mx2\u001B[0m\u001B[0;34m,\u001B[0m \u001B[0mweights\u001B[0m\u001B[0;34m)\u001B[0m\u001B[0;34m\u001B[0m\u001B[0;34m\u001B[0m\u001B[0m\n\u001B[0m\u001B[1;32m    190\u001B[0m \u001B[0;34m\u001B[0m\u001B[0m\n\u001B[1;32m    191\u001B[0m \u001B[0;34m\u001B[0m\u001B[0m\n",
      "\u001B[0;32m~/PycharmProjects/IAU-Stahovec-Viest/venv/lib/python3.8/site-packages/seaborn/_statistics.py\u001B[0m in \u001B[0;36m_eval_bivariate\u001B[0;34m(self, x1, x2, weights)\u001B[0m\n\u001B[1;32m    178\u001B[0m \u001B[0;34m\u001B[0m\u001B[0m\n\u001B[1;32m    179\u001B[0m             \u001B[0mxx1\u001B[0m\u001B[0;34m,\u001B[0m \u001B[0mxx2\u001B[0m \u001B[0;34m=\u001B[0m \u001B[0mnp\u001B[0m\u001B[0;34m.\u001B[0m\u001B[0mmeshgrid\u001B[0m\u001B[0;34m(\u001B[0m\u001B[0;34m*\u001B[0m\u001B[0msupport\u001B[0m\u001B[0;34m)\u001B[0m\u001B[0;34m\u001B[0m\u001B[0;34m\u001B[0m\u001B[0m\n\u001B[0;32m--> 180\u001B[0;31m             \u001B[0mdensity\u001B[0m \u001B[0;34m=\u001B[0m \u001B[0mkde\u001B[0m\u001B[0;34m(\u001B[0m\u001B[0;34m[\u001B[0m\u001B[0mxx1\u001B[0m\u001B[0;34m.\u001B[0m\u001B[0mravel\u001B[0m\u001B[0;34m(\u001B[0m\u001B[0;34m)\u001B[0m\u001B[0;34m,\u001B[0m \u001B[0mxx2\u001B[0m\u001B[0;34m.\u001B[0m\u001B[0mravel\u001B[0m\u001B[0;34m(\u001B[0m\u001B[0;34m)\u001B[0m\u001B[0;34m]\u001B[0m\u001B[0;34m)\u001B[0m\u001B[0;34m.\u001B[0m\u001B[0mreshape\u001B[0m\u001B[0;34m(\u001B[0m\u001B[0mxx1\u001B[0m\u001B[0;34m.\u001B[0m\u001B[0mshape\u001B[0m\u001B[0;34m)\u001B[0m\u001B[0;34m\u001B[0m\u001B[0;34m\u001B[0m\u001B[0m\n\u001B[0m\u001B[1;32m    181\u001B[0m \u001B[0;34m\u001B[0m\u001B[0m\n\u001B[1;32m    182\u001B[0m         \u001B[0;32mreturn\u001B[0m \u001B[0mdensity\u001B[0m\u001B[0;34m,\u001B[0m \u001B[0msupport\u001B[0m\u001B[0;34m\u001B[0m\u001B[0;34m\u001B[0m\u001B[0m\n",
      "\u001B[0;32m~/PycharmProjects/IAU-Stahovec-Viest/venv/lib/python3.8/site-packages/scipy/stats/kde.py\u001B[0m in \u001B[0;36mevaluate\u001B[0;34m(self, points)\u001B[0m\n\u001B[1;32m    250\u001B[0m             raise TypeError('%s has unexpected item size %d' %\n\u001B[1;32m    251\u001B[0m                             (output_dtype, itemsize))\n\u001B[0;32m--> 252\u001B[0;31m         result = gaussian_kernel_estimate[spec](self.dataset.T, self.weights[:, None],\n\u001B[0m\u001B[1;32m    253\u001B[0m                                                 points.T, self.inv_cov, output_dtype)\n\u001B[1;32m    254\u001B[0m         \u001B[0;32mreturn\u001B[0m \u001B[0mresult\u001B[0m\u001B[0;34m[\u001B[0m\u001B[0;34m:\u001B[0m\u001B[0;34m,\u001B[0m \u001B[0;36m0\u001B[0m\u001B[0;34m]\u001B[0m\u001B[0;34m\u001B[0m\u001B[0;34m\u001B[0m\u001B[0m\n",
      "\u001B[0;31mKeyboardInterrupt\u001B[0m: "
     ]
    },
    {
     "data": {
      "text/plain": "<Figure size 432x432 with 1 Axes>",
      "image/png": "[encoded data removed]"
     },
     "metadata": {},
     "output_type": "display_data"
    }
   ],
   "source": [
    "plt.subplots(figsize=(6, 6))\n",
    "sns.scatterplot(data=data_labor, x=\"erytrocyty\", y=\"etytr\", s=5, color=\"#5e3c99\")\n",
    "sns.histplot(data=data_labor, x=\"erytrocyty\", y=\"etytr\", bins=50, pthresh=.1, cmap=\"viridis\", shrink=.4)\n",
    "sns.kdeplot(data=data_labor, x=\"erytrocyty\", y=\"etytr\", levels=8, color=\"#3b6cce\", linewidth=.75)"
   ],
   "metadata": {
    "collapsed": false,
    "pycharm": {
     "name": "#%%\n"
    }
   }
  },
  {
   "cell_type": "markdown",
   "source": [
    "### **Skúmanie závislostí medzi predikovanou premennou a ďalšími atribútmi**\n",
    "V tejto časti sa povenujeme **závislostiam medzi predikovanou premennou** a ostatnými premennými.\n",
    "Predikovaná premenná je v našom prípade **indicator**.\n",
    "\n",
    "### Indikátor a erytrocyty (0.36)\n",
    "\n",
    "Z heatmapy vieme vyčítať, že dvojica atribútov indikátor a erytrocyty je **mierne pozitívne závislá**.\n",
    "Tieto rozdiely sú badateľné na grafe nižšie, keďže zhluky dát sú zľahka rozdielne deformované a\n",
    "vertikálne posunuté."
   ],
   "metadata": {
    "collapsed": false
   }
  },
  {
   "cell_type": "code",
   "execution_count": null,
   "outputs": [],
   "source": [
    "with sns.axes_style('white'):\n",
    "    graph = sns.jointplot(\"indicator\", \"erytrocyty\", data=data_labor, kind='hex')\n",
    "    graph.plot_joint(sns.kdeplot, color=\"#5e5ce9\")\n",
    "    graph.plot_marginals(sns.rugplot, color=\"blue\", height=-.12, clip_on=False)"
   ],
   "metadata": {
    "collapsed": false,
    "pycharm": {
     "name": "#%%\n"
    }
   }
  },
  {
   "cell_type": "code",
   "execution_count": null,
   "outputs": [],
   "source": [
    "sns.violinplot(data=data_labor, x='indicator', y = 'erytrocyty')"
   ],
   "metadata": {
    "collapsed": false,
    "pycharm": {
     "name": "#%%\n"
    }
   }
  },
  {
   "cell_type": "markdown",
   "source": [
    "### Indikátor a hematokrit (0.69)\n",
    "\n",
    "Na tejto dvojici atribútov pozorujeme veľmi **silnú pozitívnu závislosť**, ktorá je viditeľná na oboch\n",
    "typoch grafov (violin plote aj joint plote). S nárastom hodnoty indikátoru z 0 na 1 výrazne rastie\n",
    "aj hodnota hematokritu."
   ],
   "metadata": {
    "collapsed": false
   }
  },
  {
   "cell_type": "code",
   "execution_count": null,
   "outputs": [],
   "source": [
    "with sns.axes_style('white'):\n",
    "    graph = sns.jointplot(\"indicator\", \"hematokrit\", data=data_labor, kind='hex')\n",
    "    graph.plot_joint(sns.kdeplot, color=\"#5e5ce9\")\n",
    "    graph.plot_marginals(sns.rugplot, color=\"blue\", height=-.12, clip_on=False)"
   ],
   "metadata": {
    "collapsed": false,
    "pycharm": {
     "name": "#%%\n"
    }
   }
  },
  {
   "cell_type": "code",
   "execution_count": null,
   "outputs": [],
   "source": [
    "sns.violinplot(data=data_labor, x='indicator', y = 'hematokrit')\n"
   ],
   "metadata": {
    "collapsed": false,
    "pycharm": {
     "name": "#%%\n"
    }
   }
  },
  {
   "cell_type": "markdown",
   "source": [
    "### Indikátor a trombocyty (0.027)\n",
    "\n",
    "**Takmer nulová závislosť** - hodnoty hematokritu sú takmer zhodné pre rôzne hodnoty indikátoru."
   ],
   "metadata": {
    "collapsed": false
   }
  },
  {
   "cell_type": "code",
   "execution_count": null,
   "outputs": [],
   "source": [
    "with sns.axes_style('white'):\n",
    "    graph = sns.jointplot(\"indicator\", \"trombocyty\", data=data_labor, kind='hex')\n",
    "    graph.plot_joint(sns.kdeplot, color=\"#5e5ce9\")\n",
    "    graph.plot_marginals(sns.rugplot, color=\"blue\", height=-.12, clip_on=False)"
   ],
   "metadata": {
    "collapsed": false,
    "pycharm": {
     "name": "#%%\n"
    }
   }
  },
  {
   "cell_type": "code",
   "execution_count": null,
   "outputs": [],
   "source": [
    "sns.violinplot(data=data_labor, x='indicator', y = 'trombocyty')"
   ],
   "metadata": {
    "collapsed": false,
    "pycharm": {
     "name": "#%%\n"
    }
   }
  },
  {
   "cell_type": "markdown",
   "source": [
    "### Indikátor a etytr (-0.38)\n",
    "\n",
    "**Mierne negatívna závislosť** je viditeľná tak, že pri náraste hodnoty indikátoru klesá\n",
    "hodnota atribútu etytr. Distribúcia pri rôznom indikátore je taktiež **odlišná**."
   ],
   "metadata": {
    "collapsed": false
   }
  },
  {
   "cell_type": "code",
   "execution_count": null,
   "outputs": [],
   "source": [
    "with sns.axes_style('white'):\n",
    "    graph = sns.jointplot(\"indicator\", \"etytr\", data=data_labor, kind='hex')\n",
    "    graph.plot_joint(sns.kdeplot, color=\"#5e5ce9\")\n",
    "    graph.plot_marginals(sns.rugplot, color=\"blue\", height=-.12, clip_on=False)"
   ],
   "metadata": {
    "collapsed": false,
    "pycharm": {
     "name": "#%%\n"
    }
   }
  },
  {
   "cell_type": "code",
   "execution_count": null,
   "outputs": [],
   "source": [
    "sns.violinplot(data=data_labor, x='indicator', y = 'etytr')"
   ],
   "metadata": {
    "collapsed": false,
    "pycharm": {
     "name": "#%%\n"
    }
   }
  },
  {
   "cell_type": "markdown",
   "source": [
    "## c) Formulácia a štatistické overenie hypotéz o dátach\n",
    "-------------------------------------------------------\n",
    "### Formulácia hypotéz\n",
    "\n",
    "#### 1. Hypotéza:\n",
    "##### (**H0**): Pacienti v lepšom stave majú rovnaké hodnoty erytrocytov v krvi ako pacienti\n",
    "##### v horšom stave.\n",
    "##### (**H1**): Pacienti v lepšom stave majú iné hodnoty erytrocytov v krvi ako pacienti\n",
    "##### v horšom stave.\n",
    "\n",
    "#### 2. Hypotéza:\n",
    "##### (**H0**): Pacienti v horšom stave majú hodnoty objemu krviniek (hematokrit) rovnaké\n",
    "##### ako pacienti v lepšom stave.\n",
    "##### (**H1**): Pacienti v horšom stave majú hodnoty objemu krviniek (hematokrit) rôzne\n",
    "##### ako pacienti v lepšom stave\n",
    "-------------------------------------------------------\n",
    "\n",
    "Tieto hypotézy sme si zvolili z toho dôvodu, že predchádzajúca časť nám naznačila tieto poznatky,\n",
    "z ktorých vychádzajú dané hypotézy. Pred samotným začiatkom štatistického overenia hypotéz\n",
    "vykreslíme zopár grafov, z ktorých zistíme, či sú dané **dáta vhodné** na použitie štatistických\n",
    "testov.\n",
    "\n",
    "#### 1. Hypotéza:\n",
    "\n",
    "V prvom boxenplote môžeme vidieť iný typ porovnania závislostí indikátora od erytrocytov, ako\n",
    "sme použili v predchádzajúcej časti, no výsledok je v podstate rovnaký.\n",
    "Pozorujeme miernu koreláciu medzi zvolenou dvojicou atribútov."
   ],
   "metadata": {
    "collapsed": false,
    "pycharm": {
     "name": "#%% md\n"
    }
   }
  },
  {
   "cell_type": "code",
   "execution_count": null,
   "outputs": [],
   "source": [
    "g = sns.boxenplot(data=data_labor, x='indicator', y = 'erytrocyty')"
   ],
   "metadata": {
    "collapsed": false,
    "pycharm": {
     "name": "#%%\n"
    }
   }
  },
  {
   "cell_type": "markdown",
   "source": [
    "Následne skontrolujeme atribúty indikátor a erytrocyty a ich hodnoty, napr. či sú ich distribúcie\n",
    "normálne alebo či ich dáta nezasahujú do záporných hodnôt, čo je z logického hľadiska nezmysel."
   ],
   "metadata": {
    "collapsed": false,
    "pycharm": {
     "name": "#%% md\n"
    }
   }
  },
  {
   "cell_type": "code",
   "execution_count": null,
   "outputs": [],
   "source": [
    "data_labor[['erytrocyty', 'indicator']].describe()"
   ],
   "metadata": {
    "collapsed": false,
    "pycharm": {
     "name": "#%%\n"
    }
   }
  },
  {
   "cell_type": "code",
   "execution_count": null,
   "outputs": [],
   "source": [
    "sns.distplot(data_labor[\"erytrocyty\"], kde=True, kde_kws={\"lw\": 1}, bins=32)\n",
    "# sns.histplot(data=data_labor, x=\"erytrocyty\", bins=24, kde=True)\n",
    "print(f\"[erytrocyty] Medián:  \", data_labor[\"erytrocyty\"].median())\n",
    "print(f\"[erytrocyty] Modus:   \", data_labor.mode()[\"erytrocyty\"][0])\n",
    "print(f\"[erytrocyty] Priemer: \", data_labor[\"erytrocyty\"].mean())\n",
    "print(f\"[erytrocyty] Rozptyl: \", np.var(data_labor[\"erytrocyty\"]))\n",
    "print(f\"[erytrocyty] Smerodajná odchylka: \", np.std(data_labor[\"erytrocyty\"]))"
   ],
   "metadata": {
    "collapsed": false,
    "pycharm": {
     "name": "#%%\n"
    }
   }
  },
  {
   "cell_type": "code",
   "execution_count": null,
   "outputs": [],
   "source": [
    "sns.distplot(data_labor[\"indicator\"], kde=True, kde_kws={\"lw\": 1}, bins=32)\n",
    "# sns.histplot(data=data_labor, x=\"erytrocyty\", bins=24, kde=True)\n",
    "print(f\"[indicator] Medián:  \", data_labor[\"indicator\"].median())\n",
    "print(f\"[indicator] Modus:   \", data_labor.mode()[\"indicator\"][0])\n",
    "print(f\"[indicator] Priemer: \", data_labor[\"indicator\"].mean())\n",
    "print(f\"[indicator] Rozptyl: \", np.var(data_labor[\"indicator\"]))\n",
    "print(f\"[indicator] Smerodajná odchylka: \", np.std(data_labor[\"indicator\"]))"
   ],
   "metadata": {
    "collapsed": false,
    "pycharm": {
     "name": "#%%\n"
    }
   }
  },
  {
   "cell_type": "markdown",
   "source": [
    "Z danej krátkej analýzy dvoch atribútov sme zistili, že hodnoty indikátora sú\n",
    "v očakávanej norme a hodnoty erytrocytov sú pre danú analýzu taktiež\n",
    "akceptovateľné.\n",
    "\n",
    "Následne sme rozdelili dataset do **dvoch podsetov podľa hodnoty indikátora**,\n",
    "aby sme mohli pracovať s našimi hypotézami.\n",
    "\n",
    "#### Delenie atribútov do dvoch setov podľa indikátora:"
   ],
   "metadata": {
    "collapsed": false,
    "pycharm": {
     "name": "#%% md\n"
    }
   }
  },
  {
   "cell_type": "code",
   "execution_count": null,
   "outputs": [],
   "source": [
    "data_0_erytrocyty = data_labor.loc[data_labor[\"indicator\"] == 0, \"erytrocyty\"]\n",
    "data_0_erytrocyty"
   ],
   "metadata": {
    "collapsed": false,
    "pycharm": {
     "name": "#%%\n"
    }
   }
  },
  {
   "cell_type": "code",
   "execution_count": null,
   "outputs": [],
   "source": [
    "sns.distplot(data_0_erytrocyty, kde=True, kde_kws={\"lw\": 1}, bins=32, label=\"Indicator 0\")\n",
    "plt.legend()"
   ],
   "metadata": {
    "collapsed": false,
    "pycharm": {
     "name": "#%%\n"
    }
   }
  },
  {
   "cell_type": "code",
   "execution_count": null,
   "outputs": [],
   "source": [
    "sm.qqplot(data_0_erytrocyty, fit=True, line=\"45\")\n",
    "plt.show()"
   ],
   "metadata": {
    "collapsed": false,
    "pycharm": {
     "name": "#%%\n"
    }
   }
  },
  {
   "cell_type": "code",
   "execution_count": null,
   "outputs": [],
   "source": [
    "data_1_erytrocyty = data_labor.loc[data_labor[\"indicator\"] == 1, \"erytrocyty\"]\n",
    "data_1_erytrocyty"
   ],
   "metadata": {
    "collapsed": false,
    "pycharm": {
     "name": "#%%\n"
    }
   }
  },
  {
   "cell_type": "code",
   "execution_count": null,
   "outputs": [],
   "source": [
    "sns.distplot(data_1_erytrocyty, kde=True, kde_kws={\"lw\": 1}, bins=32, label=\"Indicator 1\")\n",
    "plt.legend()"
   ],
   "metadata": {
    "collapsed": false,
    "pycharm": {
     "name": "#%%\n"
    }
   }
  },
  {
   "cell_type": "code",
   "execution_count": null,
   "outputs": [],
   "source": [
    "sm.qqplot(data_1_erytrocyty, fit=True, line=\"45\")\n",
    "plt.show()\n"
   ],
   "metadata": {
    "collapsed": false,
    "pycharm": {
     "name": "#%%\n"
    }
   }
  },
  {
   "cell_type": "markdown",
   "source": [
    "Aby sme dodržali korektnosť pri vykonávaní nasledujúcich testov, rozhodli sme sa\n",
    "z našich datasetov vybrať rovnako veľkú vzorku pre oba hodnoty indikátoru. Tým zaručíme\n",
    "aj použiteľnosť Shapiro-Wilkovho testu, ktorý je vhodný pre dáta do 5000 záznamov."
   ],
   "metadata": {
    "collapsed": false,
    "pycharm": {
     "name": "#%% md\n"
    }
   }
  },
  {
   "cell_type": "code",
   "execution_count": null,
   "outputs": [],
   "source": [
    "print(data_0_erytrocyty.count())\n",
    "print(data_1_erytrocyty.count())"
   ],
   "metadata": {
    "collapsed": false,
    "pycharm": {
     "name": "#%%\n"
    }
   }
  },
  {
   "cell_type": "markdown",
   "source": [
    "Kedže počet záznamov v dataframe data_0_erytrocyty **(3558)** je menší ako počet záznamov v\n",
    "dataframe data_1_erytrocyty **(6413)**, z data_1_erytrocyty vyberieme **toľko záznamov, koľko je v\n",
    "data_0_erytrocyty**"
   ],
   "metadata": {
    "collapsed": false,
    "pycharm": {
     "name": "#%% md\n"
    }
   }
  },
  {
   "cell_type": "code",
   "execution_count": null,
   "outputs": [],
   "source": [
    "data_1_erytrocyty = data_1_erytrocyty.sample(data_0_erytrocyty.count())\n",
    "print(data_0_erytrocyty.count())\n",
    "print(data_1_erytrocyty.count())"
   ],
   "metadata": {
    "collapsed": false,
    "pycharm": {
     "name": "#%%\n"
    }
   }
  },
  {
   "cell_type": "markdown",
   "source": [
    "Z predchádzajúcich grafov je nám naznačené, že **nepôjde o normálnu distribúciu**.\n",
    "Následne sme si vypočítali Cohenovo déčko, aby sme vedeli určiť silu nášho testu,\n",
    "resp. silu presvedčenia o výsledku, ktorý dostaneme v ďalších testoch.\n",
    "\n",
    "Výsledok je väčší ako učebnicová hodnota 0.75, čo znamená, že výsledok nášho testu\n",
    "bude dostatočne presvedčivý."
   ],
   "metadata": {
    "collapsed": false,
    "pycharm": {
     "name": "#%% md\n"
    }
   }
  },
  {
   "cell_type": "code",
   "source": [
    "def cohen_d(x1, x2):\n",
    "    nx1 = len(x1)\n",
    "    nx2 = len(x2)\n",
    "    s = np.sqrt(((nx1-1) * np.std(x1, ddof=1)**2 + (nx2-1) * np.std(x2, ddof=1)**2) / (nx1 + nx2 - 2))\n",
    "    return (np.abs(np.mean(x1) - np.mean(x2))) / s\n",
    "\n",
    "c_d_erytrocyty = cohen_d(data_0_erytrocyty, data_1_erytrocyty)\n",
    "c_d_erytrocyty"
   ],
   "metadata": {
    "collapsed": false,
    "pycharm": {
     "name": "#%%\n"
    }
   },
   "execution_count": null,
   "outputs": []
  },
  {
   "cell_type": "markdown",
   "source": [
    "\n",
    "Keďže sme si dáta rozdelili do dvoch setov podľa hypotézy, prešli sme na\n",
    "**overenie nulovej hypotézy**, aby sme sa uistili,\n",
    "že dáta pochádzajú z normálnej distribúcie.\n",
    "Predpokladali sme, že dáta budú pochádzať skôr z rôznych distribúcií ako normálnych.\n",
    "\n",
    "Na to nám slúži **Shapiro-Wilkov test**."
   ],
   "metadata": {
    "collapsed": false,
    "pycharm": {
     "name": "#%% md\n"
    }
   }
  },
  {
   "cell_type": "code",
   "source": [
    "sns.histplot(data=data_0_erytrocyty)\n",
    "alpha = 0.05\n",
    "shapiro_test = stats.shapiro(data_0_erytrocyty)\n",
    "print(shapiro_test.pvalue)\n",
    "\n",
    "if shapiro_test.pvalue > alpha:\n",
    "    print('Normálna distribúcia (fail to reject H0)')\n",
    "else:\n",
    "    print('Iná distribúcia (reject H0)')"
   ],
   "metadata": {
    "collapsed": false,
    "pycharm": {
     "name": "#%%\n"
    }
   },
   "execution_count": null,
   "outputs": []
  },
  {
   "cell_type": "code",
   "source": [
    "sns.histplot(data=data_1_erytrocyty)\n",
    "alpha = 0.05\n",
    "shapiro_test = stats.shapiro(data_1_erytrocyty)\n",
    "print(shapiro_test.pvalue)\n",
    "\n",
    "if shapiro_test.pvalue > alpha:\n",
    "    print('Normálna distribúcia (fail to reject H0)')\n",
    "else:\n",
    "    print('Iná distribúcia (reject H0)')"
   ],
   "metadata": {
    "collapsed": false,
    "pycharm": {
     "name": "#%%\n"
    }
   },
   "execution_count": null,
   "outputs": []
  },
  {
   "cell_type": "markdown",
   "source": [
    "Keďže podľa Shapiro-Wilkovho testu distribúcia oboch vzoriek **nepatrí\n",
    "do skupiny normálnych** a naše dáta sú nepárové, pokračujeme testom, ktorý sa\n",
    "nazýva **Mann-Whitneyho test**. Mann-Whitneyho test použijeme ako potvrdenie\n",
    "výsledku SW testu."
   ],
   "metadata": {
    "collapsed": false,
    "pycharm": {
     "name": "#%% md\n"
    }
   }
  },
  {
   "cell_type": "code",
   "source": [
    "alpha = 0.05\n",
    "stat, p = mannwhitneyu(data_0_erytrocyty, data_1_erytrocyty)\n",
    "print(p)\n",
    "\n",
    "if p > alpha:\n",
    "    print('Same distribution (fail to reject H0)')\n",
    "else:\n",
    "    print('Different distribution (reject H0)')"
   ],
   "metadata": {
    "collapsed": false,
    "pycharm": {
     "name": "#%%\n"
    }
   },
   "execution_count": null,
   "outputs": []
  },
  {
   "cell_type": "markdown",
   "source": [
    "#### Záver 1. hypotézy\n",
    "\n",
    "Mann-Whitneyho test potvrdil, že hypotézu **H0 môžeme zamietnuť**\n",
    "s dostatočnou mierou presvedčenia (aj kvôli Cohen's d), vďaka čomu\n",
    "môžeme tvrdiť, že pacienti v lepšom stave majú **nie rovnaké hodnoty erytrocytov**\n",
    "v krvi. Minimálne výsledné hodnoty oboch testov naznačujú fakt, že hypotéza\n",
    "H0 nie je konzistentná.\n"
   ],
   "metadata": {
    "collapsed": false,
    "pycharm": {
     "name": "#%% md\n"
    }
   }
  },
  {
   "cell_type": "markdown",
   "source": [
    "#### 2. Hypotéza:\n",
    "\n",
    "##### (**H0**): Pacienti v horšom stave majú hodnoty objemu krviniek (hematokrit) rovnaké\n",
    "##### ako pacienti v lepšom stave.\n",
    "##### (**H1**): Pacienti v horšom stave majú hodnoty objemu krviniek (hematokrit) rôzne\n",
    "##### ako pacienti v lepšom stave.\n",
    "-------------------------------------------------------\n",
    "\n",
    "Opäť sme začali iným typom zobrazenia závislostí medzi zvolenými atribútmi (tentokrát\n",
    "šlo o indikátor a hematokrit)."
   ],
   "metadata": {
    "collapsed": false,
    "pycharm": {
     "name": "#%% md\n"
    }
   }
  },
  {
   "cell_type": "code",
   "execution_count": null,
   "outputs": [],
   "source": [
    "g = sns.boxenplot(data=data_labor, x='indicator', y = 'hematokrit')"
   ],
   "metadata": {
    "collapsed": false,
    "pycharm": {
     "name": "#%%\n"
    }
   }
  },
  {
   "cell_type": "markdown",
   "source": [
    "Následne skontrolujeme atribúty indikátor a hematokrit a ich hodnoty, napr. či sú ich distribúcie\n",
    "normálne alebo či ich dáta nezasahujú do záporných hodnôt, čo je z logického hľadiska nezmysel."
   ],
   "metadata": {
    "collapsed": false
   }
  },
  {
   "cell_type": "code",
   "execution_count": null,
   "outputs": [],
   "source": [
    "data_labor[['hematokrit', 'indicator']].describe()"
   ],
   "metadata": {
    "collapsed": false,
    "pycharm": {
     "name": "#%%\n"
    }
   }
  },
  {
   "cell_type": "code",
   "execution_count": null,
   "outputs": [],
   "source": [
    "sns.distplot(data_labor[\"hematokrit\"], kde=True, kde_kws={\"lw\": 1}, bins=32)\n",
    "# sns.histplot(data=data_labor, x=\"erytrocyty\", bins=24, kde=True)\n",
    "print(f\"[hematokrit] Medián:  \", data_labor[\"hematokrit\"].median())\n",
    "print(f\"[hematokrit] Modus:   \", data_labor.mode()[\"hematokrit\"][0])\n",
    "print(f\"[hematokrit] Priemer: \", data_labor[\"hematokrit\"].mean())\n",
    "print(f\"[hematokrit] Rozptyl: \", np.var(data_labor[\"hematokrit\"]))\n",
    "print(f\"[hematokrit] Smerodajná odchylka: \", np.std(data_labor[\"hematokrit\"]))"
   ],
   "metadata": {
    "collapsed": false,
    "pycharm": {
     "name": "#%%\n"
    }
   }
  },
  {
   "cell_type": "code",
   "execution_count": null,
   "outputs": [],
   "source": [
    "sns.distplot(data_labor[\"indicator\"], kde=True, kde_kws={\"lw\": 1}, bins=32)\n",
    "# sns.histplot(data=data_labor, x=\"erytrocyty\", bins=24, kde=True)\n",
    "print(f\"[indicator] Medián:  \", data_labor[\"indicator\"].median())\n",
    "print(f\"[indicator] Modus:   \", data_labor.mode()[\"indicator\"][0])\n",
    "print(f\"[indicator] Priemer: \", data_labor[\"indicator\"].mean())\n",
    "print(f\"[indicator] Rozptyl: \", np.var(data_labor[\"indicator\"]))\n",
    "print(f\"[indicator] Smerodajná odchylka: \", np.std(data_labor[\"indicator\"]))"
   ],
   "metadata": {
    "collapsed": false,
    "pycharm": {
     "name": "#%%\n"
    }
   }
  },
  {
   "cell_type": "markdown",
   "source": [
    "Z tejto krátkej štatistickej analýzy sme zistili, že hodnoty oboch atribútov\n",
    "sa pohybujú v očakávaných intervaloch, no distribúcia hematokritu nám naznačila\n",
    "možný výsledok Shapiro-Wilkovho testu.\n",
    "\n",
    "Následne sme si rozdelili dataset do **dvoch podsetov podľa hodnoty indikátora**."
   ],
   "metadata": {
    "collapsed": false,
    "pycharm": {
     "name": "#%% md\n"
    }
   }
  },
  {
   "cell_type": "code",
   "execution_count": null,
   "outputs": [],
   "source": [
    "data_0_hematokrit = data_labor.loc[data_labor[\"indicator\"] == 0, \"hematokrit\"]\n",
    "data_0_hematokrit"
   ],
   "metadata": {
    "collapsed": false,
    "pycharm": {
     "name": "#%%\n"
    }
   }
  },
  {
   "cell_type": "code",
   "source": [
    "sns.distplot(data_0_hematokrit, kde=True, kde_kws={\"lw\": 1}, bins=32, label=\"Indicator 0\")\n",
    "plt.legend()"
   ],
   "metadata": {
    "collapsed": false,
    "pycharm": {
     "name": "#%%\n"
    }
   },
   "execution_count": null,
   "outputs": []
  },
  {
   "cell_type": "code",
   "source": [
    "sm.qqplot(data_0_hematokrit, fit=True, line=\"45\")\n",
    "plt.show()"
   ],
   "metadata": {
    "collapsed": false,
    "pycharm": {
     "name": "#%%\n"
    }
   },
   "execution_count": null,
   "outputs": []
  },
  {
   "cell_type": "code",
   "execution_count": null,
   "outputs": [],
   "source": [
    "data_1_hematokrit = data_labor.loc[data_labor[\"indicator\"] == 1, \"hematokrit\"]\n",
    "data_1_hematokrit"
   ],
   "metadata": {
    "collapsed": false,
    "pycharm": {
     "name": "#%%\n"
    }
   }
  },
  {
   "cell_type": "code",
   "execution_count": null,
   "outputs": [],
   "source": [
    "sns.distplot(data_1_hematokrit, kde=True, kde_kws={\"lw\": 1}, bins=32, label=\"Indicator 1\")\n",
    "plt.legend()"
   ],
   "metadata": {
    "collapsed": false,
    "pycharm": {
     "name": "#%%\n"
    }
   }
  },
  {
   "cell_type": "code",
   "execution_count": null,
   "outputs": [],
   "source": [
    "sm.qqplot(data_1_hematokrit, fit=True, line=\"45\")\n",
    "plt.show()"
   ],
   "metadata": {
    "collapsed": false,
    "pycharm": {
     "name": "#%%\n"
    }
   }
  },
  {
   "cell_type": "markdown",
   "source": [
    "Z daných dát je očividná **rozdielnosť** týchto dvoch vzoriek ako aj ich **distribúcia**,\n",
    "ktorá má od normálnosti pomerne ďaleko.\n",
    "\n",
    "Prešli sme k časti vybratia rovnako veľkej vzorky pre rôzne hodnoty predikovanej premennej.\n",
    "Dôvodom bolo opäť, zaručenie rovnakých podmienok\n",
    "pre nasledovné štatistické testy."
   ],
   "metadata": {
    "collapsed": false,
    "pycharm": {
     "name": "#%% md\n"
    }
   }
  },
  {
   "cell_type": "code",
   "execution_count": null,
   "outputs": [],
   "source": [
    "print(data_0_hematokrit.count())\n",
    "print(data_1_hematokrit.count())"
   ],
   "metadata": {
    "collapsed": false,
    "pycharm": {
     "name": "#%%\n"
    }
   }
  },
  {
   "cell_type": "markdown",
   "source": [
    "V tomto prípade rovnako ako v prípade erytrocytov je počet záznamov pre data_0_hematokrit **(3558)**\n",
    "nižší ako počet záznamov pre data_1_hematokrit **(6413)**, takže sme tiež vybrali z data_1_hematokrit\n",
    "rovanký počet záznamov ako pre data_0_hematokrit."
   ],
   "metadata": {
    "collapsed": false,
    "pycharm": {
     "name": "#%% md\n"
    }
   }
  },
  {
   "cell_type": "code",
   "execution_count": null,
   "outputs": [],
   "source": [
    "data_1_hematokrit = data_1_hematokrit.sample(data_0_hematokrit.count())\n",
    "data_1_hematokrit"
   ],
   "metadata": {
    "collapsed": false,
    "pycharm": {
     "name": "#%%\n"
    }
   }
  },
  {
   "cell_type": "code",
   "execution_count": null,
   "outputs": [],
   "source": [
    "print(data_0_hematokrit.count())\n",
    "print(data_1_hematokrit.count())"
   ],
   "metadata": {
    "collapsed": false,
    "pycharm": {
     "name": "#%%\n"
    }
   }
  },
  {
   "cell_type": "markdown",
   "source": [
    "Z predchádzajúcich grafov je jasné, že **nepôjde o normálnu distribúciu**.\n",
    "Následne sme prešli na výpočet **Cohen's d**."
   ],
   "metadata": {
    "collapsed": false
   }
  },
  {
   "cell_type": "code",
   "execution_count": null,
   "outputs": [],
   "source": [
    "c_d_hematokrit = cohen_d(data_0_hematokrit, data_1_hematokrit)\n",
    "c_d_hematokrit"
   ],
   "metadata": {
    "collapsed": false,
    "pycharm": {
     "name": "#%%\n"
    }
   }
  },
  {
   "cell_type": "markdown",
   "source": [
    "Výsledok je väčší ako učebnicová hodnota 1 a pohybuje sa okolo 2,\n",
    "čo znamená, že **rozdiel medzi priemermi našich dvoch datasetov je rádovo\n",
    "väčší ako 2 štandardné odchýlky**.\n",
    "\n",
    "Vďaka tejto informácií môžeme tvrdiť, že výsledok nasledujúcich testov je\n",
    "**veľmi dôveryhodný**."
   ],
   "metadata": {
    "collapsed": false
   }
  },
  {
   "cell_type": "markdown",
   "source": [
    "Shapiro-Wilkov test overíme aj napriek qq-plotom,\n",
    "aby sme si mohli byť istí, že nejde o normálnu distribúciu."
   ],
   "metadata": {
    "collapsed": false
   }
  },
  {
   "cell_type": "code",
   "execution_count": null,
   "outputs": [],
   "source": [
    "sns.histplot(data=data_0_hematokrit)\n",
    "alpha = 0.05\n",
    "shapiro_test = stats.shapiro(data_0_hematokrit)\n",
    "print(shapiro_test.pvalue)\n",
    "\n",
    "if shapiro_test.pvalue > alpha:\n",
    "    print('Normálna distribúcia (fail to reject H0)')\n",
    "else:\n",
    "    print('Iná distribúcia (reject H0)')"
   ],
   "metadata": {
    "collapsed": false,
    "pycharm": {
     "name": "#%%\n"
    }
   }
  },
  {
   "cell_type": "code",
   "execution_count": null,
   "outputs": [],
   "source": [
    "sns.histplot(data=data_1_hematokrit)\n",
    "alpha = 0.05\n",
    "shapiro_test = stats.shapiro(data_1_hematokrit)\n",
    "print(shapiro_test.pvalue)\n",
    "\n",
    "if shapiro_test.pvalue > alpha:\n",
    "    print('Normálna distribúcia (fail to reject H0)')\n",
    "else:\n",
    "    print('Iná distribúcia (reject H0)')"
   ],
   "metadata": {
    "collapsed": false,
    "pycharm": {
     "name": "#%%\n"
    }
   }
  },
  {
   "cell_type": "markdown",
   "source": [
    "Shapiro-Wilkov test nám vrátil **extrémne nízke p-hodnoty**, čo naznačuje vyvrátenie\n",
    "nulovej hypotézy. Daný predpoklad sme si ešte potvrdili **Mann-Whitneyho testom**\n",
    "v nasledujúcej bunke."
   ],
   "metadata": {
    "collapsed": false
   }
  },
  {
   "cell_type": "code",
   "execution_count": null,
   "outputs": [],
   "source": [
    "alpha = 0.05\n",
    "stat, p = mannwhitneyu(data_0_hematokrit, data_1_hematokrit)\n",
    "print(p)\n",
    "\n",
    "if p > alpha:\n",
    "    print('Same distribution (fail to reject H0)')\n",
    "else:\n",
    "    print('Different distribution (reject H0)')"
   ],
   "metadata": {
    "collapsed": false,
    "pycharm": {
     "name": "#%%\n"
    }
   }
  },
  {
   "cell_type": "markdown",
   "source": [
    "#### Záver 2. hypotézy\n",
    "\n",
    "Mann-Whitneyho test potvrdil, že hypotézu **H0 môžeme zamietnuť** v prospech H1.\n",
    "To znamená, že môžeme s dostatočným presvedčením predpokladať znenie alternatívnej\n",
    "hypotézy."
   ],
   "metadata": {
    "collapsed": false,
    "pycharm": {
     "name": "#%% md\n"
    }
   }
  },
  {
   "cell_type": "markdown",
   "source": [
    "## d) Identifikácia problémov v dátach s navrhnutým riešením\n",
    "-------------------------------------------------------\n",
    "### Identifikácia problémov"
   ],
   "metadata": {
    "collapsed": false
   }
  },
  {
   "cell_type": "markdown",
   "source": [
    "Táto sekcia prvej fázy je venovaná **čisteniu dát**, respektíve **hľadaniu problémov**\n",
    "v datasete s návrhom riešení pre dané problémy. Všetky navrhnuté zmeny sme zakomentovali,\n",
    "aby sme mali funkčný k dispozícii už do druhej fázy.\n",
    "\n",
    "Postupovali sme problém po probléme v oboch .csv súboroch naraz.\n",
    "\n",
    "### Nevhodná štruktúra dát\n",
    "\n",
    "Na úvod sme otvorili druhý .csv súbor s názvom profiles.csv a vykonali sme základné\n",
    "úpravy ako aj pri labor.csv na začiatku notebooku (vyhodenie prvého stĺpca, kde sú len\n",
    "čísla)."
   ],
   "metadata": {
    "collapsed": false,
    "pycharm": {
     "name": "#%% md\n"
    }
   }
  },
  {
   "cell_type": "code",
   "execution_count": 111,
   "outputs": [
    {
     "data": {
      "text/plain": "                 birthdate                                            address  \\\n0               1956/01/07           76379 Lynn Drive\\nKevinchester, VA 69374   \n1     10/28/1984, 00:00:00                   PSC 8195, Box 7465\\nAPO AP 27883   \n2               1966-08-30  3345 Daniels Parks Suite 080\\nNew Nancy, TX 84969   \n3               1910/08/08   3368 Brent Mall Suite 782\\nPort Cheryl, WV 04259   \n4               1972-10-28       175 Michael Neck\\nSouth Nicoleberg, PA 96022   \n...                    ...                                                ...   \n3123            1988/07/28           54115 Shelia Mall\\nPerkinsland, CT 29608   \n3124            1948-05-03                         USCGC Bowman\\nFPO AP 06685   \n3125            1935/11/18      616 John Pass Apt. 345\\nBurnetttown, AZ 24833   \n3126  12/31/2003, 00:00:00                          USCGC Baker\\nFPO AE 40268   \n3127            1961-01-02            3290 Aimee Flats\\nStewartberg, ID 51104   \n\n       race                                  current_location blood_group  \\\n0     Asian    (Decimal('44.490493'), Decimal('-141.873900'))          A-   \n1     White   (Decimal('-60.5512795'), Decimal('101.998999'))          B+   \n2     Asian   (Decimal('-24.9800585'), Decimal('-18.208792'))          A-   \n3     black     (Decimal('51.679296'), Decimal('-96.270056'))          O+   \n4     White  (Decimal('-85.5392635'), Decimal('-154.434283'))          O+   \n...     ...                                               ...         ...   \n3123  White    (Decimal('-7.930086'), Decimal('-151.534279'))          O-   \n3124  White    (Decimal('50.0322335'), Decimal('166.727247'))         AB-   \n3125  Asian   (Decimal('-35.8693315'), Decimal('111.435733'))         AB-   \n3126  White    (Decimal('-31.539476'), Decimal('162.149407'))          O-   \n3127  White      (Decimal('2.742912'), Decimal('104.607427'))         AB+   \n\n              ssn                name sex  \\\n0     328-14-6945      Michelle Perez   F   \n1     841-17-8814  Christopher Bishop   M   \n2     871-67-9396       Emily Stevens   F   \n3     859-80-8937     Carla Hernandez   F   \n4     481-92-7602       Anthony Smith   M   \n...           ...                 ...  ..   \n3123  420-58-2110        David Willis   M   \n3124  298-66-4795        Jeffrey Sims   M   \n3125  716-72-0406      Thomas Kennedy   M   \n3126  678-62-0044     Bradley Barrett   M   \n3127  171-66-5107      Mitchell Ellis   M   \n\n                                              residence  \n0     39446 Gabrielle Pass Suite 764\\nEast Danielle,...  \n1             18019 Mary Mountains\\nScottport, IA 19641  \n2              4906 Matthew Field\\nGalvanfort, SC 22896  \n3                         USCGC Schroeder\\nFPO AE 57164  \n4             2148 Webb Valley\\nNorth Madison, KS 07434  \n...                                                 ...  \n3123  5488 Michelle Crescent Apt. 782\\nMelissatown, ...  \n3124  559 Kenneth Track Suite 021\\nEast Ashley, TX 6...  \n3125           466 Ryan Stravenue\\nGalvanbury, AZ 98577  \n3126         653 Dixon Loaf\\nSouth Branditown, TX 58506  \n3127           864 Clarke Pike\\nNew Tammyfort, OH 32226  \n\n[3128 rows x 9 columns]",
      "text/html": "<div>\n<style scoped>\n    .dataframe tbody tr th:only-of-type {\n        vertical-align: middle;\n    }\n\n    .dataframe tbody tr th {\n        vertical-align: top;\n    }\n\n    .dataframe thead th {\n        text-align: right;\n    }\n</style>\n<table border=\"1\" class=\"dataframe\">\n  <thead>\n    <tr style=\"text-align: right;\">\n      <th></th>\n      <th>birthdate</th>\n      <th>address</th>\n      <th>race</th>\n      <th>current_location</th>\n      <th>blood_group</th>\n      <th>ssn</th>\n      <th>name</th>\n      <th>sex</th>\n      <th>residence</th>\n    </tr>\n  </thead>\n  <tbody>\n    <tr>\n      <th>0</th>\n      <td>1956/01/07</td>\n      <td>76379 Lynn Drive\\nKevinchester, VA 69374</td>\n      <td>Asian</td>\n      <td>(Decimal('44.490493'), Decimal('-141.873900'))</td>\n      <td>A-</td>\n      <td>328-14-6945</td>\n      <td>Michelle Perez</td>\n      <td>F</td>\n      <td>39446 Gabrielle Pass Suite 764\\nEast Danielle,...</td>\n    </tr>\n    <tr>\n      <th>1</th>\n      <td>10/28/1984, 00:00:00</td>\n      <td>PSC 8195, Box 7465\\nAPO AP 27883</td>\n      <td>White</td>\n      <td>(Decimal('-60.5512795'), Decimal('101.998999'))</td>\n      <td>B+</td>\n      <td>841-17-8814</td>\n      <td>Christopher Bishop</td>\n      <td>M</td>\n      <td>18019 Mary Mountains\\nScottport, IA 19641</td>\n    </tr>\n    <tr>\n      <th>2</th>\n      <td>1966-08-30</td>\n      <td>3345 Daniels Parks Suite 080\\nNew Nancy, TX 84969</td>\n      <td>Asian</td>\n      <td>(Decimal('-24.9800585'), Decimal('-18.208792'))</td>\n      <td>A-</td>\n      <td>871-67-9396</td>\n      <td>Emily Stevens</td>\n      <td>F</td>\n      <td>4906 Matthew Field\\nGalvanfort, SC 22896</td>\n    </tr>\n    <tr>\n      <th>3</th>\n      <td>1910/08/08</td>\n      <td>3368 Brent Mall Suite 782\\nPort Cheryl, WV 04259</td>\n      <td>black</td>\n      <td>(Decimal('51.679296'), Decimal('-96.270056'))</td>\n      <td>O+</td>\n      <td>859-80-8937</td>\n      <td>Carla Hernandez</td>\n      <td>F</td>\n      <td>USCGC Schroeder\\nFPO AE 57164</td>\n    </tr>\n    <tr>\n      <th>4</th>\n      <td>1972-10-28</td>\n      <td>175 Michael Neck\\nSouth Nicoleberg, PA 96022</td>\n      <td>White</td>\n      <td>(Decimal('-85.5392635'), Decimal('-154.434283'))</td>\n      <td>O+</td>\n      <td>481-92-7602</td>\n      <td>Anthony Smith</td>\n      <td>M</td>\n      <td>2148 Webb Valley\\nNorth Madison, KS 07434</td>\n    </tr>\n    <tr>\n      <th>...</th>\n      <td>...</td>\n      <td>...</td>\n      <td>...</td>\n      <td>...</td>\n      <td>...</td>\n      <td>...</td>\n      <td>...</td>\n      <td>...</td>\n      <td>...</td>\n    </tr>\n    <tr>\n      <th>3123</th>\n      <td>1988/07/28</td>\n      <td>54115 Shelia Mall\\nPerkinsland, CT 29608</td>\n      <td>White</td>\n      <td>(Decimal('-7.930086'), Decimal('-151.534279'))</td>\n      <td>O-</td>\n      <td>420-58-2110</td>\n      <td>David Willis</td>\n      <td>M</td>\n      <td>5488 Michelle Crescent Apt. 782\\nMelissatown, ...</td>\n    </tr>\n    <tr>\n      <th>3124</th>\n      <td>1948-05-03</td>\n      <td>USCGC Bowman\\nFPO AP 06685</td>\n      <td>White</td>\n      <td>(Decimal('50.0322335'), Decimal('166.727247'))</td>\n      <td>AB-</td>\n      <td>298-66-4795</td>\n      <td>Jeffrey Sims</td>\n      <td>M</td>\n      <td>559 Kenneth Track Suite 021\\nEast Ashley, TX 6...</td>\n    </tr>\n    <tr>\n      <th>3125</th>\n      <td>1935/11/18</td>\n      <td>616 John Pass Apt. 345\\nBurnetttown, AZ 24833</td>\n      <td>Asian</td>\n      <td>(Decimal('-35.8693315'), Decimal('111.435733'))</td>\n      <td>AB-</td>\n      <td>716-72-0406</td>\n      <td>Thomas Kennedy</td>\n      <td>M</td>\n      <td>466 Ryan Stravenue\\nGalvanbury, AZ 98577</td>\n    </tr>\n    <tr>\n      <th>3126</th>\n      <td>12/31/2003, 00:00:00</td>\n      <td>USCGC Baker\\nFPO AE 40268</td>\n      <td>White</td>\n      <td>(Decimal('-31.539476'), Decimal('162.149407'))</td>\n      <td>O-</td>\n      <td>678-62-0044</td>\n      <td>Bradley Barrett</td>\n      <td>M</td>\n      <td>653 Dixon Loaf\\nSouth Branditown, TX 58506</td>\n    </tr>\n    <tr>\n      <th>3127</th>\n      <td>1961-01-02</td>\n      <td>3290 Aimee Flats\\nStewartberg, ID 51104</td>\n      <td>White</td>\n      <td>(Decimal('2.742912'), Decimal('104.607427'))</td>\n      <td>AB+</td>\n      <td>171-66-5107</td>\n      <td>Mitchell Ellis</td>\n      <td>M</td>\n      <td>864 Clarke Pike\\nNew Tammyfort, OH 32226</td>\n    </tr>\n  </tbody>\n</table>\n<p>3128 rows × 9 columns</p>\n</div>"
     },
     "execution_count": 111,
     "metadata": {},
     "output_type": "execute_result"
    }
   ],
   "source": [
    "data_profiles = pd.read_csv(\"dataset/profiles.csv\", sep=\"\\t\")\n",
    "data_profiles = data_profiles.iloc[:, 1:]\n",
    "data_profiles"
   ],
   "metadata": {
    "collapsed": false,
    "pycharm": {
     "name": "#%%\n"
    }
   }
  },
  {
   "cell_type": "markdown",
   "source": [
    "Pred samotnou úpravou nevhodných štruktúr dát sme si vypísali prvých 20 záznamov,\n",
    "na ktorých sme sa pokúsili detekovať abnormality v ich štruktúre zápisu.\n",
    "Dataset data_labor bol z tohto ohľadu v poriadku."
   ],
   "metadata": {
    "collapsed": false
   }
  },
  {
   "cell_type": "code",
   "execution_count": null,
   "outputs": [],
   "source": [
    "data_labor.head(20)"
   ],
   "metadata": {
    "collapsed": false,
    "pycharm": {
     "name": "#%%\n"
    }
   }
  },
  {
   "cell_type": "code",
   "execution_count": null,
   "outputs": [],
   "source": [
    "data_profiles.head(20)"
   ],
   "metadata": {
    "collapsed": false,
    "pycharm": {
     "name": "#%%\n"
    }
   }
  },
  {
   "cell_type": "markdown",
   "source": [
    "V data_profiles sme si všimli hneď niekoľko problémov v našich záznamoch. Prvý z nich\n",
    "bol hneď v atribúte birthdate, kde bol dátum narodenia zapísaný niekoľkými rôznymi\n",
    "spôsobmi.\n",
    "\n",
    "Ďalšia nezrovnalosť bola v atribútoch address a residence, kde sa v záznamoch nachádzali\n",
    "znaky pre nový riadok a ďalšie formátovacie znaky typu \\r apod.\n",
    "\n",
    "Poslednou chybou v rámci pozorovania prirodzeného jazyka boli záznamy pre current_location,\n",
    "ktoré mali nevhodný formát.\n",
    "\n",
    "Naše navrhnuté riešenia sú zakomentované nižšie.\n",
    "\n",
    "* Pre atribút birthdate navrhujeme použitie predefinovaného pandas formátu, ktorý\n",
    "by v takomto prípade nahradil všetky rozličné formáty jednotným.\n",
    "* Pre atribúty currect_location, address a residence možno použiť nahradzovanie\n",
    "regulárnym výrazom a vstavanou metódou replace(), ktorou by sa nahradili všetky\n",
    "nechcené znaky, ktoré sa v záznamoch nachádzajú."
   ],
   "metadata": {
    "collapsed": false,
    "pycharm": {
     "name": "#%% md\n"
    }
   }
  },
  {
   "cell_type": "code",
   "execution_count": null,
   "outputs": [],
   "source": [
    "# data_profiles[[\"birthdate\"]] = data_profiles[[\"birthdate\"]].apply(pd.to_datetime)"
   ],
   "metadata": {
    "collapsed": false,
    "pycharm": {
     "name": "#%%\n"
    }
   }
  },
  {
   "cell_type": "code",
   "execution_count": 61,
   "outputs": [
    {
     "data": {
      "text/plain": "                 birthdate                                            address  \\\n0               1956/01/07           76379 Lynn Drive\\nKevinchester, VA 69374   \n1     10/28/1984, 00:00:00                   PSC 8195, Box 7465\\nAPO AP 27883   \n2               1966-08-30  3345 Daniels Parks Suite 080\\nNew Nancy, TX 84969   \n3               1910/08/08   3368 Brent Mall Suite 782\\nPort Cheryl, WV 04259   \n4               1972-10-28       175 Michael Neck\\nSouth Nicoleberg, PA 96022   \n...                    ...                                                ...   \n3123            1988/07/28           54115 Shelia Mall\\nPerkinsland, CT 29608   \n3124            1948-05-03                         USCGC Bowman\\nFPO AP 06685   \n3125            1935/11/18      616 John Pass Apt. 345\\nBurnetttown, AZ 24833   \n3126  12/31/2003, 00:00:00                          USCGC Baker\\nFPO AE 40268   \n3127            1961-01-02            3290 Aimee Flats\\nStewartberg, ID 51104   \n\n       race          current_location blood_group          ssn  \\\n0     Asian    44.490493, -141.873900          A-  328-14-6945   \n1     White   -60.5512795, 101.998999          B+  841-17-8814   \n2     Asian   -24.9800585, -18.208792          A-  871-67-9396   \n3     black     51.679296, -96.270056          O+  859-80-8937   \n4     White  -85.5392635, -154.434283          O+  481-92-7602   \n...     ...                       ...         ...          ...   \n3123  White    -7.930086, -151.534279          O-  420-58-2110   \n3124  White    50.0322335, 166.727247         AB-  298-66-4795   \n3125  Asian   -35.8693315, 111.435733         AB-  716-72-0406   \n3126  White    -31.539476, 162.149407          O-  678-62-0044   \n3127  White      2.742912, 104.607427         AB+  171-66-5107   \n\n                    name sex  \\\n0         Michelle Perez   F   \n1     Christopher Bishop   M   \n2          Emily Stevens   F   \n3        Carla Hernandez   F   \n4          Anthony Smith   M   \n...                  ...  ..   \n3123        David Willis   M   \n3124        Jeffrey Sims   M   \n3125      Thomas Kennedy   M   \n3126     Bradley Barrett   M   \n3127      Mitchell Ellis   M   \n\n                                              residence  \n0     39446 Gabrielle Pass Suite 764\\nEast Danielle,...  \n1             18019 Mary Mountains\\nScottport, IA 19641  \n2              4906 Matthew Field\\nGalvanfort, SC 22896  \n3                         USCGC Schroeder\\nFPO AE 57164  \n4             2148 Webb Valley\\nNorth Madison, KS 07434  \n...                                                 ...  \n3123  5488 Michelle Crescent Apt. 782\\nMelissatown, ...  \n3124  559 Kenneth Track Suite 021\\nEast Ashley, TX 6...  \n3125           466 Ryan Stravenue\\nGalvanbury, AZ 98577  \n3126         653 Dixon Loaf\\nSouth Branditown, TX 58506  \n3127           864 Clarke Pike\\nNew Tammyfort, OH 32226  \n\n[3128 rows x 9 columns]",
      "text/html": "<div>\n<style scoped>\n    .dataframe tbody tr th:only-of-type {\n        vertical-align: middle;\n    }\n\n    .dataframe tbody tr th {\n        vertical-align: top;\n    }\n\n    .dataframe thead th {\n        text-align: right;\n    }\n</style>\n<table border=\"1\" class=\"dataframe\">\n  <thead>\n    <tr style=\"text-align: right;\">\n      <th></th>\n      <th>birthdate</th>\n      <th>address</th>\n      <th>race</th>\n      <th>current_location</th>\n      <th>blood_group</th>\n      <th>ssn</th>\n      <th>name</th>\n      <th>sex</th>\n      <th>residence</th>\n    </tr>\n  </thead>\n  <tbody>\n    <tr>\n      <th>0</th>\n      <td>1956/01/07</td>\n      <td>76379 Lynn Drive\\nKevinchester, VA 69374</td>\n      <td>Asian</td>\n      <td>44.490493, -141.873900</td>\n      <td>A-</td>\n      <td>328-14-6945</td>\n      <td>Michelle Perez</td>\n      <td>F</td>\n      <td>39446 Gabrielle Pass Suite 764\\nEast Danielle,...</td>\n    </tr>\n    <tr>\n      <th>1</th>\n      <td>10/28/1984, 00:00:00</td>\n      <td>PSC 8195, Box 7465\\nAPO AP 27883</td>\n      <td>White</td>\n      <td>-60.5512795, 101.998999</td>\n      <td>B+</td>\n      <td>841-17-8814</td>\n      <td>Christopher Bishop</td>\n      <td>M</td>\n      <td>18019 Mary Mountains\\nScottport, IA 19641</td>\n    </tr>\n    <tr>\n      <th>2</th>\n      <td>1966-08-30</td>\n      <td>3345 Daniels Parks Suite 080\\nNew Nancy, TX 84969</td>\n      <td>Asian</td>\n      <td>-24.9800585, -18.208792</td>\n      <td>A-</td>\n      <td>871-67-9396</td>\n      <td>Emily Stevens</td>\n      <td>F</td>\n      <td>4906 Matthew Field\\nGalvanfort, SC 22896</td>\n    </tr>\n    <tr>\n      <th>3</th>\n      <td>1910/08/08</td>\n      <td>3368 Brent Mall Suite 782\\nPort Cheryl, WV 04259</td>\n      <td>black</td>\n      <td>51.679296, -96.270056</td>\n      <td>O+</td>\n      <td>859-80-8937</td>\n      <td>Carla Hernandez</td>\n      <td>F</td>\n      <td>USCGC Schroeder\\nFPO AE 57164</td>\n    </tr>\n    <tr>\n      <th>4</th>\n      <td>1972-10-28</td>\n      <td>175 Michael Neck\\nSouth Nicoleberg, PA 96022</td>\n      <td>White</td>\n      <td>-85.5392635, -154.434283</td>\n      <td>O+</td>\n      <td>481-92-7602</td>\n      <td>Anthony Smith</td>\n      <td>M</td>\n      <td>2148 Webb Valley\\nNorth Madison, KS 07434</td>\n    </tr>\n    <tr>\n      <th>...</th>\n      <td>...</td>\n      <td>...</td>\n      <td>...</td>\n      <td>...</td>\n      <td>...</td>\n      <td>...</td>\n      <td>...</td>\n      <td>...</td>\n      <td>...</td>\n    </tr>\n    <tr>\n      <th>3123</th>\n      <td>1988/07/28</td>\n      <td>54115 Shelia Mall\\nPerkinsland, CT 29608</td>\n      <td>White</td>\n      <td>-7.930086, -151.534279</td>\n      <td>O-</td>\n      <td>420-58-2110</td>\n      <td>David Willis</td>\n      <td>M</td>\n      <td>5488 Michelle Crescent Apt. 782\\nMelissatown, ...</td>\n    </tr>\n    <tr>\n      <th>3124</th>\n      <td>1948-05-03</td>\n      <td>USCGC Bowman\\nFPO AP 06685</td>\n      <td>White</td>\n      <td>50.0322335, 166.727247</td>\n      <td>AB-</td>\n      <td>298-66-4795</td>\n      <td>Jeffrey Sims</td>\n      <td>M</td>\n      <td>559 Kenneth Track Suite 021\\nEast Ashley, TX 6...</td>\n    </tr>\n    <tr>\n      <th>3125</th>\n      <td>1935/11/18</td>\n      <td>616 John Pass Apt. 345\\nBurnetttown, AZ 24833</td>\n      <td>Asian</td>\n      <td>-35.8693315, 111.435733</td>\n      <td>AB-</td>\n      <td>716-72-0406</td>\n      <td>Thomas Kennedy</td>\n      <td>M</td>\n      <td>466 Ryan Stravenue\\nGalvanbury, AZ 98577</td>\n    </tr>\n    <tr>\n      <th>3126</th>\n      <td>12/31/2003, 00:00:00</td>\n      <td>USCGC Baker\\nFPO AE 40268</td>\n      <td>White</td>\n      <td>-31.539476, 162.149407</td>\n      <td>O-</td>\n      <td>678-62-0044</td>\n      <td>Bradley Barrett</td>\n      <td>M</td>\n      <td>653 Dixon Loaf\\nSouth Branditown, TX 58506</td>\n    </tr>\n    <tr>\n      <th>3127</th>\n      <td>1961-01-02</td>\n      <td>3290 Aimee Flats\\nStewartberg, ID 51104</td>\n      <td>White</td>\n      <td>2.742912, 104.607427</td>\n      <td>AB+</td>\n      <td>171-66-5107</td>\n      <td>Mitchell Ellis</td>\n      <td>M</td>\n      <td>864 Clarke Pike\\nNew Tammyfort, OH 32226</td>\n    </tr>\n  </tbody>\n</table>\n<p>3128 rows × 9 columns</p>\n</div>"
     },
     "execution_count": 61,
     "metadata": {},
     "output_type": "execute_result"
    }
   ],
   "source": [
    "# data_profiles[\"current_location\"] = data_profiles[\"current_location\"].str.replace(r\"[A-Za-z]\", \"\", regex=True)\n",
    "# data_profiles[\"current_location\"] = data_profiles[\"current_location\"].str.replace(r\"[()']\", \"\", regex=True)\n",
    "# data_profiles"
   ],
   "metadata": {
    "collapsed": false,
    "pycharm": {
     "name": "#%%\n"
    }
   }
  },
  {
   "cell_type": "code",
   "execution_count": 62,
   "outputs": [
    {
     "data": {
      "text/plain": "                 birthdate                                           address  \\\n0               1956/01/07           76379 Lynn Drive Kevinchester, VA 69374   \n1     10/28/1984, 00:00:00                   PSC 8195, Box 7465 APO AP 27883   \n2               1966-08-30  3345 Daniels Parks Suite 080 New Nancy, TX 84969   \n3               1910/08/08   3368 Brent Mall Suite 782 Port Cheryl, WV 04259   \n4               1972-10-28       175 Michael Neck South Nicoleberg, PA 96022   \n...                    ...                                               ...   \n3123            1988/07/28           54115 Shelia Mall Perkinsland, CT 29608   \n3124            1948-05-03                         USCGC Bowman FPO AP 06685   \n3125            1935/11/18      616 John Pass Apt. 345 Burnetttown, AZ 24833   \n3126  12/31/2003, 00:00:00                          USCGC Baker FPO AE 40268   \n3127            1961-01-02            3290 Aimee Flats Stewartberg, ID 51104   \n\n       race          current_location blood_group          ssn  \\\n0     Asian    44.490493, -141.873900          A-  328-14-6945   \n1     White   -60.5512795, 101.998999          B+  841-17-8814   \n2     Asian   -24.9800585, -18.208792          A-  871-67-9396   \n3     black     51.679296, -96.270056          O+  859-80-8937   \n4     White  -85.5392635, -154.434283          O+  481-92-7602   \n...     ...                       ...         ...          ...   \n3123  White    -7.930086, -151.534279          O-  420-58-2110   \n3124  White    50.0322335, 166.727247         AB-  298-66-4795   \n3125  Asian   -35.8693315, 111.435733         AB-  716-72-0406   \n3126  White    -31.539476, 162.149407          O-  678-62-0044   \n3127  White      2.742912, 104.607427         AB+  171-66-5107   \n\n                    name sex  \\\n0         Michelle Perez   F   \n1     Christopher Bishop   M   \n2          Emily Stevens   F   \n3        Carla Hernandez   F   \n4          Anthony Smith   M   \n...                  ...  ..   \n3123        David Willis   M   \n3124        Jeffrey Sims   M   \n3125      Thomas Kennedy   M   \n3126     Bradley Barrett   M   \n3127      Mitchell Ellis   M   \n\n                                              residence  \n0     39446 Gabrielle Pass Suite 764\\nEast Danielle,...  \n1             18019 Mary Mountains\\nScottport, IA 19641  \n2              4906 Matthew Field\\nGalvanfort, SC 22896  \n3                         USCGC Schroeder\\nFPO AE 57164  \n4             2148 Webb Valley\\nNorth Madison, KS 07434  \n...                                                 ...  \n3123  5488 Michelle Crescent Apt. 782\\nMelissatown, ...  \n3124  559 Kenneth Track Suite 021\\nEast Ashley, TX 6...  \n3125           466 Ryan Stravenue\\nGalvanbury, AZ 98577  \n3126         653 Dixon Loaf\\nSouth Branditown, TX 58506  \n3127           864 Clarke Pike\\nNew Tammyfort, OH 32226  \n\n[3128 rows x 9 columns]",
      "text/html": "<div>\n<style scoped>\n    .dataframe tbody tr th:only-of-type {\n        vertical-align: middle;\n    }\n\n    .dataframe tbody tr th {\n        vertical-align: top;\n    }\n\n    .dataframe thead th {\n        text-align: right;\n    }\n</style>\n<table border=\"1\" class=\"dataframe\">\n  <thead>\n    <tr style=\"text-align: right;\">\n      <th></th>\n      <th>birthdate</th>\n      <th>address</th>\n      <th>race</th>\n      <th>current_location</th>\n      <th>blood_group</th>\n      <th>ssn</th>\n      <th>name</th>\n      <th>sex</th>\n      <th>residence</th>\n    </tr>\n  </thead>\n  <tbody>\n    <tr>\n      <th>0</th>\n      <td>1956/01/07</td>\n      <td>76379 Lynn Drive Kevinchester, VA 69374</td>\n      <td>Asian</td>\n      <td>44.490493, -141.873900</td>\n      <td>A-</td>\n      <td>328-14-6945</td>\n      <td>Michelle Perez</td>\n      <td>F</td>\n      <td>39446 Gabrielle Pass Suite 764\\nEast Danielle,...</td>\n    </tr>\n    <tr>\n      <th>1</th>\n      <td>10/28/1984, 00:00:00</td>\n      <td>PSC 8195, Box 7465 APO AP 27883</td>\n      <td>White</td>\n      <td>-60.5512795, 101.998999</td>\n      <td>B+</td>\n      <td>841-17-8814</td>\n      <td>Christopher Bishop</td>\n      <td>M</td>\n      <td>18019 Mary Mountains\\nScottport, IA 19641</td>\n    </tr>\n    <tr>\n      <th>2</th>\n      <td>1966-08-30</td>\n      <td>3345 Daniels Parks Suite 080 New Nancy, TX 84969</td>\n      <td>Asian</td>\n      <td>-24.9800585, -18.208792</td>\n      <td>A-</td>\n      <td>871-67-9396</td>\n      <td>Emily Stevens</td>\n      <td>F</td>\n      <td>4906 Matthew Field\\nGalvanfort, SC 22896</td>\n    </tr>\n    <tr>\n      <th>3</th>\n      <td>1910/08/08</td>\n      <td>3368 Brent Mall Suite 782 Port Cheryl, WV 04259</td>\n      <td>black</td>\n      <td>51.679296, -96.270056</td>\n      <td>O+</td>\n      <td>859-80-8937</td>\n      <td>Carla Hernandez</td>\n      <td>F</td>\n      <td>USCGC Schroeder\\nFPO AE 57164</td>\n    </tr>\n    <tr>\n      <th>4</th>\n      <td>1972-10-28</td>\n      <td>175 Michael Neck South Nicoleberg, PA 96022</td>\n      <td>White</td>\n      <td>-85.5392635, -154.434283</td>\n      <td>O+</td>\n      <td>481-92-7602</td>\n      <td>Anthony Smith</td>\n      <td>M</td>\n      <td>2148 Webb Valley\\nNorth Madison, KS 07434</td>\n    </tr>\n    <tr>\n      <th>...</th>\n      <td>...</td>\n      <td>...</td>\n      <td>...</td>\n      <td>...</td>\n      <td>...</td>\n      <td>...</td>\n      <td>...</td>\n      <td>...</td>\n      <td>...</td>\n    </tr>\n    <tr>\n      <th>3123</th>\n      <td>1988/07/28</td>\n      <td>54115 Shelia Mall Perkinsland, CT 29608</td>\n      <td>White</td>\n      <td>-7.930086, -151.534279</td>\n      <td>O-</td>\n      <td>420-58-2110</td>\n      <td>David Willis</td>\n      <td>M</td>\n      <td>5488 Michelle Crescent Apt. 782\\nMelissatown, ...</td>\n    </tr>\n    <tr>\n      <th>3124</th>\n      <td>1948-05-03</td>\n      <td>USCGC Bowman FPO AP 06685</td>\n      <td>White</td>\n      <td>50.0322335, 166.727247</td>\n      <td>AB-</td>\n      <td>298-66-4795</td>\n      <td>Jeffrey Sims</td>\n      <td>M</td>\n      <td>559 Kenneth Track Suite 021\\nEast Ashley, TX 6...</td>\n    </tr>\n    <tr>\n      <th>3125</th>\n      <td>1935/11/18</td>\n      <td>616 John Pass Apt. 345 Burnetttown, AZ 24833</td>\n      <td>Asian</td>\n      <td>-35.8693315, 111.435733</td>\n      <td>AB-</td>\n      <td>716-72-0406</td>\n      <td>Thomas Kennedy</td>\n      <td>M</td>\n      <td>466 Ryan Stravenue\\nGalvanbury, AZ 98577</td>\n    </tr>\n    <tr>\n      <th>3126</th>\n      <td>12/31/2003, 00:00:00</td>\n      <td>USCGC Baker FPO AE 40268</td>\n      <td>White</td>\n      <td>-31.539476, 162.149407</td>\n      <td>O-</td>\n      <td>678-62-0044</td>\n      <td>Bradley Barrett</td>\n      <td>M</td>\n      <td>653 Dixon Loaf\\nSouth Branditown, TX 58506</td>\n    </tr>\n    <tr>\n      <th>3127</th>\n      <td>1961-01-02</td>\n      <td>3290 Aimee Flats Stewartberg, ID 51104</td>\n      <td>White</td>\n      <td>2.742912, 104.607427</td>\n      <td>AB+</td>\n      <td>171-66-5107</td>\n      <td>Mitchell Ellis</td>\n      <td>M</td>\n      <td>864 Clarke Pike\\nNew Tammyfort, OH 32226</td>\n    </tr>\n  </tbody>\n</table>\n<p>3128 rows × 9 columns</p>\n</div>"
     },
     "execution_count": 62,
     "metadata": {},
     "output_type": "execute_result"
    }
   ],
   "source": [
    "# data_profiles[\"address\"] = data_profiles[\"address\"].str.replace(r\"[\\r\\n]\", \" \", regex = True)\n",
    "# data_profiles"
   ],
   "metadata": {
    "collapsed": false,
    "pycharm": {
     "name": "#%%\n"
    }
   }
  },
  {
   "cell_type": "code",
   "execution_count": 63,
   "outputs": [
    {
     "data": {
      "text/plain": "                 birthdate                                           address  \\\n0               1956/01/07           76379 Lynn Drive Kevinchester, VA 69374   \n1     10/28/1984, 00:00:00                   PSC 8195, Box 7465 APO AP 27883   \n2               1966-08-30  3345 Daniels Parks Suite 080 New Nancy, TX 84969   \n3               1910/08/08   3368 Brent Mall Suite 782 Port Cheryl, WV 04259   \n4               1972-10-28       175 Michael Neck South Nicoleberg, PA 96022   \n...                    ...                                               ...   \n3123            1988/07/28           54115 Shelia Mall Perkinsland, CT 29608   \n3124            1948-05-03                         USCGC Bowman FPO AP 06685   \n3125            1935/11/18      616 John Pass Apt. 345 Burnetttown, AZ 24833   \n3126  12/31/2003, 00:00:00                          USCGC Baker FPO AE 40268   \n3127            1961-01-02            3290 Aimee Flats Stewartberg, ID 51104   \n\n       race          current_location blood_group          ssn  \\\n0     Asian    44.490493, -141.873900          A-  328-14-6945   \n1     White   -60.5512795, 101.998999          B+  841-17-8814   \n2     Asian   -24.9800585, -18.208792          A-  871-67-9396   \n3     black     51.679296, -96.270056          O+  859-80-8937   \n4     White  -85.5392635, -154.434283          O+  481-92-7602   \n...     ...                       ...         ...          ...   \n3123  White    -7.930086, -151.534279          O-  420-58-2110   \n3124  White    50.0322335, 166.727247         AB-  298-66-4795   \n3125  Asian   -35.8693315, 111.435733         AB-  716-72-0406   \n3126  White    -31.539476, 162.149407          O-  678-62-0044   \n3127  White      2.742912, 104.607427         AB+  171-66-5107   \n\n                    name sex  \\\n0         Michelle Perez   F   \n1     Christopher Bishop   M   \n2          Emily Stevens   F   \n3        Carla Hernandez   F   \n4          Anthony Smith   M   \n...                  ...  ..   \n3123        David Willis   M   \n3124        Jeffrey Sims   M   \n3125      Thomas Kennedy   M   \n3126     Bradley Barrett   M   \n3127      Mitchell Ellis   M   \n\n                                              residence  \n0     39446 Gabrielle Pass Suite 764 East Danielle, ...  \n1              18019 Mary Mountains Scottport, IA 19641  \n2               4906 Matthew Field Galvanfort, SC 22896  \n3                          USCGC Schroeder FPO AE 57164  \n4              2148 Webb Valley North Madison, KS 07434  \n...                                                 ...  \n3123  5488 Michelle Crescent Apt. 782 Melissatown, N...  \n3124  559 Kenneth Track Suite 021 East Ashley, TX 66195  \n3125            466 Ryan Stravenue Galvanbury, AZ 98577  \n3126          653 Dixon Loaf South Branditown, TX 58506  \n3127            864 Clarke Pike New Tammyfort, OH 32226  \n\n[3128 rows x 9 columns]",
      "text/html": "<div>\n<style scoped>\n    .dataframe tbody tr th:only-of-type {\n        vertical-align: middle;\n    }\n\n    .dataframe tbody tr th {\n        vertical-align: top;\n    }\n\n    .dataframe thead th {\n        text-align: right;\n    }\n</style>\n<table border=\"1\" class=\"dataframe\">\n  <thead>\n    <tr style=\"text-align: right;\">\n      <th></th>\n      <th>birthdate</th>\n      <th>address</th>\n      <th>race</th>\n      <th>current_location</th>\n      <th>blood_group</th>\n      <th>ssn</th>\n      <th>name</th>\n      <th>sex</th>\n      <th>residence</th>\n    </tr>\n  </thead>\n  <tbody>\n    <tr>\n      <th>0</th>\n      <td>1956/01/07</td>\n      <td>76379 Lynn Drive Kevinchester, VA 69374</td>\n      <td>Asian</td>\n      <td>44.490493, -141.873900</td>\n      <td>A-</td>\n      <td>328-14-6945</td>\n      <td>Michelle Perez</td>\n      <td>F</td>\n      <td>39446 Gabrielle Pass Suite 764 East Danielle, ...</td>\n    </tr>\n    <tr>\n      <th>1</th>\n      <td>10/28/1984, 00:00:00</td>\n      <td>PSC 8195, Box 7465 APO AP 27883</td>\n      <td>White</td>\n      <td>-60.5512795, 101.998999</td>\n      <td>B+</td>\n      <td>841-17-8814</td>\n      <td>Christopher Bishop</td>\n      <td>M</td>\n      <td>18019 Mary Mountains Scottport, IA 19641</td>\n    </tr>\n    <tr>\n      <th>2</th>\n      <td>1966-08-30</td>\n      <td>3345 Daniels Parks Suite 080 New Nancy, TX 84969</td>\n      <td>Asian</td>\n      <td>-24.9800585, -18.208792</td>\n      <td>A-</td>\n      <td>871-67-9396</td>\n      <td>Emily Stevens</td>\n      <td>F</td>\n      <td>4906 Matthew Field Galvanfort, SC 22896</td>\n    </tr>\n    <tr>\n      <th>3</th>\n      <td>1910/08/08</td>\n      <td>3368 Brent Mall Suite 782 Port Cheryl, WV 04259</td>\n      <td>black</td>\n      <td>51.679296, -96.270056</td>\n      <td>O+</td>\n      <td>859-80-8937</td>\n      <td>Carla Hernandez</td>\n      <td>F</td>\n      <td>USCGC Schroeder FPO AE 57164</td>\n    </tr>\n    <tr>\n      <th>4</th>\n      <td>1972-10-28</td>\n      <td>175 Michael Neck South Nicoleberg, PA 96022</td>\n      <td>White</td>\n      <td>-85.5392635, -154.434283</td>\n      <td>O+</td>\n      <td>481-92-7602</td>\n      <td>Anthony Smith</td>\n      <td>M</td>\n      <td>2148 Webb Valley North Madison, KS 07434</td>\n    </tr>\n    <tr>\n      <th>...</th>\n      <td>...</td>\n      <td>...</td>\n      <td>...</td>\n      <td>...</td>\n      <td>...</td>\n      <td>...</td>\n      <td>...</td>\n      <td>...</td>\n      <td>...</td>\n    </tr>\n    <tr>\n      <th>3123</th>\n      <td>1988/07/28</td>\n      <td>54115 Shelia Mall Perkinsland, CT 29608</td>\n      <td>White</td>\n      <td>-7.930086, -151.534279</td>\n      <td>O-</td>\n      <td>420-58-2110</td>\n      <td>David Willis</td>\n      <td>M</td>\n      <td>5488 Michelle Crescent Apt. 782 Melissatown, N...</td>\n    </tr>\n    <tr>\n      <th>3124</th>\n      <td>1948-05-03</td>\n      <td>USCGC Bowman FPO AP 06685</td>\n      <td>White</td>\n      <td>50.0322335, 166.727247</td>\n      <td>AB-</td>\n      <td>298-66-4795</td>\n      <td>Jeffrey Sims</td>\n      <td>M</td>\n      <td>559 Kenneth Track Suite 021 East Ashley, TX 66195</td>\n    </tr>\n    <tr>\n      <th>3125</th>\n      <td>1935/11/18</td>\n      <td>616 John Pass Apt. 345 Burnetttown, AZ 24833</td>\n      <td>Asian</td>\n      <td>-35.8693315, 111.435733</td>\n      <td>AB-</td>\n      <td>716-72-0406</td>\n      <td>Thomas Kennedy</td>\n      <td>M</td>\n      <td>466 Ryan Stravenue Galvanbury, AZ 98577</td>\n    </tr>\n    <tr>\n      <th>3126</th>\n      <td>12/31/2003, 00:00:00</td>\n      <td>USCGC Baker FPO AE 40268</td>\n      <td>White</td>\n      <td>-31.539476, 162.149407</td>\n      <td>O-</td>\n      <td>678-62-0044</td>\n      <td>Bradley Barrett</td>\n      <td>M</td>\n      <td>653 Dixon Loaf South Branditown, TX 58506</td>\n    </tr>\n    <tr>\n      <th>3127</th>\n      <td>1961-01-02</td>\n      <td>3290 Aimee Flats Stewartberg, ID 51104</td>\n      <td>White</td>\n      <td>2.742912, 104.607427</td>\n      <td>AB+</td>\n      <td>171-66-5107</td>\n      <td>Mitchell Ellis</td>\n      <td>M</td>\n      <td>864 Clarke Pike New Tammyfort, OH 32226</td>\n    </tr>\n  </tbody>\n</table>\n<p>3128 rows × 9 columns</p>\n</div>"
     },
     "execution_count": 63,
     "metadata": {},
     "output_type": "execute_result"
    }
   ],
   "source": [
    "# data_profiles[\"residence\"] = data_profiles[\"residence\"].str.replace(r\"[\\r\\n]\", \" \", regex = True)\n",
    "# data_profiles"
   ],
   "metadata": {
    "collapsed": false,
    "pycharm": {
     "name": "#%%\n"
    }
   }
  },
  {
   "cell_type": "markdown",
   "source": [
    "### Duplicitné záznamy\n",
    "\n",
    "Ďalším problémom v datasete, s ktorým sa je potrebné popasovať, je riešenie **duplikátnych riadkov**.\n",
    "To je z hľadiska trénovanie umelej inteligencie podstatné, keďže **duplikátny riadok nepridáva\n",
    "nijakú hodnotu** pre náš algoritmus, skôr môže narušiť jeho úsudok v prospech týchto rovnakých\n",
    "riadkov.\n",
    "\n",
    "V tejto bunke sme spočítali riadky, ktoré majú **duplikát** v celom datasete."
   ],
   "metadata": {
    "collapsed": false,
    "pycharm": {
     "name": "#%% md\n"
    }
   }
  },
  {
   "cell_type": "code",
   "execution_count": 67,
   "outputs": [
    {
     "data": {
      "text/plain": "198"
     },
     "execution_count": 67,
     "metadata": {},
     "output_type": "execute_result"
    }
   ],
   "source": [
    "data_labor.duplicated(keep=False).sum()"
   ],
   "metadata": {
    "collapsed": false,
    "pycharm": {
     "name": "#%%\n"
    }
   }
  },
  {
   "cell_type": "markdown",
   "source": [
    "Pre tento problém by sme zvolili riešenie, v ktorom by sme odstránili všetky duplikátne\n",
    "riadky s tým, že by bol ponechaný len jeden z nich. V kóde, ktorý je zakomentovaný nižšie,\n",
    "je aj kontrola, či sa daný úkon vykonal správne. Po takejto úprave je potrebné preindexovať\n",
    "záznamy nanovo."
   ],
   "metadata": {
    "collapsed": false,
    "pycharm": {
     "name": "#%% md\n"
    }
   }
  },
  {
   "cell_type": "code",
   "execution_count": 68,
   "outputs": [
    {
     "data": {
      "text/plain": "      smoker    hbver  erytrocyty      alt  leukocyty    etytr  hemoglobin  \\\n0        1.0  4.98718     8.89463  2.40520    5.75830  6.93712     4.54976   \n1        1.0  6.67732     4.21847  0.66072    6.29064  5.19990     4.10863   \n2        0.0  6.51444     7.94461  1.28337    5.83567  6.88758     6.45793   \n3        0.0  6.05025     7.67537  0.83197    6.33300  4.45912     6.96013   \n4        1.0  6.20737     7.84993  0.93395    5.66904  4.88628     6.41332   \n...      ...      ...         ...      ...        ...      ...         ...   \n9867     1.0  5.17020     5.61728  0.60775    5.35296  4.59956     5.52802   \n9868     0.0  5.70666     8.82840  2.35342    5.20966  3.73586     6.25482   \n9869     1.0  6.45549     6.83179  0.62415    7.84688  4.52864     5.57765   \n9870     1.0  4.81311     7.26178  0.84372    6.76794  7.54696     7.07142   \n9871     0.0  5.96628     8.70299  2.09693    5.96586  3.76665     7.04030   \n\n              ssn             name  trombocyty       alp relationship  \\\n0     021-87-4523    Jeremy Tanner     6.23782  45.93625     divorced   \n1     513-39-9691    Jocelyn Kelly     6.27100  20.30249     divorced   \n2     881-46-4810   Crystal Kelley     6.02783  82.09305     divorced   \n3     826-16-7757     Doris Duncan     6.83876  69.43441     divorced   \n4     167-37-6059       John Parks     5.75903  90.09567     divorced   \n...           ...              ...         ...       ...          ...   \n9867  425-94-7489      Ryan Pineda     3.86179  75.76127       single   \n9868  375-27-0860     Travis Brown     5.03429  85.17538      widowed   \n9869  300-91-9095  Michelle Watson     6.38035  79.13200      married   \n9870  691-20-7896        Ryan Hahn     5.27933  79.64629      married   \n9871  603-47-5832      Tammy Jones     4.80599  77.32350       single   \n\n      indicator     er-cv     weight       ast  hematokrit  \n0           0.0  55.43592   -2.73558  51.62366     3.34206  \n1           0.0  45.34617   81.56533  61.59374     5.78180  \n2           0.0  29.29190  151.24191  47.96329     4.55230  \n3           1.0  60.47398   83.89451  57.47174     7.17271  \n4           1.0  41.10299  107.22958  34.25820     6.93681  \n...         ...       ...        ...       ...         ...  \n9867        0.0  38.06206   60.90926  41.67857     4.57350  \n9868        1.0  48.35999  106.88451  23.49894     7.00122  \n9869        1.0  28.09339   75.74349  23.52645     6.94466  \n9870        0.0  56.63966   52.15898  31.12380     4.98399  \n9871        1.0  44.86900   73.49362  72.81753     7.27724  \n\n[9872 rows x 17 columns]",
      "text/html": "<div>\n<style scoped>\n    .dataframe tbody tr th:only-of-type {\n        vertical-align: middle;\n    }\n\n    .dataframe tbody tr th {\n        vertical-align: top;\n    }\n\n    .dataframe thead th {\n        text-align: right;\n    }\n</style>\n<table border=\"1\" class=\"dataframe\">\n  <thead>\n    <tr style=\"text-align: right;\">\n      <th></th>\n      <th>smoker</th>\n      <th>hbver</th>\n      <th>erytrocyty</th>\n      <th>alt</th>\n      <th>leukocyty</th>\n      <th>etytr</th>\n      <th>hemoglobin</th>\n      <th>ssn</th>\n      <th>name</th>\n      <th>trombocyty</th>\n      <th>alp</th>\n      <th>relationship</th>\n      <th>indicator</th>\n      <th>er-cv</th>\n      <th>weight</th>\n      <th>ast</th>\n      <th>hematokrit</th>\n    </tr>\n  </thead>\n  <tbody>\n    <tr>\n      <th>0</th>\n      <td>1.0</td>\n      <td>4.98718</td>\n      <td>8.89463</td>\n      <td>2.40520</td>\n      <td>5.75830</td>\n      <td>6.93712</td>\n      <td>4.54976</td>\n      <td>021-87-4523</td>\n      <td>Jeremy Tanner</td>\n      <td>6.23782</td>\n      <td>45.93625</td>\n      <td>divorced</td>\n      <td>0.0</td>\n      <td>55.43592</td>\n      <td>-2.73558</td>\n      <td>51.62366</td>\n      <td>3.34206</td>\n    </tr>\n    <tr>\n      <th>1</th>\n      <td>1.0</td>\n      <td>6.67732</td>\n      <td>4.21847</td>\n      <td>0.66072</td>\n      <td>6.29064</td>\n      <td>5.19990</td>\n      <td>4.10863</td>\n      <td>513-39-9691</td>\n      <td>Jocelyn Kelly</td>\n      <td>6.27100</td>\n      <td>20.30249</td>\n      <td>divorced</td>\n      <td>0.0</td>\n      <td>45.34617</td>\n      <td>81.56533</td>\n      <td>61.59374</td>\n      <td>5.78180</td>\n    </tr>\n    <tr>\n      <th>2</th>\n      <td>0.0</td>\n      <td>6.51444</td>\n      <td>7.94461</td>\n      <td>1.28337</td>\n      <td>5.83567</td>\n      <td>6.88758</td>\n      <td>6.45793</td>\n      <td>881-46-4810</td>\n      <td>Crystal Kelley</td>\n      <td>6.02783</td>\n      <td>82.09305</td>\n      <td>divorced</td>\n      <td>0.0</td>\n      <td>29.29190</td>\n      <td>151.24191</td>\n      <td>47.96329</td>\n      <td>4.55230</td>\n    </tr>\n    <tr>\n      <th>3</th>\n      <td>0.0</td>\n      <td>6.05025</td>\n      <td>7.67537</td>\n      <td>0.83197</td>\n      <td>6.33300</td>\n      <td>4.45912</td>\n      <td>6.96013</td>\n      <td>826-16-7757</td>\n      <td>Doris Duncan</td>\n      <td>6.83876</td>\n      <td>69.43441</td>\n      <td>divorced</td>\n      <td>1.0</td>\n      <td>60.47398</td>\n      <td>83.89451</td>\n      <td>57.47174</td>\n      <td>7.17271</td>\n    </tr>\n    <tr>\n      <th>4</th>\n      <td>1.0</td>\n      <td>6.20737</td>\n      <td>7.84993</td>\n      <td>0.93395</td>\n      <td>5.66904</td>\n      <td>4.88628</td>\n      <td>6.41332</td>\n      <td>167-37-6059</td>\n      <td>John Parks</td>\n      <td>5.75903</td>\n      <td>90.09567</td>\n      <td>divorced</td>\n      <td>1.0</td>\n      <td>41.10299</td>\n      <td>107.22958</td>\n      <td>34.25820</td>\n      <td>6.93681</td>\n    </tr>\n    <tr>\n      <th>...</th>\n      <td>...</td>\n      <td>...</td>\n      <td>...</td>\n      <td>...</td>\n      <td>...</td>\n      <td>...</td>\n      <td>...</td>\n      <td>...</td>\n      <td>...</td>\n      <td>...</td>\n      <td>...</td>\n      <td>...</td>\n      <td>...</td>\n      <td>...</td>\n      <td>...</td>\n      <td>...</td>\n      <td>...</td>\n    </tr>\n    <tr>\n      <th>9867</th>\n      <td>1.0</td>\n      <td>5.17020</td>\n      <td>5.61728</td>\n      <td>0.60775</td>\n      <td>5.35296</td>\n      <td>4.59956</td>\n      <td>5.52802</td>\n      <td>425-94-7489</td>\n      <td>Ryan Pineda</td>\n      <td>3.86179</td>\n      <td>75.76127</td>\n      <td>single</td>\n      <td>0.0</td>\n      <td>38.06206</td>\n      <td>60.90926</td>\n      <td>41.67857</td>\n      <td>4.57350</td>\n    </tr>\n    <tr>\n      <th>9868</th>\n      <td>0.0</td>\n      <td>5.70666</td>\n      <td>8.82840</td>\n      <td>2.35342</td>\n      <td>5.20966</td>\n      <td>3.73586</td>\n      <td>6.25482</td>\n      <td>375-27-0860</td>\n      <td>Travis Brown</td>\n      <td>5.03429</td>\n      <td>85.17538</td>\n      <td>widowed</td>\n      <td>1.0</td>\n      <td>48.35999</td>\n      <td>106.88451</td>\n      <td>23.49894</td>\n      <td>7.00122</td>\n    </tr>\n    <tr>\n      <th>9869</th>\n      <td>1.0</td>\n      <td>6.45549</td>\n      <td>6.83179</td>\n      <td>0.62415</td>\n      <td>7.84688</td>\n      <td>4.52864</td>\n      <td>5.57765</td>\n      <td>300-91-9095</td>\n      <td>Michelle Watson</td>\n      <td>6.38035</td>\n      <td>79.13200</td>\n      <td>married</td>\n      <td>1.0</td>\n      <td>28.09339</td>\n      <td>75.74349</td>\n      <td>23.52645</td>\n      <td>6.94466</td>\n    </tr>\n    <tr>\n      <th>9870</th>\n      <td>1.0</td>\n      <td>4.81311</td>\n      <td>7.26178</td>\n      <td>0.84372</td>\n      <td>6.76794</td>\n      <td>7.54696</td>\n      <td>7.07142</td>\n      <td>691-20-7896</td>\n      <td>Ryan Hahn</td>\n      <td>5.27933</td>\n      <td>79.64629</td>\n      <td>married</td>\n      <td>0.0</td>\n      <td>56.63966</td>\n      <td>52.15898</td>\n      <td>31.12380</td>\n      <td>4.98399</td>\n    </tr>\n    <tr>\n      <th>9871</th>\n      <td>0.0</td>\n      <td>5.96628</td>\n      <td>8.70299</td>\n      <td>2.09693</td>\n      <td>5.96586</td>\n      <td>3.76665</td>\n      <td>7.04030</td>\n      <td>603-47-5832</td>\n      <td>Tammy Jones</td>\n      <td>4.80599</td>\n      <td>77.32350</td>\n      <td>single</td>\n      <td>1.0</td>\n      <td>44.86900</td>\n      <td>73.49362</td>\n      <td>72.81753</td>\n      <td>7.27724</td>\n    </tr>\n  </tbody>\n</table>\n<p>9872 rows × 17 columns</p>\n</div>"
     },
     "execution_count": 68,
     "metadata": {},
     "output_type": "execute_result"
    }
   ],
   "source": [
    "# data_labor.drop_duplicates(inplace=True)\n",
    "# data_labor.duplicated(keep=False).sum()\n",
    "# data_labor.index = range(len(data_labor))\n",
    "# data_labor"
   ],
   "metadata": {
    "collapsed": false,
    "pycharm": {
     "name": "#%%\n"
    }
   }
  },
  {
   "cell_type": "markdown",
   "source": [
    "Naša datábaza profilov neobsahuje duplikátne riadky, čo je overené v nasledujúcej bunke.\n",
    "Preto nie je potrebné v tomto sete riešiť nijakú duplicitu."
   ],
   "metadata": {
    "collapsed": false,
    "pycharm": {
     "name": "#%% md\n"
    }
   }
  },
  {
   "cell_type": "code",
   "execution_count": 69,
   "outputs": [
    {
     "data": {
      "text/plain": "0"
     },
     "execution_count": 69,
     "metadata": {},
     "output_type": "execute_result"
    }
   ],
   "source": [
    "data_profiles.duplicated(keep=False).sum()"
   ],
   "metadata": {
    "collapsed": false,
    "pycharm": {
     "name": "#%%\n"
    }
   }
  },
  {
   "cell_type": "markdown",
   "source": [
    "### Nejednotné formáty"
   ],
   "metadata": {
    "collapsed": false,
    "pycharm": {
     "name": "#%% md\n"
    }
   }
  },
  {
   "cell_type": "markdown",
   "source": [
    "Do okruhu nejednotných formátov spadajú prípady ako napr. rôzna veľkosť písmen,\n",
    "preklepy, rôzne podoby zápisov alebo aj ich kombinácia.\n",
    "\n",
    "Preto sme si na úvod vypísali všetky unikátne v hodnoty v atribútoch, pre\n",
    "ktoré dáva zmysel riešiť nejednotný formát\n",
    "(napr. pri atribúte rasy to dáva zmysel, keďže rás je len zopár unikátnych,\n",
    "kdežto adresy takto kontrolovať nemôžeme).\n",
    "\n",
    "Atribúty v data_labor, pri ktorých možno kontrolovať jednotný formát:\n",
    "* smoker\n",
    "* relationship\n",
    "\n",
    "Atribúty v data_profiles, pri ktorých možno kontrolovať jednotný formát:\n",
    "* race\n",
    "* blood_group\n",
    "* sex\n",
    "\n",
    "### Nejednotný formát: data_labor"
   ],
   "metadata": {
    "collapsed": false
   }
  },
  {
   "cell_type": "code",
   "execution_count": 116,
   "outputs": [
    {
     "data": {
      "text/plain": "array(['yes', 'no', 'Y', 'N'], dtype=object)"
     },
     "execution_count": 116,
     "metadata": {},
     "output_type": "execute_result"
    }
   ],
   "source": [
    "data_labor[\"smoker\"].unique()"
   ],
   "metadata": {
    "collapsed": false,
    "pycharm": {
     "name": "#%%\n"
    }
   }
  },
  {
   "cell_type": "markdown",
   "source": [
    "V datasete data_labor pre atribút smoker sme identifikovali nejednotný formát,\n",
    "v 4 rôznych verziách. Na tento problém by sme vykonali prekonvertovanie hodnôt\n",
    "na numerické hodnoty 0 a 1, keďže to sú jediné možnosti, ako môže byť daný\n",
    "atribút vyjadrený."
   ],
   "metadata": {
    "collapsed": false,
    "pycharm": {
     "name": "#%% md\n"
    }
   }
  },
  {
   "cell_type": "code",
   "execution_count": null,
   "outputs": [],
   "source": [
    "\"\"\"\n",
    "data_labor[\"smoker\"] = data_labor[\"smoker\"].str.replace(\"yes\", \"1\")\n",
    "data_labor[\"smoker\"] = data_labor[\"smoker\"].str.replace(\"no\", \"0\")\n",
    "data_labor[\"smoker\"] = data_labor[\"smoker\"].str.replace(\"Y\", \"1\")\n",
    "data_labor[\"smoker\"] = data_labor[\"smoker\"].str.replace(\"N\", \"0\")\n",
    "data_labor[\"smoker\"] = data_labor[\"smoker\"].astype(float)\n",
    "\"\"\""
   ],
   "metadata": {
    "collapsed": false,
    "pycharm": {
     "name": "#%%\n"
    }
   }
  },
  {
   "cell_type": "code",
   "execution_count": null,
   "outputs": [],
   "source": [
    "data_labor[\"relationship\"].unique()"
   ],
   "metadata": {
    "collapsed": false,
    "pycharm": {
     "name": "#%%\n"
    }
   }
  },
  {
   "cell_type": "markdown",
   "source": [
    "Atribút relationship bol naformátovaný relatívne korektne, no upravili by sme\n",
    "hrúbku pre slovo \"divoced\" na \"divorced\" pre lepšiu zrozumiteľnosť záznamov."
   ],
   "metadata": {
    "collapsed": false,
    "pycharm": {
     "name": "#%% md\n"
    }
   }
  },
  {
   "cell_type": "code",
   "execution_count": null,
   "outputs": [],
   "source": [
    "# data_labor[\"relationship\"] = data_labor[\"relationship\"].str.replace(\"divoced\", \"divorced\")"
   ],
   "metadata": {
    "collapsed": false,
    "pycharm": {
     "name": "#%%\n"
    }
   }
  },
  {
   "cell_type": "markdown",
   "source": [
    "### Nejednotný formát: data_profiles"
   ],
   "metadata": {
    "collapsed": false
   }
  },
  {
   "cell_type": "code",
   "execution_count": 120,
   "outputs": [
    {
     "data": {
      "text/plain": "array(['asian', 'white', 'black', 'hawaiian', 'indian'], dtype=object)"
     },
     "execution_count": 120,
     "metadata": {},
     "output_type": "execute_result"
    }
   ],
   "source": [
    "data_profiles[\"race\"].unique()"
   ],
   "metadata": {
    "collapsed": false,
    "pycharm": {
     "name": "#%%\n"
    }
   }
  },
  {
   "cell_type": "markdown",
   "source": [
    "Pre rasy sme identifikovali preklep v prípade rasy **black**, kde bolo **blsck**.\n",
    "Tento preklep by sme upravili funkciou replace().\n",
    "Taktiež sme si všimli, že sa jednotlivé rasy začínajú na malé aj veľké písmená.\n",
    "Túto skutočnosť by sme upravili pomocou funkcie lower(), ktorá zmení všetky veľké\n",
    "písmená na malé."
   ],
   "metadata": {
    "collapsed": false,
    "pycharm": {
     "name": "#%% md\n"
    }
   }
  },
  {
   "cell_type": "code",
   "execution_count": 119,
   "outputs": [],
   "source": [
    "# data_profiles[\"race\"] = data_profiles[\"race\"].str.replace(\"blsck\", \"black\")\n",
    "# data_profiles[\"race\"] = data_profiles[\"race\"].str.lower()"
   ],
   "metadata": {
    "collapsed": false,
    "pycharm": {
     "name": "#%%\n"
    }
   }
  },
  {
   "cell_type": "code",
   "execution_count": 121,
   "outputs": [
    {
     "data": {
      "text/plain": "array(['A-', 'B+', 'O+', 'AB-', 'A+', 'O-', 'AB+', 'B-'], dtype=object)"
     },
     "execution_count": 121,
     "metadata": {},
     "output_type": "execute_result"
    }
   ],
   "source": [
    "data_profiles[\"blood_group\"].unique()"
   ],
   "metadata": {
    "collapsed": false,
    "pycharm": {
     "name": "#%%\n"
    }
   }
  },
  {
   "cell_type": "markdown",
   "source": [
    "Pre atribút blood_group boli formáty jednotné typu: veľké písmeno a +/-.\n",
    "V budúcnosti možno pristúpime ku kroku nahradzovania týchto string hodnôt\n",
    "na numerickú podobu."
   ],
   "metadata": {
    "collapsed": false,
    "pycharm": {
     "name": "#%% md\n"
    }
   }
  },
  {
   "cell_type": "code",
   "execution_count": 122,
   "outputs": [
    {
     "data": {
      "text/plain": "array(['F', 'M'], dtype=object)"
     },
     "execution_count": 122,
     "metadata": {},
     "output_type": "execute_result"
    }
   ],
   "source": [
    "data_profiles[\"sex\"].unique()"
   ],
   "metadata": {
    "collapsed": false,
    "pycharm": {
     "name": "#%%\n"
    }
   }
  },
  {
   "cell_type": "markdown",
   "source": [
    "Tak ako pri atribúte smoker v predchádzajúcej časti, tak aj pri atribúte\n",
    "pohlavia by sme vykonali zmenu formátu na numerické hodnoty 0 a 1."
   ],
   "metadata": {
    "collapsed": false,
    "pycharm": {
     "name": "#%% md\n"
    }
   }
  },
  {
   "cell_type": "code",
   "execution_count": null,
   "outputs": [],
   "source": [
    "\"\"\"\n",
    "data_profiles[\"sex\"] = data_profiles[\"sex\"].str.replace(\"M\", \"1\")\n",
    "data_profiles[\"sex\"] = data_profiles[\"sex\"].str.replace(\"F\", \"0\")\n",
    "data_profiles[\"sex\"] = data_profiles[\"sex\"].astype(float)\n",
    "\"\"\""
   ],
   "metadata": {
    "collapsed": false,
    "pycharm": {
     "name": "#%%\n"
    }
   }
  },
  {
   "cell_type": "markdown",
   "source": [
    "Príkaz spustený v bunke nižšie kontroluje, či sú všetky hodnoty vo všetých stĺpcoch\n",
    "**numerické**, vďaka čomu by sme mohli prehlásiť,\n",
    "že dané atribúty obsahujú výlučne numerické hodnoty.\n",
    "\n",
    "V kombinácii spolu s funkciou info() vieme potvrdiť, že ide o dátový typ float_64 a\n",
    "že ostatné dátové typy sú typu object, čo je Python reprezentácia stringu."
   ],
   "metadata": {
    "collapsed": false,
    "pycharm": {
     "name": "#%% md\n"
    }
   }
  },
  {
   "cell_type": "code",
   "execution_count": 124,
   "outputs": [
    {
     "data": {
      "text/plain": "smoker          False\nhbver            True\nerytrocyty       True\nalt              True\nleukocyty        True\netytr            True\nhemoglobin       True\nssn             False\nname            False\ntrombocyty       True\nalp              True\nrelationship    False\nindicator        True\ner-cv            True\nweight           True\nast              True\nhematokrit       True\ndtype: bool"
     },
     "execution_count": 124,
     "metadata": {},
     "output_type": "execute_result"
    }
   ],
   "source": [
    "data_labor.apply(lambda y: pd.to_numeric(y, errors='coerce').notnull().all())"
   ],
   "metadata": {
    "collapsed": false,
    "pycharm": {
     "name": "#%%\n"
    }
   }
  },
  {
   "cell_type": "code",
   "execution_count": 125,
   "outputs": [
    {
     "name": "stdout",
     "output_type": "stream",
     "text": [
      "<class 'pandas.core.frame.DataFrame'>\n",
      "RangeIndex: 9971 entries, 0 to 9970\n",
      "Data columns (total 17 columns):\n",
      " #   Column        Non-Null Count  Dtype  \n",
      "---  ------        --------------  -----  \n",
      " 0   smoker        9971 non-null   object \n",
      " 1   hbver         9971 non-null   float64\n",
      " 2   erytrocyty    9971 non-null   float64\n",
      " 3   alt           9971 non-null   float64\n",
      " 4   leukocyty     9971 non-null   float64\n",
      " 5   etytr         9971 non-null   float64\n",
      " 6   hemoglobin    9971 non-null   float64\n",
      " 7   ssn           9971 non-null   object \n",
      " 8   name          9971 non-null   object \n",
      " 9   trombocyty    9971 non-null   float64\n",
      " 10  alp           9971 non-null   float64\n",
      " 11  relationship  9971 non-null   object \n",
      " 12  indicator     9971 non-null   float64\n",
      " 13  er-cv         9971 non-null   float64\n",
      " 14  weight        9971 non-null   float64\n",
      " 15  ast           9971 non-null   float64\n",
      " 16  hematokrit    9971 non-null   float64\n",
      "dtypes: float64(13), object(4)\n",
      "memory usage: 1.3+ MB\n"
     ]
    }
   ],
   "source": [
    "data_labor.info()"
   ],
   "metadata": {
    "collapsed": false,
    "pycharm": {
     "name": "#%%\n"
    }
   }
  },
  {
   "cell_type": "code",
   "execution_count": 126,
   "outputs": [
    {
     "data": {
      "text/plain": "birthdate           False\naddress             False\nrace                False\ncurrent_location    False\nblood_group         False\nssn                 False\nname                False\nsex                 False\nresidence           False\ndtype: bool"
     },
     "execution_count": 126,
     "metadata": {},
     "output_type": "execute_result"
    }
   ],
   "source": [
    "data_profiles.apply(lambda y: pd.to_numeric(y, errors='coerce').notnull().all())"
   ],
   "metadata": {
    "collapsed": false,
    "pycharm": {
     "name": "#%%\n"
    }
   }
  },
  {
   "cell_type": "code",
   "execution_count": 127,
   "outputs": [
    {
     "name": "stdout",
     "output_type": "stream",
     "text": [
      "<class 'pandas.core.frame.DataFrame'>\n",
      "RangeIndex: 3128 entries, 0 to 3127\n",
      "Data columns (total 9 columns):\n",
      " #   Column            Non-Null Count  Dtype \n",
      "---  ------            --------------  ----- \n",
      " 0   birthdate         3128 non-null   object\n",
      " 1   address           3128 non-null   object\n",
      " 2   race              3128 non-null   object\n",
      " 3   current_location  3128 non-null   object\n",
      " 4   blood_group       3128 non-null   object\n",
      " 5   ssn               3128 non-null   object\n",
      " 6   name              3128 non-null   object\n",
      " 7   sex               3128 non-null   object\n",
      " 8   residence         3128 non-null   object\n",
      "dtypes: object(9)\n",
      "memory usage: 220.1+ KB\n"
     ]
    }
   ],
   "source": [
    "data_profiles.info()"
   ],
   "metadata": {
    "collapsed": false,
    "pycharm": {
     "name": "#%%\n"
    }
   }
  },
  {
   "cell_type": "markdown",
   "source": [
    "### Chýbajúce hodnoty\n",
    "\n",
    "Chýbajúce hodnoty sme na našom datasete sčasti už upravili.\n",
    "\n",
    "Pre data_labor sme ešte pred začiatkom prvej fázy vykonali nahradenie priemerom.\n",
    "Túto skutočnosť, že náš dataset už naozaj nemá nijaké chýbajúce hodnoty, možno\n",
    "overiť bunkou nižšie, ktorá zráta počet chýbajúcich hodnôt pre každý atribút\n",
    "zvlášť."
   ],
   "metadata": {
    "collapsed": false,
    "pycharm": {
     "name": "#%% md\n"
    }
   }
  },
  {
   "cell_type": "code",
   "execution_count": 139,
   "outputs": [
    {
     "data": {
      "text/plain": "smoker          0\nhbver           0\nerytrocyty      0\nalt             0\nleukocyty       0\netytr           0\nhemoglobin      0\nssn             0\nname            0\ntrombocyty      0\nalp             0\nrelationship    0\nindicator       0\ner-cv           0\nweight          0\nast             0\nhematokrit      0\ndtype: int64"
     },
     "execution_count": 139,
     "metadata": {},
     "output_type": "execute_result"
    }
   ],
   "source": [
    "data_labor.isna().sum()"
   ],
   "metadata": {
    "collapsed": false,
    "pycharm": {
     "name": "#%%\n"
    }
   }
  },
  {
   "cell_type": "markdown",
   "source": [
    "Pre data_profiles navrhujeme rovnakú taktiku, ktorá v prvom rade spočíva v zistení,\n",
    "či sa v datasete nachádzajú nejaké chýbajúce hodnoty. Ako možno vidieť v bunke nižšie,\n",
    "tak chýbajúce dáta nemáme, a preto nijaké ďalšie kroky nie sú potrebné."
   ],
   "metadata": {
    "collapsed": false,
    "pycharm": {
     "name": "#%% md\n"
    }
   }
  },
  {
   "cell_type": "code",
   "execution_count": 140,
   "outputs": [
    {
     "data": {
      "text/plain": "birthdate           0\naddress             0\nrace                0\ncurrent_location    0\nblood_group         0\nssn                 0\nname                0\nsex                 0\nresidence           0\ndtype: int64"
     },
     "execution_count": 140,
     "metadata": {},
     "output_type": "execute_result"
    }
   ],
   "source": [
    "data_profiles.isna().sum()"
   ],
   "metadata": {
    "collapsed": false,
    "pycharm": {
     "name": "#%%\n"
    }
   }
  },
  {
   "cell_type": "markdown",
   "source": [
    "### Vychýlené hodnoty\n",
    "\n",
    "V tejto sekcii sú navrhnutú postupy riešenia problémov s vychýlenými hodnotami.\n",
    "\n",
    "Na začiatok je vhodné poznamenať, že problém vychýlených hodnôt sa týka len\n",
    "číselných záznamov, a preto atribúty typu string nie je potrebné ošetrovať.\n",
    "Začali sme výpisom datatypov v jednotlivých setoch."
   ],
   "metadata": {
    "collapsed": false,
    "pycharm": {
     "name": "#%% md\n"
    }
   }
  },
  {
   "cell_type": "code",
   "execution_count": 143,
   "outputs": [
    {
     "name": "stdout",
     "output_type": "stream",
     "text": [
      "<class 'pandas.core.frame.DataFrame'>\n",
      "RangeIndex: 9971 entries, 0 to 9970\n",
      "Data columns (total 17 columns):\n",
      " #   Column        Non-Null Count  Dtype  \n",
      "---  ------        --------------  -----  \n",
      " 0   smoker        9971 non-null   object \n",
      " 1   hbver         9971 non-null   float64\n",
      " 2   erytrocyty    9971 non-null   float64\n",
      " 3   alt           9971 non-null   float64\n",
      " 4   leukocyty     9971 non-null   float64\n",
      " 5   etytr         9971 non-null   float64\n",
      " 6   hemoglobin    9971 non-null   float64\n",
      " 7   ssn           9971 non-null   object \n",
      " 8   name          9971 non-null   object \n",
      " 9   trombocyty    9971 non-null   float64\n",
      " 10  alp           9971 non-null   float64\n",
      " 11  relationship  9971 non-null   object \n",
      " 12  indicator     9971 non-null   float64\n",
      " 13  er-cv         9971 non-null   float64\n",
      " 14  weight        9971 non-null   float64\n",
      " 15  ast           9971 non-null   float64\n",
      " 16  hematokrit    9971 non-null   float64\n",
      "dtypes: float64(13), object(4)\n",
      "memory usage: 1.3+ MB\n"
     ]
    }
   ],
   "source": [
    "data_labor.info()"
   ],
   "metadata": {
    "collapsed": false,
    "pycharm": {
     "name": "#%%\n"
    }
   }
  },
  {
   "cell_type": "code",
   "execution_count": 144,
   "outputs": [
    {
     "name": "stdout",
     "output_type": "stream",
     "text": [
      "<class 'pandas.core.frame.DataFrame'>\n",
      "RangeIndex: 3128 entries, 0 to 3127\n",
      "Data columns (total 9 columns):\n",
      " #   Column            Non-Null Count  Dtype \n",
      "---  ------            --------------  ----- \n",
      " 0   birthdate         3128 non-null   object\n",
      " 1   address           3128 non-null   object\n",
      " 2   race              3128 non-null   object\n",
      " 3   current_location  3128 non-null   object\n",
      " 4   blood_group       3128 non-null   object\n",
      " 5   ssn               3128 non-null   object\n",
      " 6   name              3128 non-null   object\n",
      " 7   sex               3128 non-null   object\n",
      " 8   residence         3128 non-null   object\n",
      "dtypes: object(9)\n",
      "memory usage: 220.1+ KB\n"
     ]
    }
   ],
   "source": [
    "data_profiles.info()"
   ],
   "metadata": {
    "collapsed": false,
    "pycharm": {
     "name": "#%%\n"
    }
   }
  },
  {
   "cell_type": "markdown",
   "source": [
    "Zistili sme, že data_profiles obsahuje výlučne stringy, z tohto dôvodu nie je\n",
    "potrebná korekcia pre vychýlené hodnoty.\n",
    "\n",
    "Zoznam číselných atribútov, pre ktoré je možné upravovať tzv. outlierov:\n",
    "* hbver\n",
    "* erytrocyty\n",
    "* alt\n",
    "* leukocyty\n",
    "* etytr\n",
    "* hemoglobin\n",
    "* trombocyty\n",
    "* alp\n",
    "* er-cv\n",
    "* weight\n",
    "* ast\n",
    "* hematokrit\n",
    "\n",
    "Na začiatok sme sa rozhodli pre výpis základných štatistkých údajov metódou\n",
    "describe()."
   ],
   "metadata": {
    "collapsed": false,
    "pycharm": {
     "name": "#%% md\n"
    }
   }
  },
  {
   "cell_type": "code",
   "execution_count": 145,
   "outputs": [
    {
     "data": {
      "text/plain": "             hbver   erytrocyty          alt    leukocyty        etytr  \\\ncount  9971.000000  9971.000000  9971.000000  9971.000000  9971.000000   \nmean      6.071692     6.842049     1.120983     6.064355     5.318564   \nstd       1.000834     1.460087     2.019724     1.009118     1.393256   \nmin       2.148000     1.103640     0.000000     2.239400     0.548790   \n25%       5.401305     6.037930     0.563945     5.393100     4.444160   \n50%       6.071692     7.004430     0.780950     6.071080     5.120390   \n75%       6.742105     7.807580     1.166560     6.730190     6.019805   \nmax      10.532500    12.769020   100.000000     9.767710    10.673750   \n\n        hemoglobin   trombocyty          alp    indicator        er-cv  \\\ncount  9971.000000  9971.000000  9971.000000  9971.000000  9971.000000   \nmean      6.062952     6.084395    54.622262     0.643165    51.121580   \nstd       1.741981     1.006202    26.103211     0.479090    12.856008   \nmin       0.000000     2.587100     0.000000     0.000000     0.000000   \n25%       4.780500     5.407585    31.460750     0.000000    42.546015   \n50%       6.115310     6.084395    58.533820     1.000000    50.954600   \n75%       7.378890     6.765420    78.880725     1.000000    59.861495   \nmax      11.720370     9.774760   100.000000     1.000000   100.000000   \n\n            weight          ast   hematokrit  \ncount  9971.000000  9971.000000  9971.000000  \nmean     70.305658    50.459989     6.461410  \nstd      34.976941    12.771838     1.617865  \nmin     -54.061950     0.000000     1.991860  \n25%      46.128010    41.770680     5.127505  \n50%      70.793900    50.618370     6.753050  \n75%      94.071090    59.039665     7.490275  \nmax     194.734070   100.000000    13.021170  ",
      "text/html": "<div>\n<style scoped>\n    .dataframe tbody tr th:only-of-type {\n        vertical-align: middle;\n    }\n\n    .dataframe tbody tr th {\n        vertical-align: top;\n    }\n\n    .dataframe thead th {\n        text-align: right;\n    }\n</style>\n<table border=\"1\" class=\"dataframe\">\n  <thead>\n    <tr style=\"text-align: right;\">\n      <th></th>\n      <th>hbver</th>\n      <th>erytrocyty</th>\n      <th>alt</th>\n      <th>leukocyty</th>\n      <th>etytr</th>\n      <th>hemoglobin</th>\n      <th>trombocyty</th>\n      <th>alp</th>\n      <th>indicator</th>\n      <th>er-cv</th>\n      <th>weight</th>\n      <th>ast</th>\n      <th>hematokrit</th>\n    </tr>\n  </thead>\n  <tbody>\n    <tr>\n      <th>count</th>\n      <td>9971.000000</td>\n      <td>9971.000000</td>\n      <td>9971.000000</td>\n      <td>9971.000000</td>\n      <td>9971.000000</td>\n      <td>9971.000000</td>\n      <td>9971.000000</td>\n      <td>9971.000000</td>\n      <td>9971.000000</td>\n      <td>9971.000000</td>\n      <td>9971.000000</td>\n      <td>9971.000000</td>\n      <td>9971.000000</td>\n    </tr>\n    <tr>\n      <th>mean</th>\n      <td>6.071692</td>\n      <td>6.842049</td>\n      <td>1.120983</td>\n      <td>6.064355</td>\n      <td>5.318564</td>\n      <td>6.062952</td>\n      <td>6.084395</td>\n      <td>54.622262</td>\n      <td>0.643165</td>\n      <td>51.121580</td>\n      <td>70.305658</td>\n      <td>50.459989</td>\n      <td>6.461410</td>\n    </tr>\n    <tr>\n      <th>std</th>\n      <td>1.000834</td>\n      <td>1.460087</td>\n      <td>2.019724</td>\n      <td>1.009118</td>\n      <td>1.393256</td>\n      <td>1.741981</td>\n      <td>1.006202</td>\n      <td>26.103211</td>\n      <td>0.479090</td>\n      <td>12.856008</td>\n      <td>34.976941</td>\n      <td>12.771838</td>\n      <td>1.617865</td>\n    </tr>\n    <tr>\n      <th>min</th>\n      <td>2.148000</td>\n      <td>1.103640</td>\n      <td>0.000000</td>\n      <td>2.239400</td>\n      <td>0.548790</td>\n      <td>0.000000</td>\n      <td>2.587100</td>\n      <td>0.000000</td>\n      <td>0.000000</td>\n      <td>0.000000</td>\n      <td>-54.061950</td>\n      <td>0.000000</td>\n      <td>1.991860</td>\n    </tr>\n    <tr>\n      <th>25%</th>\n      <td>5.401305</td>\n      <td>6.037930</td>\n      <td>0.563945</td>\n      <td>5.393100</td>\n      <td>4.444160</td>\n      <td>4.780500</td>\n      <td>5.407585</td>\n      <td>31.460750</td>\n      <td>0.000000</td>\n      <td>42.546015</td>\n      <td>46.128010</td>\n      <td>41.770680</td>\n      <td>5.127505</td>\n    </tr>\n    <tr>\n      <th>50%</th>\n      <td>6.071692</td>\n      <td>7.004430</td>\n      <td>0.780950</td>\n      <td>6.071080</td>\n      <td>5.120390</td>\n      <td>6.115310</td>\n      <td>6.084395</td>\n      <td>58.533820</td>\n      <td>1.000000</td>\n      <td>50.954600</td>\n      <td>70.793900</td>\n      <td>50.618370</td>\n      <td>6.753050</td>\n    </tr>\n    <tr>\n      <th>75%</th>\n      <td>6.742105</td>\n      <td>7.807580</td>\n      <td>1.166560</td>\n      <td>6.730190</td>\n      <td>6.019805</td>\n      <td>7.378890</td>\n      <td>6.765420</td>\n      <td>78.880725</td>\n      <td>1.000000</td>\n      <td>59.861495</td>\n      <td>94.071090</td>\n      <td>59.039665</td>\n      <td>7.490275</td>\n    </tr>\n    <tr>\n      <th>max</th>\n      <td>10.532500</td>\n      <td>12.769020</td>\n      <td>100.000000</td>\n      <td>9.767710</td>\n      <td>10.673750</td>\n      <td>11.720370</td>\n      <td>9.774760</td>\n      <td>100.000000</td>\n      <td>1.000000</td>\n      <td>100.000000</td>\n      <td>194.734070</td>\n      <td>100.000000</td>\n      <td>13.021170</td>\n    </tr>\n  </tbody>\n</table>\n</div>"
     },
     "execution_count": 145,
     "metadata": {},
     "output_type": "execute_result"
    }
   ],
   "source": [
    "data_labor.describe()"
   ],
   "metadata": {
    "collapsed": false,
    "pycharm": {
     "name": "#%%\n"
    }
   }
  },
  {
   "cell_type": "markdown",
   "source": [
    "Z predchádzajúcej bunky sme zistili, že niektoré atribúty majú hodnoty viac\n",
    "roztrúsené ako iné. Jedným z extrémov bola váha, ktorej hodnoty siahali až\n",
    "do záporných hodnôt.\n",
    "\n",
    "Skrz tieto zistenia sme sa rozhodli, že váhu budeme upravovať samostatne a všetky\n",
    "zvyšné numerické atribúty ošetríme spoločne.\n",
    "\n",
    "Pre atribút váhy by sme navrhli riešenie pripočítania priemeru k hodnotám, ktoré\n",
    "spadajú pod istú hranicu s ohľadom na pohlavie.\n",
    "\n",
    "Na úpravu outlierov pre ostatné atribúty navrhujeme využiť metódu detekcie extrémov,\n",
    "ktoré ležia\n",
    "za dolnou alebo hornou hranicou, ktoré možno vypočítať z tzv. IQR (Interquartile range)."
   ],
   "metadata": {
    "collapsed": false,
    "pycharm": {
     "name": "#%% md\n"
    }
   }
  },
  {
   "cell_type": "markdown",
   "source": [
    "### VÁHA\n",
    "\n",
    "Náš návrh spočíva v zistení priemerných hodnôt u oboch pohlaví, čo by mohlo byť\n",
    "zohľadnené pri nahradzovaní záporných hodnôt.\n",
    "\n",
    "V bunkách nižšie je príklad kódu, ktorým by sme zistili rôzne hodnoty váh\n",
    "u mužov a žien."
   ],
   "metadata": {
    "collapsed": false,
    "pycharm": {
     "name": "#%% md\n"
    }
   }
  },
  {
   "cell_type": "code",
   "execution_count": 147,
   "outputs": [
    {
     "data": {
      "text/plain": "   smoker    hbver  erytrocyty      alt  leukocyty     etytr  hemoglobin  \\\n0     yes  4.98718     8.89463  2.40520    5.75830  6.937120     4.54976   \n1      no  5.00648     7.27841  0.82563    5.54481  5.032210     7.70354   \n2     yes  6.71966     7.01351  1.00377    5.66778  5.127990     7.73316   \n3     yes  6.67732     4.21847  0.66072    6.29064  5.199900     4.10863   \n4       Y  6.06875     5.68453  0.58818    3.90764  5.879430     6.89656   \n5       Y  6.05162     6.77173  0.45377    4.84219  5.318564     6.35723   \n6      no  6.51444     7.94461  1.28337    5.83567  6.887580     6.45793   \n7      no  6.34520     7.38959  0.86698    4.17522  4.904440     3.91870   \n8      no  5.31645     7.41004  0.85142    7.38934  5.339350     4.28161   \n9      no  6.05025     7.67537  0.83197    6.33300  4.459120     6.96013   \n10      Y  7.95429     8.06552  1.00639    6.42237  4.820760     7.09827   \n11     no  5.72942     6.24070  0.56171    5.30808  5.664370     7.20236   \n12    yes  6.20737     7.84993  0.93395    5.66904  4.886280     6.41332   \n13     no  4.78779     6.90640  1.08094    5.57291  5.013600     7.30853   \n14    yes  3.80189     7.70797  0.90030    5.97344  4.540130     7.00035   \n\n            ssn          name_x  trombocyty  ...       ast hematokrit  \\\n0   021-87-4523   Jeremy Tanner     6.23782  ...  51.62366    3.34206   \n1   021-87-4523   Jeremy Tanner     7.42732  ...  59.24840    6.85814   \n2   021-87-4523   Jeremy Tanner     5.42279  ...  46.12997    6.78850   \n3   513-39-9691   Jocelyn Kelly     6.27100  ...  61.59374    5.78180   \n4   513-39-9691   Jocelyn Kelly     7.03818  ...  64.44051    8.14506   \n5   513-39-9691   Jocelyn Kelly     5.20885  ...  38.20747    5.74776   \n6   881-46-4810  Crystal Kelley     6.02783  ...  47.96329    4.55230   \n7   881-46-4810  Crystal Kelley     4.13432  ...  46.57264    5.67578   \n8   881-46-4810  Crystal Kelley     6.85927  ...  44.68660    7.87799   \n9   826-16-7757    Doris Duncan     6.83876  ...  57.47174    7.17271   \n10  826-16-7757    Doris Duncan     5.40116  ...  62.05697    6.83501   \n11  826-16-7757    Doris Duncan     7.18158  ...  54.15458    7.25001   \n12  167-37-6059      John Parks     5.75903  ...  34.25820    6.93681   \n13  167-37-6059      John Parks     4.53679  ...  63.60217    7.11435   \n14  167-37-6059      John Parks     5.79125  ...  43.86770    7.70339   \n\n               birthdate                                           address  \\\n0   05/10/1923, 00:00:00                  PSC 7581, Box 0898\\nAPO AA 06225   \n1   05/10/1923, 00:00:00                  PSC 7581, Box 0898\\nAPO AA 06225   \n2   05/10/1923, 00:00:00                  PSC 7581, Box 0898\\nAPO AA 06225   \n3   12/08/1923, 00:00:00       175 Anita Pass\\nLake Davidchester, NC 93833   \n4   12/08/1923, 00:00:00       175 Anita Pass\\nLake Davidchester, NC 93833   \n5   12/08/1923, 00:00:00       175 Anita Pass\\nLake Davidchester, NC 93833   \n6   04/25/1939, 00:00:00          9086 Danny Cliff\\nMitchellport, NM 64440   \n7   04/25/1939, 00:00:00          9086 Danny Cliff\\nMitchellport, NM 64440   \n8   04/25/1939, 00:00:00          9086 Danny Cliff\\nMitchellport, NM 64440   \n9             1947/06/17                          USNV Lewis\\nFPO AA 51211   \n10            1947/06/17                          USNV Lewis\\nFPO AA 51211   \n11            1947/06/17                          USNV Lewis\\nFPO AA 51211   \n12            1980-03-04  0639 Ward Tunnel Suite 171\\nBlakehaven, NY 76920   \n13            1980-03-04  0639 Ward Tunnel Suite 171\\nBlakehaven, NY 76920   \n14            1980-03-04  0639 Ward Tunnel Suite 171\\nBlakehaven, NY 76920   \n\n      race                                 current_location  blood_group  \\\n0    asian     (Decimal('56.944534'), Decimal('42.355764'))           B-   \n1    asian     (Decimal('56.944534'), Decimal('42.355764'))           B-   \n2    asian     (Decimal('56.944534'), Decimal('42.355764'))           B-   \n3    asian     (Decimal('84.160623'), Decimal('21.685531'))          AB-   \n4    asian     (Decimal('84.160623'), Decimal('21.685531'))          AB-   \n5    asian     (Decimal('84.160623'), Decimal('21.685531'))          AB-   \n6    black   (Decimal('75.7681605'), Decimal('-60.890199'))           A-   \n7    black   (Decimal('75.7681605'), Decimal('-60.890199'))           A-   \n8    black   (Decimal('75.7681605'), Decimal('-60.890199'))           A-   \n9   indian    (Decimal('51.933690'), Decimal('-76.430283'))           O+   \n10  indian    (Decimal('51.933690'), Decimal('-76.430283'))           O+   \n11  indian    (Decimal('51.933690'), Decimal('-76.430283'))           O+   \n12   white  (Decimal('58.3347745'), Decimal('-158.934180'))          AB-   \n13   white  (Decimal('58.3347745'), Decimal('-158.934180'))          AB-   \n14   white  (Decimal('58.3347745'), Decimal('-158.934180'))          AB-   \n\n            name_y sex                                          residence  \n0    Jeremy Tanner   M            6041 Henry Inlet\\nHarrishaven, KS 63783  \n1    Jeremy Tanner   M            6041 Henry Inlet\\nHarrishaven, KS 63783  \n2    Jeremy Tanner   M            6041 Henry Inlet\\nHarrishaven, KS 63783  \n3    Jocelyn Kelly   F  04425 Wilson Crescent Apt. 364\\nLisashire, WY ...  \n4    Jocelyn Kelly   F  04425 Wilson Crescent Apt. 364\\nLisashire, WY ...  \n5    Jocelyn Kelly   F  04425 Wilson Crescent Apt. 364\\nLisashire, WY ...  \n6   Crystal Kelley   F                   Unit 6525 Box 9751\\nDPO AP 62291  \n7   Crystal Kelley   F                   Unit 6525 Box 9751\\nDPO AP 62291  \n8   Crystal Kelley   F                   Unit 6525 Box 9751\\nDPO AP 62291  \n9     Doris Duncan   F       7806 Laura Walk Apt. 892\\nDawnfort, WV 09432  \n10    Doris Duncan   F       7806 Laura Walk Apt. 892\\nDawnfort, WV 09432  \n11    Doris Duncan   F       7806 Laura Walk Apt. 892\\nDawnfort, WV 09432  \n12      John Parks   M                   Unit 5209 Box 9397\\nDPO AP 65304  \n13      John Parks   M                   Unit 5209 Box 9397\\nDPO AP 65304  \n14      John Parks   M                   Unit 5209 Box 9397\\nDPO AP 65304  \n\n[15 rows x 25 columns]",
      "text/html": "<div>\n<style scoped>\n    .dataframe tbody tr th:only-of-type {\n        vertical-align: middle;\n    }\n\n    .dataframe tbody tr th {\n        vertical-align: top;\n    }\n\n    .dataframe thead th {\n        text-align: right;\n    }\n</style>\n<table border=\"1\" class=\"dataframe\">\n  <thead>\n    <tr style=\"text-align: right;\">\n      <th></th>\n      <th>smoker</th>\n      <th>hbver</th>\n      <th>erytrocyty</th>\n      <th>alt</th>\n      <th>leukocyty</th>\n      <th>etytr</th>\n      <th>hemoglobin</th>\n      <th>ssn</th>\n      <th>name_x</th>\n      <th>trombocyty</th>\n      <th>...</th>\n      <th>ast</th>\n      <th>hematokrit</th>\n      <th>birthdate</th>\n      <th>address</th>\n      <th>race</th>\n      <th>current_location</th>\n      <th>blood_group</th>\n      <th>name_y</th>\n      <th>sex</th>\n      <th>residence</th>\n    </tr>\n  </thead>\n  <tbody>\n    <tr>\n      <th>0</th>\n      <td>yes</td>\n      <td>4.98718</td>\n      <td>8.89463</td>\n      <td>2.40520</td>\n      <td>5.75830</td>\n      <td>6.937120</td>\n      <td>4.54976</td>\n      <td>021-87-4523</td>\n      <td>Jeremy Tanner</td>\n      <td>6.23782</td>\n      <td>...</td>\n      <td>51.62366</td>\n      <td>3.34206</td>\n      <td>05/10/1923, 00:00:00</td>\n      <td>PSC 7581, Box 0898\\nAPO AA 06225</td>\n      <td>asian</td>\n      <td>(Decimal('56.944534'), Decimal('42.355764'))</td>\n      <td>B-</td>\n      <td>Jeremy Tanner</td>\n      <td>M</td>\n      <td>6041 Henry Inlet\\nHarrishaven, KS 63783</td>\n    </tr>\n    <tr>\n      <th>1</th>\n      <td>no</td>\n      <td>5.00648</td>\n      <td>7.27841</td>\n      <td>0.82563</td>\n      <td>5.54481</td>\n      <td>5.032210</td>\n      <td>7.70354</td>\n      <td>021-87-4523</td>\n      <td>Jeremy Tanner</td>\n      <td>7.42732</td>\n      <td>...</td>\n      <td>59.24840</td>\n      <td>6.85814</td>\n      <td>05/10/1923, 00:00:00</td>\n      <td>PSC 7581, Box 0898\\nAPO AA 06225</td>\n      <td>asian</td>\n      <td>(Decimal('56.944534'), Decimal('42.355764'))</td>\n      <td>B-</td>\n      <td>Jeremy Tanner</td>\n      <td>M</td>\n      <td>6041 Henry Inlet\\nHarrishaven, KS 63783</td>\n    </tr>\n    <tr>\n      <th>2</th>\n      <td>yes</td>\n      <td>6.71966</td>\n      <td>7.01351</td>\n      <td>1.00377</td>\n      <td>5.66778</td>\n      <td>5.127990</td>\n      <td>7.73316</td>\n      <td>021-87-4523</td>\n      <td>Jeremy Tanner</td>\n      <td>5.42279</td>\n      <td>...</td>\n      <td>46.12997</td>\n      <td>6.78850</td>\n      <td>05/10/1923, 00:00:00</td>\n      <td>PSC 7581, Box 0898\\nAPO AA 06225</td>\n      <td>asian</td>\n      <td>(Decimal('56.944534'), Decimal('42.355764'))</td>\n      <td>B-</td>\n      <td>Jeremy Tanner</td>\n      <td>M</td>\n      <td>6041 Henry Inlet\\nHarrishaven, KS 63783</td>\n    </tr>\n    <tr>\n      <th>3</th>\n      <td>yes</td>\n      <td>6.67732</td>\n      <td>4.21847</td>\n      <td>0.66072</td>\n      <td>6.29064</td>\n      <td>5.199900</td>\n      <td>4.10863</td>\n      <td>513-39-9691</td>\n      <td>Jocelyn Kelly</td>\n      <td>6.27100</td>\n      <td>...</td>\n      <td>61.59374</td>\n      <td>5.78180</td>\n      <td>12/08/1923, 00:00:00</td>\n      <td>175 Anita Pass\\nLake Davidchester, NC 93833</td>\n      <td>asian</td>\n      <td>(Decimal('84.160623'), Decimal('21.685531'))</td>\n      <td>AB-</td>\n      <td>Jocelyn Kelly</td>\n      <td>F</td>\n      <td>04425 Wilson Crescent Apt. 364\\nLisashire, WY ...</td>\n    </tr>\n    <tr>\n      <th>4</th>\n      <td>Y</td>\n      <td>6.06875</td>\n      <td>5.68453</td>\n      <td>0.58818</td>\n      <td>3.90764</td>\n      <td>5.879430</td>\n      <td>6.89656</td>\n      <td>513-39-9691</td>\n      <td>Jocelyn Kelly</td>\n      <td>7.03818</td>\n      <td>...</td>\n      <td>64.44051</td>\n      <td>8.14506</td>\n      <td>12/08/1923, 00:00:00</td>\n      <td>175 Anita Pass\\nLake Davidchester, NC 93833</td>\n      <td>asian</td>\n      <td>(Decimal('84.160623'), Decimal('21.685531'))</td>\n      <td>AB-</td>\n      <td>Jocelyn Kelly</td>\n      <td>F</td>\n      <td>04425 Wilson Crescent Apt. 364\\nLisashire, WY ...</td>\n    </tr>\n    <tr>\n      <th>5</th>\n      <td>Y</td>\n      <td>6.05162</td>\n      <td>6.77173</td>\n      <td>0.45377</td>\n      <td>4.84219</td>\n      <td>5.318564</td>\n      <td>6.35723</td>\n      <td>513-39-9691</td>\n      <td>Jocelyn Kelly</td>\n      <td>5.20885</td>\n      <td>...</td>\n      <td>38.20747</td>\n      <td>5.74776</td>\n      <td>12/08/1923, 00:00:00</td>\n      <td>175 Anita Pass\\nLake Davidchester, NC 93833</td>\n      <td>asian</td>\n      <td>(Decimal('84.160623'), Decimal('21.685531'))</td>\n      <td>AB-</td>\n      <td>Jocelyn Kelly</td>\n      <td>F</td>\n      <td>04425 Wilson Crescent Apt. 364\\nLisashire, WY ...</td>\n    </tr>\n    <tr>\n      <th>6</th>\n      <td>no</td>\n      <td>6.51444</td>\n      <td>7.94461</td>\n      <td>1.28337</td>\n      <td>5.83567</td>\n      <td>6.887580</td>\n      <td>6.45793</td>\n      <td>881-46-4810</td>\n      <td>Crystal Kelley</td>\n      <td>6.02783</td>\n      <td>...</td>\n      <td>47.96329</td>\n      <td>4.55230</td>\n      <td>04/25/1939, 00:00:00</td>\n      <td>9086 Danny Cliff\\nMitchellport, NM 64440</td>\n      <td>black</td>\n      <td>(Decimal('75.7681605'), Decimal('-60.890199'))</td>\n      <td>A-</td>\n      <td>Crystal Kelley</td>\n      <td>F</td>\n      <td>Unit 6525 Box 9751\\nDPO AP 62291</td>\n    </tr>\n    <tr>\n      <th>7</th>\n      <td>no</td>\n      <td>6.34520</td>\n      <td>7.38959</td>\n      <td>0.86698</td>\n      <td>4.17522</td>\n      <td>4.904440</td>\n      <td>3.91870</td>\n      <td>881-46-4810</td>\n      <td>Crystal Kelley</td>\n      <td>4.13432</td>\n      <td>...</td>\n      <td>46.57264</td>\n      <td>5.67578</td>\n      <td>04/25/1939, 00:00:00</td>\n      <td>9086 Danny Cliff\\nMitchellport, NM 64440</td>\n      <td>black</td>\n      <td>(Decimal('75.7681605'), Decimal('-60.890199'))</td>\n      <td>A-</td>\n      <td>Crystal Kelley</td>\n      <td>F</td>\n      <td>Unit 6525 Box 9751\\nDPO AP 62291</td>\n    </tr>\n    <tr>\n      <th>8</th>\n      <td>no</td>\n      <td>5.31645</td>\n      <td>7.41004</td>\n      <td>0.85142</td>\n      <td>7.38934</td>\n      <td>5.339350</td>\n      <td>4.28161</td>\n      <td>881-46-4810</td>\n      <td>Crystal Kelley</td>\n      <td>6.85927</td>\n      <td>...</td>\n      <td>44.68660</td>\n      <td>7.87799</td>\n      <td>04/25/1939, 00:00:00</td>\n      <td>9086 Danny Cliff\\nMitchellport, NM 64440</td>\n      <td>black</td>\n      <td>(Decimal('75.7681605'), Decimal('-60.890199'))</td>\n      <td>A-</td>\n      <td>Crystal Kelley</td>\n      <td>F</td>\n      <td>Unit 6525 Box 9751\\nDPO AP 62291</td>\n    </tr>\n    <tr>\n      <th>9</th>\n      <td>no</td>\n      <td>6.05025</td>\n      <td>7.67537</td>\n      <td>0.83197</td>\n      <td>6.33300</td>\n      <td>4.459120</td>\n      <td>6.96013</td>\n      <td>826-16-7757</td>\n      <td>Doris Duncan</td>\n      <td>6.83876</td>\n      <td>...</td>\n      <td>57.47174</td>\n      <td>7.17271</td>\n      <td>1947/06/17</td>\n      <td>USNV Lewis\\nFPO AA 51211</td>\n      <td>indian</td>\n      <td>(Decimal('51.933690'), Decimal('-76.430283'))</td>\n      <td>O+</td>\n      <td>Doris Duncan</td>\n      <td>F</td>\n      <td>7806 Laura Walk Apt. 892\\nDawnfort, WV 09432</td>\n    </tr>\n    <tr>\n      <th>10</th>\n      <td>Y</td>\n      <td>7.95429</td>\n      <td>8.06552</td>\n      <td>1.00639</td>\n      <td>6.42237</td>\n      <td>4.820760</td>\n      <td>7.09827</td>\n      <td>826-16-7757</td>\n      <td>Doris Duncan</td>\n      <td>5.40116</td>\n      <td>...</td>\n      <td>62.05697</td>\n      <td>6.83501</td>\n      <td>1947/06/17</td>\n      <td>USNV Lewis\\nFPO AA 51211</td>\n      <td>indian</td>\n      <td>(Decimal('51.933690'), Decimal('-76.430283'))</td>\n      <td>O+</td>\n      <td>Doris Duncan</td>\n      <td>F</td>\n      <td>7806 Laura Walk Apt. 892\\nDawnfort, WV 09432</td>\n    </tr>\n    <tr>\n      <th>11</th>\n      <td>no</td>\n      <td>5.72942</td>\n      <td>6.24070</td>\n      <td>0.56171</td>\n      <td>5.30808</td>\n      <td>5.664370</td>\n      <td>7.20236</td>\n      <td>826-16-7757</td>\n      <td>Doris Duncan</td>\n      <td>7.18158</td>\n      <td>...</td>\n      <td>54.15458</td>\n      <td>7.25001</td>\n      <td>1947/06/17</td>\n      <td>USNV Lewis\\nFPO AA 51211</td>\n      <td>indian</td>\n      <td>(Decimal('51.933690'), Decimal('-76.430283'))</td>\n      <td>O+</td>\n      <td>Doris Duncan</td>\n      <td>F</td>\n      <td>7806 Laura Walk Apt. 892\\nDawnfort, WV 09432</td>\n    </tr>\n    <tr>\n      <th>12</th>\n      <td>yes</td>\n      <td>6.20737</td>\n      <td>7.84993</td>\n      <td>0.93395</td>\n      <td>5.66904</td>\n      <td>4.886280</td>\n      <td>6.41332</td>\n      <td>167-37-6059</td>\n      <td>John Parks</td>\n      <td>5.75903</td>\n      <td>...</td>\n      <td>34.25820</td>\n      <td>6.93681</td>\n      <td>1980-03-04</td>\n      <td>0639 Ward Tunnel Suite 171\\nBlakehaven, NY 76920</td>\n      <td>white</td>\n      <td>(Decimal('58.3347745'), Decimal('-158.934180'))</td>\n      <td>AB-</td>\n      <td>John Parks</td>\n      <td>M</td>\n      <td>Unit 5209 Box 9397\\nDPO AP 65304</td>\n    </tr>\n    <tr>\n      <th>13</th>\n      <td>no</td>\n      <td>4.78779</td>\n      <td>6.90640</td>\n      <td>1.08094</td>\n      <td>5.57291</td>\n      <td>5.013600</td>\n      <td>7.30853</td>\n      <td>167-37-6059</td>\n      <td>John Parks</td>\n      <td>4.53679</td>\n      <td>...</td>\n      <td>63.60217</td>\n      <td>7.11435</td>\n      <td>1980-03-04</td>\n      <td>0639 Ward Tunnel Suite 171\\nBlakehaven, NY 76920</td>\n      <td>white</td>\n      <td>(Decimal('58.3347745'), Decimal('-158.934180'))</td>\n      <td>AB-</td>\n      <td>John Parks</td>\n      <td>M</td>\n      <td>Unit 5209 Box 9397\\nDPO AP 65304</td>\n    </tr>\n    <tr>\n      <th>14</th>\n      <td>yes</td>\n      <td>3.80189</td>\n      <td>7.70797</td>\n      <td>0.90030</td>\n      <td>5.97344</td>\n      <td>4.540130</td>\n      <td>7.00035</td>\n      <td>167-37-6059</td>\n      <td>John Parks</td>\n      <td>5.79125</td>\n      <td>...</td>\n      <td>43.86770</td>\n      <td>7.70339</td>\n      <td>1980-03-04</td>\n      <td>0639 Ward Tunnel Suite 171\\nBlakehaven, NY 76920</td>\n      <td>white</td>\n      <td>(Decimal('58.3347745'), Decimal('-158.934180'))</td>\n      <td>AB-</td>\n      <td>John Parks</td>\n      <td>M</td>\n      <td>Unit 5209 Box 9397\\nDPO AP 65304</td>\n    </tr>\n  </tbody>\n</table>\n<p>15 rows × 25 columns</p>\n</div>"
     },
     "execution_count": 147,
     "metadata": {},
     "output_type": "execute_result"
    }
   ],
   "source": [
    "# merged_data = pd.merge(data_labor, data_profiles, on=\"ssn\")\n",
    "# merged_data.head(15)"
   ],
   "metadata": {
    "collapsed": false,
    "pycharm": {
     "name": "#%%\n"
    }
   }
  },
  {
   "cell_type": "code",
   "execution_count": 149,
   "outputs": [
    {
     "data": {
      "text/plain": "count    4811.000000\nmean       70.839264\nstd        35.079659\nmin       -54.061950\n25%        46.259480\n50%        71.352840\n75%        95.287365\nmax       191.655300\nName: weight, dtype: float64"
     },
     "execution_count": 149,
     "metadata": {},
     "output_type": "execute_result"
    }
   ],
   "source": [
    "# data_f_weight = merged_data.loc[merged_data[\"sex\"] == \"F\", \"weight\"]\n",
    "# data_f_weight.describe()"
   ],
   "metadata": {
    "collapsed": false,
    "pycharm": {
     "name": "#%%\n"
    }
   }
  },
  {
   "cell_type": "code",
   "execution_count": 150,
   "outputs": [
    {
     "data": {
      "text/plain": "count    5160.000000\nmean       69.808143\nstd        34.876943\nmin       -52.358140\n25%        46.000750\n50%        70.126505\n75%        92.994408\nmax       194.734070\nName: weight, dtype: float64"
     },
     "execution_count": 150,
     "metadata": {},
     "output_type": "execute_result"
    }
   ],
   "source": [
    "# data_m_weight = merged_data.loc[merged_data[\"sex\"] == \"M\", \"weight\"]\n",
    "# data_m_weight.describe()"
   ],
   "metadata": {
    "collapsed": false,
    "pycharm": {
     "name": "#%%\n"
    }
   }
  },
  {
   "cell_type": "markdown",
   "source": [
    "Nižšie sa nachádza vzorový kód, ktorý by mohol byť použiteľný v prípade, ak by\n",
    "hodnoty priemerných váh u oboch pohlaví boli identické alebo aspoň podobné."
   ],
   "metadata": {
    "collapsed": false,
    "pycharm": {
     "name": "#%% md\n"
    }
   }
  },
  {
   "cell_type": "code",
   "execution_count": 76,
   "outputs": [
    {
     "name": "stderr",
     "output_type": "stream",
     "text": [
      "/tmp/ipykernel_18176/3867803845.py:3: SettingWithCopyWarning: \n",
      "A value is trying to be set on a copy of a slice from a DataFrame\n",
      "\n",
      "See the caveats in the documentation: https://pandas.pydata.org/pandas-docs/stable/user_guide/indexing.html#returning-a-view-versus-a-copy\n",
      "  data_labor[\"weight\"][x] = data_labor[\"weight\"][x] + data_labor[\"weight\"].mean()\n"
     ]
    }
   ],
   "source": [
    "\"\"\"\n",
    "for x in data_labor.index:\n",
    "    if data_labor.loc[x, \"weight\"] < 5:\n",
    "        data_labor[\"weight\"][x] = data_labor[\"weight\"][x] + data_labor[\"weight\"].mean()\n",
    "\"\"\"\n"
   ],
   "metadata": {
    "collapsed": false,
    "pycharm": {
     "name": "#%%\n"
    }
   }
  },
  {
   "cell_type": "markdown",
   "source": [
    "Všetky ostatné atribúty by sme riešili pomocou metódy quantile_calc().\n",
    "V tejto metóde počítame IQR pomocou daného vzorca s tým, že hodnotu IQR\n",
    "použijeme na určenie lower a upper whisker. Tieto hodnoty sú hraničné, pričom\n",
    "ak sa im hodnoty atribútov vymykajú, ide o tzv. outliers,\n",
    "ktorých hodnoty budú následne upravené.\n",
    "\n",
    "Na záver funkcia vykreslí aj boxplot na vizuálne zobrazenie kvartilov a whiskerov\n",
    "a vráti tieto hraničné hodnoty."
   ],
   "metadata": {
    "collapsed": false,
    "pycharm": {
     "name": "#%% md\n"
    }
   }
  },
  {
   "cell_type": "code",
   "execution_count": null,
   "outputs": [],
   "source": [
    "def quantile_calc(column):\n",
    "    Q1 = data_labor[column].quantile(0.25)\n",
    "    Q3 = data_labor[column].quantile(0.75)\n",
    "    IQR = Q3 - Q1\n",
    "    print(Q1)\n",
    "    print(Q3)\n",
    "    print(IQR)\n",
    "    Lower_Whisker = Q1-1.5*IQR if Q1-1.5*IQR > 0 else 0\n",
    "    Upper_Whisker = Q3+1.5*IQR\n",
    "    print(Lower_Whisker, Upper_Whisker)\n",
    "\n",
    "    sns.boxplot(x=data_labor[column])\n",
    "\n",
    "    return Lower_Whisker, Upper_Whisker"
   ],
   "metadata": {
    "collapsed": false,
    "pycharm": {
     "name": "#%%\n"
    }
   }
  },
  {
   "cell_type": "markdown",
   "source": [
    "Pomocou tejto funkcie a konkrétnych hraničných hodnôt pre jednotlivé atribúty\n",
    "by sme upravili ich distribúcie individuálne.\n",
    "Ak by daný atribút potreboval individuálny prístup v zmysle, že jeho vychýlené\n",
    "hodnoty sú roztrúsené omnoho viac ako pri normálnejších distribúciách,\n",
    "použili by sme ručne napísaný kód.\n",
    "V iných prípadoch by sme použili funkciu move_outliers(), ktorej kód je nižšie."
   ],
   "metadata": {
    "collapsed": false,
    "pycharm": {
     "name": "#%% md\n"
    }
   }
  },
  {
   "cell_type": "code",
   "execution_count": 154,
   "outputs": [],
   "source": [
    "def move_outliers(lower, upper, attr):\n",
    "    for i in data_labor.index:\n",
    "        if data_labor.loc[i, attr] < lower:\n",
    "            data_labor[attr][i] = data_labor[attr][i] + lower\n",
    "        elif data_labor.loc[i, attr] > upper:\n",
    "            data_labor[attr][i] = data_labor[attr][i] - lower\n",
    "\n",
    "    sns.boxplot(x=data_labor[attr])"
   ],
   "metadata": {
    "collapsed": false,
    "pycharm": {
     "name": "#%%\n"
    }
   }
  },
  {
   "cell_type": "markdown",
   "source": [
    "Príklady, ako by sme tieto úpravy vykonali, sú zobrazené nižšie aj s dostupným\n",
    "kódom. Pri atribúte alt je ukážka, kedy bol potrebný individuálny prístup, keďže\n",
    "sme chceli ponechať outlierov outliermi, ale v rozumnejšej miere, aby sa nenarušila\n",
    "podstata vychýlených hodnôt, ktoré taktiež ukazujú dôležitú výpovednú hodnotu.\n",
    "\n",
    "## ALT"
   ],
   "metadata": {
    "collapsed": false,
    "pycharm": {
     "name": "#%% md\n"
    }
   }
  },
  {
   "cell_type": "code",
   "execution_count": 79,
   "outputs": [
    {
     "name": "stdout",
     "output_type": "stream",
     "text": [
      "0.5640775\n",
      "1.1642299999999999\n",
      "0.6001524999999999\n",
      "0 2.0644587499999996\n"
     ]
    },
    {
     "data": {
      "text/plain": "<Figure size 432x288 with 1 Axes>",
      "image/png": "[encoded data removed]"
     },
     "metadata": {},
     "output_type": "display_data"
    }
   ],
   "source": [
    "lower, upper = quantile_calc(\"alt\")"
   ],
   "metadata": {
    "collapsed": false,
    "pycharm": {
     "name": "#%%\n"
    }
   }
  },
  {
   "cell_type": "markdown",
   "source": [
    "Zistili sme, že máme priveľa **vychýlených hodnôt** a nemôžeme všetky vyhodiť z nášho datasetu.\n",
    "Preto sme sa rozhodli pre metódu úpravy hodnôt pomocou **kvantilov** s individuálnym prístupom."
   ],
   "metadata": {
    "collapsed": false,
    "pycharm": {
     "name": "#%% md\n"
    }
   }
  },
  {
   "cell_type": "code",
   "execution_count": 80,
   "outputs": [
    {
     "name": "stderr",
     "output_type": "stream",
     "text": [
      "/tmp/ipykernel_18176/1311290690.py:8: SettingWithCopyWarning: \n",
      "A value is trying to be set on a copy of a slice from a DataFrame\n",
      "\n",
      "See the caveats in the documentation: https://pandas.pydata.org/pandas-docs/stable/user_guide/indexing.html#returning-a-view-versus-a-copy\n",
      "  data_labor[\"alt\"][x] = (data_labor[\"alt\"][x]/(upper*25)) + upper\n"
     ]
    },
    {
     "data": {
      "text/plain": "<AxesSubplot:xlabel='alt'>"
     },
     "execution_count": 80,
     "metadata": {},
     "output_type": "execute_result"
    },
    {
     "data": {
      "text/plain": "<Figure size 432x288 with 1 Axes>",
      "image/png": "[encoded data removed]"
     },
     "metadata": {},
     "output_type": "display_data"
    }
   ],
   "source": [
    "# 2.5 -> 2.05\n",
    "# 5 -> 2.10\n",
    "# 20 -> 2.40\n",
    "# 100 -> 4.00\n",
    "\n",
    "for x in data_labor.index:\n",
    "    if data_labor.loc[x, \"alt\"] > upper:\n",
    "        data_labor[\"alt\"][x] = (data_labor[\"alt\"][x]/(upper*25)) + upper\n",
    "\n",
    "sns.boxplot(x=data_labor[\"alt\"])"
   ],
   "metadata": {
    "collapsed": false,
    "pycharm": {
     "name": "#%%\n"
    }
   }
  },
  {
   "cell_type": "markdown",
   "source": [
    "## HEMOGLOBÍN\n",
    "\n",
    "Ako úpravu sme opäť zvolili pripočítanie istej hodnoty k \"outlierom\", aby sme ich\n",
    "\"shiftli\" do normálneho intervalu."
   ],
   "metadata": {
    "collapsed": false,
    "pycharm": {
     "name": "#%% md\n"
    }
   }
  },
  {
   "cell_type": "code",
   "execution_count": 155,
   "outputs": [
    {
     "name": "stdout",
     "output_type": "stream",
     "text": [
      "4.7805\n",
      "7.37889\n",
      "2.59839\n",
      "0.8829149999999997 11.276475000000001\n"
     ]
    },
    {
     "data": {
      "text/plain": "<Figure size 432x288 with 1 Axes>",
      "image/png": "[encoded data removed]"
     },
     "metadata": {},
     "output_type": "display_data"
    }
   ],
   "source": [
    "lower, upper = quantile_calc(\"hemoglobin\")"
   ],
   "metadata": {
    "collapsed": false,
    "pycharm": {
     "name": "#%%\n"
    }
   }
  },
  {
   "cell_type": "code",
   "execution_count": 156,
   "outputs": [
    {
     "name": "stderr",
     "output_type": "stream",
     "text": [
      "/tmp/ipykernel_18176/1719076402.py:4: SettingWithCopyWarning: \n",
      "A value is trying to be set on a copy of a slice from a DataFrame\n",
      "\n",
      "See the caveats in the documentation: https://pandas.pydata.org/pandas-docs/stable/user_guide/indexing.html#returning-a-view-versus-a-copy\n",
      "  data_labor[attr][i] = data_labor[attr][i] + lower\n",
      "/tmp/ipykernel_18176/1719076402.py:6: SettingWithCopyWarning: \n",
      "A value is trying to be set on a copy of a slice from a DataFrame\n",
      "\n",
      "See the caveats in the documentation: https://pandas.pydata.org/pandas-docs/stable/user_guide/indexing.html#returning-a-view-versus-a-copy\n",
      "  data_labor[attr][i] = data_labor[attr][i] - lower\n"
     ]
    },
    {
     "data": {
      "text/plain": "<Figure size 432x288 with 1 Axes>",
      "image/png": "[encoded data removed]"
     },
     "metadata": {},
     "output_type": "display_data"
    }
   ],
   "source": [
    "move_outliers(lower, upper, \"hemoglobin\")"
   ],
   "metadata": {
    "collapsed": false,
    "pycharm": {
     "name": "#%%\n"
    }
   }
  },
  {
   "cell_type": "markdown",
   "source": [
    "## ALP\n",
    "\n",
    "Hodnoty alpu sme nemuseli upravovať, keďže boxplot z našej funkcie nevykreslil nijakých\n",
    "outlierov. Preto sme sa rozhodli daný atribút neupravovať."
   ],
   "metadata": {
    "collapsed": false
   }
  },
  {
   "cell_type": "code",
   "execution_count": 151,
   "outputs": [
    {
     "name": "stdout",
     "output_type": "stream",
     "text": [
      "31.460749999999997\n",
      "78.880725\n",
      "47.419975\n",
      "0 150.01068750000002\n"
     ]
    },
    {
     "data": {
      "text/plain": "(0, 150.01068750000002)"
     },
     "execution_count": 151,
     "metadata": {},
     "output_type": "execute_result"
    },
    {
     "data": {
      "text/plain": "<Figure size 432x288 with 1 Axes>",
      "image/png": "[encoded data removed]"
     },
     "metadata": {},
     "output_type": "display_data"
    }
   ],
   "source": [
    "quantile_calc(\"alp\")"
   ],
   "metadata": {
    "collapsed": false,
    "pycharm": {
     "name": "#%%\n"
    }
   }
  },
  {
   "cell_type": "markdown",
   "source": [
    "## ER-CV\n",
    "\n",
    "Opäť raz sme použili našu funkciu **quantile_calc()**, ktorá nám okrem\n",
    "hraničných hodnôt vykreslila boxplot, v ktorom môžeme graficky odpozorovať\n",
    "vymykajúce sa hodnoty er-cv atribútu."
   ],
   "metadata": {
    "collapsed": false,
    "pycharm": {
     "name": "#%% md\n"
    }
   }
  },
  {
   "cell_type": "code",
   "execution_count": 87,
   "outputs": [
    {
     "name": "stdout",
     "output_type": "stream",
     "text": [
      "42.5272275\n",
      "59.8599\n",
      "17.3326725\n",
      "16.52821875 85.85890875000001\n"
     ]
    },
    {
     "data": {
      "text/plain": "<Figure size 432x288 with 1 Axes>",
      "image/png": "[encoded data removed]"
     },
     "metadata": {},
     "output_type": "display_data"
    }
   ],
   "source": [
    "lower, upper = quantile_calc(\"er-cv\")"
   ],
   "metadata": {
    "collapsed": false,
    "pycharm": {
     "name": "#%%\n"
    }
   }
  },
  {
   "cell_type": "code",
   "execution_count": 88,
   "outputs": [
    {
     "name": "stderr",
     "output_type": "stream",
     "text": [
      "/tmp/ipykernel_18176/2057292394.py:5: SettingWithCopyWarning: \n",
      "A value is trying to be set on a copy of a slice from a DataFrame\n",
      "\n",
      "See the caveats in the documentation: https://pandas.pydata.org/pandas-docs/stable/user_guide/indexing.html#returning-a-view-versus-a-copy\n",
      "  data_labor[\"er-cv\"][x] = data_labor[\"er-cv\"][x] - lower\n",
      "/tmp/ipykernel_18176/2057292394.py:3: SettingWithCopyWarning: \n",
      "A value is trying to be set on a copy of a slice from a DataFrame\n",
      "\n",
      "See the caveats in the documentation: https://pandas.pydata.org/pandas-docs/stable/user_guide/indexing.html#returning-a-view-versus-a-copy\n",
      "  data_labor[\"er-cv\"][x] = data_labor[\"er-cv\"][x] + lower\n"
     ]
    },
    {
     "data": {
      "text/plain": "<AxesSubplot:xlabel='er-cv'>"
     },
     "execution_count": 88,
     "metadata": {},
     "output_type": "execute_result"
    },
    {
     "data": {
      "text/plain": "<Figure size 432x288 with 1 Axes>",
      "image/png": "[encoded data removed]"
     },
     "metadata": {},
     "output_type": "display_data"
    }
   ],
   "source": [
    "move_outliers(lower, upper, \"er-cv\")"
   ],
   "metadata": {
    "collapsed": false,
    "pycharm": {
     "name": "#%%\n"
    }
   }
  },
  {
   "cell_type": "markdown",
   "source": [
    "## AST\n",
    "\n",
    "Pri atribúte AST sme zvolili identickú taktiku ako pri atribúte er-cv.\n",
    "* výpočet hraníc a vykreslenie boxplotu\n",
    "* úprava outlierov pripočítaním/odpočítaním spodnej hranice"
   ],
   "metadata": {
    "collapsed": false,
    "pycharm": {
     "name": "#%% md\n"
    }
   }
  },
  {
   "cell_type": "code",
   "execution_count": 90,
   "outputs": [
    {
     "name": "stdout",
     "output_type": "stream",
     "text": [
      "41.8184625\n",
      "59.0379075\n",
      "17.219445\n",
      "15.989295000000002 84.867075\n"
     ]
    },
    {
     "data": {
      "text/plain": "<Figure size 432x288 with 1 Axes>",
      "image/png": "[encoded data removed]"
     },
     "metadata": {},
     "output_type": "display_data"
    }
   ],
   "source": [
    "lower, upper = quantile_calc(\"ast\")"
   ],
   "metadata": {
    "collapsed": false,
    "pycharm": {
     "name": "#%%\n"
    }
   }
  },
  {
   "cell_type": "code",
   "execution_count": 91,
   "outputs": [
    {
     "name": "stderr",
     "output_type": "stream",
     "text": [
      "/tmp/ipykernel_18176/1710326038.py:5: SettingWithCopyWarning: \n",
      "A value is trying to be set on a copy of a slice from a DataFrame\n",
      "\n",
      "See the caveats in the documentation: https://pandas.pydata.org/pandas-docs/stable/user_guide/indexing.html#returning-a-view-versus-a-copy\n",
      "  data_labor[\"ast\"][x] = data_labor[\"ast\"][x] - lower\n",
      "/tmp/ipykernel_18176/1710326038.py:3: SettingWithCopyWarning: \n",
      "A value is trying to be set on a copy of a slice from a DataFrame\n",
      "\n",
      "See the caveats in the documentation: https://pandas.pydata.org/pandas-docs/stable/user_guide/indexing.html#returning-a-view-versus-a-copy\n",
      "  data_labor[\"ast\"][x] = data_labor[\"ast\"][x] + lower\n"
     ]
    },
    {
     "data": {
      "text/plain": "<AxesSubplot:xlabel='ast'>"
     },
     "execution_count": 91,
     "metadata": {},
     "output_type": "execute_result"
    },
    {
     "data": {
      "text/plain": "<Figure size 432x288 with 1 Axes>",
      "image/png": "[encoded data removed]"
     },
     "metadata": {},
     "output_type": "display_data"
    }
   ],
   "source": [
    "move_outliers(lower, upper, \"ast\")"
   ],
   "metadata": {
    "collapsed": false,
    "pycharm": {
     "name": "#%%\n"
    }
   }
  },
  {
   "cell_type": "code",
   "execution_count": 92,
   "outputs": [
    {
     "data": {
      "text/plain": "            smoker        hbver   erytrocyty          alt    leukocyty  \\\ncount  9872.000000  9872.000000  9872.000000  9872.000000  9872.000000   \nmean      0.406098     6.070715     6.840748     0.936207     6.066094   \nstd       0.491128     1.000591     1.460582     0.519735     1.009063   \nmin       0.000000     2.148000     1.103640     0.000000     2.239400   \n25%       0.000000     5.400250     6.036600     0.564078     5.396910   \n50%       0.000000     6.071692     7.004295     0.781535     6.071800   \n75%       1.000000     6.741408     7.806072     1.164230     6.732252   \nmax       1.000000    10.532500    12.769020     4.002013     9.767710   \n\n             etytr   hemoglobin   trombocyty          alp    indicator  \\\ncount  9872.000000  9872.000000  9872.000000  9872.000000  9872.000000   \nmean      5.318936     6.062830     6.082949    54.632998     0.642929   \nstd       1.392034     1.740366     1.007018    26.084256     0.479160   \nmin       0.548790     0.883889     2.587100     0.000000     0.000000   \n25%       4.445485     4.780697     5.405445    31.522015     0.000000   \n50%       5.120610     6.109925     6.084217    58.543195     1.000000   \n75%       6.019728     7.378570     6.765375    78.873415     1.000000   \nmax      10.673750    11.720370     9.774760   100.000000     1.000000   \n\n             er-cv       weight          ast   hematokrit  \ncount  9872.000000  9872.000000  9872.000000  9872.000000  \nmean     51.125632    72.421383    50.475143     6.460605  \nstd      12.536947    32.166619    12.512106     1.618713  \nmin      16.528219     5.046350    15.989295     1.991860  \n25%      42.527228    49.105900    41.818463     5.126325  \n50%      50.944565    71.381830    50.614025     6.751880  \n75%      59.859900    94.053502    59.037908     7.489332  \nmax      85.724780   194.734070    84.846140    13.021170  ",
      "text/html": "<div>\n<style scoped>\n    .dataframe tbody tr th:only-of-type {\n        vertical-align: middle;\n    }\n\n    .dataframe tbody tr th {\n        vertical-align: top;\n    }\n\n    .dataframe thead th {\n        text-align: right;\n    }\n</style>\n<table border=\"1\" class=\"dataframe\">\n  <thead>\n    <tr style=\"text-align: right;\">\n      <th></th>\n      <th>smoker</th>\n      <th>hbver</th>\n      <th>erytrocyty</th>\n      <th>alt</th>\n      <th>leukocyty</th>\n      <th>etytr</th>\n      <th>hemoglobin</th>\n      <th>trombocyty</th>\n      <th>alp</th>\n      <th>indicator</th>\n      <th>er-cv</th>\n      <th>weight</th>\n      <th>ast</th>\n      <th>hematokrit</th>\n    </tr>\n  </thead>\n  <tbody>\n    <tr>\n      <th>count</th>\n      <td>9872.000000</td>\n      <td>9872.000000</td>\n      <td>9872.000000</td>\n      <td>9872.000000</td>\n      <td>9872.000000</td>\n      <td>9872.000000</td>\n      <td>9872.000000</td>\n      <td>9872.000000</td>\n      <td>9872.000000</td>\n      <td>9872.000000</td>\n      <td>9872.000000</td>\n      <td>9872.000000</td>\n      <td>9872.000000</td>\n      <td>9872.000000</td>\n    </tr>\n    <tr>\n      <th>mean</th>\n      <td>0.406098</td>\n      <td>6.070715</td>\n      <td>6.840748</td>\n      <td>0.936207</td>\n      <td>6.066094</td>\n      <td>5.318936</td>\n      <td>6.062830</td>\n      <td>6.082949</td>\n      <td>54.632998</td>\n      <td>0.642929</td>\n      <td>51.125632</td>\n      <td>72.421383</td>\n      <td>50.475143</td>\n      <td>6.460605</td>\n    </tr>\n    <tr>\n      <th>std</th>\n      <td>0.491128</td>\n      <td>1.000591</td>\n      <td>1.460582</td>\n      <td>0.519735</td>\n      <td>1.009063</td>\n      <td>1.392034</td>\n      <td>1.740366</td>\n      <td>1.007018</td>\n      <td>26.084256</td>\n      <td>0.479160</td>\n      <td>12.536947</td>\n      <td>32.166619</td>\n      <td>12.512106</td>\n      <td>1.618713</td>\n    </tr>\n    <tr>\n      <th>min</th>\n      <td>0.000000</td>\n      <td>2.148000</td>\n      <td>1.103640</td>\n      <td>0.000000</td>\n      <td>2.239400</td>\n      <td>0.548790</td>\n      <td>0.883889</td>\n      <td>2.587100</td>\n      <td>0.000000</td>\n      <td>0.000000</td>\n      <td>16.528219</td>\n      <td>5.046350</td>\n      <td>15.989295</td>\n      <td>1.991860</td>\n    </tr>\n    <tr>\n      <th>25%</th>\n      <td>0.000000</td>\n      <td>5.400250</td>\n      <td>6.036600</td>\n      <td>0.564078</td>\n      <td>5.396910</td>\n      <td>4.445485</td>\n      <td>4.780697</td>\n      <td>5.405445</td>\n      <td>31.522015</td>\n      <td>0.000000</td>\n      <td>42.527228</td>\n      <td>49.105900</td>\n      <td>41.818463</td>\n      <td>5.126325</td>\n    </tr>\n    <tr>\n      <th>50%</th>\n      <td>0.000000</td>\n      <td>6.071692</td>\n      <td>7.004295</td>\n      <td>0.781535</td>\n      <td>6.071800</td>\n      <td>5.120610</td>\n      <td>6.109925</td>\n      <td>6.084217</td>\n      <td>58.543195</td>\n      <td>1.000000</td>\n      <td>50.944565</td>\n      <td>71.381830</td>\n      <td>50.614025</td>\n      <td>6.751880</td>\n    </tr>\n    <tr>\n      <th>75%</th>\n      <td>1.000000</td>\n      <td>6.741408</td>\n      <td>7.806072</td>\n      <td>1.164230</td>\n      <td>6.732252</td>\n      <td>6.019728</td>\n      <td>7.378570</td>\n      <td>6.765375</td>\n      <td>78.873415</td>\n      <td>1.000000</td>\n      <td>59.859900</td>\n      <td>94.053502</td>\n      <td>59.037908</td>\n      <td>7.489332</td>\n    </tr>\n    <tr>\n      <th>max</th>\n      <td>1.000000</td>\n      <td>10.532500</td>\n      <td>12.769020</td>\n      <td>4.002013</td>\n      <td>9.767710</td>\n      <td>10.673750</td>\n      <td>11.720370</td>\n      <td>9.774760</td>\n      <td>100.000000</td>\n      <td>1.000000</td>\n      <td>85.724780</td>\n      <td>194.734070</td>\n      <td>84.846140</td>\n      <td>13.021170</td>\n    </tr>\n  </tbody>\n</table>\n</div>"
     },
     "execution_count": 92,
     "metadata": {},
     "output_type": "execute_result"
    }
   ],
   "source": [
    "data_labor.describe()\n"
   ],
   "metadata": {
    "collapsed": false,
    "pycharm": {
     "name": "#%%\n"
    }
   }
  }
 ],
 "metadata": {
  "kernelspec": {
   "display_name": "Python 3",
   "language": "python",
   "name": "python3"
  },
  "language_info": {
   "codemirror_mode": {
    "name": "ipython",
    "version": 2
   },
   "file_extension": ".py",
   "mimetype": "text/x-python",
   "name": "python",
   "nbconvert_exporter": "python",
   "pygments_lexer": "ipython2",
   "version": "2.7.6"
  }
 },
 "nbformat": 4,
 "nbformat_minor": 0
}