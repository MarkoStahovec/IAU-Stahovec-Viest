{
 "cells": [
  {
   "cell_type": "markdown",
   "metadata": {
    "collapsed": true,
    "pycharm": {
     "name": "#%% md\n"
    }
   },
   "source": [
    "# IAU-PROJEKT, STAHOVEC a VIEST\n",
    "------------------------------------------------\n",
    "Projekt začína základnými importmi pre knižnice, ktoré budeme v projekte používať"
   ]
  },
  {
   "cell_type": "code",
   "execution_count": 109,
   "outputs": [],
   "source": [
    "import pandas as pd\n",
    "import numpy as np\n",
    "import seaborn as sns"
   ],
   "metadata": {
    "collapsed": false,
    "pycharm": {
     "name": "#%%\n"
    }
   }
  },
  {
   "cell_type": "markdown",
   "source": [
    "Hneď na začiatok si **načítame dáta** zo súboru funkciou **read_csv()**\n",
    "Následne vykonáme prvú \"čistiacu\" operáciu, v ktorej vymažeme prvý stĺpec, v ktorom\n",
    "je očíslovanie stĺpcov, ktoré je pre našu analýzu zbytočné."
   ],
   "metadata": {
    "collapsed": false,
    "pycharm": {
     "name": "#%% md\n"
    }
   }
  },
  {
   "cell_type": "code",
   "execution_count": 110,
   "outputs": [
    {
     "data": {
      "text/plain": "     smoker    hbver  erytrocyty      alt  leukocyty    etytr  hemoglobin  \\\n0       yes  4.98718     8.89463  2.40520    5.75830  6.93712     4.54976   \n1       yes  6.67732     4.21847  0.66072    6.29064  5.19990     4.10863   \n2        no  6.51444     7.94461  1.28337    5.83567  6.88758     6.45793   \n3        no  6.05025     7.67537  0.83197    6.33300  4.45912     6.96013   \n4       yes  6.20737     7.84993  0.93395    5.66904  4.88628     6.41332   \n...     ...      ...         ...      ...        ...      ...         ...   \n9966      Y  5.17020     5.61728  0.60775    5.35296  4.59956     5.52802   \n9967     no  5.70666     8.82840  2.35342    5.20966  3.73586     6.25482   \n9968      Y  6.45549     6.83179  0.62415    7.84688  4.52864     5.57765   \n9969      Y  4.81311     7.26178  0.84372    6.76794  7.54696     7.07142   \n9970     no  5.96628     8.70299  2.09693    5.96586  3.76665     7.04030   \n\n              ssn             name  trombocyty       alp relationship  \\\n0     021-87-4523    Jeremy Tanner     6.23782  45.93625      divoced   \n1     513-39-9691    Jocelyn Kelly     6.27100  20.30249      divoced   \n2     881-46-4810   Crystal Kelley     6.02783  82.09305      divoced   \n3     826-16-7757     Doris Duncan     6.83876  69.43441      divoced   \n4     167-37-6059       John Parks     5.75903  90.09567      divoced   \n...           ...              ...         ...       ...          ...   \n9966  425-94-7489      Ryan Pineda     3.86179  75.76127       single   \n9967  375-27-0860     Travis Brown     5.03429  85.17538      widowed   \n9968  300-91-9095  Michelle Watson     6.38035  79.13200      married   \n9969  691-20-7896        Ryan Hahn     5.27933  79.64629      married   \n9970  603-47-5832      Tammy Jones     4.80599  77.32350       single   \n\n      indicator     er-cv     weight       ast  hematokrit  \n0           0.0  55.43592   -2.73558  51.62366     3.34206  \n1           0.0  45.34617   81.56533  61.59374     5.78180  \n2           0.0  29.29190  151.24191  47.96329     4.55230  \n3           1.0  60.47398   83.89451  57.47174     7.17271  \n4           1.0  41.10299  107.22958  34.25820     6.93681  \n...         ...       ...        ...       ...         ...  \n9966        0.0  38.06206   60.90926  41.67857     4.57350  \n9967        1.0  48.35999  106.88451  23.49894     7.00122  \n9968        1.0  28.09339   75.74349  23.52645     6.94466  \n9969        0.0  56.63966   52.15898  31.12380     4.98399  \n9970        1.0  44.86900   73.49362  72.81753     7.27724  \n\n[9971 rows x 17 columns]",
      "text/html": "<div>\n<style scoped>\n    .dataframe tbody tr th:only-of-type {\n        vertical-align: middle;\n    }\n\n    .dataframe tbody tr th {\n        vertical-align: top;\n    }\n\n    .dataframe thead th {\n        text-align: right;\n    }\n</style>\n<table border=\"1\" class=\"dataframe\">\n  <thead>\n    <tr style=\"text-align: right;\">\n      <th></th>\n      <th>smoker</th>\n      <th>hbver</th>\n      <th>erytrocyty</th>\n      <th>alt</th>\n      <th>leukocyty</th>\n      <th>etytr</th>\n      <th>hemoglobin</th>\n      <th>ssn</th>\n      <th>name</th>\n      <th>trombocyty</th>\n      <th>alp</th>\n      <th>relationship</th>\n      <th>indicator</th>\n      <th>er-cv</th>\n      <th>weight</th>\n      <th>ast</th>\n      <th>hematokrit</th>\n    </tr>\n  </thead>\n  <tbody>\n    <tr>\n      <th>0</th>\n      <td>yes</td>\n      <td>4.98718</td>\n      <td>8.89463</td>\n      <td>2.40520</td>\n      <td>5.75830</td>\n      <td>6.93712</td>\n      <td>4.54976</td>\n      <td>021-87-4523</td>\n      <td>Jeremy Tanner</td>\n      <td>6.23782</td>\n      <td>45.93625</td>\n      <td>divoced</td>\n      <td>0.0</td>\n      <td>55.43592</td>\n      <td>-2.73558</td>\n      <td>51.62366</td>\n      <td>3.34206</td>\n    </tr>\n    <tr>\n      <th>1</th>\n      <td>yes</td>\n      <td>6.67732</td>\n      <td>4.21847</td>\n      <td>0.66072</td>\n      <td>6.29064</td>\n      <td>5.19990</td>\n      <td>4.10863</td>\n      <td>513-39-9691</td>\n      <td>Jocelyn Kelly</td>\n      <td>6.27100</td>\n      <td>20.30249</td>\n      <td>divoced</td>\n      <td>0.0</td>\n      <td>45.34617</td>\n      <td>81.56533</td>\n      <td>61.59374</td>\n      <td>5.78180</td>\n    </tr>\n    <tr>\n      <th>2</th>\n      <td>no</td>\n      <td>6.51444</td>\n      <td>7.94461</td>\n      <td>1.28337</td>\n      <td>5.83567</td>\n      <td>6.88758</td>\n      <td>6.45793</td>\n      <td>881-46-4810</td>\n      <td>Crystal Kelley</td>\n      <td>6.02783</td>\n      <td>82.09305</td>\n      <td>divoced</td>\n      <td>0.0</td>\n      <td>29.29190</td>\n      <td>151.24191</td>\n      <td>47.96329</td>\n      <td>4.55230</td>\n    </tr>\n    <tr>\n      <th>3</th>\n      <td>no</td>\n      <td>6.05025</td>\n      <td>7.67537</td>\n      <td>0.83197</td>\n      <td>6.33300</td>\n      <td>4.45912</td>\n      <td>6.96013</td>\n      <td>826-16-7757</td>\n      <td>Doris Duncan</td>\n      <td>6.83876</td>\n      <td>69.43441</td>\n      <td>divoced</td>\n      <td>1.0</td>\n      <td>60.47398</td>\n      <td>83.89451</td>\n      <td>57.47174</td>\n      <td>7.17271</td>\n    </tr>\n    <tr>\n      <th>4</th>\n      <td>yes</td>\n      <td>6.20737</td>\n      <td>7.84993</td>\n      <td>0.93395</td>\n      <td>5.66904</td>\n      <td>4.88628</td>\n      <td>6.41332</td>\n      <td>167-37-6059</td>\n      <td>John Parks</td>\n      <td>5.75903</td>\n      <td>90.09567</td>\n      <td>divoced</td>\n      <td>1.0</td>\n      <td>41.10299</td>\n      <td>107.22958</td>\n      <td>34.25820</td>\n      <td>6.93681</td>\n    </tr>\n    <tr>\n      <th>...</th>\n      <td>...</td>\n      <td>...</td>\n      <td>...</td>\n      <td>...</td>\n      <td>...</td>\n      <td>...</td>\n      <td>...</td>\n      <td>...</td>\n      <td>...</td>\n      <td>...</td>\n      <td>...</td>\n      <td>...</td>\n      <td>...</td>\n      <td>...</td>\n      <td>...</td>\n      <td>...</td>\n      <td>...</td>\n    </tr>\n    <tr>\n      <th>9966</th>\n      <td>Y</td>\n      <td>5.17020</td>\n      <td>5.61728</td>\n      <td>0.60775</td>\n      <td>5.35296</td>\n      <td>4.59956</td>\n      <td>5.52802</td>\n      <td>425-94-7489</td>\n      <td>Ryan Pineda</td>\n      <td>3.86179</td>\n      <td>75.76127</td>\n      <td>single</td>\n      <td>0.0</td>\n      <td>38.06206</td>\n      <td>60.90926</td>\n      <td>41.67857</td>\n      <td>4.57350</td>\n    </tr>\n    <tr>\n      <th>9967</th>\n      <td>no</td>\n      <td>5.70666</td>\n      <td>8.82840</td>\n      <td>2.35342</td>\n      <td>5.20966</td>\n      <td>3.73586</td>\n      <td>6.25482</td>\n      <td>375-27-0860</td>\n      <td>Travis Brown</td>\n      <td>5.03429</td>\n      <td>85.17538</td>\n      <td>widowed</td>\n      <td>1.0</td>\n      <td>48.35999</td>\n      <td>106.88451</td>\n      <td>23.49894</td>\n      <td>7.00122</td>\n    </tr>\n    <tr>\n      <th>9968</th>\n      <td>Y</td>\n      <td>6.45549</td>\n      <td>6.83179</td>\n      <td>0.62415</td>\n      <td>7.84688</td>\n      <td>4.52864</td>\n      <td>5.57765</td>\n      <td>300-91-9095</td>\n      <td>Michelle Watson</td>\n      <td>6.38035</td>\n      <td>79.13200</td>\n      <td>married</td>\n      <td>1.0</td>\n      <td>28.09339</td>\n      <td>75.74349</td>\n      <td>23.52645</td>\n      <td>6.94466</td>\n    </tr>\n    <tr>\n      <th>9969</th>\n      <td>Y</td>\n      <td>4.81311</td>\n      <td>7.26178</td>\n      <td>0.84372</td>\n      <td>6.76794</td>\n      <td>7.54696</td>\n      <td>7.07142</td>\n      <td>691-20-7896</td>\n      <td>Ryan Hahn</td>\n      <td>5.27933</td>\n      <td>79.64629</td>\n      <td>married</td>\n      <td>0.0</td>\n      <td>56.63966</td>\n      <td>52.15898</td>\n      <td>31.12380</td>\n      <td>4.98399</td>\n    </tr>\n    <tr>\n      <th>9970</th>\n      <td>no</td>\n      <td>5.96628</td>\n      <td>8.70299</td>\n      <td>2.09693</td>\n      <td>5.96586</td>\n      <td>3.76665</td>\n      <td>7.04030</td>\n      <td>603-47-5832</td>\n      <td>Tammy Jones</td>\n      <td>4.80599</td>\n      <td>77.32350</td>\n      <td>single</td>\n      <td>1.0</td>\n      <td>44.86900</td>\n      <td>73.49362</td>\n      <td>72.81753</td>\n      <td>7.27724</td>\n    </tr>\n  </tbody>\n</table>\n<p>9971 rows × 17 columns</p>\n</div>"
     },
     "execution_count": 110,
     "metadata": {},
     "output_type": "execute_result"
    }
   ],
   "source": [
    "data_labor = pd.read_csv(\"dataset/labor.csv\", sep=\"\\t\")\n",
    "# del data[\"Unnamed: 0\"]\n",
    "data_labor = data_labor.iloc[:, 1:]\n",
    "data_labor"
   ],
   "metadata": {
    "collapsed": false,
    "pycharm": {
     "name": "#%%\n"
    }
   }
  },
  {
   "cell_type": "markdown",
   "source": [
    "V tejto časti očistíme dáta v stĺpci **smoker**, kde všetky nejednotné záznamy\n",
    "nahradíme numerickými reprezentáciámi možností áno/nie."
   ],
   "metadata": {
    "collapsed": false,
    "pycharm": {
     "name": "#%% md\n"
    }
   }
  },
  {
   "cell_type": "code",
   "execution_count": 111,
   "outputs": [
    {
     "name": "stdout",
     "output_type": "stream",
     "text": [
      "<class 'pandas.core.frame.DataFrame'>\n",
      "RangeIndex: 9971 entries, 0 to 9970\n",
      "Data columns (total 17 columns):\n",
      " #   Column        Non-Null Count  Dtype  \n",
      "---  ------        --------------  -----  \n",
      " 0   smoker        9971 non-null   float64\n",
      " 1   hbver         9940 non-null   float64\n",
      " 2   erytrocyty    9939 non-null   float64\n",
      " 3   alt           9941 non-null   float64\n",
      " 4   leukocyty     9941 non-null   float64\n",
      " 5   etytr         9940 non-null   float64\n",
      " 6   hemoglobin    9940 non-null   float64\n",
      " 7   ssn           9971 non-null   object \n",
      " 8   name          9971 non-null   object \n",
      " 9   trombocyty    9941 non-null   float64\n",
      " 10  alp           9941 non-null   float64\n",
      " 11  relationship  9971 non-null   object \n",
      " 12  indicator     9971 non-null   float64\n",
      " 13  er-cv         9941 non-null   float64\n",
      " 14  weight        9971 non-null   float64\n",
      " 15  ast           9941 non-null   float64\n",
      " 16  hematokrit    9941 non-null   float64\n",
      "dtypes: float64(14), object(3)\n",
      "memory usage: 1.3+ MB\n"
     ]
    }
   ],
   "source": [
    "data_labor[\"smoker\"] = data_labor[\"smoker\"].str.replace(\"yes\", \"1\")\n",
    "data_labor[\"smoker\"] = data_labor[\"smoker\"].str.replace(\"no\", \"0\")\n",
    "data_labor[\"smoker\"] = data_labor[\"smoker\"].str.replace(\"Y\", \"1\")\n",
    "data_labor[\"smoker\"] = data_labor[\"smoker\"].str.replace(\"N\", \"0\")\n",
    "data_labor[\"smoker\"] = data_labor[\"smoker\"].astype(float)\n",
    "\n",
    "data_labor.info()"
   ],
   "metadata": {
    "collapsed": false,
    "pycharm": {
     "name": "#%%\n"
    }
   }
  },
  {
   "cell_type": "markdown",
   "source": [
    "V nasledujúcej bunke sme **nahradili chýbajúce hodnoty** priemerom v danom stĺpci.\n",
    "Túto operáciu sme mohli vykonať z dôvodu, že všetky **chýbajúce hodnoty** boli iba v tých\n",
    "stĺpcoch, ktoré obsahujú **numerické hodnoty** (float64)."
   ],
   "metadata": {
    "collapsed": false,
    "pycharm": {
     "name": "#%% md\n"
    }
   }
  },
  {
   "cell_type": "code",
   "execution_count": 112,
   "outputs": [
    {
     "name": "stderr",
     "output_type": "stream",
     "text": [
      "/tmp/ipykernel_66644/1159283875.py:1: FutureWarning: Dropping of nuisance columns in DataFrame reductions (with 'numeric_only=None') is deprecated; in a future version this will raise TypeError.  Select only valid columns before calling the reduction.\n",
      "  data_labor = data_labor.fillna(data_labor.mean())\n"
     ]
    },
    {
     "data": {
      "text/plain": "      smoker    hbver  erytrocyty      alt  leukocyty    etytr  hemoglobin  \\\n0        1.0  4.98718     8.89463  2.40520    5.75830  6.93712     4.54976   \n1        1.0  6.67732     4.21847  0.66072    6.29064  5.19990     4.10863   \n2        0.0  6.51444     7.94461  1.28337    5.83567  6.88758     6.45793   \n3        0.0  6.05025     7.67537  0.83197    6.33300  4.45912     6.96013   \n4        1.0  6.20737     7.84993  0.93395    5.66904  4.88628     6.41332   \n...      ...      ...         ...      ...        ...      ...         ...   \n9966     1.0  5.17020     5.61728  0.60775    5.35296  4.59956     5.52802   \n9967     0.0  5.70666     8.82840  2.35342    5.20966  3.73586     6.25482   \n9968     1.0  6.45549     6.83179  0.62415    7.84688  4.52864     5.57765   \n9969     1.0  4.81311     7.26178  0.84372    6.76794  7.54696     7.07142   \n9970     0.0  5.96628     8.70299  2.09693    5.96586  3.76665     7.04030   \n\n              ssn             name  trombocyty       alp relationship  \\\n0     021-87-4523    Jeremy Tanner     6.23782  45.93625      divoced   \n1     513-39-9691    Jocelyn Kelly     6.27100  20.30249      divoced   \n2     881-46-4810   Crystal Kelley     6.02783  82.09305      divoced   \n3     826-16-7757     Doris Duncan     6.83876  69.43441      divoced   \n4     167-37-6059       John Parks     5.75903  90.09567      divoced   \n...           ...              ...         ...       ...          ...   \n9966  425-94-7489      Ryan Pineda     3.86179  75.76127       single   \n9967  375-27-0860     Travis Brown     5.03429  85.17538      widowed   \n9968  300-91-9095  Michelle Watson     6.38035  79.13200      married   \n9969  691-20-7896        Ryan Hahn     5.27933  79.64629      married   \n9970  603-47-5832      Tammy Jones     4.80599  77.32350       single   \n\n      indicator     er-cv     weight       ast  hematokrit  \n0           0.0  55.43592   -2.73558  51.62366     3.34206  \n1           0.0  45.34617   81.56533  61.59374     5.78180  \n2           0.0  29.29190  151.24191  47.96329     4.55230  \n3           1.0  60.47398   83.89451  57.47174     7.17271  \n4           1.0  41.10299  107.22958  34.25820     6.93681  \n...         ...       ...        ...       ...         ...  \n9966        0.0  38.06206   60.90926  41.67857     4.57350  \n9967        1.0  48.35999  106.88451  23.49894     7.00122  \n9968        1.0  28.09339   75.74349  23.52645     6.94466  \n9969        0.0  56.63966   52.15898  31.12380     4.98399  \n9970        1.0  44.86900   73.49362  72.81753     7.27724  \n\n[9971 rows x 17 columns]",
      "text/html": "<div>\n<style scoped>\n    .dataframe tbody tr th:only-of-type {\n        vertical-align: middle;\n    }\n\n    .dataframe tbody tr th {\n        vertical-align: top;\n    }\n\n    .dataframe thead th {\n        text-align: right;\n    }\n</style>\n<table border=\"1\" class=\"dataframe\">\n  <thead>\n    <tr style=\"text-align: right;\">\n      <th></th>\n      <th>smoker</th>\n      <th>hbver</th>\n      <th>erytrocyty</th>\n      <th>alt</th>\n      <th>leukocyty</th>\n      <th>etytr</th>\n      <th>hemoglobin</th>\n      <th>ssn</th>\n      <th>name</th>\n      <th>trombocyty</th>\n      <th>alp</th>\n      <th>relationship</th>\n      <th>indicator</th>\n      <th>er-cv</th>\n      <th>weight</th>\n      <th>ast</th>\n      <th>hematokrit</th>\n    </tr>\n  </thead>\n  <tbody>\n    <tr>\n      <th>0</th>\n      <td>1.0</td>\n      <td>4.98718</td>\n      <td>8.89463</td>\n      <td>2.40520</td>\n      <td>5.75830</td>\n      <td>6.93712</td>\n      <td>4.54976</td>\n      <td>021-87-4523</td>\n      <td>Jeremy Tanner</td>\n      <td>6.23782</td>\n      <td>45.93625</td>\n      <td>divoced</td>\n      <td>0.0</td>\n      <td>55.43592</td>\n      <td>-2.73558</td>\n      <td>51.62366</td>\n      <td>3.34206</td>\n    </tr>\n    <tr>\n      <th>1</th>\n      <td>1.0</td>\n      <td>6.67732</td>\n      <td>4.21847</td>\n      <td>0.66072</td>\n      <td>6.29064</td>\n      <td>5.19990</td>\n      <td>4.10863</td>\n      <td>513-39-9691</td>\n      <td>Jocelyn Kelly</td>\n      <td>6.27100</td>\n      <td>20.30249</td>\n      <td>divoced</td>\n      <td>0.0</td>\n      <td>45.34617</td>\n      <td>81.56533</td>\n      <td>61.59374</td>\n      <td>5.78180</td>\n    </tr>\n    <tr>\n      <th>2</th>\n      <td>0.0</td>\n      <td>6.51444</td>\n      <td>7.94461</td>\n      <td>1.28337</td>\n      <td>5.83567</td>\n      <td>6.88758</td>\n      <td>6.45793</td>\n      <td>881-46-4810</td>\n      <td>Crystal Kelley</td>\n      <td>6.02783</td>\n      <td>82.09305</td>\n      <td>divoced</td>\n      <td>0.0</td>\n      <td>29.29190</td>\n      <td>151.24191</td>\n      <td>47.96329</td>\n      <td>4.55230</td>\n    </tr>\n    <tr>\n      <th>3</th>\n      <td>0.0</td>\n      <td>6.05025</td>\n      <td>7.67537</td>\n      <td>0.83197</td>\n      <td>6.33300</td>\n      <td>4.45912</td>\n      <td>6.96013</td>\n      <td>826-16-7757</td>\n      <td>Doris Duncan</td>\n      <td>6.83876</td>\n      <td>69.43441</td>\n      <td>divoced</td>\n      <td>1.0</td>\n      <td>60.47398</td>\n      <td>83.89451</td>\n      <td>57.47174</td>\n      <td>7.17271</td>\n    </tr>\n    <tr>\n      <th>4</th>\n      <td>1.0</td>\n      <td>6.20737</td>\n      <td>7.84993</td>\n      <td>0.93395</td>\n      <td>5.66904</td>\n      <td>4.88628</td>\n      <td>6.41332</td>\n      <td>167-37-6059</td>\n      <td>John Parks</td>\n      <td>5.75903</td>\n      <td>90.09567</td>\n      <td>divoced</td>\n      <td>1.0</td>\n      <td>41.10299</td>\n      <td>107.22958</td>\n      <td>34.25820</td>\n      <td>6.93681</td>\n    </tr>\n    <tr>\n      <th>...</th>\n      <td>...</td>\n      <td>...</td>\n      <td>...</td>\n      <td>...</td>\n      <td>...</td>\n      <td>...</td>\n      <td>...</td>\n      <td>...</td>\n      <td>...</td>\n      <td>...</td>\n      <td>...</td>\n      <td>...</td>\n      <td>...</td>\n      <td>...</td>\n      <td>...</td>\n      <td>...</td>\n      <td>...</td>\n    </tr>\n    <tr>\n      <th>9966</th>\n      <td>1.0</td>\n      <td>5.17020</td>\n      <td>5.61728</td>\n      <td>0.60775</td>\n      <td>5.35296</td>\n      <td>4.59956</td>\n      <td>5.52802</td>\n      <td>425-94-7489</td>\n      <td>Ryan Pineda</td>\n      <td>3.86179</td>\n      <td>75.76127</td>\n      <td>single</td>\n      <td>0.0</td>\n      <td>38.06206</td>\n      <td>60.90926</td>\n      <td>41.67857</td>\n      <td>4.57350</td>\n    </tr>\n    <tr>\n      <th>9967</th>\n      <td>0.0</td>\n      <td>5.70666</td>\n      <td>8.82840</td>\n      <td>2.35342</td>\n      <td>5.20966</td>\n      <td>3.73586</td>\n      <td>6.25482</td>\n      <td>375-27-0860</td>\n      <td>Travis Brown</td>\n      <td>5.03429</td>\n      <td>85.17538</td>\n      <td>widowed</td>\n      <td>1.0</td>\n      <td>48.35999</td>\n      <td>106.88451</td>\n      <td>23.49894</td>\n      <td>7.00122</td>\n    </tr>\n    <tr>\n      <th>9968</th>\n      <td>1.0</td>\n      <td>6.45549</td>\n      <td>6.83179</td>\n      <td>0.62415</td>\n      <td>7.84688</td>\n      <td>4.52864</td>\n      <td>5.57765</td>\n      <td>300-91-9095</td>\n      <td>Michelle Watson</td>\n      <td>6.38035</td>\n      <td>79.13200</td>\n      <td>married</td>\n      <td>1.0</td>\n      <td>28.09339</td>\n      <td>75.74349</td>\n      <td>23.52645</td>\n      <td>6.94466</td>\n    </tr>\n    <tr>\n      <th>9969</th>\n      <td>1.0</td>\n      <td>4.81311</td>\n      <td>7.26178</td>\n      <td>0.84372</td>\n      <td>6.76794</td>\n      <td>7.54696</td>\n      <td>7.07142</td>\n      <td>691-20-7896</td>\n      <td>Ryan Hahn</td>\n      <td>5.27933</td>\n      <td>79.64629</td>\n      <td>married</td>\n      <td>0.0</td>\n      <td>56.63966</td>\n      <td>52.15898</td>\n      <td>31.12380</td>\n      <td>4.98399</td>\n    </tr>\n    <tr>\n      <th>9970</th>\n      <td>0.0</td>\n      <td>5.96628</td>\n      <td>8.70299</td>\n      <td>2.09693</td>\n      <td>5.96586</td>\n      <td>3.76665</td>\n      <td>7.04030</td>\n      <td>603-47-5832</td>\n      <td>Tammy Jones</td>\n      <td>4.80599</td>\n      <td>77.32350</td>\n      <td>single</td>\n      <td>1.0</td>\n      <td>44.86900</td>\n      <td>73.49362</td>\n      <td>72.81753</td>\n      <td>7.27724</td>\n    </tr>\n  </tbody>\n</table>\n<p>9971 rows × 17 columns</p>\n</div>"
     },
     "execution_count": 112,
     "metadata": {},
     "output_type": "execute_result"
    }
   ],
   "source": [
    "data_labor = data_labor.fillna(data_labor.mean())\n",
    "data_labor"
   ],
   "metadata": {
    "collapsed": false,
    "pycharm": {
     "name": "#%%\n"
    }
   }
  },
  {
   "cell_type": "code",
   "execution_count": 113,
   "outputs": [
    {
     "data": {
      "text/plain": "            smoker        hbver   erytrocyty          alt    leukocyty  \\\ncount  9971.000000  9971.000000  9971.000000  9971.000000  9971.000000   \nmean      0.406278     6.071692     6.842049     1.120983     6.064355   \nstd       0.491162     1.000834     1.460087     2.019724     1.009118   \nmin       0.000000     2.148000     1.103640     0.000000     2.239400   \n25%       0.000000     5.401305     6.037930     0.563945     5.393100   \n50%       0.000000     6.071692     7.004430     0.780950     6.071080   \n75%       1.000000     6.742105     7.807580     1.166560     6.730190   \nmax       1.000000    10.532500    12.769020   100.000000     9.767710   \n\n             etytr   hemoglobin   trombocyty          alp    indicator  \\\ncount  9971.000000  9971.000000  9971.000000  9971.000000  9971.000000   \nmean      5.318564     6.062952     6.084395    54.622262     0.643165   \nstd       1.393256     1.741981     1.006202    26.103211     0.479090   \nmin       0.548790     0.000000     2.587100     0.000000     0.000000   \n25%       4.444160     4.780500     5.407585    31.460750     0.000000   \n50%       5.120390     6.115310     6.084395    58.533820     1.000000   \n75%       6.019805     7.378890     6.765420    78.880725     1.000000   \nmax      10.673750    11.720370     9.774760   100.000000     1.000000   \n\n             er-cv       weight          ast   hematokrit  \ncount  9971.000000  9971.000000  9971.000000  9971.000000  \nmean     51.121580    70.305658    50.459989     6.461410  \nstd      12.856008    34.976941    12.771838     1.617865  \nmin       0.000000   -54.061950     0.000000     1.991860  \n25%      42.546015    46.128010    41.770680     5.127505  \n50%      50.954600    70.793900    50.618370     6.753050  \n75%      59.861495    94.071090    59.039665     7.490275  \nmax     100.000000   194.734070   100.000000    13.021170  ",
      "text/html": "<div>\n<style scoped>\n    .dataframe tbody tr th:only-of-type {\n        vertical-align: middle;\n    }\n\n    .dataframe tbody tr th {\n        vertical-align: top;\n    }\n\n    .dataframe thead th {\n        text-align: right;\n    }\n</style>\n<table border=\"1\" class=\"dataframe\">\n  <thead>\n    <tr style=\"text-align: right;\">\n      <th></th>\n      <th>smoker</th>\n      <th>hbver</th>\n      <th>erytrocyty</th>\n      <th>alt</th>\n      <th>leukocyty</th>\n      <th>etytr</th>\n      <th>hemoglobin</th>\n      <th>trombocyty</th>\n      <th>alp</th>\n      <th>indicator</th>\n      <th>er-cv</th>\n      <th>weight</th>\n      <th>ast</th>\n      <th>hematokrit</th>\n    </tr>\n  </thead>\n  <tbody>\n    <tr>\n      <th>count</th>\n      <td>9971.000000</td>\n      <td>9971.000000</td>\n      <td>9971.000000</td>\n      <td>9971.000000</td>\n      <td>9971.000000</td>\n      <td>9971.000000</td>\n      <td>9971.000000</td>\n      <td>9971.000000</td>\n      <td>9971.000000</td>\n      <td>9971.000000</td>\n      <td>9971.000000</td>\n      <td>9971.000000</td>\n      <td>9971.000000</td>\n      <td>9971.000000</td>\n    </tr>\n    <tr>\n      <th>mean</th>\n      <td>0.406278</td>\n      <td>6.071692</td>\n      <td>6.842049</td>\n      <td>1.120983</td>\n      <td>6.064355</td>\n      <td>5.318564</td>\n      <td>6.062952</td>\n      <td>6.084395</td>\n      <td>54.622262</td>\n      <td>0.643165</td>\n      <td>51.121580</td>\n      <td>70.305658</td>\n      <td>50.459989</td>\n      <td>6.461410</td>\n    </tr>\n    <tr>\n      <th>std</th>\n      <td>0.491162</td>\n      <td>1.000834</td>\n      <td>1.460087</td>\n      <td>2.019724</td>\n      <td>1.009118</td>\n      <td>1.393256</td>\n      <td>1.741981</td>\n      <td>1.006202</td>\n      <td>26.103211</td>\n      <td>0.479090</td>\n      <td>12.856008</td>\n      <td>34.976941</td>\n      <td>12.771838</td>\n      <td>1.617865</td>\n    </tr>\n    <tr>\n      <th>min</th>\n      <td>0.000000</td>\n      <td>2.148000</td>\n      <td>1.103640</td>\n      <td>0.000000</td>\n      <td>2.239400</td>\n      <td>0.548790</td>\n      <td>0.000000</td>\n      <td>2.587100</td>\n      <td>0.000000</td>\n      <td>0.000000</td>\n      <td>0.000000</td>\n      <td>-54.061950</td>\n      <td>0.000000</td>\n      <td>1.991860</td>\n    </tr>\n    <tr>\n      <th>25%</th>\n      <td>0.000000</td>\n      <td>5.401305</td>\n      <td>6.037930</td>\n      <td>0.563945</td>\n      <td>5.393100</td>\n      <td>4.444160</td>\n      <td>4.780500</td>\n      <td>5.407585</td>\n      <td>31.460750</td>\n      <td>0.000000</td>\n      <td>42.546015</td>\n      <td>46.128010</td>\n      <td>41.770680</td>\n      <td>5.127505</td>\n    </tr>\n    <tr>\n      <th>50%</th>\n      <td>0.000000</td>\n      <td>6.071692</td>\n      <td>7.004430</td>\n      <td>0.780950</td>\n      <td>6.071080</td>\n      <td>5.120390</td>\n      <td>6.115310</td>\n      <td>6.084395</td>\n      <td>58.533820</td>\n      <td>1.000000</td>\n      <td>50.954600</td>\n      <td>70.793900</td>\n      <td>50.618370</td>\n      <td>6.753050</td>\n    </tr>\n    <tr>\n      <th>75%</th>\n      <td>1.000000</td>\n      <td>6.742105</td>\n      <td>7.807580</td>\n      <td>1.166560</td>\n      <td>6.730190</td>\n      <td>6.019805</td>\n      <td>7.378890</td>\n      <td>6.765420</td>\n      <td>78.880725</td>\n      <td>1.000000</td>\n      <td>59.861495</td>\n      <td>94.071090</td>\n      <td>59.039665</td>\n      <td>7.490275</td>\n    </tr>\n    <tr>\n      <th>max</th>\n      <td>1.000000</td>\n      <td>10.532500</td>\n      <td>12.769020</td>\n      <td>100.000000</td>\n      <td>9.767710</td>\n      <td>10.673750</td>\n      <td>11.720370</td>\n      <td>9.774760</td>\n      <td>100.000000</td>\n      <td>1.000000</td>\n      <td>100.000000</td>\n      <td>194.734070</td>\n      <td>100.000000</td>\n      <td>13.021170</td>\n    </tr>\n  </tbody>\n</table>\n</div>"
     },
     "execution_count": 113,
     "metadata": {},
     "output_type": "execute_result"
    }
   ],
   "source": [
    "data_labor.describe()"
   ],
   "metadata": {
    "collapsed": false,
    "pycharm": {
     "name": "#%%\n"
    }
   }
  },
  {
   "cell_type": "markdown",
   "source": [
    "# 1. fáza - Prieskumná analýza\n",
    "\n",
    "## a) Základný opis dát spolu s ich charakteristikami\n",
    "-------------------------------------------------------\n",
    "Základné informácie o datasete:"
   ],
   "metadata": {
    "collapsed": false,
    "pycharm": {
     "name": "#%% md\n"
    }
   }
  },
  {
   "cell_type": "code",
   "execution_count": 114,
   "outputs": [
    {
     "name": "stdout",
     "output_type": "stream",
     "text": [
      "Počet záznamov v našom datasete: 9971\n",
      "Počet atribútov v našom datasete: 17\n",
      "Dátové typy v našom datasete: [dtype('O'), dtype('float64')]\n"
     ]
    }
   ],
   "source": [
    "print(f\"Počet záznamov v našom datasete: {len(data_labor.index)}\")\n",
    "print(f\"Počet atribútov v našom datasete: {len(data_labor.columns)}\")\n",
    "# print(f\"Dátové typy v našom datasete:\\n {data_labor.dtypes}\")\n",
    "print(f\"Dátové typy v našom datasete: {list(set(data_labor.dtypes))}\")"
   ],
   "metadata": {
    "collapsed": false,
    "pycharm": {
     "name": "#%%\n"
    }
   }
  },
  {
   "cell_type": "markdown",
   "source": [
    "V tejto časti uvedieme pre zvolené **významné atribúty ich distribúcie a základné\n",
    "deskriptívne štatistiky.**\n",
    "Medzi tieto významné atribúty patria **erytrocyty, leukocyty, trombocyty a váha**.\n",
    "Pre ich deskriptívne štatistiky uvádzame **medián, modus, priemer, rozptyl a smerodajnú odchylku.**\n",
    "<br>\n",
    "\n",
    "Hodnota modusu je väčšinou **rovná priemeru**, keďže nahradzujeme chýbajúce hodnoty priemerom. Je\n",
    "potrebné brať tieto hodnoty s rezervou, keďže dáta ešte neboli očistené a mnoho záznamov spadá\n",
    "do surreálnych hodnôt (napr. záporne záznamy pre atribút váhy).\n",
    "</br>"
   ],
   "metadata": {
    "collapsed": false,
    "pycharm": {
     "name": "#%% md\n"
    }
   }
  },
  {
   "cell_type": "markdown",
   "source": [
    "###  Erytrocyty"
   ],
   "metadata": {
    "collapsed": false,
    "pycharm": {
     "name": "#%% md\n"
    }
   }
  },
  {
   "cell_type": "code",
   "execution_count": 115,
   "outputs": [
    {
     "name": "stdout",
     "output_type": "stream",
     "text": [
      "[erytrocyty] Medián:   7.00443\n",
      "[erytrocyty] Modus:    6.842048781567562\n",
      "[erytrocyty] Priemer:  6.842048781567561\n",
      "[erytrocyty] Rozptyl:  2.1316401076201124\n",
      "[erytrocyty] Smerodajná odchylka:  1.4600137354217297\n"
     ]
    },
    {
     "name": "stderr",
     "output_type": "stream",
     "text": [
      "/home/marko/PycharmProjects/IAU-Stahovec-Viest/venv/lib/python3.8/site-packages/seaborn/distributions.py:2619: FutureWarning: `distplot` is a deprecated function and will be removed in a future version. Please adapt your code to use either `displot` (a figure-level function with similar flexibility) or `histplot` (an axes-level function for histograms).\n",
      "  warnings.warn(msg, FutureWarning)\n"
     ]
    },
    {
     "data": {
      "text/plain": "<Figure size 432x288 with 1 Axes>",
      "image/png": "[encoded data removed]"
     },
     "metadata": {
      "needs_background": "light"
     },
     "output_type": "display_data"
    }
   ],
   "source": [
    "sns.distplot(data_labor[\"erytrocyty\"], kde=True, kde_kws={\"lw\": 1}, bins=16)\n",
    "# sns.histplot(data=data_labor, x=\"erytrocyty\", bins=24, kde=True)\n",
    "print(f\"[erytrocyty] Medián:  \", data_labor[\"erytrocyty\"].median())\n",
    "print(f\"[erytrocyty] Modus:   \", data_labor.mode()[\"erytrocyty\"][0])\n",
    "print(f\"[erytrocyty] Priemer: \", data_labor[\"erytrocyty\"].mean())\n",
    "print(f\"[erytrocyty] Rozptyl: \", np.var(data_labor[\"erytrocyty\"]))\n",
    "print(f\"[erytrocyty] Smerodajná odchylka: \", np.std(data_labor[\"erytrocyty\"]))"
   ],
   "metadata": {
    "collapsed": false,
    "pycharm": {
     "name": "#%%\n"
    }
   }
  },
  {
   "cell_type": "markdown",
   "source": [
    "### Leukocyty"
   ],
   "metadata": {
    "collapsed": false,
    "pycharm": {
     "name": "#%% md\n"
    }
   }
  },
  {
   "cell_type": "code",
   "execution_count": 116,
   "outputs": [
    {
     "name": "stderr",
     "output_type": "stream",
     "text": [
      "/home/marko/PycharmProjects/IAU-Stahovec-Viest/venv/lib/python3.8/site-packages/seaborn/distributions.py:2619: FutureWarning: `distplot` is a deprecated function and will be removed in a future version. Please adapt your code to use either `displot` (a figure-level function with similar flexibility) or `histplot` (an axes-level function for histograms).\n",
      "  warnings.warn(msg, FutureWarning)\n"
     ]
    },
    {
     "name": "stdout",
     "output_type": "stream",
     "text": [
      "[leukocyty] Medián:   6.07108\n",
      "[leukocyty] Modus:    6.064355209737452\n",
      "[leukocyty] Priemer:  6.0643552097374505\n",
      "[leukocyty] Rozptyl:  1.0182179280312194\n",
      "[leukocyty] Smerodajná odchylka:  1.0090678510542388\n"
     ]
    },
    {
     "data": {
      "text/plain": "<Figure size 432x288 with 1 Axes>",
      "image/png": "[encoded data removed]"
     },
     "metadata": {
      "needs_background": "light"
     },
     "output_type": "display_data"
    }
   ],
   "source": [
    "sns.distplot(data_labor[\"leukocyty\"], kde=True, kde_kws={\"lw\": 1}, bins=16)\n",
    "# sns.histplot(data=data_labor, x=\"leukocyty\", bins=24, kde=True)\n",
    "print(f\"[leukocyty] Medián:  \", data_labor[\"leukocyty\"].median())\n",
    "print(f\"[leukocyty] Modus:   \", data_labor.mode()[\"leukocyty\"][0])\n",
    "print(f\"[leukocyty] Priemer: \", data_labor[\"leukocyty\"].mean())\n",
    "print(f\"[leukocyty] Rozptyl: \", np.var(data_labor[\"leukocyty\"]))\n",
    "print(f\"[leukocyty] Smerodajná odchylka: \", np.std(data_labor[\"leukocyty\"]))\n"
   ],
   "metadata": {
    "collapsed": false,
    "pycharm": {
     "name": "#%%\n"
    }
   }
  },
  {
   "cell_type": "markdown",
   "source": [
    "### Trombocyty"
   ],
   "metadata": {
    "collapsed": false
   }
  },
  {
   "cell_type": "code",
   "execution_count": 117,
   "outputs": [
    {
     "name": "stderr",
     "output_type": "stream",
     "text": [
      "/home/marko/PycharmProjects/IAU-Stahovec-Viest/venv/lib/python3.8/site-packages/seaborn/distributions.py:2619: FutureWarning: `distplot` is a deprecated function and will be removed in a future version. Please adapt your code to use either `displot` (a figure-level function with similar flexibility) or `histplot` (an axes-level function for histograms).\n",
      "  warnings.warn(msg, FutureWarning)\n"
     ]
    },
    {
     "name": "stdout",
     "output_type": "stream",
     "text": [
      "[trombocyty] Medián:   6.084394732924253\n",
      "[trombocyty] Modus:    6.084394732924253\n",
      "[trombocyty] Priemer:  6.084394732924253\n",
      "[trombocyty] Rozptyl:  1.0123415736654913\n",
      "[trombocyty] Smerodajná odchylka:  1.0061518641166904\n"
     ]
    },
    {
     "data": {
      "text/plain": "<Figure size 432x288 with 1 Axes>",
      "image/png": "[encoded data removed]"
     },
     "metadata": {
      "needs_background": "light"
     },
     "output_type": "display_data"
    }
   ],
   "source": [
    "sns.distplot(data_labor[\"trombocyty\"], kde=True, kde_kws={\"lw\": 1}, bins=16)\n",
    "# sns.histplot(data=data_labor, x=\"trombocyty\", bins=24, kde=True)\n",
    "print(f\"[trombocyty] Medián:  \", data_labor[\"trombocyty\"].median())\n",
    "print(f\"[trombocyty] Modus:   \", data_labor.mode()[\"trombocyty\"][0])\n",
    "print(f\"[trombocyty] Priemer: \", data_labor[\"trombocyty\"].mean())\n",
    "print(f\"[trombocyty] Rozptyl: \", np.var(data_labor[\"trombocyty\"]))\n",
    "print(f\"[trombocyty] Smerodajná odchylka: \", np.std(data_labor[\"trombocyty\"]))"
   ],
   "metadata": {
    "collapsed": false,
    "pycharm": {
     "name": "#%%\n"
    }
   }
  },
  {
   "cell_type": "markdown",
   "source": [
    "### Váha"
   ],
   "metadata": {
    "collapsed": false
   }
  },
  {
   "cell_type": "code",
   "execution_count": 118,
   "outputs": [
    {
     "name": "stderr",
     "output_type": "stream",
     "text": [
      "/home/marko/PycharmProjects/IAU-Stahovec-Viest/venv/lib/python3.8/site-packages/seaborn/distributions.py:2619: FutureWarning: `distplot` is a deprecated function and will be removed in a future version. Please adapt your code to use either `displot` (a figure-level function with similar flexibility) or `histplot` (an axes-level function for histograms).\n",
      "  warnings.warn(msg, FutureWarning)\n"
     ]
    },
    {
     "name": "stdout",
     "output_type": "stream",
     "text": [
      "[weight] Medián:   70.7939\n",
      "[weight] Modus:    -13.06891\n",
      "[weight] Priemer:  70.30565801624712\n",
      "[weight] Rozptyl:  1223.2637015794558\n",
      "[weight] Smerodajná odchylka:  34.9751869413082\n"
     ]
    },
    {
     "data": {
      "text/plain": "<Figure size 432x288 with 1 Axes>",
      "image/png": "[encoded data removed]"
     },
     "metadata": {
      "needs_background": "light"
     },
     "output_type": "display_data"
    }
   ],
   "source": [
    "sns.distplot(data_labor[\"weight\"], kde=True, kde_kws={\"lw\": 1}, bins=16)\n",
    "# sns.histplot(data=data_labor, x=\"weight\", bins=24, kde=True)\n",
    "print(f\"[weight] Medián:  \", data_labor[\"weight\"].median())\n",
    "print(f\"[weight] Modus:   \", data_labor.mode()[\"weight\"][0])\n",
    "print(f\"[weight] Priemer: \", data_labor[\"weight\"].mean())\n",
    "print(f\"[weight] Rozptyl: \", np.var(data_labor[\"weight\"]))\n",
    "print(f\"[weight] Smerodajná odchylka: \", np.std(data_labor[\"weight\"]))\n"
   ],
   "metadata": {
    "collapsed": false,
    "pycharm": {
     "name": "#%%\n"
    }
   }
  },
  {
   "cell_type": "markdown",
   "source": [
    "## b) Párová analýza dát\n",
    "-------------------------------------------------------"
   ],
   "metadata": {
    "collapsed": false
   }
  },
  {
   "cell_type": "code",
   "execution_count": 121,
   "outputs": [
    {
     "data": {
      "text/plain": "   smoker    hbver  erytrocyty      alt  leukocyty    etytr  hemoglobin  \\\n0     1.0  4.98718     8.89463  2.40520    5.75830  6.93712     4.54976   \n1     1.0  6.67732     4.21847  0.66072    6.29064  5.19990     4.10863   \n2     0.0  6.51444     7.94461  1.28337    5.83567  6.88758     6.45793   \n3     0.0  6.05025     7.67537  0.83197    6.33300  4.45912     6.96013   \n4     1.0  6.20737     7.84993  0.93395    5.66904  4.88628     6.41332   \n\n           ssn            name  trombocyty       alp relationship  indicator  \\\n0  021-87-4523   Jeremy Tanner     6.23782  45.93625      divoced        0.0   \n1  513-39-9691   Jocelyn Kelly     6.27100  20.30249      divoced        0.0   \n2  881-46-4810  Crystal Kelley     6.02783  82.09305      divoced        0.0   \n3  826-16-7757    Doris Duncan     6.83876  69.43441      divoced        1.0   \n4  167-37-6059      John Parks     5.75903  90.09567      divoced        1.0   \n\n      er-cv     weight       ast  hematokrit  \n0  55.43592   -2.73558  51.62366     3.34206  \n1  45.34617   81.56533  61.59374     5.78180  \n2  29.29190  151.24191  47.96329     4.55230  \n3  60.47398   83.89451  57.47174     7.17271  \n4  41.10299  107.22958  34.25820     6.93681  ",
      "text/html": "<div>\n<style scoped>\n    .dataframe tbody tr th:only-of-type {\n        vertical-align: middle;\n    }\n\n    .dataframe tbody tr th {\n        vertical-align: top;\n    }\n\n    .dataframe thead th {\n        text-align: right;\n    }\n</style>\n<table border=\"1\" class=\"dataframe\">\n  <thead>\n    <tr style=\"text-align: right;\">\n      <th></th>\n      <th>smoker</th>\n      <th>hbver</th>\n      <th>erytrocyty</th>\n      <th>alt</th>\n      <th>leukocyty</th>\n      <th>etytr</th>\n      <th>hemoglobin</th>\n      <th>ssn</th>\n      <th>name</th>\n      <th>trombocyty</th>\n      <th>alp</th>\n      <th>relationship</th>\n      <th>indicator</th>\n      <th>er-cv</th>\n      <th>weight</th>\n      <th>ast</th>\n      <th>hematokrit</th>\n    </tr>\n  </thead>\n  <tbody>\n    <tr>\n      <th>0</th>\n      <td>1.0</td>\n      <td>4.98718</td>\n      <td>8.89463</td>\n      <td>2.40520</td>\n      <td>5.75830</td>\n      <td>6.93712</td>\n      <td>4.54976</td>\n      <td>021-87-4523</td>\n      <td>Jeremy Tanner</td>\n      <td>6.23782</td>\n      <td>45.93625</td>\n      <td>divoced</td>\n      <td>0.0</td>\n      <td>55.43592</td>\n      <td>-2.73558</td>\n      <td>51.62366</td>\n      <td>3.34206</td>\n    </tr>\n    <tr>\n      <th>1</th>\n      <td>1.0</td>\n      <td>6.67732</td>\n      <td>4.21847</td>\n      <td>0.66072</td>\n      <td>6.29064</td>\n      <td>5.19990</td>\n      <td>4.10863</td>\n      <td>513-39-9691</td>\n      <td>Jocelyn Kelly</td>\n      <td>6.27100</td>\n      <td>20.30249</td>\n      <td>divoced</td>\n      <td>0.0</td>\n      <td>45.34617</td>\n      <td>81.56533</td>\n      <td>61.59374</td>\n      <td>5.78180</td>\n    </tr>\n    <tr>\n      <th>2</th>\n      <td>0.0</td>\n      <td>6.51444</td>\n      <td>7.94461</td>\n      <td>1.28337</td>\n      <td>5.83567</td>\n      <td>6.88758</td>\n      <td>6.45793</td>\n      <td>881-46-4810</td>\n      <td>Crystal Kelley</td>\n      <td>6.02783</td>\n      <td>82.09305</td>\n      <td>divoced</td>\n      <td>0.0</td>\n      <td>29.29190</td>\n      <td>151.24191</td>\n      <td>47.96329</td>\n      <td>4.55230</td>\n    </tr>\n    <tr>\n      <th>3</th>\n      <td>0.0</td>\n      <td>6.05025</td>\n      <td>7.67537</td>\n      <td>0.83197</td>\n      <td>6.33300</td>\n      <td>4.45912</td>\n      <td>6.96013</td>\n      <td>826-16-7757</td>\n      <td>Doris Duncan</td>\n      <td>6.83876</td>\n      <td>69.43441</td>\n      <td>divoced</td>\n      <td>1.0</td>\n      <td>60.47398</td>\n      <td>83.89451</td>\n      <td>57.47174</td>\n      <td>7.17271</td>\n    </tr>\n    <tr>\n      <th>4</th>\n      <td>1.0</td>\n      <td>6.20737</td>\n      <td>7.84993</td>\n      <td>0.93395</td>\n      <td>5.66904</td>\n      <td>4.88628</td>\n      <td>6.41332</td>\n      <td>167-37-6059</td>\n      <td>John Parks</td>\n      <td>5.75903</td>\n      <td>90.09567</td>\n      <td>divoced</td>\n      <td>1.0</td>\n      <td>41.10299</td>\n      <td>107.22958</td>\n      <td>34.25820</td>\n      <td>6.93681</td>\n    </tr>\n  </tbody>\n</table>\n</div>"
     },
     "execution_count": 121,
     "metadata": {},
     "output_type": "execute_result"
    }
   ],
   "source": [
    "data_labor.head()"
   ],
   "metadata": {
    "collapsed": false,
    "pycharm": {
     "name": "#%%\n"
    }
   }
  }
 ],
 "metadata": {
  "kernelspec": {
   "display_name": "Python 3",
   "language": "python",
   "name": "python3"
  },
  "language_info": {
   "codemirror_mode": {
    "name": "ipython",
    "version": 2
   },
   "file_extension": ".py",
   "mimetype": "text/x-python",
   "name": "python",
   "nbconvert_exporter": "python",
   "pygments_lexer": "ipython2",
   "version": "2.7.6"
  }
 },
 "nbformat": 4,
 "nbformat_minor": 0
}