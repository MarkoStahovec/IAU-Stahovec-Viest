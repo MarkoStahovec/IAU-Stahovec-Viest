{
 "cells": [
  {
   "cell_type": "markdown",
   "source": [
    "# 3. fáza\n",
    "\n",
    "----------------------------------------------------\n",
    "Základné importy knižníc:"
   ],
   "metadata": {
    "collapsed": false,
    "pycharm": {
     "name": "#%% md\n"
    }
   }
  },
  {
   "cell_type": "code",
   "execution_count": 36,
   "metadata": {
    "collapsed": true
   },
   "outputs": [],
   "source": [
    "import pandas as pd\n",
    "import numpy as np\n",
    "import seaborn as sns\n",
    "import matplotlib.pyplot as plt\n",
    "from sklearn.metrics import precision_score\n",
    "from sklearn.metrics import recall_score\n",
    "from sklearn.metrics import accuracy_score\n",
    "\n",
    "pd.options.mode.chained_assignment = None\n",
    "\n",
    "sns.set_theme(style=\"whitegrid\", palette=\"viridis\")\n",
    "sns.set_palette(\"viridis\")"
   ]
  },
  {
   "cell_type": "markdown",
   "source": [
    "Načítanie datasetov zo súborov:"
   ],
   "metadata": {
    "collapsed": false,
    "pycharm": {
     "name": "#%% md\n"
    }
   }
  },
  {
   "cell_type": "code",
   "execution_count": 37,
   "outputs": [
    {
     "data": {
      "text/plain": "      0         1         2         3         4         5         6         7  \\\n0   0.0  0.483019  0.367739  0.471250  0.228984  0.521895  0.367081  0.469825   \n1   1.0  0.236195  0.408903  0.454163  0.851137  0.955975  0.891132  0.418414   \n2   1.0  0.483957  0.614102  0.771766  0.757092  0.690728  0.296679  0.599013   \n3   1.0  0.599179  0.747323  0.868591  0.543235  0.729923  0.385701  0.481822   \n4   0.0  0.423880  0.264049  0.456017  0.458634  0.761094  0.873124  0.263948   \n5   0.0  0.484291  0.615242  0.812390  0.597319  0.413252  0.522909  0.858935   \n6   0.0  0.395645  0.298660  0.363822  0.763665  0.703895  0.822929  0.635185   \n7   1.0  0.713330  0.530216  0.590720  0.105299  0.740337  0.683422  0.761252   \n8   1.0  0.949873  0.346234  0.493798  0.688843  0.646604  0.721638  0.468534   \n9   1.0  0.386364  0.301711  0.479263  0.405125  0.876304  0.632032  0.557463   \n10  0.0  0.579804  0.832971  0.871989  0.488151  0.171471  0.377895  0.784698   \n11  1.0  0.583065  0.443952  0.490043  0.646687  0.741367  0.557336  0.348979   \n12  1.0  0.565661  0.678891  0.823725  0.435541  0.387112  0.586685  0.691564   \n13  1.0  0.313583  0.651700  0.771592  0.385744  0.651770  0.286877  0.899156   \n14  0.0  0.755112  0.871697  0.873862  0.792754  0.169448  0.512731  0.273874   \n\n           8         9        10        11        12        13        14  \\\n0   0.513934  0.452861  0.713273  0.311295  0.179349  0.585875  0.227821   \n1   0.108259  0.452861  0.378157  0.543411  0.515301  0.634517  0.000000   \n2   0.250593  0.452861  0.325598  0.500332  0.135756  0.759758  0.227821   \n3   0.605707  0.000000  0.439048  0.537557  0.568310  0.132010  1.000000   \n4   0.063787  0.827757  0.382268  0.436688  0.250580  0.635221  1.000000   \n5   0.876462  0.452861  0.681511  0.583228  0.295508  0.622408  0.473659   \n6   0.068145  0.241684  0.675150  0.497190  0.604259  0.556999  0.227821   \n7   0.448814  0.452861  0.443386  0.413512  0.184392  0.352738  1.000000   \n8   0.335896  0.000000  0.451984  0.467307  0.505322  0.584239  1.000000   \n9   0.699266  0.000000  0.496654  0.147686  0.564972  0.352850  0.000000   \n10  0.539146  0.827757  0.503122  0.398568  0.310159  0.634516  1.000000   \n11  0.860972  0.241684  0.641257  0.463345  0.532557  0.304470  0.227821   \n12  0.755262  0.452861  0.597660  0.626351  0.773292  0.576501  0.227821   \n13  0.239164  0.827757  0.363052  0.353658  0.830571  0.927072  1.000000   \n14  0.870880  0.827757  0.589817  0.585991  0.777202  0.606361  1.000000   \n\n          15   16  \n0   0.751744  0.0  \n1   0.482894  1.0  \n2   0.877955  1.0  \n3   0.751744  1.0  \n4   0.620488  1.0  \n5   0.336909  1.0  \n6   0.482894  0.0  \n7   0.336909  0.0  \n8   0.336909  0.0  \n9   0.178813  1.0  \n10  0.178813  0.0  \n11  1.000000  0.0  \n12  0.751744  1.0  \n13  1.000000  1.0  \n14  0.000000  1.0  ",
      "text/html": "<div>\n<style scoped>\n    .dataframe tbody tr th:only-of-type {\n        vertical-align: middle;\n    }\n\n    .dataframe tbody tr th {\n        vertical-align: top;\n    }\n\n    .dataframe thead th {\n        text-align: right;\n    }\n</style>\n<table border=\"1\" class=\"dataframe\">\n  <thead>\n    <tr style=\"text-align: right;\">\n      <th></th>\n      <th>0</th>\n      <th>1</th>\n      <th>2</th>\n      <th>3</th>\n      <th>4</th>\n      <th>5</th>\n      <th>6</th>\n      <th>7</th>\n      <th>8</th>\n      <th>9</th>\n      <th>10</th>\n      <th>11</th>\n      <th>12</th>\n      <th>13</th>\n      <th>14</th>\n      <th>15</th>\n      <th>16</th>\n    </tr>\n  </thead>\n  <tbody>\n    <tr>\n      <th>0</th>\n      <td>0.0</td>\n      <td>0.483019</td>\n      <td>0.367739</td>\n      <td>0.471250</td>\n      <td>0.228984</td>\n      <td>0.521895</td>\n      <td>0.367081</td>\n      <td>0.469825</td>\n      <td>0.513934</td>\n      <td>0.452861</td>\n      <td>0.713273</td>\n      <td>0.311295</td>\n      <td>0.179349</td>\n      <td>0.585875</td>\n      <td>0.227821</td>\n      <td>0.751744</td>\n      <td>0.0</td>\n    </tr>\n    <tr>\n      <th>1</th>\n      <td>1.0</td>\n      <td>0.236195</td>\n      <td>0.408903</td>\n      <td>0.454163</td>\n      <td>0.851137</td>\n      <td>0.955975</td>\n      <td>0.891132</td>\n      <td>0.418414</td>\n      <td>0.108259</td>\n      <td>0.452861</td>\n      <td>0.378157</td>\n      <td>0.543411</td>\n      <td>0.515301</td>\n      <td>0.634517</td>\n      <td>0.000000</td>\n      <td>0.482894</td>\n      <td>1.0</td>\n    </tr>\n    <tr>\n      <th>2</th>\n      <td>1.0</td>\n      <td>0.483957</td>\n      <td>0.614102</td>\n      <td>0.771766</td>\n      <td>0.757092</td>\n      <td>0.690728</td>\n      <td>0.296679</td>\n      <td>0.599013</td>\n      <td>0.250593</td>\n      <td>0.452861</td>\n      <td>0.325598</td>\n      <td>0.500332</td>\n      <td>0.135756</td>\n      <td>0.759758</td>\n      <td>0.227821</td>\n      <td>0.877955</td>\n      <td>1.0</td>\n    </tr>\n    <tr>\n      <th>3</th>\n      <td>1.0</td>\n      <td>0.599179</td>\n      <td>0.747323</td>\n      <td>0.868591</td>\n      <td>0.543235</td>\n      <td>0.729923</td>\n      <td>0.385701</td>\n      <td>0.481822</td>\n      <td>0.605707</td>\n      <td>0.000000</td>\n      <td>0.439048</td>\n      <td>0.537557</td>\n      <td>0.568310</td>\n      <td>0.132010</td>\n      <td>1.000000</td>\n      <td>0.751744</td>\n      <td>1.0</td>\n    </tr>\n    <tr>\n      <th>4</th>\n      <td>0.0</td>\n      <td>0.423880</td>\n      <td>0.264049</td>\n      <td>0.456017</td>\n      <td>0.458634</td>\n      <td>0.761094</td>\n      <td>0.873124</td>\n      <td>0.263948</td>\n      <td>0.063787</td>\n      <td>0.827757</td>\n      <td>0.382268</td>\n      <td>0.436688</td>\n      <td>0.250580</td>\n      <td>0.635221</td>\n      <td>1.000000</td>\n      <td>0.620488</td>\n      <td>1.0</td>\n    </tr>\n    <tr>\n      <th>5</th>\n      <td>0.0</td>\n      <td>0.484291</td>\n      <td>0.615242</td>\n      <td>0.812390</td>\n      <td>0.597319</td>\n      <td>0.413252</td>\n      <td>0.522909</td>\n      <td>0.858935</td>\n      <td>0.876462</td>\n      <td>0.452861</td>\n      <td>0.681511</td>\n      <td>0.583228</td>\n      <td>0.295508</td>\n      <td>0.622408</td>\n      <td>0.473659</td>\n      <td>0.336909</td>\n      <td>1.0</td>\n    </tr>\n    <tr>\n      <th>6</th>\n      <td>0.0</td>\n      <td>0.395645</td>\n      <td>0.298660</td>\n      <td>0.363822</td>\n      <td>0.763665</td>\n      <td>0.703895</td>\n      <td>0.822929</td>\n      <td>0.635185</td>\n      <td>0.068145</td>\n      <td>0.241684</td>\n      <td>0.675150</td>\n      <td>0.497190</td>\n      <td>0.604259</td>\n      <td>0.556999</td>\n      <td>0.227821</td>\n      <td>0.482894</td>\n      <td>0.0</td>\n    </tr>\n    <tr>\n      <th>7</th>\n      <td>1.0</td>\n      <td>0.713330</td>\n      <td>0.530216</td>\n      <td>0.590720</td>\n      <td>0.105299</td>\n      <td>0.740337</td>\n      <td>0.683422</td>\n      <td>0.761252</td>\n      <td>0.448814</td>\n      <td>0.452861</td>\n      <td>0.443386</td>\n      <td>0.413512</td>\n      <td>0.184392</td>\n      <td>0.352738</td>\n      <td>1.000000</td>\n      <td>0.336909</td>\n      <td>0.0</td>\n    </tr>\n    <tr>\n      <th>8</th>\n      <td>1.0</td>\n      <td>0.949873</td>\n      <td>0.346234</td>\n      <td>0.493798</td>\n      <td>0.688843</td>\n      <td>0.646604</td>\n      <td>0.721638</td>\n      <td>0.468534</td>\n      <td>0.335896</td>\n      <td>0.000000</td>\n      <td>0.451984</td>\n      <td>0.467307</td>\n      <td>0.505322</td>\n      <td>0.584239</td>\n      <td>1.000000</td>\n      <td>0.336909</td>\n      <td>0.0</td>\n    </tr>\n    <tr>\n      <th>9</th>\n      <td>1.0</td>\n      <td>0.386364</td>\n      <td>0.301711</td>\n      <td>0.479263</td>\n      <td>0.405125</td>\n      <td>0.876304</td>\n      <td>0.632032</td>\n      <td>0.557463</td>\n      <td>0.699266</td>\n      <td>0.000000</td>\n      <td>0.496654</td>\n      <td>0.147686</td>\n      <td>0.564972</td>\n      <td>0.352850</td>\n      <td>0.000000</td>\n      <td>0.178813</td>\n      <td>1.0</td>\n    </tr>\n    <tr>\n      <th>10</th>\n      <td>0.0</td>\n      <td>0.579804</td>\n      <td>0.832971</td>\n      <td>0.871989</td>\n      <td>0.488151</td>\n      <td>0.171471</td>\n      <td>0.377895</td>\n      <td>0.784698</td>\n      <td>0.539146</td>\n      <td>0.827757</td>\n      <td>0.503122</td>\n      <td>0.398568</td>\n      <td>0.310159</td>\n      <td>0.634516</td>\n      <td>1.000000</td>\n      <td>0.178813</td>\n      <td>0.0</td>\n    </tr>\n    <tr>\n      <th>11</th>\n      <td>1.0</td>\n      <td>0.583065</td>\n      <td>0.443952</td>\n      <td>0.490043</td>\n      <td>0.646687</td>\n      <td>0.741367</td>\n      <td>0.557336</td>\n      <td>0.348979</td>\n      <td>0.860972</td>\n      <td>0.241684</td>\n      <td>0.641257</td>\n      <td>0.463345</td>\n      <td>0.532557</td>\n      <td>0.304470</td>\n      <td>0.227821</td>\n      <td>1.000000</td>\n      <td>0.0</td>\n    </tr>\n    <tr>\n      <th>12</th>\n      <td>1.0</td>\n      <td>0.565661</td>\n      <td>0.678891</td>\n      <td>0.823725</td>\n      <td>0.435541</td>\n      <td>0.387112</td>\n      <td>0.586685</td>\n      <td>0.691564</td>\n      <td>0.755262</td>\n      <td>0.452861</td>\n      <td>0.597660</td>\n      <td>0.626351</td>\n      <td>0.773292</td>\n      <td>0.576501</td>\n      <td>0.227821</td>\n      <td>0.751744</td>\n      <td>1.0</td>\n    </tr>\n    <tr>\n      <th>13</th>\n      <td>1.0</td>\n      <td>0.313583</td>\n      <td>0.651700</td>\n      <td>0.771592</td>\n      <td>0.385744</td>\n      <td>0.651770</td>\n      <td>0.286877</td>\n      <td>0.899156</td>\n      <td>0.239164</td>\n      <td>0.827757</td>\n      <td>0.363052</td>\n      <td>0.353658</td>\n      <td>0.830571</td>\n      <td>0.927072</td>\n      <td>1.000000</td>\n      <td>1.000000</td>\n      <td>1.0</td>\n    </tr>\n    <tr>\n      <th>14</th>\n      <td>0.0</td>\n      <td>0.755112</td>\n      <td>0.871697</td>\n      <td>0.873862</td>\n      <td>0.792754</td>\n      <td>0.169448</td>\n      <td>0.512731</td>\n      <td>0.273874</td>\n      <td>0.870880</td>\n      <td>0.827757</td>\n      <td>0.589817</td>\n      <td>0.585991</td>\n      <td>0.777202</td>\n      <td>0.606361</td>\n      <td>1.000000</td>\n      <td>0.000000</td>\n      <td>1.0</td>\n    </tr>\n  </tbody>\n</table>\n</div>"
     },
     "execution_count": 37,
     "metadata": {},
     "output_type": "execute_result"
    }
   ],
   "source": [
    "X_test_data = pd.read_csv(\"dataset/transformed_X_test.csv\", sep=\",\")\n",
    "X_test_data = X_test_data.iloc[:, 1:]\n",
    "X_test_data.head(15)"
   ],
   "metadata": {
    "collapsed": false,
    "pycharm": {
     "name": "#%%\n"
    }
   }
  },
  {
   "cell_type": "code",
   "execution_count": 38,
   "outputs": [
    {
     "data": {
      "text/plain": "    indicator\n0           1\n1           1\n2           1\n3           0\n4           1\n5           1\n6           1\n7           0\n8           1\n9           0\n10          1\n11          0\n12          1\n13          1\n14          1",
      "text/html": "<div>\n<style scoped>\n    .dataframe tbody tr th:only-of-type {\n        vertical-align: middle;\n    }\n\n    .dataframe tbody tr th {\n        vertical-align: top;\n    }\n\n    .dataframe thead th {\n        text-align: right;\n    }\n</style>\n<table border=\"1\" class=\"dataframe\">\n  <thead>\n    <tr style=\"text-align: right;\">\n      <th></th>\n      <th>indicator</th>\n    </tr>\n  </thead>\n  <tbody>\n    <tr>\n      <th>0</th>\n      <td>1</td>\n    </tr>\n    <tr>\n      <th>1</th>\n      <td>1</td>\n    </tr>\n    <tr>\n      <th>2</th>\n      <td>1</td>\n    </tr>\n    <tr>\n      <th>3</th>\n      <td>0</td>\n    </tr>\n    <tr>\n      <th>4</th>\n      <td>1</td>\n    </tr>\n    <tr>\n      <th>5</th>\n      <td>1</td>\n    </tr>\n    <tr>\n      <th>6</th>\n      <td>1</td>\n    </tr>\n    <tr>\n      <th>7</th>\n      <td>0</td>\n    </tr>\n    <tr>\n      <th>8</th>\n      <td>1</td>\n    </tr>\n    <tr>\n      <th>9</th>\n      <td>0</td>\n    </tr>\n    <tr>\n      <th>10</th>\n      <td>1</td>\n    </tr>\n    <tr>\n      <th>11</th>\n      <td>0</td>\n    </tr>\n    <tr>\n      <th>12</th>\n      <td>1</td>\n    </tr>\n    <tr>\n      <th>13</th>\n      <td>1</td>\n    </tr>\n    <tr>\n      <th>14</th>\n      <td>1</td>\n    </tr>\n  </tbody>\n</table>\n</div>"
     },
     "execution_count": 38,
     "metadata": {},
     "output_type": "execute_result"
    }
   ],
   "source": [
    "Y_test_data = pd.read_csv(\"dataset/y_test.csv\", sep=\",\")\n",
    "Y_test_data = Y_test_data.iloc[:, 1:]\n",
    "Y_test_data.head(15)"
   ],
   "metadata": {
    "collapsed": false,
    "pycharm": {
     "name": "#%%\n"
    }
   }
  },
  {
   "cell_type": "markdown",
   "source": [
    "Tu bude implementácia OneR algoritmu."
   ],
   "metadata": {
    "collapsed": false
   }
  },
  {
   "cell_type": "code",
   "execution_count": 39,
   "outputs": [
    {
     "data": {
      "text/plain": "0     0.179349\n1     0.515301\n2     0.135756\n3     0.568310\n4     0.250580\n5     0.295508\n6     0.604259\n7     0.184392\n8     0.505322\n9     0.564972\n10    0.310159\n11    0.532557\n12    0.773292\n13    0.830571\n14    0.777202\n15    0.677716\n16    0.777867\n17    0.741518\n18    0.797980\n19    0.488567\n20    0.527275\n21    0.456222\n22    0.544468\n23    0.718003\n24    0.523530\nName: 12, dtype: float64"
     },
     "execution_count": 39,
     "metadata": {},
     "output_type": "execute_result"
    }
   ],
   "source": [
    "X_test_data[\"12\"].head(25)"
   ],
   "metadata": {
    "collapsed": false,
    "pycharm": {
     "name": "#%%\n"
    }
   }
  },
  {
   "cell_type": "code",
   "execution_count": 40,
   "outputs": [],
   "source": [
    "def custom_oneR(X_data, Y_data):\n",
    "    results = []\n",
    "    X_set = pd.DataFrame(X_data)\n",
    "    Y_set = np.squeeze(Y_data)\n",
    "\n",
    "    for i in range(len(X_set.columns)):\n",
    "        # column = X_set.loc[:, str(i)]\n",
    "        # print(column)\n",
    "        # column = X_set[X_set.columns[i]]\n",
    "\n",
    "        column = set_intervals(X_set[X_set.columns[i]])\n",
    "        # print(Y_set)\n",
    "        unique_counts = 0\n",
    "        # merged_set = pd.concat([X_set[i], Y_set], axis=1)\n",
    "        merged_set = pd.DataFrame({\"variable\": column, \"label\": Y_set})\n",
    "        most_freq_val = pd.crosstab(column, Y_set).idxmax(axis=1)\n",
    "        # uniquecounts = [0 for  in range(len(X_set[i].unique()))]\n",
    "\n",
    "        y_true, y_pred = [], []\n",
    "\n",
    "        for index, row in merged_set.iterrows():\n",
    "            if row[\"label\"] == most_freq_val[row[\"variable\"]]:\n",
    "                # unique_counts[unique_counts.index(index)] += 1\n",
    "                unique_counts += 1\n",
    "            y_true.append(row[\"label\"])\n",
    "            y_pred.append(most_freq_val[row[\"variable\"]])\n",
    "\n",
    "        current_result = {\"variable\": X_set.columns[i], \"accuracy\": unique_counts / len(Y_set), \"precision\":\n",
    "            precision_score(y_true, y_pred, average='binary'), \"recall\": recall_score(y_true, y_pred, average='binary')}\n",
    "        results.append(current_result)\n",
    "\n",
    "    return results"
   ],
   "metadata": {
    "collapsed": false,
    "pycharm": {
     "name": "#%%\n"
    }
   }
  },
  {
   "cell_type": "code",
   "execution_count": 41,
   "outputs": [],
   "source": [
    "def set_intervals(data):\n",
    "    unique_values = data.value_counts().index.tolist()\n",
    "    if len(unique_values) > len(data) / 2:\n",
    "        for value in range(len(data)):\n",
    "            if 0 <= data[value] < 0.2:\n",
    "                data[value] = 0.1\n",
    "            elif 0.2 <= data[value] < 0.4:\n",
    "                data[value] = 0.3\n",
    "            elif 0.4 <= data[value] < 0.6:\n",
    "                data[value] = 0.5\n",
    "            elif 0.6 <= data[value] < 0.8:\n",
    "                data[value] = 0.7\n",
    "            else:\n",
    "                data[value] = 0.9\n",
    "\n",
    "    return data"
   ],
   "metadata": {
    "collapsed": false,
    "pycharm": {
     "name": "#%%\n"
    }
   }
  },
  {
   "cell_type": "code",
   "execution_count": 42,
   "outputs": [
    {
     "name": "stdout",
     "output_type": "stream",
     "text": [
      "0     0\n",
      "1     0\n",
      "2     1\n",
      "3     1\n",
      "4     1\n",
      "5     0\n",
      "6     1\n",
      "7     0\n",
      "8     1\n",
      "9     1\n",
      "10    1\n",
      "11    1\n",
      "12    1\n",
      "13    0\n",
      "dtype: int64\n",
      "    outlook\n",
      "0       0.0\n",
      "1       0.0\n",
      "2       0.5\n",
      "3       1.0\n",
      "4       1.0\n",
      "5       1.0\n",
      "6       0.5\n",
      "7       0.0\n",
      "8       0.0\n",
      "9       1.0\n",
      "10      0.0\n",
      "11      0.5\n",
      "12      0.5\n",
      "13      1.0\n"
     ]
    }
   ],
   "source": [
    "d = {'outlook': [0, 0, 0.5, 1, 1, 1, 0.5, 0, 0, 1, 0, 0.5, 0.5, 1]}\n",
    "X_frame = pd.DataFrame(d)\n",
    "Y_frame = pd.Series([0, 0, 1, 1, 1, 0, 1, 0, 1, 1, 1, 1, 1, 0])\n",
    "print(Y_frame)\n",
    "print(X_frame)"
   ],
   "metadata": {
    "collapsed": false,
    "pycharm": {
     "name": "#%%\n"
    }
   }
  },
  {
   "cell_type": "code",
   "execution_count": 43,
   "outputs": [
    {
     "name": "stdout",
     "output_type": "stream",
     "text": [
      "{'variable': '0', 'accuracy': 0.6466890192791283, 'precision': 0.6466890192791283, 'recall': 1.0}\n",
      "{'variable': '1', 'accuracy': 0.6466890192791283, 'precision': 0.6466890192791283, 'recall': 1.0}\n",
      "{'variable': '2', 'accuracy': 0.702430846605197, 'precision': 0.6956317519962424, 'recall': 0.9598185353208036}\n",
      "{'variable': '3', 'accuracy': 0.6663872590108969, 'precision': 0.6819288845591817, 'recall': 0.9073233959818535}\n",
      "{'variable': '4', 'accuracy': 0.6466890192791283, 'precision': 0.6466890192791283, 'recall': 1.0}\n",
      "{'variable': '5', 'accuracy': 0.7338642078792958, 'precision': 0.7178502879078695, 'recall': 0.9695398574206092}\n",
      "{'variable': '6', 'accuracy': 0.6466890192791283, 'precision': 0.6466890192791283, 'recall': 1.0}\n",
      "{'variable': '7', 'accuracy': 0.6466890192791283, 'precision': 0.6466890192791283, 'recall': 1.0}\n",
      "{'variable': '8', 'accuracy': 0.6466890192791283, 'precision': 0.6466890192791283, 'recall': 1.0}\n",
      "{'variable': '9', 'accuracy': 0.6466890192791283, 'precision': 0.6466890192791283, 'recall': 1.0}\n",
      "{'variable': '10', 'accuracy': 0.6466890192791283, 'precision': 0.6466890192791283, 'recall': 1.0}\n",
      "{'variable': '11', 'accuracy': 0.6466890192791283, 'precision': 0.6466890192791283, 'recall': 1.0}\n",
      "{'variable': '12', 'accuracy': 0.6466890192791283, 'precision': 0.6466890192791283, 'recall': 1.0}\n",
      "{'variable': '13', 'accuracy': 0.8679798826487846, 'precision': 0.8753056234718827, 'recall': 0.9280622164614387}\n",
      "{'variable': '14', 'accuracy': 0.6466890192791283, 'precision': 0.6466890192791283, 'recall': 1.0}\n",
      "{'variable': '15', 'accuracy': 0.6466890192791283, 'precision': 0.6466890192791283, 'recall': 1.0}\n",
      "{'variable': '16', 'accuracy': 0.6466890192791283, 'precision': 0.6466890192791283, 'recall': 1.0}\n"
     ]
    }
   ],
   "source": [
    "res = custom_oneR(X_test_data, Y_test_data)\n",
    "for index in range(len(res)):\n",
    "    print(res[index])"
   ],
   "metadata": {
    "collapsed": false,
    "pycharm": {
     "name": "#%%\n"
    }
   }
  }
 ],
 "metadata": {
  "kernelspec": {
   "display_name": "Python 3",
   "language": "python",
   "name": "python3"
  },
  "language_info": {
   "codemirror_mode": {
    "name": "ipython",
    "version": 2
   },
   "file_extension": ".py",
   "mimetype": "text/x-python",
   "name": "python",
   "nbconvert_exporter": "python",
   "pygments_lexer": "ipython2",
   "version": "2.7.6"
  }
 },
 "nbformat": 4,
 "nbformat_minor": 0
}